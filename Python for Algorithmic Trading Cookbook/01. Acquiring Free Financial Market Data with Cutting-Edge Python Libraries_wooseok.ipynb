{
 "cells": [
  {
   "cell_type": "markdown",
   "id": "3c5cea41",
   "metadata": {},
   "source": [
    "## Diving into continuous futures data with Nasdaq Data Link"
   ]
  },
  {
   "cell_type": "markdown",
   "id": "318462ec-2c4a-4a1e-90f8-bd855cf4fb2b",
   "metadata": {
    "jp-MarkdownHeadingCollapsed": true,
    "tags": []
   },
   "source": [
    "### 기본 환경 설정\n",
    "```bash\n",
    "conda update -n base conda -y\n",
    "conda create -n qt python=3.10 -y\n",
    "conda activate qt\n",
    "```\n",
    "### 주요 패키지 설치\n",
    "```bash\n",
    "# Jupyter Notebook과 시각화 도구\n",
    "pip install notebook matplotlib nasdaq-data-link pandas_datareader ipykernel \n",
    "pip install python-dotenv\n",
    "pip install \"openbb[all]\"\n",
    "```\n",
    "이 패키지들은 다음 기능들을 제공합니다:\n",
    "- 금융 데이터 수집 및 분석\n",
    "- 데이터 시각화\n",
    "- 기술적 분석\n",
    "- 백테스팅\n",
    "- 실시간 트레이딩\n",
    "- .env활용하여 비밀번호 등 관리\n",
    "- 파이썬 커널 등록\n",
    "```\n",
    "python -m ipykernel install --user --name=qt\n",
    "```\n",
    "\n"
   ]
  },
  {
   "cell_type": "markdown",
   "id": "7a5799d9",
   "metadata": {
    "tags": []
   },
   "source": [
    "## Exploring S&P 500 ratios data with Nasdaq Data Link\n",
    "As of August 2024 (after the publication of <em>Python for Algorithmic Trading Cookbook</em>), Nasdaq as discontinued access to the <code>MULTPL</code> database. According to Nasdaq, there is no replacement for financial multiples data. Since the code in this notebook uses the <code>MULTPL</code> database, it will not work. I'm as disappointed as you are since there was no forewarning from Nasdaq.</h2>\n",
    "\n",
    "**Jason Strimpel** is the founder of <a href='https://pyquantnews.com/'>PyQuant News</a> and co-founder of <a href='https://www.tradeblotter.io/'>Trade Blotter</a>. His career in algorithmic trading spans 20+ years. He previously traded for a Chicago-based hedge fund, was a risk manager at JPMorgan, and managed production risk technology for an energy derivatives trading firm in London. In Singapore, he served as APAC CIO for an agricultural trading firm and built the data science team for a global metals trading firm. Jason holds degrees in Finance and Economics and a Master's in Quantitative Finance from the Illinois Institute of Technology. His career spans America, Europe, and Asia. He shares his expertise through the <a href='https://pyquantnews.com/subscribe-to-the-pyquant-newsletter/'>PyQuant Newsletter</a>, social media, and has taught over 1,000+ algorithmic trading with Python in his popular course **<a href='https://gettingstartedwithpythonforquantfinance.com/'>Getting Started With Python for Quant Finance</a>**. All code is for educational purposes only. Nothing provided here is financial advise. Use at your own risk."
   ]
  },
  {
   "cell_type": "code",
   "execution_count": 6,
   "id": "357faf65",
   "metadata": {},
   "outputs": [],
   "source": [
    "import nasdaqdatalink\n",
    "from IPython.display import display"
   ]
  },
  {
   "cell_type": "code",
   "execution_count": 7,
   "id": "c524b6cf",
   "metadata": {},
   "outputs": [],
   "source": [
    "nasdaqdatalink.ApiConfig.api_key = \"YOUR_API_KEY\""
   ]
  },
  {
   "cell_type": "markdown",
   "id": "af9301ba",
   "metadata": {},
   "source": [
    "Fetches data for the specified NASDAQ dataset and stores it in 'data'"
   ]
  },
  {
   "cell_type": "code",
   "execution_count": null,
   "id": "e68ee062",
   "metadata": {
    "tags": []
   },
   "outputs": [],
   "source": [
    "data = nasdaqdatalink.get(\"CHRIS/CME_ES1\")"
   ]
  },
  {
   "cell_type": "code",
   "execution_count": null,
   "id": "201533fd",
   "metadata": {},
   "outputs": [],
   "source": [
    "display(data)"
   ]
  },
  {
   "cell_type": "markdown",
   "id": "118ab372",
   "metadata": {},
   "source": [
    "Fetches the data in numpy array format for the specified dataset"
   ]
  },
  {
   "cell_type": "code",
   "execution_count": 9,
   "id": "ac0c824d",
   "metadata": {
    "collapsed": true,
    "jupyter": {
     "outputs_hidden": true
    },
    "tags": []
   },
   "outputs": [
    {
     "ename": "DataLinkError",
     "evalue": "(Status 403) Something went wrong. Please try again. If you continue to have problems, please contact us at connect@data.nasdaq.com.",
     "output_type": "error",
     "traceback": [
      "\u001b[1;31m---------------------------------------------------------------------------\u001b[0m",
      "\u001b[1;31mJSONDecodeError\u001b[0m                           Traceback (most recent call last)",
      "File \u001b[1;32mD:\\miniconda\\envs\\qt\\lib\\site-packages\\requests\\models.py:974\u001b[0m, in \u001b[0;36mResponse.json\u001b[1;34m(self, **kwargs)\u001b[0m\n\u001b[0;32m    973\u001b[0m \u001b[38;5;28;01mtry\u001b[39;00m:\n\u001b[1;32m--> 974\u001b[0m     \u001b[38;5;28;01mreturn\u001b[39;00m complexjson\u001b[38;5;241m.\u001b[39mloads(\u001b[38;5;28mself\u001b[39m\u001b[38;5;241m.\u001b[39mtext, \u001b[38;5;241m*\u001b[39m\u001b[38;5;241m*\u001b[39mkwargs)\n\u001b[0;32m    975\u001b[0m \u001b[38;5;28;01mexcept\u001b[39;00m JSONDecodeError \u001b[38;5;28;01mas\u001b[39;00m e:\n\u001b[0;32m    976\u001b[0m     \u001b[38;5;66;03m# Catch JSON-related errors and raise as requests.JSONDecodeError\u001b[39;00m\n\u001b[0;32m    977\u001b[0m     \u001b[38;5;66;03m# This aliases json.JSONDecodeError and simplejson.JSONDecodeError\u001b[39;00m\n",
      "File \u001b[1;32mD:\\miniconda\\envs\\qt\\lib\\json\\__init__.py:346\u001b[0m, in \u001b[0;36mloads\u001b[1;34m(s, cls, object_hook, parse_float, parse_int, parse_constant, object_pairs_hook, **kw)\u001b[0m\n\u001b[0;32m    343\u001b[0m \u001b[38;5;28;01mif\u001b[39;00m (\u001b[38;5;28mcls\u001b[39m \u001b[38;5;129;01mis\u001b[39;00m \u001b[38;5;28;01mNone\u001b[39;00m \u001b[38;5;129;01mand\u001b[39;00m object_hook \u001b[38;5;129;01mis\u001b[39;00m \u001b[38;5;28;01mNone\u001b[39;00m \u001b[38;5;129;01mand\u001b[39;00m\n\u001b[0;32m    344\u001b[0m         parse_int \u001b[38;5;129;01mis\u001b[39;00m \u001b[38;5;28;01mNone\u001b[39;00m \u001b[38;5;129;01mand\u001b[39;00m parse_float \u001b[38;5;129;01mis\u001b[39;00m \u001b[38;5;28;01mNone\u001b[39;00m \u001b[38;5;129;01mand\u001b[39;00m\n\u001b[0;32m    345\u001b[0m         parse_constant \u001b[38;5;129;01mis\u001b[39;00m \u001b[38;5;28;01mNone\u001b[39;00m \u001b[38;5;129;01mand\u001b[39;00m object_pairs_hook \u001b[38;5;129;01mis\u001b[39;00m \u001b[38;5;28;01mNone\u001b[39;00m \u001b[38;5;129;01mand\u001b[39;00m \u001b[38;5;129;01mnot\u001b[39;00m kw):\n\u001b[1;32m--> 346\u001b[0m     \u001b[38;5;28;01mreturn\u001b[39;00m \u001b[43m_default_decoder\u001b[49m\u001b[38;5;241;43m.\u001b[39;49m\u001b[43mdecode\u001b[49m\u001b[43m(\u001b[49m\u001b[43ms\u001b[49m\u001b[43m)\u001b[49m\n\u001b[0;32m    347\u001b[0m \u001b[38;5;28;01mif\u001b[39;00m \u001b[38;5;28mcls\u001b[39m \u001b[38;5;129;01mis\u001b[39;00m \u001b[38;5;28;01mNone\u001b[39;00m:\n",
      "File \u001b[1;32mD:\\miniconda\\envs\\qt\\lib\\json\\decoder.py:337\u001b[0m, in \u001b[0;36mJSONDecoder.decode\u001b[1;34m(self, s, _w)\u001b[0m\n\u001b[0;32m    333\u001b[0m \u001b[38;5;250m\u001b[39m\u001b[38;5;124;03m\"\"\"Return the Python representation of ``s`` (a ``str`` instance\u001b[39;00m\n\u001b[0;32m    334\u001b[0m \u001b[38;5;124;03mcontaining a JSON document).\u001b[39;00m\n\u001b[0;32m    335\u001b[0m \n\u001b[0;32m    336\u001b[0m \u001b[38;5;124;03m\"\"\"\u001b[39;00m\n\u001b[1;32m--> 337\u001b[0m obj, end \u001b[38;5;241m=\u001b[39m \u001b[38;5;28;43mself\u001b[39;49m\u001b[38;5;241;43m.\u001b[39;49m\u001b[43mraw_decode\u001b[49m\u001b[43m(\u001b[49m\u001b[43ms\u001b[49m\u001b[43m,\u001b[49m\u001b[43m \u001b[49m\u001b[43midx\u001b[49m\u001b[38;5;241;43m=\u001b[39;49m\u001b[43m_w\u001b[49m\u001b[43m(\u001b[49m\u001b[43ms\u001b[49m\u001b[43m,\u001b[49m\u001b[43m \u001b[49m\u001b[38;5;241;43m0\u001b[39;49m\u001b[43m)\u001b[49m\u001b[38;5;241;43m.\u001b[39;49m\u001b[43mend\u001b[49m\u001b[43m(\u001b[49m\u001b[43m)\u001b[49m\u001b[43m)\u001b[49m\n\u001b[0;32m    338\u001b[0m end \u001b[38;5;241m=\u001b[39m _w(s, end)\u001b[38;5;241m.\u001b[39mend()\n",
      "File \u001b[1;32mD:\\miniconda\\envs\\qt\\lib\\json\\decoder.py:355\u001b[0m, in \u001b[0;36mJSONDecoder.raw_decode\u001b[1;34m(self, s, idx)\u001b[0m\n\u001b[0;32m    354\u001b[0m \u001b[38;5;28;01mexcept\u001b[39;00m \u001b[38;5;167;01mStopIteration\u001b[39;00m \u001b[38;5;28;01mas\u001b[39;00m err:\n\u001b[1;32m--> 355\u001b[0m     \u001b[38;5;28;01mraise\u001b[39;00m JSONDecodeError(\u001b[38;5;124m\"\u001b[39m\u001b[38;5;124mExpecting value\u001b[39m\u001b[38;5;124m\"\u001b[39m, s, err\u001b[38;5;241m.\u001b[39mvalue) \u001b[38;5;28;01mfrom\u001b[39;00m \u001b[38;5;28;01mNone\u001b[39;00m\n\u001b[0;32m    356\u001b[0m \u001b[38;5;28;01mreturn\u001b[39;00m obj, end\n",
      "\u001b[1;31mJSONDecodeError\u001b[0m: Expecting value: line 1 column 1 (char 0)",
      "\nDuring handling of the above exception, another exception occurred:\n",
      "\u001b[1;31mJSONDecodeError\u001b[0m                           Traceback (most recent call last)",
      "File \u001b[1;32mD:\\miniconda\\envs\\qt\\lib\\site-packages\\nasdaqdatalink\\connection.py:90\u001b[0m, in \u001b[0;36mConnection.parse\u001b[1;34m(cls, response)\u001b[0m\n\u001b[0;32m     89\u001b[0m \u001b[38;5;28;01mtry\u001b[39;00m:\n\u001b[1;32m---> 90\u001b[0m     \u001b[38;5;28;01mreturn\u001b[39;00m \u001b[43mresponse\u001b[49m\u001b[38;5;241;43m.\u001b[39;49m\u001b[43mjson\u001b[49m\u001b[43m(\u001b[49m\u001b[43m)\u001b[49m\n\u001b[0;32m     91\u001b[0m \u001b[38;5;28;01mexcept\u001b[39;00m \u001b[38;5;167;01mValueError\u001b[39;00m:\n",
      "File \u001b[1;32mD:\\miniconda\\envs\\qt\\lib\\site-packages\\requests\\models.py:978\u001b[0m, in \u001b[0;36mResponse.json\u001b[1;34m(self, **kwargs)\u001b[0m\n\u001b[0;32m    975\u001b[0m \u001b[38;5;28;01mexcept\u001b[39;00m JSONDecodeError \u001b[38;5;28;01mas\u001b[39;00m e:\n\u001b[0;32m    976\u001b[0m     \u001b[38;5;66;03m# Catch JSON-related errors and raise as requests.JSONDecodeError\u001b[39;00m\n\u001b[0;32m    977\u001b[0m     \u001b[38;5;66;03m# This aliases json.JSONDecodeError and simplejson.JSONDecodeError\u001b[39;00m\n\u001b[1;32m--> 978\u001b[0m     \u001b[38;5;28;01mraise\u001b[39;00m RequestsJSONDecodeError(e\u001b[38;5;241m.\u001b[39mmsg, e\u001b[38;5;241m.\u001b[39mdoc, e\u001b[38;5;241m.\u001b[39mpos)\n",
      "\u001b[1;31mJSONDecodeError\u001b[0m: Expecting value: line 1 column 1 (char 0)",
      "\nDuring handling of the above exception, another exception occurred:\n",
      "\u001b[1;31mDataLinkError\u001b[0m                             Traceback (most recent call last)",
      "Cell \u001b[1;32mIn[9], line 1\u001b[0m\n\u001b[1;32m----> 1\u001b[0m data \u001b[38;5;241m=\u001b[39m \u001b[43mnasdaqdatalink\u001b[49m\u001b[38;5;241;43m.\u001b[39;49m\u001b[43mget\u001b[49m\u001b[43m(\u001b[49m\u001b[38;5;124;43m\"\u001b[39;49m\u001b[38;5;124;43mCHRIS/CME_ES1\u001b[39;49m\u001b[38;5;124;43m\"\u001b[39;49m\u001b[43m,\u001b[49m\u001b[43m \u001b[49m\u001b[43mreturns\u001b[49m\u001b[38;5;241;43m=\u001b[39;49m\u001b[38;5;124;43m\"\u001b[39;49m\u001b[38;5;124;43mnumpy\u001b[39;49m\u001b[38;5;124;43m\"\u001b[39;49m\u001b[43m)\u001b[49m\n",
      "File \u001b[1;32mD:\\miniconda\\envs\\qt\\lib\\site-packages\\nasdaqdatalink\\get.py:48\u001b[0m, in \u001b[0;36mget\u001b[1;34m(dataset, **kwargs)\u001b[0m\n\u001b[0;32m     46\u001b[0m     \u001b[38;5;28;01mif\u001b[39;00m dataset_args[\u001b[38;5;124m'\u001b[39m\u001b[38;5;124mcolumn_index\u001b[39m\u001b[38;5;124m'\u001b[39m] \u001b[38;5;129;01mis\u001b[39;00m \u001b[38;5;129;01mnot\u001b[39;00m \u001b[38;5;28;01mNone\u001b[39;00m:\n\u001b[0;32m     47\u001b[0m         kwargs\u001b[38;5;241m.\u001b[39mupdate({\u001b[38;5;124m'\u001b[39m\u001b[38;5;124mcolumn_index\u001b[39m\u001b[38;5;124m'\u001b[39m: dataset_args[\u001b[38;5;124m'\u001b[39m\u001b[38;5;124mcolumn_index\u001b[39m\u001b[38;5;124m'\u001b[39m]})\n\u001b[1;32m---> 48\u001b[0m     data \u001b[38;5;241m=\u001b[39m \u001b[43mDataset\u001b[49m\u001b[43m(\u001b[49m\u001b[43mdataset_args\u001b[49m\u001b[43m[\u001b[49m\u001b[38;5;124;43m'\u001b[39;49m\u001b[38;5;124;43mcode\u001b[39;49m\u001b[38;5;124;43m'\u001b[39;49m\u001b[43m]\u001b[49m\u001b[43m)\u001b[49m\u001b[38;5;241;43m.\u001b[39;49m\u001b[43mdata\u001b[49m\u001b[43m(\u001b[49m\u001b[43mparams\u001b[49m\u001b[38;5;241;43m=\u001b[39;49m\u001b[43mkwargs\u001b[49m\u001b[43m,\u001b[49m\u001b[43m \u001b[49m\u001b[43mhandle_column_not_found\u001b[49m\u001b[38;5;241;43m=\u001b[39;49m\u001b[38;5;28;43;01mTrue\u001b[39;49;00m\u001b[43m)\u001b[49m\n\u001b[0;32m     49\u001b[0m \u001b[38;5;66;03m# Array\u001b[39;00m\n\u001b[0;32m     50\u001b[0m \u001b[38;5;28;01melif\u001b[39;00m \u001b[38;5;28misinstance\u001b[39m(dataset, \u001b[38;5;28mlist\u001b[39m):\n",
      "File \u001b[1;32mD:\\miniconda\\envs\\qt\\lib\\site-packages\\nasdaqdatalink\\model\\dataset.py:47\u001b[0m, in \u001b[0;36mDataset.data\u001b[1;34m(self, **options)\u001b[0m\n\u001b[0;32m     45\u001b[0m updated_options \u001b[38;5;241m=\u001b[39m Util\u001b[38;5;241m.\u001b[39mmerge_options(\u001b[38;5;124m'\u001b[39m\u001b[38;5;124mparams\u001b[39m\u001b[38;5;124m'\u001b[39m, params, \u001b[38;5;241m*\u001b[39m\u001b[38;5;241m*\u001b[39moptions)\n\u001b[0;32m     46\u001b[0m \u001b[38;5;28;01mtry\u001b[39;00m:\n\u001b[1;32m---> 47\u001b[0m     \u001b[38;5;28;01mreturn\u001b[39;00m Data\u001b[38;5;241m.\u001b[39mall(\u001b[38;5;241m*\u001b[39m\u001b[38;5;241m*\u001b[39mupdated_options)\n\u001b[0;32m     48\u001b[0m \u001b[38;5;28;01mexcept\u001b[39;00m NotFoundError:\n\u001b[0;32m     49\u001b[0m     \u001b[38;5;28;01mif\u001b[39;00m handle_not_found_error:\n",
      "File \u001b[1;32mD:\\miniconda\\envs\\qt\\lib\\site-packages\\nasdaqdatalink\\operations\\list.py:15\u001b[0m, in \u001b[0;36mListOperation.all\u001b[1;34m(cls, **options)\u001b[0m\n\u001b[0;32m     13\u001b[0m     options[\u001b[38;5;124m'\u001b[39m\u001b[38;5;124mparams\u001b[39m\u001b[38;5;124m'\u001b[39m] \u001b[38;5;241m=\u001b[39m {}\n\u001b[0;32m     14\u001b[0m path \u001b[38;5;241m=\u001b[39m Util\u001b[38;5;241m.\u001b[39mconstructed_path(\u001b[38;5;28mcls\u001b[39m\u001b[38;5;241m.\u001b[39mlist_path(), options[\u001b[38;5;124m'\u001b[39m\u001b[38;5;124mparams\u001b[39m\u001b[38;5;124m'\u001b[39m])\n\u001b[1;32m---> 15\u001b[0m r \u001b[38;5;241m=\u001b[39m Connection\u001b[38;5;241m.\u001b[39mrequest(\u001b[38;5;124m'\u001b[39m\u001b[38;5;124mget\u001b[39m\u001b[38;5;124m'\u001b[39m, path, \u001b[38;5;241m*\u001b[39m\u001b[38;5;241m*\u001b[39moptions)\n\u001b[0;32m     16\u001b[0m response_data \u001b[38;5;241m=\u001b[39m r\u001b[38;5;241m.\u001b[39mjson()\n\u001b[0;32m     17\u001b[0m Util\u001b[38;5;241m.\u001b[39mconvert_to_dates(response_data)\n",
      "File \u001b[1;32mD:\\miniconda\\envs\\qt\\lib\\site-packages\\nasdaqdatalink\\connection.py:40\u001b[0m, in \u001b[0;36mConnection.request\u001b[1;34m(cls, http_verb, url, **options)\u001b[0m\n\u001b[0;32m     36\u001b[0m options[\u001b[38;5;124m'\u001b[39m\u001b[38;5;124mheaders\u001b[39m\u001b[38;5;124m'\u001b[39m] \u001b[38;5;241m=\u001b[39m headers\n\u001b[0;32m     38\u001b[0m abs_url \u001b[38;5;241m=\u001b[39m \u001b[38;5;124m'\u001b[39m\u001b[38;5;132;01m%s\u001b[39;00m\u001b[38;5;124m/\u001b[39m\u001b[38;5;132;01m%s\u001b[39;00m\u001b[38;5;124m'\u001b[39m \u001b[38;5;241m%\u001b[39m (ApiConfig\u001b[38;5;241m.\u001b[39mapi_base, url)\n\u001b[1;32m---> 40\u001b[0m \u001b[38;5;28;01mreturn\u001b[39;00m \u001b[38;5;28mcls\u001b[39m\u001b[38;5;241m.\u001b[39mexecute_request(http_verb, abs_url, \u001b[38;5;241m*\u001b[39m\u001b[38;5;241m*\u001b[39moptions)\n",
      "File \u001b[1;32mD:\\miniconda\\envs\\qt\\lib\\site-packages\\nasdaqdatalink\\connection.py:52\u001b[0m, in \u001b[0;36mConnection.execute_request\u001b[1;34m(cls, http_verb, url, **options)\u001b[0m\n\u001b[0;32m     47\u001b[0m response \u001b[38;5;241m=\u001b[39m session\u001b[38;5;241m.\u001b[39mrequest(method\u001b[38;5;241m=\u001b[39mhttp_verb,\n\u001b[0;32m     48\u001b[0m                            url\u001b[38;5;241m=\u001b[39murl,\n\u001b[0;32m     49\u001b[0m                            verify\u001b[38;5;241m=\u001b[39mApiConfig\u001b[38;5;241m.\u001b[39mverify_ssl,\n\u001b[0;32m     50\u001b[0m                            \u001b[38;5;241m*\u001b[39m\u001b[38;5;241m*\u001b[39moptions)\n\u001b[0;32m     51\u001b[0m \u001b[38;5;28;01mif\u001b[39;00m response\u001b[38;5;241m.\u001b[39mstatus_code \u001b[38;5;241m<\u001b[39m \u001b[38;5;241m200\u001b[39m \u001b[38;5;129;01mor\u001b[39;00m response\u001b[38;5;241m.\u001b[39mstatus_code \u001b[38;5;241m>\u001b[39m\u001b[38;5;241m=\u001b[39m \u001b[38;5;241m300\u001b[39m:\n\u001b[1;32m---> 52\u001b[0m     \u001b[38;5;28;43mcls\u001b[39;49m\u001b[38;5;241;43m.\u001b[39;49m\u001b[43mhandle_api_error\u001b[49m\u001b[43m(\u001b[49m\u001b[43mresponse\u001b[49m\u001b[43m)\u001b[49m\n\u001b[0;32m     53\u001b[0m \u001b[38;5;28;01melse\u001b[39;00m:\n\u001b[0;32m     54\u001b[0m     \u001b[38;5;28;01mreturn\u001b[39;00m response\n",
      "File \u001b[1;32mD:\\miniconda\\envs\\qt\\lib\\site-packages\\nasdaqdatalink\\connection.py:96\u001b[0m, in \u001b[0;36mConnection.handle_api_error\u001b[1;34m(cls, resp)\u001b[0m\n\u001b[0;32m     94\u001b[0m \u001b[38;5;129m@classmethod\u001b[39m\n\u001b[0;32m     95\u001b[0m \u001b[38;5;28;01mdef\u001b[39;00m \u001b[38;5;21mhandle_api_error\u001b[39m(\u001b[38;5;28mcls\u001b[39m, resp):\n\u001b[1;32m---> 96\u001b[0m     error_body \u001b[38;5;241m=\u001b[39m \u001b[38;5;28;43mcls\u001b[39;49m\u001b[38;5;241;43m.\u001b[39;49m\u001b[43mparse\u001b[49m\u001b[43m(\u001b[49m\u001b[43mresp\u001b[49m\u001b[43m)\u001b[49m\n\u001b[0;32m     98\u001b[0m     \u001b[38;5;66;03m# if our app does not form a proper data_link_error response\u001b[39;00m\n\u001b[0;32m     99\u001b[0m     \u001b[38;5;66;03m# throw generic error\u001b[39;00m\n\u001b[0;32m    100\u001b[0m     \u001b[38;5;28;01mif\u001b[39;00m \u001b[38;5;124m'\u001b[39m\u001b[38;5;124mquandl_error\u001b[39m\u001b[38;5;124m'\u001b[39m \u001b[38;5;129;01mnot\u001b[39;00m \u001b[38;5;129;01min\u001b[39;00m error_body:\n",
      "File \u001b[1;32mD:\\miniconda\\envs\\qt\\lib\\site-packages\\nasdaqdatalink\\connection.py:92\u001b[0m, in \u001b[0;36mConnection.parse\u001b[1;34m(cls, response)\u001b[0m\n\u001b[0;32m     90\u001b[0m     \u001b[38;5;28;01mreturn\u001b[39;00m response\u001b[38;5;241m.\u001b[39mjson()\n\u001b[0;32m     91\u001b[0m \u001b[38;5;28;01mexcept\u001b[39;00m \u001b[38;5;167;01mValueError\u001b[39;00m:\n\u001b[1;32m---> 92\u001b[0m     \u001b[38;5;28;01mraise\u001b[39;00m DataLinkError(http_status\u001b[38;5;241m=\u001b[39mresponse\u001b[38;5;241m.\u001b[39mstatus_code, http_body\u001b[38;5;241m=\u001b[39mresponse\u001b[38;5;241m.\u001b[39mtext)\n",
      "\u001b[1;31mDataLinkError\u001b[0m: (Status 403) Something went wrong. Please try again. If you continue to have problems, please contact us at connect@data.nasdaq.com."
     ]
    }
   ],
   "source": [
    "data = nasdaqdatalink.get(\"CHRIS/CME_ES1\", returns=\"numpy\")\n",
    "'''\n",
    "NumPy 배열 형식으로 데이터를 반환합니다\n",
    "수치 계산에 최적화된 형태로 데이터를 제공합니다\n",
    "메모리 사용이 더 효율적일 수 있습니다\n",
    "행렬 연산이나 수학적 계산을 할 때 더 빠른 성능을 제공할 수 있습니다\n",
    "선택은 데이터를 어떻게 활용할 것인지에 따라 달라집니다. 데이터 분석과 전처리가 주목적이라면 DataFrame을, \n",
    "수치 계산이 주목적이라면 NumPy 배열이 더 적합할 수 있습니다.\n",
    "'''"
   ]
  },
  {
   "cell_type": "code",
   "execution_count": null,
   "id": "d5acf8fe",
   "metadata": {},
   "outputs": [],
   "source": [
    "display(data)"
   ]
  },
  {
   "cell_type": "markdown",
   "id": "2a7887d8",
   "metadata": {},
   "source": [
    "Fetches data for the specified dataset within the given date range and stores it in 'data'"
   ]
  },
  {
   "cell_type": "code",
   "execution_count": null,
   "id": "685c7b81",
   "metadata": {},
   "outputs": [],
   "source": [
    "data = nasdaqdatalink.get(\n",
    "    \"CHRIS/CME_ES1\", start_date=\"2001-12-31\", end_date=\"2005-12-31\"\n",
    ")"
   ]
  },
  {
   "cell_type": "code",
   "execution_count": null,
   "id": "859d7be0",
   "metadata": {
    "tags": []
   },
   "outputs": [],
   "source": [
    "display(data)"
   ]
  },
  {
   "cell_type": "markdown",
   "id": "5efe1e57",
   "metadata": {},
   "source": [
    "Fetches data for a specific column in the dataset within the given date range and stores it in 'data'"
   ]
  },
  {
   "cell_type": "code",
   "execution_count": null,
   "id": "3cbba229",
   "metadata": {
    "tags": []
   },
   "outputs": [],
   "source": [
    "'''\n",
    "NASDAQ Data Link(구 Quandl) API를 사용하여\n",
    "S&P 500 E-mini 선물 데이터를 가져오는 Python 코드입니다.\n",
    "'''\n",
    "data = nasdaqdatalink.get(\n",
    "    \"CHRIS/CME_ES1.8\", start_date=\"2001-12-31\", end_date=\"2005-12-31\"\n",
    ")"
   ]
  },
  {
   "cell_type": "code",
   "execution_count": null,
   "id": "2b006e03",
   "metadata": {
    "tags": []
   },
   "outputs": [],
   "source": [
    "display(data)"
   ]
  },
  {
   "cell_type": "markdown",
   "id": "479f0d0e",
   "metadata": {},
   "source": [
    "Fetches data for the specified dataset with monthly aggregation and stores it in 'data'"
   ]
  },
  {
   "cell_type": "code",
   "execution_count": null,
   "id": "50232cd1",
   "metadata": {
    "tags": []
   },
   "outputs": [],
   "source": [
    "data = nasdaqdatalink.get(\"CHRIS/CME_ES1\", collapse=\"monthly\")"
   ]
  },
  {
   "cell_type": "code",
   "execution_count": null,
   "id": "dc1604d5",
   "metadata": {},
   "outputs": [],
   "source": [
    "display(data)"
   ]
  },
  {
   "cell_type": "markdown",
   "id": "27d98ba3",
   "metadata": {},
   "source": [
    "Defines a list of contract codes to fetch data for multiple contracts"
   ]
  },
  {
   "cell_type": "code",
   "execution_count": 14,
   "id": "ce8dfd42",
   "metadata": {},
   "outputs": [],
   "source": [
    "'''\n",
    "ES1.6부터 ES4.6까지는 각각 다른 만기의 선물 계약을 의미합니다\n",
    "ES1: 최근월물\n",
    "ES2: 2번째 근월물\n",
    "ES3: 3번째 근월물\n",
    "ES4: 4번째 근월물\n",
    "'''\n",
    "contracts = [\n",
    "    \"CHRIS/CME_ES1.6\",\n",
    "    \"CHRIS/CME_ES2.6\",\n",
    "    \"CHRIS/CME_ES3.6\",\n",
    "    \"CHRIS/CME_ES4.6\",\n",
    "]"
   ]
  },
  {
   "cell_type": "markdown",
   "id": "4645eb7e",
   "metadata": {},
   "source": [
    "Fetches data for the specified contracts within the given date range and stores it in 'data'"
   ]
  },
  {
   "cell_type": "code",
   "execution_count": null,
   "id": "4d36af7e",
   "metadata": {
    "tags": []
   },
   "outputs": [],
   "source": [
    "data = nasdaqdatalink.get(contracts, start_date=\"2015-01-01\", \n",
    "                          end_date=\"2015-12-31\")\n",
    "'''\n",
    "복수의 데이터를 기간 지정하여 가져오기\n",
    "'''"
   ]
  },
  {
   "cell_type": "markdown",
   "id": "e563ffc5",
   "metadata": {},
   "source": [
    "Plots the data for the first contract on the first available date"
   ]
  },
  {
   "cell_type": "code",
   "execution_count": null,
   "id": "62c398b1",
   "metadata": {},
   "outputs": [],
   "source": [
    "data.iloc[0].plot(title=f\"ES on {data.index[0]}\")"
   ]
  },
  {
   "cell_type": "code",
   "execution_count": 4,
   "id": "6757562c",
   "metadata": {},
   "outputs": [],
   "source": [
    "import nasdaqdatalink\n",
    "from IPython.display import display"
   ]
  },
  {
   "cell_type": "code",
   "execution_count": 5,
   "id": "74dd8f48",
   "metadata": {},
   "outputs": [],
   "source": [
    "nasdaqdatalink.ApiConfig.api_key = \"YOUR_API_KEY\""
   ]
  },
  {
   "cell_type": "markdown",
   "id": "bdc71c54",
   "metadata": {},
   "source": [
    "Fetches S&P 500 dividend yield data and stores it in 'data'"
   ]
  },
  {
   "cell_type": "code",
   "execution_count": null,
   "id": "228dff56",
   "metadata": {
    "tags": []
   },
   "outputs": [],
   "source": [
    "data = nasdaqdatalink.get(\"MULTPL/SP500_DIV_YIELD_MONTH\")\n",
    "'''\n",
    "\n",
    "MULTPL/SP500_DIV_YIELD_MONTH는 S&P 500 지수의 \n",
    "월별 배당 수익률을 나타내는 데이터셋 코드입니다.\n",
    "MULTPL은 데이터 제공자를 나타냅니다.\n",
    "SP500_DIV_YIELD_MONTH는 S&P 500의 월별 배당 수익률 데이터를 의미합니다.\n",
    "\n",
    "이 코드는 기본적으로 Pandas DataFrame 형식으로 데이터를 반환합니다.\n",
    "데이터는 날짜별로 정렬되며, 각 행은 특정 월의 S&P 500 배당 수익률을 나타냅니다.\n",
    "\n",
    "이 데이터는 S&P 500 지수의 전반적인 배당 동향을 분석하는 데 유용합니다.\n",
    "투자자들은 이 정보를 통해 시장의 전반적인 수익률 동향을 파악할 수 있습니다.\n",
    "\n",
    "또한 역사적 배당 수익률 패턴을 연구하거나 \n",
    "다른 경제 지표와의 상관관계를 분석하는 데 사용될 수 있습니다.\n",
    "이 코드를 실행하면 S&P 500의 월별 배당 수익률 데이터를 쉽게 얻을 수 있어, \n",
    "금융 분석이나 투자 결정에 유용한 정보를 제공합니다.\n",
    "'''\n"
   ]
  },
  {
   "cell_type": "code",
   "execution_count": null,
   "id": "4ac1b75a",
   "metadata": {},
   "outputs": [],
   "source": [
    "display(data)"
   ]
  },
  {
   "cell_type": "markdown",
   "id": "9ded2afb",
   "metadata": {},
   "source": [
    "Plots the S&P 500 dividend yield data with the specified title"
   ]
  },
  {
   "cell_type": "code",
   "execution_count": null,
   "id": "b1bf2a17",
   "metadata": {},
   "outputs": [],
   "source": [
    "data.plot(title=\"S&P 500 dividend yield (12 month dividend per share)/price\")"
   ]
  },
  {
   "cell_type": "markdown",
   "id": "ff1f18bf",
   "metadata": {},
   "source": [
    "## Working with stock market data with the OpenBB Platform"
   ]
  },
  {
   "cell_type": "code",
   "execution_count": 77,
   "id": "cd26e5c2",
   "metadata": {},
   "outputs": [],
   "source": [
    "from IPython.display import display\n",
    "from openbb import obb"
   ]
  },
  {
   "cell_type": "code",
   "execution_count": 78,
   "id": "29cc5760",
   "metadata": {},
   "outputs": [],
   "source": [
    "obb.user.preferences.output_type = \"dataframe\""
   ]
  },
  {
   "cell_type": "markdown",
   "id": "b67af6c7",
   "metadata": {},
   "source": [
    "Fetches historical price data for the equity \"SPY\" using the \"yfinance\" provider and displays the first 10 rows"
   ]
  },
  {
   "cell_type": "code",
   "execution_count": 80,
   "id": "c9f33250",
   "metadata": {},
   "outputs": [
    {
     "data": {
      "text/plain": [
       "'\\nobb.equity.price.historical: 주식의 과거 가격 데이터를 가져오는 함수입니다\\n\"SPY\": S&P 500 ETF의 티커 심볼입니다\\nprovider=\"yfinance\": 데이터를 가져올 소스로 Yahoo Finance API를 사용한다는 의미입니다1\\n반환 데이터\\n\\n이 코드를 실행하면 다음과 같은 데이터를 포함하는 DataFrame이 반환됩니다:\\nOpen (시가)\\nHigh (고가)\\nLow (저가)\\nClose (종가)\\nVolume (거래량)\\nDividends (배당금)\\nStock Splits (주식 분할)13\\n이 데이터는 투자 분석, 백테스팅, 또는 시장 동향 연구에 활용될 수 있습니다.\\n'"
      ]
     },
     "execution_count": 80,
     "metadata": {},
     "output_type": "execute_result"
    }
   ],
   "source": [
    "'''\n",
    "obb.equity.price.historical: 주식의 과거 가격 데이터를 가져오는 함수입니다\n",
    "'''\n",
    "data = obb.equity.price.historical(\"SPY\", provider=\"yfinance\")\n",
    "'''\n",
    "\"SPY\": S&P 500 ETF의 티커 심볼입니다\n",
    "provider=\"yfinance\": 데이터를 가져올 소스로 Yahoo Finance API를 사용한다는 의미입니다1\n",
    "반환 데이터\n",
    "\n",
    "이 코드를 실행하면 다음과 같은 데이터를 포함하는 DataFrame이 반환됩니다:\n",
    "Open (시가)\n",
    "High (고가)\n",
    "Low (저가)\n",
    "Close (종가)\n",
    "Volume (거래량)\n",
    "Dividends (배당금)\n",
    "Stock Splits (주식 분할)13\n",
    "이 데이터는 투자 분석, 백테스팅, 또는 시장 동향 연구에 활용될 수 있습니다.\n",
    "'''"
   ]
  },
  {
   "cell_type": "code",
   "execution_count": 10,
   "id": "235092b5",
   "metadata": {},
   "outputs": [
    {
     "data": {
      "text/html": [
       "<div>\n",
       "<style scoped>\n",
       "    .dataframe tbody tr th:only-of-type {\n",
       "        vertical-align: middle;\n",
       "    }\n",
       "\n",
       "    .dataframe tbody tr th {\n",
       "        vertical-align: top;\n",
       "    }\n",
       "\n",
       "    .dataframe thead th {\n",
       "        text-align: right;\n",
       "    }\n",
       "</style>\n",
       "<table border=\"1\" class=\"dataframe\">\n",
       "  <thead>\n",
       "    <tr style=\"text-align: right;\">\n",
       "      <th></th>\n",
       "      <th>open</th>\n",
       "      <th>high</th>\n",
       "      <th>low</th>\n",
       "      <th>close</th>\n",
       "      <th>volume</th>\n",
       "      <th>dividend</th>\n",
       "    </tr>\n",
       "    <tr>\n",
       "      <th>date</th>\n",
       "      <th></th>\n",
       "      <th></th>\n",
       "      <th></th>\n",
       "      <th></th>\n",
       "      <th></th>\n",
       "      <th></th>\n",
       "    </tr>\n",
       "  </thead>\n",
       "  <tbody>\n",
       "    <tr>\n",
       "      <th>2023-12-11</th>\n",
       "      <td>459.690002</td>\n",
       "      <td>462.170013</td>\n",
       "      <td>459.470001</td>\n",
       "      <td>461.989990</td>\n",
       "      <td>65002200</td>\n",
       "      <td>0.000</td>\n",
       "    </tr>\n",
       "    <tr>\n",
       "      <th>2023-12-12</th>\n",
       "      <td>461.630005</td>\n",
       "      <td>464.200012</td>\n",
       "      <td>460.600006</td>\n",
       "      <td>464.100006</td>\n",
       "      <td>68327600</td>\n",
       "      <td>0.000</td>\n",
       "    </tr>\n",
       "    <tr>\n",
       "      <th>2023-12-13</th>\n",
       "      <td>464.489990</td>\n",
       "      <td>470.760010</td>\n",
       "      <td>464.119995</td>\n",
       "      <td>470.500000</td>\n",
       "      <td>93278000</td>\n",
       "      <td>0.000</td>\n",
       "    </tr>\n",
       "    <tr>\n",
       "      <th>2023-12-14</th>\n",
       "      <td>472.500000</td>\n",
       "      <td>473.730011</td>\n",
       "      <td>469.250000</td>\n",
       "      <td>472.010010</td>\n",
       "      <td>119026000</td>\n",
       "      <td>0.000</td>\n",
       "    </tr>\n",
       "    <tr>\n",
       "      <th>2023-12-15</th>\n",
       "      <td>469.489990</td>\n",
       "      <td>470.700012</td>\n",
       "      <td>467.429993</td>\n",
       "      <td>469.329987</td>\n",
       "      <td>141319300</td>\n",
       "      <td>1.906</td>\n",
       "    </tr>\n",
       "    <tr>\n",
       "      <th>2023-12-18</th>\n",
       "      <td>470.980011</td>\n",
       "      <td>472.980011</td>\n",
       "      <td>469.890015</td>\n",
       "      <td>471.970001</td>\n",
       "      <td>70375300</td>\n",
       "      <td>0.000</td>\n",
       "    </tr>\n",
       "    <tr>\n",
       "      <th>2023-12-19</th>\n",
       "      <td>472.529999</td>\n",
       "      <td>474.920013</td>\n",
       "      <td>472.450012</td>\n",
       "      <td>474.839996</td>\n",
       "      <td>55761800</td>\n",
       "      <td>0.000</td>\n",
       "    </tr>\n",
       "    <tr>\n",
       "      <th>2023-12-20</th>\n",
       "      <td>473.959991</td>\n",
       "      <td>475.899994</td>\n",
       "      <td>467.820007</td>\n",
       "      <td>468.260010</td>\n",
       "      <td>102921000</td>\n",
       "      <td>0.000</td>\n",
       "    </tr>\n",
       "    <tr>\n",
       "      <th>2023-12-21</th>\n",
       "      <td>471.329987</td>\n",
       "      <td>472.980011</td>\n",
       "      <td>468.839996</td>\n",
       "      <td>472.700012</td>\n",
       "      <td>86667500</td>\n",
       "      <td>0.000</td>\n",
       "    </tr>\n",
       "    <tr>\n",
       "      <th>2023-12-22</th>\n",
       "      <td>473.859985</td>\n",
       "      <td>475.380005</td>\n",
       "      <td>471.700012</td>\n",
       "      <td>473.649994</td>\n",
       "      <td>67126600</td>\n",
       "      <td>0.000</td>\n",
       "    </tr>\n",
       "  </tbody>\n",
       "</table>\n",
       "</div>"
      ],
      "text/plain": [
       "                  open        high         low       close     volume  \\\n",
       "date                                                                    \n",
       "2023-12-11  459.690002  462.170013  459.470001  461.989990   65002200   \n",
       "2023-12-12  461.630005  464.200012  460.600006  464.100006   68327600   \n",
       "2023-12-13  464.489990  470.760010  464.119995  470.500000   93278000   \n",
       "2023-12-14  472.500000  473.730011  469.250000  472.010010  119026000   \n",
       "2023-12-15  469.489990  470.700012  467.429993  469.329987  141319300   \n",
       "2023-12-18  470.980011  472.980011  469.890015  471.970001   70375300   \n",
       "2023-12-19  472.529999  474.920013  472.450012  474.839996   55761800   \n",
       "2023-12-20  473.959991  475.899994  467.820007  468.260010  102921000   \n",
       "2023-12-21  471.329987  472.980011  468.839996  472.700012   86667500   \n",
       "2023-12-22  473.859985  475.380005  471.700012  473.649994   67126600   \n",
       "\n",
       "            dividend  \n",
       "date                  \n",
       "2023-12-11     0.000  \n",
       "2023-12-12     0.000  \n",
       "2023-12-13     0.000  \n",
       "2023-12-14     0.000  \n",
       "2023-12-15     1.906  \n",
       "2023-12-18     0.000  \n",
       "2023-12-19     0.000  \n",
       "2023-12-20     0.000  \n",
       "2023-12-21     0.000  \n",
       "2023-12-22     0.000  "
      ]
     },
     "metadata": {},
     "output_type": "display_data"
    }
   ],
   "source": [
    "display(data.head(10))"
   ]
  },
  {
   "cell_type": "markdown",
   "id": "3966d542",
   "metadata": {},
   "source": [
    "Fetches fundamental metrics for the equities \"AAPL\" and \"MSFT\" using the \"yfinance\" provider and transposes the dataframe"
   ]
  },
  {
   "cell_type": "code",
   "execution_count": 11,
   "id": "f695a877",
   "metadata": {},
   "outputs": [],
   "source": [
    "'''\n",
    "obb.equity.fundamental는 기본적 지표를 보여줍니다.\n",
    "'''\n",
    "data = obb.equity.fundamental.metrics(\"AAPL,MSFT\", provider=\"yfinance\")"
   ]
  },
  {
   "cell_type": "code",
   "execution_count": 12,
   "id": "834290bf",
   "metadata": {},
   "outputs": [
    {
     "data": {
      "text/html": [
       "<div>\n",
       "<style scoped>\n",
       "    .dataframe tbody tr th:only-of-type {\n",
       "        vertical-align: middle;\n",
       "    }\n",
       "\n",
       "    .dataframe tbody tr th {\n",
       "        vertical-align: top;\n",
       "    }\n",
       "\n",
       "    .dataframe thead th {\n",
       "        text-align: right;\n",
       "    }\n",
       "</style>\n",
       "<table border=\"1\" class=\"dataframe\">\n",
       "  <thead>\n",
       "    <tr style=\"text-align: right;\">\n",
       "      <th></th>\n",
       "      <th>0</th>\n",
       "      <th>1</th>\n",
       "    </tr>\n",
       "  </thead>\n",
       "  <tbody>\n",
       "    <tr>\n",
       "      <th>symbol</th>\n",
       "      <td>AAPL</td>\n",
       "      <td>MSFT</td>\n",
       "    </tr>\n",
       "    <tr>\n",
       "      <th>market_cap</th>\n",
       "      <td>3729823629312.0</td>\n",
       "      <td>3316105084928.0</td>\n",
       "    </tr>\n",
       "    <tr>\n",
       "      <th>pe_ratio</th>\n",
       "      <td>40.65074</td>\n",
       "      <td>36.83072</td>\n",
       "    </tr>\n",
       "    <tr>\n",
       "      <th>forward_pe</th>\n",
       "      <td>29.780296</td>\n",
       "      <td>29.673222</td>\n",
       "    </tr>\n",
       "    <tr>\n",
       "      <th>peg_ratio_ttm</th>\n",
       "      <td>2.5091</td>\n",
       "      <td>2.3496</td>\n",
       "    </tr>\n",
       "    <tr>\n",
       "      <th>enterprise_to_ebitda</th>\n",
       "      <td>28.098</td>\n",
       "      <td>24.419</td>\n",
       "    </tr>\n",
       "    <tr>\n",
       "      <th>earnings_growth</th>\n",
       "      <td>-0.341</td>\n",
       "      <td>0.104</td>\n",
       "    </tr>\n",
       "    <tr>\n",
       "      <th>earnings_growth_quarterly</th>\n",
       "      <td>-0.358</td>\n",
       "      <td>0.107</td>\n",
       "    </tr>\n",
       "    <tr>\n",
       "      <th>revenue_per_share</th>\n",
       "      <td>25.485</td>\n",
       "      <td>34.202</td>\n",
       "    </tr>\n",
       "    <tr>\n",
       "      <th>revenue_growth</th>\n",
       "      <td>0.061</td>\n",
       "      <td>0.16</td>\n",
       "    </tr>\n",
       "    <tr>\n",
       "      <th>enterprise_to_revenue</th>\n",
       "      <td>9.676</td>\n",
       "      <td>13.118</td>\n",
       "    </tr>\n",
       "    <tr>\n",
       "      <th>quick_ratio</th>\n",
       "      <td>0.745</td>\n",
       "      <td>1.163</td>\n",
       "    </tr>\n",
       "    <tr>\n",
       "      <th>current_ratio</th>\n",
       "      <td>0.867</td>\n",
       "      <td>1.301</td>\n",
       "    </tr>\n",
       "    <tr>\n",
       "      <th>debt_to_equity</th>\n",
       "      <td>209.059</td>\n",
       "      <td>33.657</td>\n",
       "    </tr>\n",
       "    <tr>\n",
       "      <th>gross_margin</th>\n",
       "      <td>0.46206</td>\n",
       "      <td>0.69349</td>\n",
       "    </tr>\n",
       "    <tr>\n",
       "      <th>operating_margin</th>\n",
       "      <td>0.31171</td>\n",
       "      <td>0.46584</td>\n",
       "    </tr>\n",
       "    <tr>\n",
       "      <th>ebitda_margin</th>\n",
       "      <td>0.34437</td>\n",
       "      <td>0.5372</td>\n",
       "    </tr>\n",
       "    <tr>\n",
       "      <th>profit_margin</th>\n",
       "      <td>0.23971</td>\n",
       "      <td>0.35608</td>\n",
       "    </tr>\n",
       "    <tr>\n",
       "      <th>return_on_assets</th>\n",
       "      <td>0.21464</td>\n",
       "      <td>0.14592</td>\n",
       "    </tr>\n",
       "    <tr>\n",
       "      <th>return_on_equity</th>\n",
       "      <td>1.57413</td>\n",
       "      <td>0.35604</td>\n",
       "    </tr>\n",
       "    <tr>\n",
       "      <th>dividend_yield</th>\n",
       "      <td>0.0041</td>\n",
       "      <td>0.0075</td>\n",
       "    </tr>\n",
       "    <tr>\n",
       "      <th>dividend_yield_5y_avg</th>\n",
       "      <td>0.0062</td>\n",
       "      <td>0.0087</td>\n",
       "    </tr>\n",
       "    <tr>\n",
       "      <th>payout_ratio</th>\n",
       "      <td>0.1612</td>\n",
       "      <td>0.2477</td>\n",
       "    </tr>\n",
       "    <tr>\n",
       "      <th>book_value</th>\n",
       "      <td>3.767</td>\n",
       "      <td>38.693</td>\n",
       "    </tr>\n",
       "    <tr>\n",
       "      <th>price_to_book</th>\n",
       "      <td>65.50305</td>\n",
       "      <td>11.527149</td>\n",
       "    </tr>\n",
       "    <tr>\n",
       "      <th>enterprise_value</th>\n",
       "      <td>3783717289984</td>\n",
       "      <td>3334514409472</td>\n",
       "    </tr>\n",
       "    <tr>\n",
       "      <th>overall_risk</th>\n",
       "      <td>1.0</td>\n",
       "      <td>3.0</td>\n",
       "    </tr>\n",
       "    <tr>\n",
       "      <th>audit_risk</th>\n",
       "      <td>6.0</td>\n",
       "      <td>6.0</td>\n",
       "    </tr>\n",
       "    <tr>\n",
       "      <th>board_risk</th>\n",
       "      <td>1.0</td>\n",
       "      <td>5.0</td>\n",
       "    </tr>\n",
       "    <tr>\n",
       "      <th>compensation_risk</th>\n",
       "      <td>2.0</td>\n",
       "      <td>4.0</td>\n",
       "    </tr>\n",
       "    <tr>\n",
       "      <th>shareholder_rights_risk</th>\n",
       "      <td>1.0</td>\n",
       "      <td>2.0</td>\n",
       "    </tr>\n",
       "    <tr>\n",
       "      <th>beta</th>\n",
       "      <td>1.24</td>\n",
       "      <td>0.904</td>\n",
       "    </tr>\n",
       "    <tr>\n",
       "      <th>price_return_1y</th>\n",
       "      <td>0.267269</td>\n",
       "      <td>0.191356</td>\n",
       "    </tr>\n",
       "    <tr>\n",
       "      <th>currency</th>\n",
       "      <td>USD</td>\n",
       "      <td>USD</td>\n",
       "    </tr>\n",
       "  </tbody>\n",
       "</table>\n",
       "</div>"
      ],
      "text/plain": [
       "                                         0                1\n",
       "symbol                                AAPL             MSFT\n",
       "market_cap                 3729823629312.0  3316105084928.0\n",
       "pe_ratio                          40.65074         36.83072\n",
       "forward_pe                       29.780296        29.673222\n",
       "peg_ratio_ttm                       2.5091           2.3496\n",
       "enterprise_to_ebitda                28.098           24.419\n",
       "earnings_growth                     -0.341            0.104\n",
       "earnings_growth_quarterly           -0.358            0.107\n",
       "revenue_per_share                   25.485           34.202\n",
       "revenue_growth                       0.061             0.16\n",
       "enterprise_to_revenue                9.676           13.118\n",
       "quick_ratio                          0.745            1.163\n",
       "current_ratio                        0.867            1.301\n",
       "debt_to_equity                     209.059           33.657\n",
       "gross_margin                       0.46206          0.69349\n",
       "operating_margin                   0.31171          0.46584\n",
       "ebitda_margin                      0.34437           0.5372\n",
       "profit_margin                      0.23971          0.35608\n",
       "return_on_assets                   0.21464          0.14592\n",
       "return_on_equity                   1.57413          0.35604\n",
       "dividend_yield                      0.0041           0.0075\n",
       "dividend_yield_5y_avg               0.0062           0.0087\n",
       "payout_ratio                        0.1612           0.2477\n",
       "book_value                           3.767           38.693\n",
       "price_to_book                     65.50305        11.527149\n",
       "enterprise_value             3783717289984    3334514409472\n",
       "overall_risk                           1.0              3.0\n",
       "audit_risk                             6.0              6.0\n",
       "board_risk                             1.0              5.0\n",
       "compensation_risk                      2.0              4.0\n",
       "shareholder_rights_risk                1.0              2.0\n",
       "beta                                  1.24            0.904\n",
       "price_return_1y                   0.267269         0.191356\n",
       "currency                               USD              USD"
      ]
     },
     "metadata": {},
     "output_type": "display_data"
    }
   ],
   "source": [
    "display(data.T)"
   ]
  },
  {
   "cell_type": "markdown",
   "id": "e02fa775",
   "metadata": {},
   "source": [
    "Fetches valuation metrics for industries using the \"finviz\" provider and displays the data"
   ]
  },
  {
   "cell_type": "code",
   "execution_count": 81,
   "id": "c11ce353",
   "metadata": {},
   "outputs": [],
   "source": [
    "'''\n",
    "이 코드는 Finviz를 통해\n",
    "산업별 기업들의 밸류에이션 지표를 비교 분석하는 코드입니다.\n",
    "'''\n",
    "\n",
    "data = obb.equity.compare.groups(\n",
    "    group=\"industry\", metric=\"valuation\", provider=\"finviz\"\n",
    ")"
   ]
  },
  {
   "cell_type": "markdown",
   "id": "9230f5ac-d564-4dca-a29a-328064f0287f",
   "metadata": {},
   "source": [
    "- group=\"industry\": 산업군별로 데이터를 그룹화합니다\n",
    "- metric=\"valuation\": 밸류에이션 관련 지표들을 가져옵니다\n",
    "- provider=\"finviz\": Finviz를 데이터 제공자로 사용합니다"
   ]
  },
  {
   "cell_type": "code",
   "execution_count": 82,
   "id": "57f1be9c",
   "metadata": {},
   "outputs": [
    {
     "data": {
      "text/html": [
       "<div>\n",
       "<style scoped>\n",
       "    .dataframe tbody tr th:only-of-type {\n",
       "        vertical-align: middle;\n",
       "    }\n",
       "\n",
       "    .dataframe tbody tr th {\n",
       "        vertical-align: top;\n",
       "    }\n",
       "\n",
       "    .dataframe thead th {\n",
       "        text-align: right;\n",
       "    }\n",
       "</style>\n",
       "<table border=\"1\" class=\"dataframe\">\n",
       "  <thead>\n",
       "    <tr style=\"text-align: right;\">\n",
       "      <th></th>\n",
       "      <th>name</th>\n",
       "      <th>market_cap</th>\n",
       "      <th>performance_1d</th>\n",
       "      <th>forward_pe</th>\n",
       "      <th>eps_growth_past_5y</th>\n",
       "      <th>eps_growth_next_5y</th>\n",
       "      <th>volume</th>\n",
       "      <th>price_to_sales</th>\n",
       "      <th>price_to_book</th>\n",
       "      <th>price_to_cash</th>\n",
       "      <th>price_to_free_cash_flow</th>\n",
       "      <th>sales_growth_past_5_years</th>\n",
       "      <th>pe</th>\n",
       "      <th>peg</th>\n",
       "    </tr>\n",
       "  </thead>\n",
       "  <tbody>\n",
       "    <tr>\n",
       "      <th>0</th>\n",
       "      <td>Pharmaceutical Retailers</td>\n",
       "      <td>8240000000</td>\n",
       "      <td>0.0351</td>\n",
       "      <td>6.54</td>\n",
       "      <td>-0.0599</td>\n",
       "      <td>-0.0002</td>\n",
       "      <td>23670000</td>\n",
       "      <td>0.06</td>\n",
       "      <td>0.76</td>\n",
       "      <td>2.55</td>\n",
       "      <td>432.95</td>\n",
       "      <td>0.0547</td>\n",
       "      <td>NaN</td>\n",
       "      <td>NaN</td>\n",
       "    </tr>\n",
       "    <tr>\n",
       "      <th>1</th>\n",
       "      <td>Marine Shipping</td>\n",
       "      <td>33290000000</td>\n",
       "      <td>-0.0067</td>\n",
       "      <td>7.06</td>\n",
       "      <td>0.2214</td>\n",
       "      <td>0.1997</td>\n",
       "      <td>24430000</td>\n",
       "      <td>1.02</td>\n",
       "      <td>0.91</td>\n",
       "      <td>4.60</td>\n",
       "      <td>5.90</td>\n",
       "      <td>0.2283</td>\n",
       "      <td>4.81</td>\n",
       "      <td>0.24</td>\n",
       "    </tr>\n",
       "    <tr>\n",
       "      <th>2</th>\n",
       "      <td>Insurance - Reinsurance</td>\n",
       "      <td>48810000000</td>\n",
       "      <td>-0.0150</td>\n",
       "      <td>7.26</td>\n",
       "      <td>0.5437</td>\n",
       "      <td>0.0323</td>\n",
       "      <td>2470000</td>\n",
       "      <td>0.87</td>\n",
       "      <td>1.17</td>\n",
       "      <td>NaN</td>\n",
       "      <td>2.56</td>\n",
       "      <td>0.2245</td>\n",
       "      <td>6.33</td>\n",
       "      <td>1.96</td>\n",
       "    </tr>\n",
       "    <tr>\n",
       "      <th>3</th>\n",
       "      <td>REIT - Mortgage</td>\n",
       "      <td>60690000000</td>\n",
       "      <td>0.0043</td>\n",
       "      <td>7.68</td>\n",
       "      <td>-0.2239</td>\n",
       "      <td>0.0271</td>\n",
       "      <td>48000000</td>\n",
       "      <td>2.02</td>\n",
       "      <td>0.89</td>\n",
       "      <td>4.07</td>\n",
       "      <td>14.12</td>\n",
       "      <td>0.2875</td>\n",
       "      <td>15.11</td>\n",
       "      <td>5.58</td>\n",
       "    </tr>\n",
       "    <tr>\n",
       "      <th>4</th>\n",
       "      <td>Coking Coal</td>\n",
       "      <td>10400000000</td>\n",
       "      <td>0.0084</td>\n",
       "      <td>8.29</td>\n",
       "      <td>0.0618</td>\n",
       "      <td>0.0660</td>\n",
       "      <td>2890000</td>\n",
       "      <td>1.01</td>\n",
       "      <td>1.69</td>\n",
       "      <td>6.82</td>\n",
       "      <td>11.18</td>\n",
       "      <td>0.1575</td>\n",
       "      <td>10.18</td>\n",
       "      <td>1.54</td>\n",
       "    </tr>\n",
       "    <tr>\n",
       "      <th>...</th>\n",
       "      <td>...</td>\n",
       "      <td>...</td>\n",
       "      <td>...</td>\n",
       "      <td>...</td>\n",
       "      <td>...</td>\n",
       "      <td>...</td>\n",
       "      <td>...</td>\n",
       "      <td>...</td>\n",
       "      <td>...</td>\n",
       "      <td>...</td>\n",
       "      <td>...</td>\n",
       "      <td>...</td>\n",
       "      <td>...</td>\n",
       "      <td>...</td>\n",
       "    </tr>\n",
       "    <tr>\n",
       "      <th>140</th>\n",
       "      <td>REIT - Healthcare Facilities</td>\n",
       "      <td>165360000000</td>\n",
       "      <td>-0.0085</td>\n",
       "      <td>64.29</td>\n",
       "      <td>-0.1274</td>\n",
       "      <td>0.1292</td>\n",
       "      <td>35660000</td>\n",
       "      <td>6.96</td>\n",
       "      <td>2.11</td>\n",
       "      <td>24.22</td>\n",
       "      <td>28.59</td>\n",
       "      <td>0.1207</td>\n",
       "      <td>97.52</td>\n",
       "      <td>7.55</td>\n",
       "    </tr>\n",
       "    <tr>\n",
       "      <th>141</th>\n",
       "      <td>REIT - Office</td>\n",
       "      <td>100020000000</td>\n",
       "      <td>0.0233</td>\n",
       "      <td>75.51</td>\n",
       "      <td>-0.2092</td>\n",
       "      <td>0.0114</td>\n",
       "      <td>52810000</td>\n",
       "      <td>5.09</td>\n",
       "      <td>1.49</td>\n",
       "      <td>11.20</td>\n",
       "      <td>18.05</td>\n",
       "      <td>0.0581</td>\n",
       "      <td>80.61</td>\n",
       "      <td>70.52</td>\n",
       "    </tr>\n",
       "    <tr>\n",
       "      <th>142</th>\n",
       "      <td>Infrastructure Operations</td>\n",
       "      <td>34880000000</td>\n",
       "      <td>-0.0054</td>\n",
       "      <td>162.62</td>\n",
       "      <td>NaN</td>\n",
       "      <td>0.1267</td>\n",
       "      <td>1380000</td>\n",
       "      <td>3.33</td>\n",
       "      <td>7.42</td>\n",
       "      <td>8.41</td>\n",
       "      <td>32.63</td>\n",
       "      <td>0.0789</td>\n",
       "      <td>37.89</td>\n",
       "      <td>2.99</td>\n",
       "    </tr>\n",
       "    <tr>\n",
       "      <th>143</th>\n",
       "      <td>Shell Companies</td>\n",
       "      <td>29340000000</td>\n",
       "      <td>0.0028</td>\n",
       "      <td>164.04</td>\n",
       "      <td>NaN</td>\n",
       "      <td>NaN</td>\n",
       "      <td>8920000</td>\n",
       "      <td>15.50</td>\n",
       "      <td>2.44</td>\n",
       "      <td>37.50</td>\n",
       "      <td>184.00</td>\n",
       "      <td>0.7636</td>\n",
       "      <td>69.22</td>\n",
       "      <td>NaN</td>\n",
       "    </tr>\n",
       "    <tr>\n",
       "      <th>144</th>\n",
       "      <td>Real Estate - Diversified</td>\n",
       "      <td>7290000000</td>\n",
       "      <td>-0.0026</td>\n",
       "      <td>NaN</td>\n",
       "      <td>0.1775</td>\n",
       "      <td>0.2000</td>\n",
       "      <td>431240</td>\n",
       "      <td>4.47</td>\n",
       "      <td>2.04</td>\n",
       "      <td>6.97</td>\n",
       "      <td>33.64</td>\n",
       "      <td>0.1973</td>\n",
       "      <td>48.01</td>\n",
       "      <td>2.40</td>\n",
       "    </tr>\n",
       "  </tbody>\n",
       "</table>\n",
       "<p>145 rows × 14 columns</p>\n",
       "</div>"
      ],
      "text/plain": [
       "                             name    market_cap  performance_1d  forward_pe  \\\n",
       "0        Pharmaceutical Retailers    8240000000          0.0351        6.54   \n",
       "1                 Marine Shipping   33290000000         -0.0067        7.06   \n",
       "2         Insurance - Reinsurance   48810000000         -0.0150        7.26   \n",
       "3                 REIT - Mortgage   60690000000          0.0043        7.68   \n",
       "4                     Coking Coal   10400000000          0.0084        8.29   \n",
       "..                            ...           ...             ...         ...   \n",
       "140  REIT - Healthcare Facilities  165360000000         -0.0085       64.29   \n",
       "141                 REIT - Office  100020000000          0.0233       75.51   \n",
       "142     Infrastructure Operations   34880000000         -0.0054      162.62   \n",
       "143               Shell Companies   29340000000          0.0028      164.04   \n",
       "144     Real Estate - Diversified    7290000000         -0.0026         NaN   \n",
       "\n",
       "     eps_growth_past_5y  eps_growth_next_5y    volume  price_to_sales  \\\n",
       "0               -0.0599             -0.0002  23670000            0.06   \n",
       "1                0.2214              0.1997  24430000            1.02   \n",
       "2                0.5437              0.0323   2470000            0.87   \n",
       "3               -0.2239              0.0271  48000000            2.02   \n",
       "4                0.0618              0.0660   2890000            1.01   \n",
       "..                  ...                 ...       ...             ...   \n",
       "140             -0.1274              0.1292  35660000            6.96   \n",
       "141             -0.2092              0.0114  52810000            5.09   \n",
       "142                 NaN              0.1267   1380000            3.33   \n",
       "143                 NaN                 NaN   8920000           15.50   \n",
       "144              0.1775              0.2000    431240            4.47   \n",
       "\n",
       "     price_to_book  price_to_cash  price_to_free_cash_flow  \\\n",
       "0             0.76           2.55                   432.95   \n",
       "1             0.91           4.60                     5.90   \n",
       "2             1.17            NaN                     2.56   \n",
       "3             0.89           4.07                    14.12   \n",
       "4             1.69           6.82                    11.18   \n",
       "..             ...            ...                      ...   \n",
       "140           2.11          24.22                    28.59   \n",
       "141           1.49          11.20                    18.05   \n",
       "142           7.42           8.41                    32.63   \n",
       "143           2.44          37.50                   184.00   \n",
       "144           2.04           6.97                    33.64   \n",
       "\n",
       "     sales_growth_past_5_years     pe    peg  \n",
       "0                       0.0547    NaN    NaN  \n",
       "1                       0.2283   4.81   0.24  \n",
       "2                       0.2245   6.33   1.96  \n",
       "3                       0.2875  15.11   5.58  \n",
       "4                       0.1575  10.18   1.54  \n",
       "..                         ...    ...    ...  \n",
       "140                     0.1207  97.52   7.55  \n",
       "141                     0.0581  80.61  70.52  \n",
       "142                     0.0789  37.89   2.99  \n",
       "143                     0.7636  69.22    NaN  \n",
       "144                     0.1973  48.01   2.40  \n",
       "\n",
       "[145 rows x 14 columns]"
      ]
     },
     "metadata": {},
     "output_type": "display_data"
    }
   ],
   "source": [
    "display(data)"
   ]
  },
  {
   "cell_type": "markdown",
   "id": "76a19450-4853-418b-b3ec-d8bc5c2d30a7",
   "metadata": {},
   "source": [
    "> PEG(Price/Earnings-to-Growth) 비율은 기업의 주가수익비율(P/E)을 예상 수익 성장률로 나눈 투자 지표입니다.\n",
    "\n",
    "- PEG 해석\n",
    "    PEG가 낮을수록 더 좋은 투자 기회를 의미합니다\n",
    "- PEG 1.0을 기준으로 해석합니다:\n",
    "    - PEG < 1.0: 주식이 저평가되어 있음\n",
    "    - PEG = 1.0: 적정 가치\n",
    "    - PEG > 1.0: 주식이 고평가되어 있음\n",
    "- 주의사항\n",
    "    - 성장주 분석에 특히 유용합니다\n",
    "    - 배당 수익률이 낮은 기업에 더 효과적입니다\n",
    "    - 예상 성장률에 기반하므로 실제 성장이 예상과 다를 수 있다는 점을 고려해야 합니다"
   ]
  },
  {
   "cell_type": "markdown",
   "id": "1f26fce5",
   "metadata": {},
   "source": [
    "Fetches performance metrics for industries using the \"finviz\" provider and displays the data"
   ]
  },
  {
   "cell_type": "code",
   "execution_count": 85,
   "id": "c47b4050",
   "metadata": {},
   "outputs": [],
   "source": [
    "'''\n",
    "이 코드는 Finviz를 통해 산업별 주가 성과(performance) 데이터를 비교 분석하는 코드입니다.\n",
    "'''\n",
    "data = obb.equity.compare.groups(\n",
    "    group=\"industry\", metric=\"performance\", provider=\"finviz\"\n",
    ")"
   ]
  },
  {
   "cell_type": "markdown",
   "id": "d764409e-e7fb-4d20-b2de-789b753ae1b4",
   "metadata": {},
   "source": [
    "- metric=\"performance\": 주가 성과 관련 지표를 가져옴\n",
    "- 기간별 수익률 : 당일 수익률 (Today),주간 수익률 (Week),월간 수익률 (Month),분기 수익률 (Quarter),연간 수익률 (Year),연초대비 수익률 (YTD)\n",
    "-  다음과 같은 분석에 활용됩니다:\n",
    "    - 산업별 모멘텀 비교\n",
    "    - 섹터 로테이션 전략 수립\n",
    "    - 상대 강도 분석\n",
    "    - 업종별 트렌드 파악"
   ]
  },
  {
   "cell_type": "code",
   "execution_count": 86,
   "id": "2b684932",
   "metadata": {},
   "outputs": [
    {
     "data": {
      "text/html": [
       "<div>\n",
       "<style scoped>\n",
       "    .dataframe tbody tr th:only-of-type {\n",
       "        vertical-align: middle;\n",
       "    }\n",
       "\n",
       "    .dataframe tbody tr th {\n",
       "        vertical-align: top;\n",
       "    }\n",
       "\n",
       "    .dataframe thead th {\n",
       "        text-align: right;\n",
       "    }\n",
       "</style>\n",
       "<table border=\"1\" class=\"dataframe\">\n",
       "  <thead>\n",
       "    <tr style=\"text-align: right;\">\n",
       "      <th></th>\n",
       "      <th>name</th>\n",
       "      <th>performance_1d</th>\n",
       "      <th>performance_1w</th>\n",
       "      <th>performance_1m</th>\n",
       "      <th>performance_3m</th>\n",
       "      <th>performance_6m</th>\n",
       "      <th>performance_1y</th>\n",
       "      <th>performance_ytd</th>\n",
       "      <th>analyst_recommendation</th>\n",
       "      <th>volume</th>\n",
       "      <th>volume_average</th>\n",
       "      <th>volume_relative</th>\n",
       "    </tr>\n",
       "  </thead>\n",
       "  <tbody>\n",
       "    <tr>\n",
       "      <th>0</th>\n",
       "      <td>Aluminum</td>\n",
       "      <td>-0.0092</td>\n",
       "      <td>-0.0660</td>\n",
       "      <td>-0.0589</td>\n",
       "      <td>0.3518</td>\n",
       "      <td>-0.0358</td>\n",
       "      <td>0.4956</td>\n",
       "      <td>0.1407</td>\n",
       "      <td>1.94</td>\n",
       "      <td>8340000</td>\n",
       "      <td>7860000</td>\n",
       "      <td>1.06</td>\n",
       "    </tr>\n",
       "    <tr>\n",
       "      <th>1</th>\n",
       "      <td>Healthcare Plans</td>\n",
       "      <td>0.0201</td>\n",
       "      <td>-0.0638</td>\n",
       "      <td>-0.0598</td>\n",
       "      <td>-0.1010</td>\n",
       "      <td>0.0052</td>\n",
       "      <td>-0.0490</td>\n",
       "      <td>-0.0426</td>\n",
       "      <td>1.60</td>\n",
       "      <td>39930000</td>\n",
       "      <td>40390000</td>\n",
       "      <td>0.99</td>\n",
       "    </tr>\n",
       "    <tr>\n",
       "      <th>2</th>\n",
       "      <td>Coking Coal</td>\n",
       "      <td>0.0084</td>\n",
       "      <td>-0.0630</td>\n",
       "      <td>-0.0785</td>\n",
       "      <td>0.2823</td>\n",
       "      <td>-0.0955</td>\n",
       "      <td>-0.0653</td>\n",
       "      <td>-0.1222</td>\n",
       "      <td>2.02</td>\n",
       "      <td>2890000</td>\n",
       "      <td>3130000</td>\n",
       "      <td>0.92</td>\n",
       "    </tr>\n",
       "    <tr>\n",
       "      <th>3</th>\n",
       "      <td>Thermal Coal</td>\n",
       "      <td>-0.0090</td>\n",
       "      <td>-0.0608</td>\n",
       "      <td>-0.0897</td>\n",
       "      <td>0.2084</td>\n",
       "      <td>0.0880</td>\n",
       "      <td>0.1420</td>\n",
       "      <td>0.1144</td>\n",
       "      <td>1.44</td>\n",
       "      <td>3140000</td>\n",
       "      <td>4210000</td>\n",
       "      <td>0.75</td>\n",
       "    </tr>\n",
       "    <tr>\n",
       "      <th>4</th>\n",
       "      <td>Trucking</td>\n",
       "      <td>0.0054</td>\n",
       "      <td>-0.0569</td>\n",
       "      <td>-0.0379</td>\n",
       "      <td>0.1521</td>\n",
       "      <td>0.1921</td>\n",
       "      <td>0.2199</td>\n",
       "      <td>0.1190</td>\n",
       "      <td>2.42</td>\n",
       "      <td>10470000</td>\n",
       "      <td>9210000</td>\n",
       "      <td>1.14</td>\n",
       "    </tr>\n",
       "    <tr>\n",
       "      <th>...</th>\n",
       "      <td>...</td>\n",
       "      <td>...</td>\n",
       "      <td>...</td>\n",
       "      <td>...</td>\n",
       "      <td>...</td>\n",
       "      <td>...</td>\n",
       "      <td>...</td>\n",
       "      <td>...</td>\n",
       "      <td>...</td>\n",
       "      <td>...</td>\n",
       "      <td>...</td>\n",
       "      <td>...</td>\n",
       "    </tr>\n",
       "    <tr>\n",
       "      <th>140</th>\n",
       "      <td>Other Precious Metals &amp; Mining</td>\n",
       "      <td>0.0486</td>\n",
       "      <td>0.0589</td>\n",
       "      <td>-0.0325</td>\n",
       "      <td>0.1703</td>\n",
       "      <td>0.0194</td>\n",
       "      <td>0.2826</td>\n",
       "      <td>0.1420</td>\n",
       "      <td>1.97</td>\n",
       "      <td>48870000</td>\n",
       "      <td>38280000</td>\n",
       "      <td>1.28</td>\n",
       "    </tr>\n",
       "    <tr>\n",
       "      <th>141</th>\n",
       "      <td>Electronic Gaming &amp; Multimedia</td>\n",
       "      <td>0.0291</td>\n",
       "      <td>0.0650</td>\n",
       "      <td>0.1011</td>\n",
       "      <td>0.2475</td>\n",
       "      <td>0.2115</td>\n",
       "      <td>0.1582</td>\n",
       "      <td>0.1731</td>\n",
       "      <td>1.76</td>\n",
       "      <td>151610000</td>\n",
       "      <td>31970000</td>\n",
       "      <td>4.74</td>\n",
       "    </tr>\n",
       "    <tr>\n",
       "      <th>142</th>\n",
       "      <td>Internet Retail</td>\n",
       "      <td>0.0065</td>\n",
       "      <td>0.0668</td>\n",
       "      <td>0.0489</td>\n",
       "      <td>0.2306</td>\n",
       "      <td>0.1722</td>\n",
       "      <td>0.4409</td>\n",
       "      <td>0.3871</td>\n",
       "      <td>1.34</td>\n",
       "      <td>207960000</td>\n",
       "      <td>189300000</td>\n",
       "      <td>1.10</td>\n",
       "    </tr>\n",
       "    <tr>\n",
       "      <th>143</th>\n",
       "      <td>Paper &amp; Paper Products</td>\n",
       "      <td>0.0166</td>\n",
       "      <td>0.0681</td>\n",
       "      <td>0.0589</td>\n",
       "      <td>0.1563</td>\n",
       "      <td>0.1613</td>\n",
       "      <td>0.1699</td>\n",
       "      <td>0.0620</td>\n",
       "      <td>1.54</td>\n",
       "      <td>3410000</td>\n",
       "      <td>3600000</td>\n",
       "      <td>0.95</td>\n",
       "    </tr>\n",
       "    <tr>\n",
       "      <th>144</th>\n",
       "      <td>Auto Manufacturers</td>\n",
       "      <td>0.0046</td>\n",
       "      <td>0.0694</td>\n",
       "      <td>0.1917</td>\n",
       "      <td>0.4114</td>\n",
       "      <td>0.5226</td>\n",
       "      <td>0.2733</td>\n",
       "      <td>0.2523</td>\n",
       "      <td>2.48</td>\n",
       "      <td>718150000</td>\n",
       "      <td>440270000</td>\n",
       "      <td>1.63</td>\n",
       "    </tr>\n",
       "  </tbody>\n",
       "</table>\n",
       "<p>145 rows × 12 columns</p>\n",
       "</div>"
      ],
      "text/plain": [
       "                               name  performance_1d  performance_1w  \\\n",
       "0                          Aluminum         -0.0092         -0.0660   \n",
       "1                  Healthcare Plans          0.0201         -0.0638   \n",
       "2                       Coking Coal          0.0084         -0.0630   \n",
       "3                      Thermal Coal         -0.0090         -0.0608   \n",
       "4                          Trucking          0.0054         -0.0569   \n",
       "..                              ...             ...             ...   \n",
       "140  Other Precious Metals & Mining          0.0486          0.0589   \n",
       "141  Electronic Gaming & Multimedia          0.0291          0.0650   \n",
       "142                 Internet Retail          0.0065          0.0668   \n",
       "143          Paper & Paper Products          0.0166          0.0681   \n",
       "144              Auto Manufacturers          0.0046          0.0694   \n",
       "\n",
       "     performance_1m  performance_3m  performance_6m  performance_1y  \\\n",
       "0           -0.0589          0.3518         -0.0358          0.4956   \n",
       "1           -0.0598         -0.1010          0.0052         -0.0490   \n",
       "2           -0.0785          0.2823         -0.0955         -0.0653   \n",
       "3           -0.0897          0.2084          0.0880          0.1420   \n",
       "4           -0.0379          0.1521          0.1921          0.2199   \n",
       "..              ...             ...             ...             ...   \n",
       "140         -0.0325          0.1703          0.0194          0.2826   \n",
       "141          0.1011          0.2475          0.2115          0.1582   \n",
       "142          0.0489          0.2306          0.1722          0.4409   \n",
       "143          0.0589          0.1563          0.1613          0.1699   \n",
       "144          0.1917          0.4114          0.5226          0.2733   \n",
       "\n",
       "     performance_ytd  analyst_recommendation     volume  volume_average  \\\n",
       "0             0.1407                    1.94    8340000         7860000   \n",
       "1            -0.0426                    1.60   39930000        40390000   \n",
       "2            -0.1222                    2.02    2890000         3130000   \n",
       "3             0.1144                    1.44    3140000         4210000   \n",
       "4             0.1190                    2.42   10470000         9210000   \n",
       "..               ...                     ...        ...             ...   \n",
       "140           0.1420                    1.97   48870000        38280000   \n",
       "141           0.1731                    1.76  151610000        31970000   \n",
       "142           0.3871                    1.34  207960000       189300000   \n",
       "143           0.0620                    1.54    3410000         3600000   \n",
       "144           0.2523                    2.48  718150000       440270000   \n",
       "\n",
       "     volume_relative  \n",
       "0               1.06  \n",
       "1               0.99  \n",
       "2               0.92  \n",
       "3               0.75  \n",
       "4               1.14  \n",
       "..               ...  \n",
       "140             1.28  \n",
       "141             4.74  \n",
       "142             1.10  \n",
       "143             0.95  \n",
       "144             1.63  \n",
       "\n",
       "[145 rows x 12 columns]"
      ]
     },
     "metadata": {},
     "output_type": "display_data"
    }
   ],
   "source": [
    "display(data)"
   ]
  },
  {
   "cell_type": "markdown",
   "id": "19077fff",
   "metadata": {},
   "source": [
    "Fetches overview metrics for industries using the \"finviz\" provider and displays the data"
   ]
  },
  {
   "cell_type": "code",
   "execution_count": 17,
   "id": "0bb532b7",
   "metadata": {},
   "outputs": [],
   "source": [
    "data = obb.equity.compare.groups(group=\"industry\", metric=\"overview\", provider=\"finviz\")"
   ]
  },
  {
   "cell_type": "code",
   "execution_count": 18,
   "id": "9d4def67",
   "metadata": {},
   "outputs": [
    {
     "data": {
      "text/html": [
       "<div>\n",
       "<style scoped>\n",
       "    .dataframe tbody tr th:only-of-type {\n",
       "        vertical-align: middle;\n",
       "    }\n",
       "\n",
       "    .dataframe tbody tr th {\n",
       "        vertical-align: top;\n",
       "    }\n",
       "\n",
       "    .dataframe thead th {\n",
       "        text-align: right;\n",
       "    }\n",
       "</style>\n",
       "<table border=\"1\" class=\"dataframe\">\n",
       "  <thead>\n",
       "    <tr style=\"text-align: right;\">\n",
       "      <th></th>\n",
       "      <th>name</th>\n",
       "      <th>market_cap</th>\n",
       "      <th>performance_1d</th>\n",
       "      <th>dividend_yield</th>\n",
       "      <th>pe</th>\n",
       "      <th>forward_pe</th>\n",
       "      <th>peg</th>\n",
       "      <th>float_short</th>\n",
       "      <th>volume</th>\n",
       "      <th>Stocks</th>\n",
       "    </tr>\n",
       "  </thead>\n",
       "  <tbody>\n",
       "    <tr>\n",
       "      <th>0</th>\n",
       "      <td>Utilities - Independent Power Producers</td>\n",
       "      <td>81240000000</td>\n",
       "      <td>-0.0558</td>\n",
       "      <td>0.0111</td>\n",
       "      <td>19.34</td>\n",
       "      <td>17.50</td>\n",
       "      <td>1.70</td>\n",
       "      <td>0.0253</td>\n",
       "      <td>12370000</td>\n",
       "      <td>6</td>\n",
       "    </tr>\n",
       "    <tr>\n",
       "      <th>1</th>\n",
       "      <td>Uranium</td>\n",
       "      <td>38680000000</td>\n",
       "      <td>-0.0557</td>\n",
       "      <td>0.0013</td>\n",
       "      <td>126.45</td>\n",
       "      <td>56.94</td>\n",
       "      <td>1.95</td>\n",
       "      <td>0.0777</td>\n",
       "      <td>51830000</td>\n",
       "      <td>9</td>\n",
       "    </tr>\n",
       "    <tr>\n",
       "      <th>2</th>\n",
       "      <td>Telecom Services</td>\n",
       "      <td>1214150000000</td>\n",
       "      <td>-0.0389</td>\n",
       "      <td>0.0354</td>\n",
       "      <td>19.57</td>\n",
       "      <td>12.89</td>\n",
       "      <td>2.01</td>\n",
       "      <td>0.0138</td>\n",
       "      <td>195450000</td>\n",
       "      <td>54</td>\n",
       "    </tr>\n",
       "    <tr>\n",
       "      <th>3</th>\n",
       "      <td>Utilities - Renewable</td>\n",
       "      <td>230500000000</td>\n",
       "      <td>-0.0329</td>\n",
       "      <td>0.0113</td>\n",
       "      <td>45.70</td>\n",
       "      <td>30.78</td>\n",
       "      <td>1.86</td>\n",
       "      <td>0.0450</td>\n",
       "      <td>32070000</td>\n",
       "      <td>26</td>\n",
       "    </tr>\n",
       "    <tr>\n",
       "      <th>4</th>\n",
       "      <td>Gambling</td>\n",
       "      <td>118000000000</td>\n",
       "      <td>-0.0304</td>\n",
       "      <td>0.0021</td>\n",
       "      <td>129.59</td>\n",
       "      <td>33.05</td>\n",
       "      <td>3.03</td>\n",
       "      <td>0.0325</td>\n",
       "      <td>17680000</td>\n",
       "      <td>19</td>\n",
       "    </tr>\n",
       "    <tr>\n",
       "      <th>...</th>\n",
       "      <td>...</td>\n",
       "      <td>...</td>\n",
       "      <td>...</td>\n",
       "      <td>...</td>\n",
       "      <td>...</td>\n",
       "      <td>...</td>\n",
       "      <td>...</td>\n",
       "      <td>...</td>\n",
       "      <td>...</td>\n",
       "      <td>...</td>\n",
       "    </tr>\n",
       "    <tr>\n",
       "      <th>140</th>\n",
       "      <td>Other Industrial Metals &amp; Mining</td>\n",
       "      <td>302600000000</td>\n",
       "      <td>0.0445</td>\n",
       "      <td>0.0524</td>\n",
       "      <td>11.15</td>\n",
       "      <td>10.19</td>\n",
       "      <td>NaN</td>\n",
       "      <td>0.0184</td>\n",
       "      <td>115980000</td>\n",
       "      <td>45</td>\n",
       "    </tr>\n",
       "    <tr>\n",
       "      <th>141</th>\n",
       "      <td>Solar</td>\n",
       "      <td>47250000000</td>\n",
       "      <td>0.0473</td>\n",
       "      <td>0.0016</td>\n",
       "      <td>24.85</td>\n",
       "      <td>12.86</td>\n",
       "      <td>1.04</td>\n",
       "      <td>0.1365</td>\n",
       "      <td>107630000</td>\n",
       "      <td>27</td>\n",
       "    </tr>\n",
       "    <tr>\n",
       "      <th>142</th>\n",
       "      <td>Copper</td>\n",
       "      <td>151730000000</td>\n",
       "      <td>0.0483</td>\n",
       "      <td>0.0181</td>\n",
       "      <td>29.31</td>\n",
       "      <td>19.55</td>\n",
       "      <td>1.39</td>\n",
       "      <td>0.0217</td>\n",
       "      <td>27270000</td>\n",
       "      <td>7</td>\n",
       "    </tr>\n",
       "    <tr>\n",
       "      <th>143</th>\n",
       "      <td>Other Precious Metals &amp; Mining</td>\n",
       "      <td>20110000000</td>\n",
       "      <td>0.0486</td>\n",
       "      <td>0.0055</td>\n",
       "      <td>33.92</td>\n",
       "      <td>14.93</td>\n",
       "      <td>1.84</td>\n",
       "      <td>0.0217</td>\n",
       "      <td>48870000</td>\n",
       "      <td>18</td>\n",
       "    </tr>\n",
       "    <tr>\n",
       "      <th>144</th>\n",
       "      <td>Silver</td>\n",
       "      <td>4290000000</td>\n",
       "      <td>0.0501</td>\n",
       "      <td>0.0033</td>\n",
       "      <td>30.93</td>\n",
       "      <td>16.77</td>\n",
       "      <td>6.19</td>\n",
       "      <td>0.0671</td>\n",
       "      <td>17410000</td>\n",
       "      <td>3</td>\n",
       "    </tr>\n",
       "  </tbody>\n",
       "</table>\n",
       "<p>145 rows × 10 columns</p>\n",
       "</div>"
      ],
      "text/plain": [
       "                                        name     market_cap  performance_1d  \\\n",
       "0    Utilities - Independent Power Producers    81240000000         -0.0558   \n",
       "1                                    Uranium    38680000000         -0.0557   \n",
       "2                           Telecom Services  1214150000000         -0.0389   \n",
       "3                      Utilities - Renewable   230500000000         -0.0329   \n",
       "4                                   Gambling   118000000000         -0.0304   \n",
       "..                                       ...            ...             ...   \n",
       "140         Other Industrial Metals & Mining   302600000000          0.0445   \n",
       "141                                    Solar    47250000000          0.0473   \n",
       "142                                   Copper   151730000000          0.0483   \n",
       "143           Other Precious Metals & Mining    20110000000          0.0486   \n",
       "144                                   Silver     4290000000          0.0501   \n",
       "\n",
       "     dividend_yield      pe  forward_pe   peg  float_short     volume Stocks  \n",
       "0            0.0111   19.34       17.50  1.70       0.0253   12370000      6  \n",
       "1            0.0013  126.45       56.94  1.95       0.0777   51830000      9  \n",
       "2            0.0354   19.57       12.89  2.01       0.0138  195450000     54  \n",
       "3            0.0113   45.70       30.78  1.86       0.0450   32070000     26  \n",
       "4            0.0021  129.59       33.05  3.03       0.0325   17680000     19  \n",
       "..              ...     ...         ...   ...          ...        ...    ...  \n",
       "140          0.0524   11.15       10.19   NaN       0.0184  115980000     45  \n",
       "141          0.0016   24.85       12.86  1.04       0.1365  107630000     27  \n",
       "142          0.0181   29.31       19.55  1.39       0.0217   27270000      7  \n",
       "143          0.0055   33.92       14.93  1.84       0.0217   48870000     18  \n",
       "144          0.0033   30.93       16.77  6.19       0.0671   17410000      3  \n",
       "\n",
       "[145 rows x 10 columns]"
      ]
     },
     "metadata": {},
     "output_type": "display_data"
    }
   ],
   "source": [
    "display(data)"
   ]
  },
  {
   "cell_type": "markdown",
   "id": "2415554c",
   "metadata": {},
   "source": [
    "**Jason Strimpel** is the founder of <a href='https://pyquantnews.com/'>PyQuant News</a> and co-founder of <a href='https://www.tradeblotter.io/'>Trade Blotter</a>. His career in algorithmic trading spans 20+ years. He previously traded for a Chicago-based hedge fund, was a risk manager at JPMorgan, and managed production risk technology for an energy derivatives trading firm in London. In Singapore, he served as APAC CIO for an agricultural trading firm and built the data science team for a global metals trading firm. Jason holds degrees in Finance and Economics and a Master's in Quantitative Finance from the Illinois Institute of Technology. His career spans America, Europe, and Asia. He shares his expertise through the <a href='https://pyquantnews.com/subscribe-to-the-pyquant-newsletter/'>PyQuant Newsletter</a>, social media, and has taught over 1,000+ algorithmic trading with Python in his popular course **<a href='https://gettingstartedwithpythonforquantfinance.com/'>Getting Started With Python for Quant Finance</a>**. All code is for educational purposes only. Nothing provided here is financial advise. Use at your own risk."
   ]
  },
  {
   "cell_type": "markdown",
   "id": "88073b76",
   "metadata": {},
   "source": [
    "## Fetching historic futures data with the OpenBB Platform"
   ]
  },
  {
   "cell_type": "code",
   "execution_count": 87,
   "id": "4f5b57eb",
   "metadata": {},
   "outputs": [],
   "source": [
    "import pandas as pd\n",
    "from IPython.display import display\n",
    "from openbb import obb"
   ]
  },
  {
   "cell_type": "code",
   "execution_count": 88,
   "id": "4e0461e6",
   "metadata": {},
   "outputs": [],
   "source": [
    "obb.user.preferences.output_type = \"dataframe\""
   ]
  },
  {
   "cell_type": "markdown",
   "id": "18b5af17",
   "metadata": {},
   "source": [
    "Fetches the futures curve data for the symbol \"VX\" and stores it in 'data'"
   ]
  },
  {
   "cell_type": "code",
   "execution_count": 89,
   "id": "1e1fe30e",
   "metadata": {},
   "outputs": [],
   "source": [
    "data = obb.derivatives.futures.curve(symbol=\"VX\")"
   ]
  },
  {
   "cell_type": "markdown",
   "id": "76e68b88-e3a2-41a0-a040-369d15ab35d9",
   "metadata": {},
   "source": [
    "- VX: CBOE VIX 선물을 의미합니다 (변동성 지수 선물)\n",
    "- 여러 만기의 VIX 선물 가격을 한번에 조회할 수 있습니다\n",
    "- 컨탱고(Contango)나 백워데이션(Backwardation) 상태를 파악할 수 있습니다\n",
    "- 주요 정보\n",
    "    - 각 만기별 VIX 선물 가격\n",
    "    - 만기까지 남은 기간\n",
    "    - 선물 곡선의 형태\n",
    "    - 우상향: 컨탱고 상태\n",
    "    - 우하향: 백워데이션 상태\n",
    "- 이 데이터는 시장의 변동성에 대한 기대와 위험 관리 전략 수립에 활용됩니다."
   ]
  },
  {
   "cell_type": "code",
   "execution_count": 92,
   "id": "d4ad18d0",
   "metadata": {},
   "outputs": [
    {
     "data": {
      "text/html": [
       "<div>\n",
       "<style scoped>\n",
       "    .dataframe tbody tr th:only-of-type {\n",
       "        vertical-align: middle;\n",
       "    }\n",
       "\n",
       "    .dataframe tbody tr th {\n",
       "        vertical-align: top;\n",
       "    }\n",
       "\n",
       "    .dataframe thead th {\n",
       "        text-align: right;\n",
       "    }\n",
       "</style>\n",
       "<table border=\"1\" class=\"dataframe\">\n",
       "  <thead>\n",
       "    <tr style=\"text-align: right;\">\n",
       "      <th></th>\n",
       "      <th>expiration</th>\n",
       "      <th>price</th>\n",
       "    </tr>\n",
       "    <tr>\n",
       "      <th>expiration</th>\n",
       "      <th></th>\n",
       "      <th></th>\n",
       "    </tr>\n",
       "  </thead>\n",
       "  <tbody>\n",
       "    <tr>\n",
       "      <th>2024-12-01</th>\n",
       "      <td>2024-12</td>\n",
       "      <td>14.75</td>\n",
       "    </tr>\n",
       "    <tr>\n",
       "      <th>2025-01-01</th>\n",
       "      <td>2025-01</td>\n",
       "      <td>16.30</td>\n",
       "    </tr>\n",
       "    <tr>\n",
       "      <th>2025-02-01</th>\n",
       "      <td>2025-02</td>\n",
       "      <td>17.10</td>\n",
       "    </tr>\n",
       "    <tr>\n",
       "      <th>2025-03-01</th>\n",
       "      <td>2025-03</td>\n",
       "      <td>17.50</td>\n",
       "    </tr>\n",
       "    <tr>\n",
       "      <th>2025-04-01</th>\n",
       "      <td>2025-04</td>\n",
       "      <td>17.80</td>\n",
       "    </tr>\n",
       "    <tr>\n",
       "      <th>2025-05-01</th>\n",
       "      <td>2025-05</td>\n",
       "      <td>18.15</td>\n",
       "    </tr>\n",
       "    <tr>\n",
       "      <th>2025-06-01</th>\n",
       "      <td>2025-06</td>\n",
       "      <td>18.40</td>\n",
       "    </tr>\n",
       "    <tr>\n",
       "      <th>2025-07-01</th>\n",
       "      <td>2025-07</td>\n",
       "      <td>18.70</td>\n",
       "    </tr>\n",
       "    <tr>\n",
       "      <th>2025-08-01</th>\n",
       "      <td>2025-08</td>\n",
       "      <td>18.80</td>\n",
       "    </tr>\n",
       "  </tbody>\n",
       "</table>\n",
       "</div>"
      ],
      "text/plain": [
       "           expiration  price\n",
       "expiration                  \n",
       "2024-12-01    2024-12  14.75\n",
       "2025-01-01    2025-01  16.30\n",
       "2025-02-01    2025-02  17.10\n",
       "2025-03-01    2025-03  17.50\n",
       "2025-04-01    2025-04  17.80\n",
       "2025-05-01    2025-05  18.15\n",
       "2025-06-01    2025-06  18.40\n",
       "2025-07-01    2025-07  18.70\n",
       "2025-08-01    2025-08  18.80"
      ]
     },
     "metadata": {},
     "output_type": "display_data"
    }
   ],
   "source": [
    "display(data)"
   ]
  },
  {
   "cell_type": "markdown",
   "id": "7fc20f7a",
   "metadata": {},
   "source": [
    "Converts the 'expiration' column to datetime format and sets it as the index of 'data'"
   ]
  },
  {
   "cell_type": "markdown",
   "id": "fee650b3-fc1c-47c2-b31e-19a1a93cc389",
   "metadata": {},
   "source": [
    "> 컨탱고(Contango)와 백워데이션(Backwardation)은 선물 시장의 가격 구조를 설명하는 중요한 개념입니다.\n",
    "- 컨탱고(Contango)\n",
    "    - 선물 가격이 현물(현재) 가격보다 높은 상태입니다. 선물 곡선이 우상향하는 형태를 보입니다\n",
    "    - 발생 원인:\n",
    "        - 보관 비용\n",
    "        - 금융 비용\n",
    "        - 보험 비용\n",
    "        - 인플레이션 기대\n",
    "- 백워데이션(Backwardation)\n",
    "    - 선물 가격이 현물 가격보다 낮은 상태입니다\n",
    "    - 선물 곡선이 우하향하는 형태를 보입니다3\n",
    "    - 발생 원인:\n",
    "        - 현물 수급 불균형\n",
    "        - 단기적 공급 부족\n",
    "        - 예기치 않은 시장 충격\n",
    "    - 시장 영향\n",
    "        - 수렴(Convergence)\n",
    "            - 만기가 다가올수록 선물 가격은 현물 가격으로 수렴합니다\n",
    "            - 그렇지 않으면 차익거래 기회가 발생합니다\n",
    "- 투자 위험\n",
    "    - 컨탱고 시장에서는 선물 매수자가 불리할 수 있습니다\n",
    "    - 백워데이션 시장에서는 선물 매도자가 불리할 수 있습니다\n",
    "    - 이러한 구조는 원유, 금과 같은 상품 선물 시장에서 자주 관찰되며, 투자자들의 미래 가격 기대를 반영합니다"
   ]
  },
  {
   "cell_type": "code",
   "execution_count": 93,
   "id": "9323a022",
   "metadata": {},
   "outputs": [],
   "source": [
    "data.index = pd.to_datetime(data.expiration)"
   ]
  },
  {
   "cell_type": "markdown",
   "id": "8bb849e2",
   "metadata": {},
   "source": [
    "Plots the data with the new datetime index"
   ]
  },
  {
   "cell_type": "code",
   "execution_count": 94,
   "id": "9c4ab255",
   "metadata": {},
   "outputs": [
    {
     "data": {
      "text/plain": [
       "<Axes: xlabel='expiration'>"
      ]
     },
     "execution_count": 94,
     "metadata": {},
     "output_type": "execute_result"
    },
    {
     "data": {
      "image/png": "[encoded data removed]",
      "text/plain": [
       "<Figure size 640x480 with 1 Axes>"
      ]
     },
     "metadata": {},
     "output_type": "display_data"
    }
   ],
   "source": [
    "data.plot()"
   ]
  },
  {
   "cell_type": "markdown",
   "id": "c78511c5",
   "metadata": {},
   "source": [
    "Fetches historical futures data for the symbol \"CL\" within the specified date range and stores it in 'data'"
   ]
  },
  {
   "cell_type": "code",
   "execution_count": 95,
   "id": "b6b1e46d",
   "metadata": {},
   "outputs": [],
   "source": [
    "data = obb.derivatives.futures.historical(\n",
    "    \"CL\", start_date=\"2020-01-01\", end_date=\"2022-12-31\"\n",
    ")"
   ]
  },
  {
   "cell_type": "code",
   "execution_count": 96,
   "id": "b39a30ab",
   "metadata": {},
   "outputs": [
    {
     "data": {
      "text/html": [
       "<div>\n",
       "<style scoped>\n",
       "    .dataframe tbody tr th:only-of-type {\n",
       "        vertical-align: middle;\n",
       "    }\n",
       "\n",
       "    .dataframe tbody tr th {\n",
       "        vertical-align: top;\n",
       "    }\n",
       "\n",
       "    .dataframe thead th {\n",
       "        text-align: right;\n",
       "    }\n",
       "</style>\n",
       "<table border=\"1\" class=\"dataframe\">\n",
       "  <thead>\n",
       "    <tr style=\"text-align: right;\">\n",
       "      <th></th>\n",
       "      <th>open</th>\n",
       "      <th>high</th>\n",
       "      <th>low</th>\n",
       "      <th>close</th>\n",
       "      <th>volume</th>\n",
       "    </tr>\n",
       "    <tr>\n",
       "      <th>date</th>\n",
       "      <th></th>\n",
       "      <th></th>\n",
       "      <th></th>\n",
       "      <th></th>\n",
       "      <th></th>\n",
       "    </tr>\n",
       "  </thead>\n",
       "  <tbody>\n",
       "    <tr>\n",
       "      <th>2020-01-02</th>\n",
       "      <td>61.599998</td>\n",
       "      <td>61.599998</td>\n",
       "      <td>60.639999</td>\n",
       "      <td>61.180000</td>\n",
       "      <td>486873.0</td>\n",
       "    </tr>\n",
       "    <tr>\n",
       "      <th>2020-01-03</th>\n",
       "      <td>61.180000</td>\n",
       "      <td>64.089996</td>\n",
       "      <td>61.130001</td>\n",
       "      <td>63.049999</td>\n",
       "      <td>885861.0</td>\n",
       "    </tr>\n",
       "    <tr>\n",
       "      <th>2020-01-06</th>\n",
       "      <td>63.709999</td>\n",
       "      <td>64.720001</td>\n",
       "      <td>62.639999</td>\n",
       "      <td>63.270000</td>\n",
       "      <td>724236.0</td>\n",
       "    </tr>\n",
       "    <tr>\n",
       "      <th>2020-01-07</th>\n",
       "      <td>62.910000</td>\n",
       "      <td>63.150002</td>\n",
       "      <td>62.110001</td>\n",
       "      <td>62.700001</td>\n",
       "      <td>582649.0</td>\n",
       "    </tr>\n",
       "    <tr>\n",
       "      <th>2020-01-08</th>\n",
       "      <td>62.840000</td>\n",
       "      <td>65.650002</td>\n",
       "      <td>59.150002</td>\n",
       "      <td>59.610001</td>\n",
       "      <td>1205710.0</td>\n",
       "    </tr>\n",
       "    <tr>\n",
       "      <th>...</th>\n",
       "      <td>...</td>\n",
       "      <td>...</td>\n",
       "      <td>...</td>\n",
       "      <td>...</td>\n",
       "      <td>...</td>\n",
       "    </tr>\n",
       "    <tr>\n",
       "      <th>2022-12-23</th>\n",
       "      <td>78.180000</td>\n",
       "      <td>80.330002</td>\n",
       "      <td>77.980003</td>\n",
       "      <td>79.559998</td>\n",
       "      <td>237711.0</td>\n",
       "    </tr>\n",
       "    <tr>\n",
       "      <th>2022-12-27</th>\n",
       "      <td>79.900002</td>\n",
       "      <td>81.180000</td>\n",
       "      <td>79.160004</td>\n",
       "      <td>79.529999</td>\n",
       "      <td>199601.0</td>\n",
       "    </tr>\n",
       "    <tr>\n",
       "      <th>2022-12-28</th>\n",
       "      <td>79.889999</td>\n",
       "      <td>79.919998</td>\n",
       "      <td>77.300003</td>\n",
       "      <td>78.959999</td>\n",
       "      <td>207717.0</td>\n",
       "    </tr>\n",
       "    <tr>\n",
       "      <th>2022-12-29</th>\n",
       "      <td>78.820000</td>\n",
       "      <td>78.820000</td>\n",
       "      <td>76.790001</td>\n",
       "      <td>78.400002</td>\n",
       "      <td>199858.0</td>\n",
       "    </tr>\n",
       "    <tr>\n",
       "      <th>2022-12-30</th>\n",
       "      <td>78.730003</td>\n",
       "      <td>80.669998</td>\n",
       "      <td>77.709999</td>\n",
       "      <td>80.260002</td>\n",
       "      <td>205909.0</td>\n",
       "    </tr>\n",
       "  </tbody>\n",
       "</table>\n",
       "<p>755 rows × 5 columns</p>\n",
       "</div>"
      ],
      "text/plain": [
       "                 open       high        low      close     volume\n",
       "date                                                             \n",
       "2020-01-02  61.599998  61.599998  60.639999  61.180000   486873.0\n",
       "2020-01-03  61.180000  64.089996  61.130001  63.049999   885861.0\n",
       "2020-01-06  63.709999  64.720001  62.639999  63.270000   724236.0\n",
       "2020-01-07  62.910000  63.150002  62.110001  62.700001   582649.0\n",
       "2020-01-08  62.840000  65.650002  59.150002  59.610001  1205710.0\n",
       "...               ...        ...        ...        ...        ...\n",
       "2022-12-23  78.180000  80.330002  77.980003  79.559998   237711.0\n",
       "2022-12-27  79.900002  81.180000  79.160004  79.529999   199601.0\n",
       "2022-12-28  79.889999  79.919998  77.300003  78.959999   207717.0\n",
       "2022-12-29  78.820000  78.820000  76.790001  78.400002   199858.0\n",
       "2022-12-30  78.730003  80.669998  77.709999  80.260002   205909.0\n",
       "\n",
       "[755 rows x 5 columns]"
      ]
     },
     "metadata": {},
     "output_type": "display_data"
    }
   ],
   "source": [
    "display(data)"
   ]
  },
  {
   "cell_type": "markdown",
   "id": "0988ab77",
   "metadata": {},
   "source": [
    "Defines a list of expiration dates for future contracts"
   ]
  },
  {
   "cell_type": "code",
   "execution_count": 104,
   "id": "c42f2ad7",
   "metadata": {},
   "outputs": [],
   "source": [
    "expirations = [\n",
    "    \"2025-12\",\n",
    "    \"2026-12\",\n",
    "    \"2027-12\",\n",
    "    \"2028-12\",\n",
    "    \"2029-12\",\n",
    "    \"2030-12\",\n",
    "]"
   ]
  },
  {
   "cell_type": "markdown",
   "id": "92cc0ab8",
   "metadata": {},
   "source": [
    "Initializes an empty list to store individual contract data"
   ]
  },
  {
   "cell_type": "code",
   "execution_count": 105,
   "id": "d5ecb3c6",
   "metadata": {},
   "outputs": [],
   "source": [
    "contracts = []"
   ]
  },
  {
   "cell_type": "markdown",
   "id": "2e5eddd1",
   "metadata": {},
   "source": [
    "Iterates over each expiration date, fetching and renaming historical futures data for \"CL\", and appends it to 'contracts'"
   ]
  },
  {
   "cell_type": "code",
   "execution_count": 106,
   "id": "7ff1e042",
   "metadata": {},
   "outputs": [],
   "source": [
    "'''\n",
    "원유 선물(CL)의 여러 만기별 역사적 가격 데이터를 수집하는 반복문입니다.\n",
    "'''\n",
    "for expiration in expirations:\n",
    "    try:\n",
    "        df = (\n",
    "            obb.derivatives.futures.historical(\n",
    "                symbol=\"CL\",# WTI 원유 선물 계약\n",
    "                expiration=expiration,# 2025년부터 2030년까지의 12월물 계약\n",
    "                start_date=\"2023-01-01\",\n",
    "                end_date=\"2024-12-09\",#각 만기별로 2023년 1월 1일부터 2024년 12월 9일까지의 가격 데이터를 수집\n",
    "            )\n",
    "        ).rename(columns={\"close\": expiration})\n",
    "        contracts.append(df[expiration])\n",
    "    except Exception as e:\n",
    "        print(f\"Error downloading {expiration}: {e}\")"
   ]
  },
  {
   "cell_type": "markdown",
   "id": "bf3908a5",
   "metadata": {},
   "source": [
    "Combines the individual contract data into a single DataFrame, transposes it, and drops any rows with missing values"
   ]
  },
  {
   "cell_type": "code",
   "execution_count": 107,
   "id": "0ab1d8e2",
   "metadata": {},
   "outputs": [],
   "source": [
    "historical = pd.DataFrame(contracts).transpose().dropna()"
   ]
  },
  {
   "cell_type": "code",
   "execution_count": 110,
   "id": "cb92274c",
   "metadata": {},
   "outputs": [
    {
     "data": {
      "text/html": [
       "<div>\n",
       "<style scoped>\n",
       "    .dataframe tbody tr th:only-of-type {\n",
       "        vertical-align: middle;\n",
       "    }\n",
       "\n",
       "    .dataframe tbody tr th {\n",
       "        vertical-align: top;\n",
       "    }\n",
       "\n",
       "    .dataframe thead th {\n",
       "        text-align: right;\n",
       "    }\n",
       "</style>\n",
       "<table border=\"1\" class=\"dataframe\">\n",
       "  <thead>\n",
       "    <tr style=\"text-align: right;\">\n",
       "      <th></th>\n",
       "      <th>2025-12</th>\n",
       "      <th>2026-12</th>\n",
       "      <th>2027-12</th>\n",
       "      <th>2028-12</th>\n",
       "      <th>2029-12</th>\n",
       "      <th>2030-12</th>\n",
       "    </tr>\n",
       "    <tr>\n",
       "      <th>date</th>\n",
       "      <th></th>\n",
       "      <th></th>\n",
       "      <th></th>\n",
       "      <th></th>\n",
       "      <th></th>\n",
       "      <th></th>\n",
       "    </tr>\n",
       "  </thead>\n",
       "  <tbody>\n",
       "    <tr>\n",
       "      <th>2023-01-03</th>\n",
       "      <td>67.209999</td>\n",
       "      <td>64.389999</td>\n",
       "      <td>61.990002</td>\n",
       "      <td>59.889999</td>\n",
       "      <td>58.009998</td>\n",
       "      <td>56.330002</td>\n",
       "    </tr>\n",
       "    <tr>\n",
       "      <th>2023-01-04</th>\n",
       "      <td>66.510002</td>\n",
       "      <td>64.180000</td>\n",
       "      <td>62.040001</td>\n",
       "      <td>59.980000</td>\n",
       "      <td>58.099998</td>\n",
       "      <td>56.419998</td>\n",
       "    </tr>\n",
       "    <tr>\n",
       "      <th>2023-01-05</th>\n",
       "      <td>66.629997</td>\n",
       "      <td>64.160004</td>\n",
       "      <td>61.980000</td>\n",
       "      <td>59.970001</td>\n",
       "      <td>58.099998</td>\n",
       "      <td>56.419998</td>\n",
       "    </tr>\n",
       "    <tr>\n",
       "      <th>2023-01-06</th>\n",
       "      <td>66.809998</td>\n",
       "      <td>64.309998</td>\n",
       "      <td>62.139999</td>\n",
       "      <td>60.130001</td>\n",
       "      <td>58.259998</td>\n",
       "      <td>56.580002</td>\n",
       "    </tr>\n",
       "    <tr>\n",
       "      <th>2023-01-09</th>\n",
       "      <td>67.769997</td>\n",
       "      <td>65.220001</td>\n",
       "      <td>62.959999</td>\n",
       "      <td>60.880001</td>\n",
       "      <td>58.980000</td>\n",
       "      <td>57.299999</td>\n",
       "    </tr>\n",
       "    <tr>\n",
       "      <th>...</th>\n",
       "      <td>...</td>\n",
       "      <td>...</td>\n",
       "      <td>...</td>\n",
       "      <td>...</td>\n",
       "      <td>...</td>\n",
       "      <td>...</td>\n",
       "    </tr>\n",
       "    <tr>\n",
       "      <th>2024-12-03</th>\n",
       "      <td>67.370003</td>\n",
       "      <td>65.410004</td>\n",
       "      <td>64.150002</td>\n",
       "      <td>63.270000</td>\n",
       "      <td>62.619999</td>\n",
       "      <td>62.189999</td>\n",
       "    </tr>\n",
       "    <tr>\n",
       "      <th>2024-12-04</th>\n",
       "      <td>66.190002</td>\n",
       "      <td>64.379997</td>\n",
       "      <td>63.160000</td>\n",
       "      <td>62.299999</td>\n",
       "      <td>61.610001</td>\n",
       "      <td>61.009998</td>\n",
       "    </tr>\n",
       "    <tr>\n",
       "      <th>2024-12-05</th>\n",
       "      <td>66.029999</td>\n",
       "      <td>64.239998</td>\n",
       "      <td>63.090000</td>\n",
       "      <td>62.290001</td>\n",
       "      <td>61.680000</td>\n",
       "      <td>61.200001</td>\n",
       "    </tr>\n",
       "    <tr>\n",
       "      <th>2024-12-06</th>\n",
       "      <td>65.570000</td>\n",
       "      <td>63.959999</td>\n",
       "      <td>62.959999</td>\n",
       "      <td>62.320000</td>\n",
       "      <td>61.810001</td>\n",
       "      <td>61.330002</td>\n",
       "    </tr>\n",
       "    <tr>\n",
       "      <th>2024-12-09</th>\n",
       "      <td>66.510002</td>\n",
       "      <td>64.849998</td>\n",
       "      <td>63.750000</td>\n",
       "      <td>63.189999</td>\n",
       "      <td>62.560001</td>\n",
       "      <td>62.029999</td>\n",
       "    </tr>\n",
       "  </tbody>\n",
       "</table>\n",
       "<p>487 rows × 6 columns</p>\n",
       "</div>"
      ],
      "text/plain": [
       "              2025-12    2026-12    2027-12    2028-12    2029-12    2030-12\n",
       "date                                                                        \n",
       "2023-01-03  67.209999  64.389999  61.990002  59.889999  58.009998  56.330002\n",
       "2023-01-04  66.510002  64.180000  62.040001  59.980000  58.099998  56.419998\n",
       "2023-01-05  66.629997  64.160004  61.980000  59.970001  58.099998  56.419998\n",
       "2023-01-06  66.809998  64.309998  62.139999  60.130001  58.259998  56.580002\n",
       "2023-01-09  67.769997  65.220001  62.959999  60.880001  58.980000  57.299999\n",
       "...               ...        ...        ...        ...        ...        ...\n",
       "2024-12-03  67.370003  65.410004  64.150002  63.270000  62.619999  62.189999\n",
       "2024-12-04  66.190002  64.379997  63.160000  62.299999  61.610001  61.009998\n",
       "2024-12-05  66.029999  64.239998  63.090000  62.290001  61.680000  61.200001\n",
       "2024-12-06  65.570000  63.959999  62.959999  62.320000  61.810001  61.330002\n",
       "2024-12-09  66.510002  64.849998  63.750000  63.189999  62.560001  62.029999\n",
       "\n",
       "[487 rows x 6 columns]"
      ]
     },
     "metadata": {},
     "output_type": "display_data"
    }
   ],
   "source": [
    "display(historical)"
   ]
  },
  {
   "cell_type": "markdown",
   "id": "006360a4",
   "metadata": {},
   "source": [
    "Plots the data for the most recent historical contract"
   ]
  },
  {
   "cell_type": "code",
   "execution_count": 109,
   "id": "825fc3ac",
   "metadata": {},
   "outputs": [
    {
     "data": {
      "text/plain": [
       "<Axes: >"
      ]
     },
     "execution_count": 109,
     "metadata": {},
     "output_type": "execute_result"
    },
    {
     "data": {
      "image/png": "[encoded data removed]",
      "text/plain": [
       "<Figure size 640x480 with 1 Axes>"
      ]
     },
     "metadata": {},
     "output_type": "display_data"
    }
   ],
   "source": [
    "historical.iloc[-1].plot()"
   ]
  },
  {
   "cell_type": "markdown",
   "id": "836773a2",
   "metadata": {},
   "source": [
    "**Jason Strimpel** is the founder of <a href='https://pyquantnews.com/'>PyQuant News</a> and co-founder of <a href='https://www.tradeblotter.io/'>Trade Blotter</a>. His career in algorithmic trading spans 20+ years. He previously traded for a Chicago-based hedge fund, was a risk manager at JPMorgan, and managed production risk technology for an energy derivatives trading firm in London. In Singapore, he served as APAC CIO for an agricultural trading firm and built the data science team for a global metals trading firm. Jason holds degrees in Finance and Economics and a Master's in Quantitative Finance from the Illinois Institute of Technology. His career spans America, Europe, and Asia. He shares his expertise through the <a href='https://pyquantnews.com/subscribe-to-the-pyquant-newsletter/'>PyQuant Newsletter</a>, social media, and has taught over 1,000+ algorithmic trading with Python in his popular course **<a href='https://gettingstartedwithpythonforquantfinance.com/'>Getting Started With Python for Quant Finance</a>**. All code is for educational purposes only. Nothing provided here is financial advise. Use at your own risk."
   ]
  },
  {
   "cell_type": "markdown",
   "id": "6bc7b9d8",
   "metadata": {},
   "source": [
    "## Navigating options market data with the OpenBB Platform"
   ]
  },
  {
   "cell_type": "code",
   "execution_count": 111,
   "id": "097d7d8f",
   "metadata": {},
   "outputs": [],
   "source": [
    "from IPython.display import display\n",
    "from openbb import obb"
   ]
  },
  {
   "cell_type": "code",
   "execution_count": 112,
   "id": "154f9ac6",
   "metadata": {},
   "outputs": [],
   "source": [
    "obb.user.preferences.output_type = \"dataframe\""
   ]
  },
  {
   "cell_type": "markdown",
   "id": "2d78fbd3",
   "metadata": {},
   "source": [
    "Fetches options chains for the symbol \"SPY\" and stores it in 'chains'"
   ]
  },
  {
   "cell_type": "code",
   "execution_count": 113,
   "id": "a99c279c",
   "metadata": {},
   "outputs": [],
   "source": [
    "chains = obb.derivatives.options.chains(symbol=\"SPY\")"
   ]
  },
  {
   "cell_type": "code",
   "execution_count": 114,
   "id": "4e5a2f88",
   "metadata": {},
   "outputs": [
    {
     "name": "stdout",
     "output_type": "stream",
     "text": [
      "<class 'pandas.core.frame.DataFrame'>\n",
      "RangeIndex: 10188 entries, 0 to 10187\n",
      "Data columns (total 29 columns):\n",
      " #   Column              Non-Null Count  Dtype         \n",
      "---  ------              --------------  -----         \n",
      " 0   underlying_symbol   10188 non-null  object        \n",
      " 1   underlying_price    10188 non-null  float64       \n",
      " 2   contract_symbol     10188 non-null  object        \n",
      " 3   expiration          10188 non-null  object        \n",
      " 4   dte                 10188 non-null  int64         \n",
      " 5   strike              10188 non-null  float64       \n",
      " 6   option_type         10188 non-null  object        \n",
      " 7   open_interest       10188 non-null  int64         \n",
      " 8   volume              10188 non-null  int64         \n",
      " 9   theoretical_price   10188 non-null  float64       \n",
      " 10  last_trade_price    10188 non-null  float64       \n",
      " 11  last_trade_time     8246 non-null   datetime64[ns]\n",
      " 12  tick                10188 non-null  object        \n",
      " 13  bid                 10188 non-null  float64       \n",
      " 14  bid_size            10188 non-null  int64         \n",
      " 15  ask                 10188 non-null  float64       \n",
      " 16  ask_size            10188 non-null  int64         \n",
      " 17  open                10188 non-null  float64       \n",
      " 18  high                10188 non-null  float64       \n",
      " 19  low                 10188 non-null  float64       \n",
      " 20  prev_close          10188 non-null  float64       \n",
      " 21  change              10188 non-null  float64       \n",
      " 22  change_percent      10188 non-null  float64       \n",
      " 23  implied_volatility  10188 non-null  float64       \n",
      " 24  delta               10188 non-null  float64       \n",
      " 25  gamma               10188 non-null  float64       \n",
      " 26  theta               10188 non-null  float64       \n",
      " 27  vega                10188 non-null  float64       \n",
      " 28  rho                 10188 non-null  float64       \n",
      "dtypes: datetime64[ns](1), float64(18), int64(5), object(5)\n",
      "memory usage: 2.3+ MB\n"
     ]
    },
    {
     "data": {
      "text/plain": [
       "None"
      ]
     },
     "metadata": {},
     "output_type": "display_data"
    }
   ],
   "source": [
    "display(chains.info())"
   ]
  },
  {
   "cell_type": "markdown",
   "id": "90c6a378",
   "metadata": {},
   "source": [
    "Fetches historical price data for the specified option symbol using the \"yfinance\" provider and selects the \"close\" and \"volume\" columns"
   ]
  },
  {
   "cell_type": "code",
   "execution_count": 115,
   "id": "b185aa90",
   "metadata": {},
   "outputs": [],
   "source": [
    "historic = obb.equity.price.historical(\n",
    "    symbol=\"SPY241220C00550000\", provider=\"yfinance\"\n",
    ")[[\"close\", \"volume\"]]"
   ]
  },
  {
   "cell_type": "code",
   "execution_count": 116,
   "id": "ab4c65de",
   "metadata": {},
   "outputs": [
    {
     "data": {
      "text/html": [
       "<div>\n",
       "<style scoped>\n",
       "    .dataframe tbody tr th:only-of-type {\n",
       "        vertical-align: middle;\n",
       "    }\n",
       "\n",
       "    .dataframe tbody tr th {\n",
       "        vertical-align: top;\n",
       "    }\n",
       "\n",
       "    .dataframe thead th {\n",
       "        text-align: right;\n",
       "    }\n",
       "</style>\n",
       "<table border=\"1\" class=\"dataframe\">\n",
       "  <thead>\n",
       "    <tr style=\"text-align: right;\">\n",
       "      <th></th>\n",
       "      <th>close</th>\n",
       "      <th>volume</th>\n",
       "    </tr>\n",
       "    <tr>\n",
       "      <th>date</th>\n",
       "      <th></th>\n",
       "      <th></th>\n",
       "    </tr>\n",
       "  </thead>\n",
       "  <tbody>\n",
       "    <tr>\n",
       "      <th>2023-12-11</th>\n",
       "      <td>3.550000</td>\n",
       "      <td>53</td>\n",
       "    </tr>\n",
       "    <tr>\n",
       "      <th>2023-12-12</th>\n",
       "      <td>3.660000</td>\n",
       "      <td>19</td>\n",
       "    </tr>\n",
       "    <tr>\n",
       "      <th>2023-12-13</th>\n",
       "      <td>4.290000</td>\n",
       "      <td>109</td>\n",
       "    </tr>\n",
       "    <tr>\n",
       "      <th>2023-12-14</th>\n",
       "      <td>4.680000</td>\n",
       "      <td>129</td>\n",
       "    </tr>\n",
       "    <tr>\n",
       "      <th>2023-12-15</th>\n",
       "      <td>4.720000</td>\n",
       "      <td>105</td>\n",
       "    </tr>\n",
       "    <tr>\n",
       "      <th>...</th>\n",
       "      <td>...</td>\n",
       "      <td>...</td>\n",
       "    </tr>\n",
       "    <tr>\n",
       "      <th>2024-12-03</th>\n",
       "      <td>55.830002</td>\n",
       "      <td>9</td>\n",
       "    </tr>\n",
       "    <tr>\n",
       "      <th>2024-12-04</th>\n",
       "      <td>58.849998</td>\n",
       "      <td>920</td>\n",
       "    </tr>\n",
       "    <tr>\n",
       "      <th>2024-12-05</th>\n",
       "      <td>59.139999</td>\n",
       "      <td>93</td>\n",
       "    </tr>\n",
       "    <tr>\n",
       "      <th>2024-12-06</th>\n",
       "      <td>58.720001</td>\n",
       "      <td>79</td>\n",
       "    </tr>\n",
       "    <tr>\n",
       "      <th>2024-12-09</th>\n",
       "      <td>57.209999</td>\n",
       "      <td>64</td>\n",
       "    </tr>\n",
       "  </tbody>\n",
       "</table>\n",
       "<p>250 rows × 2 columns</p>\n",
       "</div>"
      ],
      "text/plain": [
       "                close  volume\n",
       "date                         \n",
       "2023-12-11   3.550000      53\n",
       "2023-12-12   3.660000      19\n",
       "2023-12-13   4.290000     109\n",
       "2023-12-14   4.680000     129\n",
       "2023-12-15   4.720000     105\n",
       "...               ...     ...\n",
       "2024-12-03  55.830002       9\n",
       "2024-12-04  58.849998     920\n",
       "2024-12-05  59.139999      93\n",
       "2024-12-06  58.720001      79\n",
       "2024-12-09  57.209999      64\n",
       "\n",
       "[250 rows x 2 columns]"
      ]
     },
     "metadata": {},
     "output_type": "display_data"
    }
   ],
   "source": [
    "display(historic)"
   ]
  },
  {
   "cell_type": "markdown",
   "id": "d104b4e9",
   "metadata": {},
   "source": [
    "Plots the historical \"close\" price data"
   ]
  },
  {
   "cell_type": "code",
   "execution_count": 117,
   "id": "d12aab32",
   "metadata": {},
   "outputs": [
    {
     "data": {
      "text/plain": [
       "<Axes: xlabel='date'>"
      ]
     },
     "execution_count": 117,
     "metadata": {},
     "output_type": "execute_result"
    },
    {
     "data": {
      "image/png": "[encoded data removed]",
      "text/plain": [
       "<Figure size 640x480 with 1 Axes>"
      ]
     },
     "metadata": {},
     "output_type": "display_data"
    }
   ],
   "source": [
    "historic.close.plot()"
   ]
  },
  {
   "cell_type": "markdown",
   "id": "0c370bac",
   "metadata": {},
   "source": [
    "**Jason Strimpel** is the founder of <a href='https://pyquantnews.com/'>PyQuant News</a> and co-founder of <a href='https://www.tradeblotter.io/'>Trade Blotter</a>. His career in algorithmic trading spans 20+ years. He previously traded for a Chicago-based hedge fund, was a risk manager at JPMorgan, and managed production risk technology for an energy derivatives trading firm in London. In Singapore, he served as APAC CIO for an agricultural trading firm and built the data science team for a global metals trading firm. Jason holds degrees in Finance and Economics and a Master's in Quantitative Finance from the Illinois Institute of Technology. His career spans America, Europe, and Asia. He shares his expertise through the <a href='https://pyquantnews.com/subscribe-to-the-pyquant-newsletter/'>PyQuant Newsletter</a>, social media, and has taught over 1,000+ algorithmic trading with Python in his popular course **<a href='https://gettingstartedwithpythonforquantfinance.com/'>Getting Started With Python for Quant Finance</a>**. All code is for educational purposes only. Nothing provided here is financial advise. Use at your own risk."
   ]
  },
  {
   "cell_type": "markdown",
   "id": "e83c2539",
   "metadata": {},
   "source": [
    "## Harnessing factor data using pandas_datareader"
   ]
  },
  {
   "cell_type": "code",
   "execution_count": 119,
   "id": "ec171920",
   "metadata": {},
   "outputs": [],
   "source": [
    "import warnings"
   ]
  },
  {
   "cell_type": "code",
   "execution_count": 120,
   "id": "2ac3e1ac",
   "metadata": {},
   "outputs": [],
   "source": [
    "import pandas_datareader as pdr\n",
    "from IPython.display import display"
   ]
  },
  {
   "cell_type": "code",
   "execution_count": 121,
   "id": "0d2f65cf",
   "metadata": {},
   "outputs": [],
   "source": [
    "warnings.filterwarnings(\"ignore\")"
   ]
  },
  {
   "cell_type": "markdown",
   "id": "30423d49",
   "metadata": {},
   "source": [
    "Fetches the Fama-French research data factors and stores it in 'factors'"
   ]
  },
  {
   "cell_type": "code",
   "execution_count": 122,
   "id": "4b9f5acb",
   "metadata": {},
   "outputs": [],
   "source": [
    "factors = pdr.get_data_famafrench(\n",
    "    \"F-F_Research_Data_Factors\",\n",
    ")"
   ]
  },
  {
   "cell_type": "code",
   "execution_count": 123,
   "id": "e8a1418f",
   "metadata": {},
   "outputs": [
    {
     "data": {
      "text/plain": [
       "'F-F Research Data Factors\\n-------------------------\\n\\nThis file was created by CMPT_ME_BEME_RETS using the 202410 CRSP database. The 1-month TBill rate data until 202405 are from Ibbotson Associates. Starting from 202406, the 1-month TBill rate is from ICE BofA US 1-Month Treasury Bill Index. Copyright 2024 Eugene F. Fama and Kenneth R. French\\n\\n  0 : (59 rows x 4 cols)\\n  1 : Annual Factors: January-December (5 rows x 4 cols)'"
      ]
     },
     "metadata": {},
     "output_type": "display_data"
    }
   ],
   "source": [
    "display(factors[\"DESCR\"])"
   ]
  },
  {
   "cell_type": "markdown",
   "id": "289f62f0",
   "metadata": {},
   "source": [
    "Displays the first few rows of the first dataset in 'factors'"
   ]
  },
  {
   "cell_type": "code",
   "execution_count": 124,
   "id": "40bc442f",
   "metadata": {},
   "outputs": [],
   "source": [
    "data = factors[0].head()"
   ]
  },
  {
   "cell_type": "code",
   "execution_count": 125,
   "id": "3c08b717",
   "metadata": {},
   "outputs": [
    {
     "data": {
      "text/html": [
       "<div>\n",
       "<style scoped>\n",
       "    .dataframe tbody tr th:only-of-type {\n",
       "        vertical-align: middle;\n",
       "    }\n",
       "\n",
       "    .dataframe tbody tr th {\n",
       "        vertical-align: top;\n",
       "    }\n",
       "\n",
       "    .dataframe thead th {\n",
       "        text-align: right;\n",
       "    }\n",
       "</style>\n",
       "<table border=\"1\" class=\"dataframe\">\n",
       "  <thead>\n",
       "    <tr style=\"text-align: right;\">\n",
       "      <th></th>\n",
       "      <th>Mkt-RF</th>\n",
       "      <th>SMB</th>\n",
       "      <th>HML</th>\n",
       "      <th>RF</th>\n",
       "    </tr>\n",
       "    <tr>\n",
       "      <th>Date</th>\n",
       "      <th></th>\n",
       "      <th></th>\n",
       "      <th></th>\n",
       "      <th></th>\n",
       "    </tr>\n",
       "  </thead>\n",
       "  <tbody>\n",
       "    <tr>\n",
       "      <th>2019-12</th>\n",
       "      <td>2.77</td>\n",
       "      <td>0.73</td>\n",
       "      <td>1.78</td>\n",
       "      <td>0.14</td>\n",
       "    </tr>\n",
       "    <tr>\n",
       "      <th>2020-01</th>\n",
       "      <td>-0.11</td>\n",
       "      <td>-3.13</td>\n",
       "      <td>-6.25</td>\n",
       "      <td>0.13</td>\n",
       "    </tr>\n",
       "    <tr>\n",
       "      <th>2020-02</th>\n",
       "      <td>-8.13</td>\n",
       "      <td>1.07</td>\n",
       "      <td>-3.80</td>\n",
       "      <td>0.12</td>\n",
       "    </tr>\n",
       "    <tr>\n",
       "      <th>2020-03</th>\n",
       "      <td>-13.39</td>\n",
       "      <td>-4.79</td>\n",
       "      <td>-13.88</td>\n",
       "      <td>0.13</td>\n",
       "    </tr>\n",
       "    <tr>\n",
       "      <th>2020-04</th>\n",
       "      <td>13.65</td>\n",
       "      <td>2.45</td>\n",
       "      <td>-1.34</td>\n",
       "      <td>0.00</td>\n",
       "    </tr>\n",
       "  </tbody>\n",
       "</table>\n",
       "</div>"
      ],
      "text/plain": [
       "         Mkt-RF   SMB    HML    RF\n",
       "Date                              \n",
       "2019-12    2.77  0.73   1.78  0.14\n",
       "2020-01   -0.11 -3.13  -6.25  0.13\n",
       "2020-02   -8.13  1.07  -3.80  0.12\n",
       "2020-03  -13.39 -4.79 -13.88  0.13\n",
       "2020-04   13.65  2.45  -1.34  0.00"
      ]
     },
     "metadata": {},
     "output_type": "display_data"
    }
   ],
   "source": [
    "display(data)"
   ]
  },
  {
   "cell_type": "markdown",
   "id": "67f824e3",
   "metadata": {},
   "source": [
    "Displays the first few rows of the second dataset in 'factors'"
   ]
  },
  {
   "cell_type": "code",
   "execution_count": 126,
   "id": "aa37402f",
   "metadata": {},
   "outputs": [],
   "source": [
    "data = factors[1].head()"
   ]
  },
  {
   "cell_type": "code",
   "execution_count": 127,
   "id": "64c1869d",
   "metadata": {},
   "outputs": [
    {
     "data": {
      "text/html": [
       "<div>\n",
       "<style scoped>\n",
       "    .dataframe tbody tr th:only-of-type {\n",
       "        vertical-align: middle;\n",
       "    }\n",
       "\n",
       "    .dataframe tbody tr th {\n",
       "        vertical-align: top;\n",
       "    }\n",
       "\n",
       "    .dataframe thead th {\n",
       "        text-align: right;\n",
       "    }\n",
       "</style>\n",
       "<table border=\"1\" class=\"dataframe\">\n",
       "  <thead>\n",
       "    <tr style=\"text-align: right;\">\n",
       "      <th></th>\n",
       "      <th>Mkt-RF</th>\n",
       "      <th>SMB</th>\n",
       "      <th>HML</th>\n",
       "      <th>RF</th>\n",
       "    </tr>\n",
       "    <tr>\n",
       "      <th>Date</th>\n",
       "      <th></th>\n",
       "      <th></th>\n",
       "      <th></th>\n",
       "      <th></th>\n",
       "    </tr>\n",
       "  </thead>\n",
       "  <tbody>\n",
       "    <tr>\n",
       "      <th>2019</th>\n",
       "      <td>28.28</td>\n",
       "      <td>-6.13</td>\n",
       "      <td>-10.37</td>\n",
       "      <td>2.15</td>\n",
       "    </tr>\n",
       "    <tr>\n",
       "      <th>2020</th>\n",
       "      <td>23.66</td>\n",
       "      <td>12.72</td>\n",
       "      <td>-46.10</td>\n",
       "      <td>0.45</td>\n",
       "    </tr>\n",
       "    <tr>\n",
       "      <th>2021</th>\n",
       "      <td>23.57</td>\n",
       "      <td>-3.78</td>\n",
       "      <td>25.39</td>\n",
       "      <td>0.04</td>\n",
       "    </tr>\n",
       "    <tr>\n",
       "      <th>2022</th>\n",
       "      <td>-21.58</td>\n",
       "      <td>-7.04</td>\n",
       "      <td>25.97</td>\n",
       "      <td>1.43</td>\n",
       "    </tr>\n",
       "    <tr>\n",
       "      <th>2023</th>\n",
       "      <td>21.69</td>\n",
       "      <td>-3.28</td>\n",
       "      <td>-13.70</td>\n",
       "      <td>4.95</td>\n",
       "    </tr>\n",
       "  </tbody>\n",
       "</table>\n",
       "</div>"
      ],
      "text/plain": [
       "      Mkt-RF    SMB    HML    RF\n",
       "Date                            \n",
       "2019   28.28  -6.13 -10.37  2.15\n",
       "2020   23.66  12.72 -46.10  0.45\n",
       "2021   23.57  -3.78  25.39  0.04\n",
       "2022  -21.58  -7.04  25.97  1.43\n",
       "2023   21.69  -3.28 -13.70  4.95"
      ]
     },
     "metadata": {},
     "output_type": "display_data"
    }
   ],
   "source": [
    "display(data)"
   ]
  },
  {
   "cell_type": "markdown",
   "id": "c4e33ca2",
   "metadata": {},
   "source": [
    "Fetches the Fama-French research data factors within the specified date range and stores it in 'factors'"
   ]
  },
  {
   "cell_type": "code",
   "execution_count": 128,
   "id": "e3089efc",
   "metadata": {},
   "outputs": [],
   "source": [
    "factors = pdr.get_data_famafrench(\n",
    "    \"F-F_Research_Data_Factors\", start=\"2000-01-01\", end=\"2019-12-31\"\n",
    ")"
   ]
  },
  {
   "cell_type": "code",
   "execution_count": 129,
   "id": "508a3e51",
   "metadata": {},
   "outputs": [
    {
     "data": {
      "text/plain": [
       "{0:          Mkt-RF    SMB   HML    RF\n",
       " Date                              \n",
       " 2000-01   -4.74   5.77 -1.88  0.41\n",
       " 2000-02    2.45  21.36 -9.59  0.43\n",
       " 2000-03    5.20 -17.20  8.13  0.47\n",
       " 2000-04   -6.40  -6.68  7.26  0.46\n",
       " 2000-05   -4.42  -6.05  4.75  0.50\n",
       " ...         ...    ...   ...   ...\n",
       " 2019-08   -2.58  -2.39 -4.79  0.16\n",
       " 2019-09    1.43  -0.97  6.77  0.18\n",
       " 2019-10    2.06   0.29 -1.90  0.16\n",
       " 2019-11    3.88   0.78 -1.99  0.12\n",
       " 2019-12    2.77   0.73  1.78  0.14\n",
       " \n",
       " [240 rows x 4 columns],\n",
       " 1:       Mkt-RF    SMB    HML    RF\n",
       " Date                            \n",
       " 2000  -17.60  -4.60  44.98  5.89\n",
       " 2001  -15.21  18.16  18.52  3.83\n",
       " 2002  -22.76   4.39   8.09  1.65\n",
       " 2003   30.75  26.49   4.67  1.02\n",
       " 2004   10.72   4.45   7.61  1.20\n",
       " 2005    3.09  -2.36   9.41  2.98\n",
       " 2006   10.60   0.09  11.93  4.80\n",
       " 2007    1.04  -7.44 -17.18  4.66\n",
       " 2008  -38.34   2.40   1.05  1.60\n",
       " 2009   28.26   9.18  -9.65  0.10\n",
       " 2010   17.37  14.15  -5.15  0.12\n",
       " 2011    0.44  -5.73  -8.41  0.04\n",
       " 2012   16.27  -1.40  10.00  0.06\n",
       " 2013   35.20   7.72   2.60  0.02\n",
       " 2014   11.71  -7.82  -1.45  0.02\n",
       " 2015    0.09  -4.00  -9.67  0.02\n",
       " 2016   13.30   6.77  22.71  0.20\n",
       " 2017   21.51  -5.09 -13.59  0.80\n",
       " 2018   -6.94  -3.11  -9.77  1.83\n",
       " 2019   28.28  -6.13 -10.37  2.15,\n",
       " 'DESCR': 'F-F Research Data Factors\\n-------------------------\\n\\nThis file was created by CMPT_ME_BEME_RETS using the 202410 CRSP database. The 1-month TBill rate data until 202405 are from Ibbotson Associates. Starting from 202406, the 1-month TBill rate is from ICE BofA US 1-Month Treasury Bill Index. Copyright 2024 Eugene F. Fama and Kenneth R. French\\n\\n  0 : (240 rows x 4 cols)\\n  1 : Annual Factors: January-December (20 rows x 4 cols)'}"
      ]
     },
     "metadata": {},
     "output_type": "display_data"
    }
   ],
   "source": [
    "display(factors)"
   ]
  }
 ],
 "metadata": {
  "jupytext": {
   "cell_metadata_filter": "-all",
   "main_language": "python",
   "notebook_metadata_filter": "-all"
  },
  "kernelspec": {
   "display_name": "qt",
   "language": "python",
   "name": "qt"
  },
  "language_info": {
   "codemirror_mode": {
    "name": "ipython",
    "version": 3
   },
   "file_extension": ".py",
   "mimetype": "text/x-python",
   "name": "python",
   "nbconvert_exporter": "python",
   "pygments_lexer": "ipython3",
   "version": "3.10.16"
  }
 },
 "nbformat": 4,
 "nbformat_minor": 5
}
