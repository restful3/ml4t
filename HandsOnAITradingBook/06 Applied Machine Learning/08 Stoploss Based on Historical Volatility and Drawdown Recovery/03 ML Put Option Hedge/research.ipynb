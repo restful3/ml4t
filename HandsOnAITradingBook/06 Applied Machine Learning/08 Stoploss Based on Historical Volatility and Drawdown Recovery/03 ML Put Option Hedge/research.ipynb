{
 "cells": [
  {
   "cell_type": "markdown",
   "metadata": {
    "pycharm": {
     "name": "#%% md\n"
    }
   },
   "source": [
    "![QuantConnect Logo](https://cdn.quantconnect.com/web/i/icon.png)\n",
    "<hr>"
   ]
  },
  {
   "cell_type": "code",
   "execution_count": 1,
   "metadata": {
    "pycharm": {
     "name": "#%%\n"
    }
   },
   "outputs": [
    {
     "name": "stdout",
     "output_type": "stream",
     "text": [
      "-0.6526580864186358\n"
     ]
    }
   ],
   "source": [
    "backtest = api.read_backtest(17112124, \"98b92823043ea702b0f1e3615e0886a4\")\n",
    "trades = backtest.total_performance.closed_trades\n",
    "trade_returns = []\n",
    "for i in range(0, len(trades)-1, 2):\n",
    "    option_entry = trades[i].entry_price\n",
    "    underlying_trade = trades[i+1]\n",
    "    underlying_entry = underlying_trade.entry_price\n",
    "    underlying_exit = underlying_trade.exit_price\n",
    "    pct_return = (\n",
    "        (underlying_exit - underlying_entry - option_entry) \n",
    "        / underlying_entry\n",
    "    )\n",
    "    # Note that when the option is exercised, `underlying_exit` is the \n",
    "    # Option strike price.\n",
    "    trade_returns.append(pct_return)\n",
    "\n",
    "mean_return = sum(trade_returns) / len(trade_returns)\n",
    "std_returns = np.std(trade_returns)\n",
    "print(mean_return / std_returns)"
   ]
  }
 ],
 "metadata": {
  "kernelspec": {
   "display_name": "Foundation-Py-Default",
   "language": "python",
   "name": "python3"
  },
  "language_info": {
   "codemirror_mode": {
    "name": "ipython",
    "version": 3
   },
   "file_extension": ".py",
   "mimetype": "text/x-python",
   "name": "python",
   "nbconvert_exporter": "python",
   "pygments_lexer": "ipython3",
   "version": "3.11.7"
  },
  "vscode": {
   "interpreter": {
    "hash": "3d597f4c481aa0f25dceb95d2a0067e73c0966dcbd003d741d821a7208527ecf"
   }
  }
 },
 "nbformat": 4,
 "nbformat_minor": 4
}
