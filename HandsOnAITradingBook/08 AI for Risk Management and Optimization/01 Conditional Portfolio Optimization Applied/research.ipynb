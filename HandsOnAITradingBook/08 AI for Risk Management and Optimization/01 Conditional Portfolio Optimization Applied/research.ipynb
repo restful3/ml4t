{
 "cells": [
  {
   "attachments": {},
   "cell_type": "markdown",
   "metadata": {
    "pycharm": {
     "name": "#%% md\n"
    }
   },
   "source": [
    "![QuantConnect Logo](https://cdn.quantconnect.com/web/i/icon.png)\n",
    "<hr>\n",
    "\n",
    "# Generate Portfolio Weights to Run a LEAN Backtest\n",
    "\n",
    "This notebook connects to PredictNow, optimizes the portfolio weights for each rebalance, and then saves the rebalancing weights for each month into the Object Store. After you run the cells in this notebook, you can run the algorithm in `main.py`, which uses the portfolio weights from PredictNow in a LEAN backtest."
   ]
  },
  {
   "attachments": {},
   "cell_type": "markdown",
   "metadata": {},
   "source": [
    "### Connect to PredictNow"
   ]
  },
  {
   "cell_type": "code",
   "execution_count": 1,
   "metadata": {
    "pycharm": {
     "name": "#%%\n"
    }
   },
   "outputs": [
    {
     "name": "stdout",
     "output_type": "stream",
     "text": [
      "20250204 15:48:41.873 TRACE:: QuantBook started; Is Python: True\n"
      ]
    },
    {
     "data": {
      "text/plain": [
       "True"
      ]
     },
     "execution_count": 1,
     "metadata": {},
     "output_type": "execute_result"
    }
   ],
   "source": [
    "from QuantConnect.PredictNowNET import PredictNowClient\n",
    "from QuantConnect.PredictNowNET.Models import *\n",
    "from time import sleep\n",
    "from datetime import datetime\n",
    "\n",
    "algorithm_start_date = datetime(2023, 1, 1)\n",
    "algorithm_end_date = datetime(2024, 1, 1)\n",
    "\n",
    "qb = QuantBook()\n",
    "qb.settings.daily_precise_end_time = False\n",
    "client = PredictNowClient(\"jared@quantconnect.com\", \"jared_broad\")\n",
    "client.connected"
   ]
  },
  {
   "attachments": {},
   "cell_type": "markdown",
   "metadata": {},
   "source": [
    "### Upload Asset Returns\n",
    "\n",
    "The returns file needs to have sufficient data to cover the backtest period of the algorithm in `main.py` and the in-sample backtest, which occurs before `algorithm_start_date`."
   ]
  },
  {
   "cell_type": "code",
   "execution_count": 2,
   "metadata": {},
   "outputs": [
    {
     "name": "stdout",
     "output_type": "stream",
     "text": [
      "Date info from date with 16 return columns. Index range between 2011-03-25 and 2024-03-29.\n"
     ]
    },
    {
     "data": {
      "text/plain": [
       "'ETF_return.csv,ETF_return_Test.csv'"
      ]
     },
     "execution_count": 2,
     "metadata": {},
     "output_type": "execute_result"
    }
   ],
   "source": [
    "# Calculate the daily returns of the universe constituents.\n",
    "tickers = 'TIP,BWX,EEM,VGK,IEF,QQQ,EWJ,GLD,VTI,VNQ,TLT,RWX,SPY,DBC,REM,SCZ'.split(',')\n",
    "symbols = [qb.add_equity(ticker).symbol for ticker in tickers]\n",
    "df = qb.history(\n",
    "    symbols, datetime(2010,1,4), algorithm_end_date + timedelta(90), Resolution.DAILY\n",
    ").close.unstack(0).dropna()\n",
    "df.index.set_names(['date'], inplace=True)\n",
    "# Save the returns data into the Object Store.\n",
    "df.rename(lambda x: x.value, axis='columns', inplace=True)\n",
    "returns_file_name = \"ETF_return_Test.csv\"\n",
    "returns_file_path = qb.object_store.get_file_path(returns_file_name)\n",
    "df.pct_change().dropna().to_csv(returns_file_path)\n",
    "# Upload the returns file to PredictNow.\n",
    "print(client.upload_returns_file(returns_file_path))\n",
    "# List the return files you've uploaded.\n",
    "return_files = client.list_returns_files()\n",
    "','.join(return_files)"
   ]
  },
  {
   "attachments": {},
   "cell_type": "markdown",
   "metadata": {},
   "source": [
    "### Upload Constraints\n",
    "\n",
    "The constraints must contain a subset of the assets in the returns file. The CPO system only provides portfolio weights for assets that have constraints."
   ]
  },
  {
   "cell_type": "code",
   "execution_count": 3,
   "metadata": {},
   "outputs": [
    {
     "name": "stdout",
     "output_type": "stream",
     "text": [
      "Constraint file processed for 3 components\n"
     ]
    },
    {
     "data": {
      "text/plain": [
       "'ETF_constrain.csv,ETF_constrain_Test.csv'"
      ]
     },
     "execution_count": 3,
     "metadata": {},
     "output_type": "execute_result"
    }
   ],
   "source": [
    "# Create the constraints file.\n",
    "content = '''ticker,LB,UB\n",
    "SPY,0,0.5\n",
    "QQQ,0,0.5\n",
    "VNQ,0,0.5'''\n",
    "# Save the constraints file in the Object Store.\n",
    "constraints_file_name = \"ETF_constrain_Test.csv\"\n",
    "qb.object_store.save(constraints_file_name, content)\n",
    "# Upload the constraints file to PredictNow.\n",
    "constraint_file_path = qb.object_store.get_file_path(constraints_file_name)\n",
    "message = client.upload_constraint_file(constraint_file_path)\n",
    "print(message)\n",
    "# List the constraint files you've uploaded.\n",
    "constraint_files = client.list_constraint_files()\n",
    "','.join(constraint_files)"
   ]
  },
  {
   "attachments": {},
   "cell_type": "markdown",
   "metadata": {},
   "source": [
    "### (Optional) Upload Features"
   ]
  },
  {
   "cell_type": "code",
   "execution_count": 4,
   "metadata": {},
   "outputs": [],
   "source": [
    "pass"
   ]
  },
  {
   "attachments": {},
   "cell_type": "markdown",
   "metadata": {},
   "source": [
    "### Define the Portfolio Parameters"
   ]
  },
  {
   "cell_type": "code",
   "execution_count": 5,
   "metadata": {},
   "outputs": [],
   "source": [
    "portfolio_parameters = PortfolioParameters(\n",
    "    name=f\"Demo_Project_{datetime.now().strftime('%Y%m%d')}\",\n",
    "    returns_file=returns_file_name,\n",
    "    constraint_file=constraints_file_name,\n",
    "    #feature_file=feature_file_name,\n",
    "    max_cash=1.0,\n",
    "    rebalancing_period_unit=\"month\",\n",
    "    rebalancing_period=1,\n",
    "    rebalance_on=\"first\",\n",
    "    training_data_size=3,\n",
    "    evaluation_metric=\"sharpe\"\n",
    ")"
   ]
  },
  {
   "attachments": {},
   "cell_type": "markdown",
   "metadata": {},
   "source": [
    "### Run the In-Sample Backtest\n",
    "\n",
    "The in-sample period must end before the `set_start_date` in `main.py`. Since our algorithm does monthly rebalancing at the beginning of each month, the `training_start_date` argument should align with the start of the month and the `training_end_date` should be one day before the start date in `main.py`."
   ]
  },
  {
   "cell_type": "code",
   "execution_count": 14,
   "metadata": {},
   "outputs": [
    {
     "name": "stdout",
     "output_type": "stream",
     "text": [
      "job submitted for cpo in-sample backtesting.: Id b98e0018-0299-45ed-8ce5-57e7abae51a5\n"
     ]
    }
   ],
   "source": [
    "in_sample_result = client.run_in_sample_backtest(\n",
    "    portfolio_parameters,\n",
    "    training_start_date=datetime(2022, 1, 1),   # Align with start of month\n",
    "    training_end_date=algorithm_start_date-timedelta(1),\n",
    "    sampling_proportion=0.3,\n",
    "    debug=\"debug\"\n",
    ")\n",
    "print(in_sample_result)"
   ]
  },
  {
   "cell_type": "markdown",
   "metadata": {},
   "source": [
    "The backtest can take some minutes or few hours to complete."
   ]
  },
  {
   "cell_type": "code",
   "execution_count": 58,
   "metadata": {},
   "outputs": [
    {
     "name": "stdout",
     "output_type": "stream",
     "text": [
      "SUCCESS : In sample backtesting copleted, preparing outputs\n"
     ]
    }
   ],
   "source": [
    "job = client.get_job_for_id(in_sample_result.id)\n",
    "print(f'{job.status} : {job.progress.message}')"
   ]
  },
  {
   "attachments": {},
   "cell_type": "markdown",
   "metadata": {},
   "source": [
    "### Run the Out-Of-Sample Backtest\n",
    "\n",
    "The out-of-sample period should match the start and end dates of the algorithm `main.py`. It is important to keep the `training_start_date` parameters have the same format for in-sample and out-of-sample tests. For this example, we are working on a portfolio that takes monthly rebalance on the first market day of the month, so we will keep `training_start_date` to the 1st of the month in the out-of-sample test."
   ]
  },
  {
   "cell_type": "code",
   "execution_count": 30,
   "metadata": {},
   "outputs": [
    {
     "name": "stdout",
     "output_type": "stream",
     "text": [
      "job submitted for cpo back-testing.: Id 6b003fc9-7f01-4fb1-a379-71b82967800d\n"
     ]
    }
   ],
   "source": [
    "out_of_sample_result = client.run_out_of_sample_backtest(\n",
    "    portfolio_parameters,\n",
    "    training_start_date=algorithm_start_date,\n",
    "    training_end_date=algorithm_end_date,\n",
    "    debug=\"debug\"\n",
    ")\n",
    "print(out_of_sample_result)"
   ]
  },
  {
   "cell_type": "markdown",
   "metadata": {},
   "source": [
    "The backtest can take some minutes or few hours to complete."
   ]
  },
  {
   "cell_type": "code",
   "execution_count": 59,
   "metadata": {},
   "outputs": [
    {
     "name": "stdout",
     "output_type": "stream",
     "text": [
      "SUCCESS : OOS backtesting completed, preparing outputs\n"
     ]
    }
   ],
   "source": [
    "job = client.get_job_for_id(out_of_sample_result.id)\n",
    "print(f'{job.status} : {job.progress.message}')"
   ]
  },
  {
   "attachments": {},
   "cell_type": "markdown",
   "metadata": {},
   "source": [
    "### Get the Backtest Weights\n",
    "\n",
    "Let's get the portfolio weights from the preceding out-of-sample backtest. These are the weights you will use to run the LEAN algorithm in `main.py`. Save the portfolio weights into the Object Store so that you can load them in the algorithm."
   ]
  },
  {
   "cell_type": "code",
   "execution_count": 60,
   "metadata": {},
   "outputs": [
    {
     "name": "stdout",
     "output_type": "stream",
     "text": [
      "{datetime.datetime(2023, 1, 4, 0, 0): {'SPY': 0.0, 'QQQ': 0.0, 'VNQ': 0.0}, datetime.datetime(2023, 2, 1, 0, 0): {'SPY': 0.0, 'QQQ': 0.0, 'VNQ': 0.0}, datetime.datetime(2023, 3, 1, 0, 0): {'SPY': 0.2035256222, 'QQQ': 0.4201013456, 'VNQ': 0.2165757234}, datetime.datetime(2023, 4, 1, 0, 0): {'SPY': 0.0, 'QQQ': 0.0, 'VNQ': 0.0}, datetime.datetime(2023, 5, 2, 0, 0): {'SPY': 0.0, 'QQQ': 0.0, 'VNQ': 0.0}, datetime.datetime(2023, 6, 1, 0, 0): {'SPY': 0.0, 'QQQ': 0.0, 'VNQ': 0.0}, datetime.datetime(2023, 7, 1, 0, 0): {'SPY': 0.4703326844, 'QQQ': 0.4703326844, 'VNQ': 0.0}, datetime.datetime(2023, 8, 1, 0, 0): {'SPY': 0.4670399763, 'QQQ': 0.1664494948, 'VNQ': 0.3005904815}, datetime.datetime(2023, 9, 1, 0, 0): {'SPY': 0.4567448111, 'QQQ': 0.4567448111, 'VNQ': 9.46009249e-17}, datetime.datetime(2023, 10, 3, 0, 0): {'SPY': 0.4610234006, 'QQQ': 0.4610234006, 'VNQ': 0.0}, datetime.datetime(2023, 11, 1, 0, 0): {'SPY': 0.0, 'QQQ': 0.0, 'VNQ': 0.0}, datetime.datetime(2023, 12, 1, 0, 0): {'SPY': 0.350968294, 'QQQ': 0.1823125718, 'VNQ': 0.1686557222}, datetime.datetime(2024, 1, 3, 0, 0): {'SPY': 0.4218932545, 'QQQ': 0.4218932545, 'VNQ': 0.066945215}}\n"
     ]
    }
   ],
   "source": [
    "weights_by_date = client.get_backtest_weights(\n",
    "    portfolio_parameters, \n",
    "    training_start_date=algorithm_start_date,\n",
    "    training_end_date=algorithm_end_date,\n",
    "    debug= \"debug\"\n",
    ")\n",
    "print(weights_by_date)\n",
    "\n",
    "# Save the weights into the Object Store.\n",
    "if weights_by_date:\n",
    "    path = qb.object_store.get_file_path(\"ETF_Weights_Test1.csv\")\n",
    "    pd.DataFrame(weights_by_date).to_csv(path)"
   ]
  }
 ],
 "metadata": {
  "kernelspec": {
   "display_name": "Foundation-Py-Default",
   "language": "python",
   "name": "python3"
  },
  "language_info": {
   "codemirror_mode": {
    "name": "ipython",
    "version": 3
   },
   "file_extension": ".py",
   "mimetype": "text/x-python",
   "name": "python",
   "nbconvert_exporter": "python",
   "pygments_lexer": "ipython3",
   "version": "3.11.11"
  },
  "vscode": {
   "interpreter": {
    "hash": "3d597f4c481aa0f25dceb95d2a0067e73c0966dcbd003d741d821a7208527ecf"
   }
  }
 },
 "nbformat": 4,
 "nbformat_minor": 2
}
