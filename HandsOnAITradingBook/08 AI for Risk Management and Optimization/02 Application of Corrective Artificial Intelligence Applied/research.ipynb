{
 "cells": [
  {
   "cell_type": "markdown",
   "id": "a793a7ac",
   "metadata": {},
   "source": [
    "![QuantConnect Logo](https://cdn.quantconnect.com/web/i/icon.png)\n",
    "<hr>\n",
    "\n",
    "# FOREX Strategy using Corrective Artificial Intelligence (CAI)\n",
    "\n",
    "This notebook connects to PredictNow, trains a model, and generates predictions.\n",
    "\n",
    "The model hypothesis is that USD will rise against the EUR during EUR business hours and fall during the USD business hours. This is called the time of the day effect and seen due to HF OF and returns (https://papers.ssrn.com/sol3/papers.cfm?abstract_id=2099321)."
   ]
  },
  {
   "cell_type": "markdown",
   "id": "3be98a3f",
   "metadata": {},
   "source": [
    "### Connect to PredictNow"
   ]
  },
  {
   "cell_type": "code",
   "execution_count": 1,
   "id": "4554e706-aa36-4c15-a113-e9efe9c54686",
   "metadata": {},
   "outputs": [
    {
     "name": "stdout",
     "output_type": "stream",
     "text": [
      "20250203 18:20:46.260 TRACE:: QuantBook started; Is Python: True\n"
     ]
    },
    {
     "data": {
      "text/plain": [
       "True"
      ]
     },
     "execution_count": 1,
     "metadata": {},
     "output_type": "execute_result"
    }
   ],
   "source": [
    "from AlgorithmImports import *\n",
    "from QuantConnect.PredictNowNET import PredictNowClient\n",
    "from QuantConnect.PredictNowNET.Models import *\n",
    "from datetime import datetime, time\n",
    "from io import StringIO\n",
    "from time import sleep\n",
    "import pandas as pd\n",
    "\n",
    "qb = QuantBook()\n",
    "client = PredictNowClient(\"jared@quantconnect.com\", \"jared_broad\")\n",
    "client.connected"
   ]
  },
  {
   "cell_type": "markdown",
   "id": "c0ee3df4-bac0-4b3a-9901-998f91e98e12",
   "metadata": {},
   "source": [
    "### Prepare the Data\n",
    "In this notebook, we will create a strategy that short EURUSD when Europe is open and long when Europe is closed and US is open. We will aggregate the daily return of this static strategy that is activate everyday, and use CAI to predict if the strategy is profitable for a given date. We will follow this On and Off signal to create a dynamic strategy and benchmark its performance."
   ]
  },
  {
   "cell_type": "code",
   "execution_count": 2,
   "id": "339af376-5b66-4653-84c0-1c66e25b7e00",
   "metadata": {},
   "outputs": [
    {
     "name": "stdout",
     "output_type": "stream",
     "text": [
     ]
    },
    {
     "name": "stderr",
     "output_type": "stream",
     "text": [
      "/tmp/ipykernel_769/2916013285.py:7: FutureWarning: 'H' is deprecated and will be removed in a future version, please use 'h' instead.\n",
      "  hourly_returns = (minute_returns + 1).resample('H').prod() - 1\n"
     ]
    }
   ],
   "source": [
    "# load minute bar data of EURUSD\n",
    "symbol = qb.add_forex(\"EURUSD\").symbol\n",
    "df_price = qb.History(symbol, datetime(2020,1,1), datetime(2021,1,1)).loc[symbol]\n",
    "\n",
    "# resample to hourly returns\n",
    "minute_returns = df_price[\"close\"].pct_change()\n",
    "hourly_returns = (minute_returns + 1).resample('H').prod() - 1\n",
    "df_hourly_returns = hourly_returns.to_frame()\n",
    "df_hourly_returns['time'] = df_hourly_returns.index.time\n",
    "\n",
    "# generate buy and sell signals and get strategy returns\n",
    "# Sell EUR.USD when Europe is open\n",
    "sell_eur = ((df_hourly_returns['time'] > time(3)) & (df_hourly_returns['time'] < time(9)))\n",
    "\n",
    "# Buy EUR.USD when Europe is closed and US is open\n",
    "buy_eur = ((df_hourly_returns['time'] > time(11)) & (df_hourly_returns['time'] < time(15)))\n",
    "\n",
    "# signals as 1 and -1\n",
    "ones = pd.DataFrame(1, index=df_hourly_returns.index, columns=['signals'])\n",
    "minus_ones = pd.DataFrame(-1, index=df_hourly_returns.index, columns=['signals'])\n",
    "signals = minus_ones.where(sell_eur, ones.where(buy_eur, 0))\n",
    "\n",
    "# strategy returns\n",
    "strategy_returns = df_hourly_returns['close'] * signals['signals']\n",
    "strategy_returns = (strategy_returns + 1).resample('D').prod() - 1\n",
    "df_strategy_returns = strategy_returns.to_frame().ffill()\n",
    "df_strategy_returns.reset_index(level=None, drop=False, inplace=True, col_level=0, col_fill=\"\")"
   ]
  },
  {
   "cell_type": "markdown",
   "id": "9ff064d5-c498-4905-8a86-7a3c0b82bdff",
   "metadata": {},
   "source": [
    "### Save the Data\n",
    "We will label the data and save it to disk (ObjectStore) with the model name. This file will be uploaded to PredictNow."
   ]
  },
  {
   "cell_type": "code",
   "execution_count": 3,
   "id": "1063d6ad-8da6-4394-8b4f-99b962c29c00",
   "metadata": {},
   "outputs": [
    {
     "data": {
      "text/html": [
       "<div>\n",
       "<style scoped>\n",
       "    .dataframe tbody tr th:only-of-type {\n",
       "        vertical-align: middle;\n",
       "    }\n",
       "\n",
       "    .dataframe tbody tr th {\n",
       "        vertical-align: top;\n",
       "    }\n",
       "\n",
       "    .dataframe thead th {\n",
       "        text-align: right;\n",
       "    }\n",
       "</style>\n",
       "<table border=\"1\" class=\"dataframe\">\n",
       "  <thead>\n",
       "    <tr style=\"text-align: right;\">\n",
       "      <th></th>\n",
       "      <th>date</th>\n",
       "      <th>strategy_ret</th>\n",
       "    </tr>\n",
       "  </thead>\n",
       "  <tbody>\n",
       "    <tr>\n",
       "      <th>0</th>\n",
       "      <td>2020-01-01</td>\n",
       "      <td>0.000000</td>\n",
       "    </tr>\n",
       "    <tr>\n",
       "      <th>1</th>\n",
       "      <td>2020-01-02</td>\n",
       "      <td>0.001234</td>\n",
       "    </tr>\n",
       "    <tr>\n",
       "      <th>2</th>\n",
       "      <td>2020-01-03</td>\n",
       "      <td>0.000757</td>\n",
       "    </tr>\n",
       "    <tr>\n",
       "      <th>3</th>\n",
       "      <td>2020-01-04</td>\n",
       "      <td>0.000000</td>\n",
       "    </tr>\n",
       "    <tr>\n",
       "      <th>4</th>\n",
       "      <td>2020-01-05</td>\n",
       "      <td>0.000000</td>\n",
       "    </tr>\n",
       "    <tr>\n",
       "      <th>...</th>\n",
       "      <td>...</td>\n",
       "      <td>...</td>\n",
       "    </tr>\n",
       "    <tr>\n",
       "      <th>361</th>\n",
       "      <td>2020-12-27</td>\n",
       "      <td>0.000000</td>\n",
       "    </tr>\n",
       "    <tr>\n",
       "      <th>362</th>\n",
       "      <td>2020-12-28</td>\n",
       "      <td>0.001719</td>\n",
       "    </tr>\n",
       "    <tr>\n",
       "      <th>363</th>\n",
       "      <td>2020-12-29</td>\n",
       "      <td>-0.000267</td>\n",
       "    </tr>\n",
       "    <tr>\n",
       "      <th>364</th>\n",
       "      <td>2020-12-30</td>\n",
       "      <td>-0.001754</td>\n",
       "    </tr>\n",
       "    <tr>\n",
       "      <th>365</th>\n",
       "      <td>2020-12-31</td>\n",
       "      <td>0.000000</td>\n",
       "    </tr>\n",
       "  </tbody>\n",
       "</table>\n",
       "<p>366 rows × 2 columns</p>\n",
       "</div>"
      ],
      "text/plain": [
       "          date  strategy_ret\n",
       "0   2020-01-01      0.000000\n",
       "1   2020-01-02      0.001234\n",
       "2   2020-01-03      0.000757\n",
       "3   2020-01-04      0.000000\n",
       "4   2020-01-05      0.000000\n",
       "..         ...           ...\n",
       "361 2020-12-27      0.000000\n",
       "362 2020-12-28      0.001719\n",
       "363 2020-12-29     -0.000267\n",
       "364 2020-12-30     -0.001754\n",
       "365 2020-12-31      0.000000\n",
       "\n",
       "[366 rows x 2 columns]"
      ]
     },
     "execution_count": 3,
     "metadata": {},
     "output_type": "execute_result"
    }
   ],
   "source": [
    "# Define the model name and data lable\n",
    "model_name = \"fx-time-of-day\"\n",
    "label =  \"strategy_ret\"\n",
    "\n",
    "# Label the data and save it to the object store\n",
    "df_strategy_returns = df_strategy_returns.rename(columns={0: label, 'time': 'date'})\n",
    "parquet_path = qb.object_store.get_file_path(f'{model_name}.parquet')\n",
    "df_strategy_returns.to_parquet(parquet_path)\n",
    "df_strategy_returns"
   ]
  },
  {
   "cell_type": "markdown",
   "id": "7f46a488-b018-4464-af8b-cad8d8454583",
   "metadata": {},
   "source": [
    "### Create the Model\n",
    "Create the model by sending the parameters to PredictNow"
   ]
  },
  {
   "cell_type": "code",
   "execution_count": 4,
   "id": "d67682fb-4e00-47b7-aab1-4f01e7287480",
   "metadata": {},
   "outputs": [
    {
     "data": {
      "text/plain": [
       "'{\"model_name\":\"\",\"message\":\"Successfully stored the model\",\"success\":true}'"
      ]
     },
     "execution_count": 4,
     "metadata": {},
     "output_type": "execute_result"
    }
   ],
   "source": [
    "model_parameters = ModelParameters(\n",
    "    mode=Mode.TRAIN, \n",
    "    type=ModelType.CLASSIFICATION, \n",
    "    feature_selection=FeatureSelection.SHAP, \n",
    "    analysis=Analysis.SMALL, \n",
    "    boost=Boost.GBDT, \n",
    "    testsize=42.0,\n",
    "    timeseries=False,\n",
    "    probability_calibration=False,    # True if we want to refine your probability\n",
    "    exploratory_data_analysis=False,  # True if we want to use exploratory data analysis\n",
    "    weights=\"no\")                     # yes, no, custom\n",
    "\n",
    "create_model_result = client.create_model(model_name, model_parameters)\n",
    "str(create_model_result)"
   ]
  },
  {
   "cell_type": "markdown",
   "id": "1c01b02c-a519-4853-952c-c2ffad85a0d4",
   "metadata": {},
   "source": [
    "### Train the Model\n",
    "Provide the path to the data, and its label.\n",
    "This task may take several minutes."
   ]
  },
  {
   "cell_type": "code",
   "execution_count": 5,
   "id": "8a1e5da3-c3c9-4073-a2af-8fa00c88beb6",
   "metadata": {},
   "outputs": [
    {
     "data": {
      "text/plain": [
       "'{\"train_id\":\"2bf645ce-88f7-47bd-b459-a5b715c444b5\",\"model_name\":\"saved_model_fx-time-of-day.pkl\",\"message\":\"Training the model is successfully requested.\",\"success\":true}'"
      ]
     },
     "execution_count": 5,
     "metadata": {},
     "output_type": "execute_result"
    }
   ],
   "source": [
    "train_request_result = client.train(model_name, parquet_path, label)\n",
    "str(train_request_result)"
   ]
  },
  {
   "cell_type": "markdown",
   "id": "59e99965-f29a-41e2-a220-5551bccbd831",
   "metadata": {},
   "source": [
    "### Get the training result\n",
    "The training results include dataframes with eprformance metrics and predicted probability and labels.  "
   ]
  },
  {
   "cell_type": "code",
   "execution_count": 6,
   "id": "f176ff6d-01f6-4fb2-ac3b-f89d80d7c0a9",
   "metadata": {},
   "outputs": [
    {
     "name": "stdout",
     "output_type": "stream",
     "text": [
      "2025-02-03T18:21:03.6190255Z: PROGRESS (0/6) | In Progress...\n",
      "2025-02-03T18:21:08.4484680Z: PROGRESS (1/6) | Performing preprocessing/building of the model\n",
      "2025-02-03T18:21:09.5431400Z: PROGRESS (3/6) | Performing hyperparameter optimization...\n",
      "2025-02-03T18:21:09.5431400Z: PROGRESS (3/6) | Performing hyperparameter optimization...\n",
      "2025-02-03T18:21:09.5431400Z: PROGRESS (3/6) | Performing hyperparameter optimization...\n",
      "2025-02-03T18:21:26.5403730Z: PROGRESS (4/6) | Checking for feature selection methods...\n",
      "2025-02-03T18:21:26.5403730Z: PROGRESS (4/6) | Checking for feature selection methods...\n",
      "2025-02-03T18:21:26.5403730Z: PROGRESS (4/6) | Checking for feature selection methods...\n",
      "2025-02-03T18:21:44.1895160Z: PROGRESS (5/6) | Making predictions...\n",
      "2025-02-03T18:21:50.0857160Z: PROGRESS (6/6) | Saving files...\n",
      "2025-02-03T18:21:50.0857160Z: PROGRESS (6/6) | Saving files...\n"
     ]
    }
   ],
   "source": [
    "while(True):\n",
    "    training_result = client.get_training_result(model_name, train_request_result.train_id)\n",
    "    if training_result.completed:\n",
    "        break\n",
    "    print(training_result)\n",
    "    sleep(5)"
   ]
  },
  {
   "cell_type": "code",
   "execution_count": 7,
   "id": "48a037cf",
   "metadata": {},
   "outputs": [
    {
     "name": "stdout",
     "output_type": "stream",
     "text": [
      "predicted_prob_cv\n",
      "     Unnamed: 0       date       0.0       1.0\n",
      "0             0 2020-01-01  0.101022  0.898978\n",
      "1             1 2020-01-02  0.728072  0.271928\n",
      "2             2 2020-01-03  0.670253  0.329747\n",
      "3             3 2020-01-04  0.616022  0.383978\n",
      "4             4 2020-01-05  0.616022  0.383978\n",
      "..          ...        ...       ...       ...\n",
      "319         319 2020-11-15  0.895370  0.104630\n",
      "320         320 2020-11-16  0.406761  0.593239\n",
      "321         321 2020-11-17  0.826305  0.173695\n",
      "322         322 2020-11-18  0.724556  0.275444\n",
      "323         323 2020-11-19  0.155107  0.844893\n",
      "\n",
      "[324 rows x 4 columns]\n",
      "predicted_prob_test\n",
      "         date       0.0       1.0\n",
      "0  2020-11-20  0.448291  0.551709\n",
      "1  2020-11-21  0.533450  0.466550\n",
      "2  2020-11-22  0.533450  0.466550\n",
      "3  2020-11-23  0.634685  0.365315\n",
      "4  2020-11-24  0.196221  0.803779\n",
      "5  2020-11-25  0.541116  0.458884\n",
      "6  2020-11-26  0.269221  0.730779\n",
      "7  2020-11-27  0.128720  0.871280\n",
      "8  2020-11-28  0.678627  0.321373\n",
      "9  2020-11-29  0.678627  0.321373\n",
      "10 2020-11-30  0.205437  0.794563\n",
      "11 2020-12-01  0.930916  0.069084\n",
      "12 2020-12-02  0.800156  0.199844\n",
      "13 2020-12-03  0.703284  0.296716\n",
      "14 2020-12-04  0.806566  0.193434\n",
      "15 2020-12-05  0.767915  0.232085\n",
      "16 2020-12-06  0.767915  0.232085\n",
      "17 2020-12-07  0.373978  0.626022\n",
      "18 2020-12-08  0.421010  0.578990\n",
      "19 2020-12-09  0.597704  0.402296\n",
      "20 2020-12-10  0.449589  0.550411\n",
      "21 2020-12-11  0.728344  0.271656\n",
      "22 2020-12-12  0.386017  0.613983\n",
      "23 2020-12-13  0.386017  0.613983\n",
      "24 2020-12-14  0.211485  0.788515\n",
      "25 2020-12-15  0.414673  0.585327\n",
      "26 2020-12-16  0.431267  0.568733\n",
      "27 2020-12-17  0.235869  0.764131\n",
      "28 2020-12-18  0.635422  0.364578\n",
      "29 2020-12-19  0.831210  0.168790\n",
      "30 2020-12-20  0.831210  0.168790\n",
      "31 2020-12-21  0.804003  0.195997\n",
      "32 2020-12-22  0.912939  0.087061\n",
      "33 2020-12-23  0.871531  0.128469\n",
      "34 2020-12-24  0.316845  0.683155\n",
      "35 2020-12-25  0.157515  0.842485\n",
      "36 2020-12-26  0.157515  0.842485\n",
      "37 2020-12-27  0.157515  0.842485\n",
      "38 2020-12-28  0.264028  0.735972\n",
      "39 2020-12-29  0.806718  0.193282\n",
      "40 2020-12-30  0.341362  0.658638\n",
      "41 2020-12-31  0.266271  0.733729\n",
      "predicted_targets_cv\n",
      "     Unnamed: 0  true_target  pred_target\n",
      "0             0            0            1\n",
      "1             1            1            0\n",
      "2             2            1            0\n",
      "3             3            0            0\n",
      "4             4            0            0\n",
      "..          ...          ...          ...\n",
      "319         319            0            0\n",
      "320         320            1            1\n",
      "321         321            0            0\n",
      "322         322            1            0\n",
      "323         323            1            1\n",
      "\n",
      "[324 rows x 3 columns]\n",
      "predicted_targets_test\n",
      "         date  true_target  pred_target\n",
      "0  2020-11-20            1            1\n",
      "1  2020-11-21            0            0\n",
      "2  2020-11-22            0            0\n",
      "3  2020-11-23            0            0\n",
      "4  2020-11-24            1            1\n",
      "5  2020-11-25            1            0\n",
      "6  2020-11-26            1            1\n",
      "7  2020-11-27            0            1\n",
      "8  2020-11-28            0            0\n",
      "9  2020-11-29            0            0\n",
      "10 2020-11-30            0            1\n",
      "11 2020-12-01            0            0\n",
      "12 2020-12-02            0            0\n",
      "13 2020-12-03            0            0\n",
      "14 2020-12-04            1            0\n",
      "15 2020-12-05            0            0\n",
      "16 2020-12-06            0            0\n",
      "17 2020-12-07            0            1\n",
      "18 2020-12-08            0            1\n",
      "19 2020-12-09            1            0\n",
      "20 2020-12-10            0            1\n",
      "21 2020-12-11            1            0\n",
      "22 2020-12-12            0            1\n",
      "23 2020-12-13            0            1\n",
      "24 2020-12-14            0            1\n",
      "25 2020-12-15            1            1\n",
      "26 2020-12-16            1            1\n",
      "27 2020-12-17            1            1\n",
      "28 2020-12-18            1            0\n",
      "29 2020-12-19            0            0\n",
      "30 2020-12-20            0            0\n",
      "31 2020-12-21            1            0\n",
      "32 2020-12-22            0            0\n",
      "33 2020-12-23            1            0\n",
      "34 2020-12-24            0            1\n",
      "35 2020-12-25            0            1\n",
      "36 2020-12-26            0            1\n",
      "37 2020-12-27            0            1\n",
      "38 2020-12-28            1            1\n",
      "39 2020-12-29            0            0\n",
      "40 2020-12-30            0            1\n",
      "41 2020-12-31            0            1\n",
      "feature_importance\n",
      "    Unnamed: 0         0\n",
      "0       FSTS_2  0.022693\n",
      "1    MACRO_184  0.018156\n",
      "2         F125  0.017514\n",
      "3     MACRO_84  0.015956\n",
      "4          F53  0.011861\n",
      "..         ...       ...\n",
      "602  MACRO_355  0.000703\n",
      "603  MACRO_356  0.000703\n",
      "604   MACRO_79  0.000703\n",
      "605  MACRO_359  0.000703\n",
      "606  MACRO_360  0.000703\n",
      "\n",
      "[607 rows x 2 columns]\n",
      "performance_metrics\n",
      "  The range of the CV set is: 01-01-2020 00:00:00 to 19-11-2020 00:00:00\n",
      "0     THE ACCURACY SCORE FOR CV = 0.5493827160493827                    \n",
      "1           THE F1 SCORE FOR CV = 0.5387087203487565                    \n",
      "2          THE AUC SCORE FOR CV= 0.46698872785829304                    \n",
      "3  The range of the test set is: 20-11-2020 00:00...                    \n",
      "4                  THE ACCURACY SCORE FOR TEST = 0.5                    \n",
      "5         THE F1 SCORE FOR TEST = 0.5142857142857143                    \n",
      "6         THE AUC SCORE FOR TEST= 0.4846938775510204                    \n"
     ]
    }
   ],
   "source": [
    "# Predicted probability (float between 0 and 1) for validation/training data set\n",
    "# the last column notes the probability that it's a \"1\", i.e. positive return\n",
    "predicted_prob_cv = pd.read_json(StringIO(training_result.predicted_prob_cv))\n",
    "print(\"predicted_prob_cv\")\n",
    "print(predicted_prob_cv)\n",
    "\n",
    "# Predicted probability (float between 0 and 1) for the testing data set\n",
    "predicted_prob_test = pd.read_json(StringIO(training_result.predicted_prob_test))\n",
    "print(\"predicted_prob_test\")\n",
    "print(predicted_prob_test)\n",
    "\n",
    "# Predicted label, 0 or 1, for validation/training data set. Classified as class 1 if probability > 0.5\n",
    "predicted_targets_cv = pd.read_json(StringIO(training_result.predicted_targets_cv))\n",
    "print(\"predicted_targets_cv\")\n",
    "print(predicted_targets_cv)\n",
    "\n",
    "# Predicted label, 0 or 1, for testing data set. Classified as class 1 if probability > 0.5\n",
    "predicted_targets_test = pd.read_json(StringIO(training_result.predicted_targets_test))\n",
    "print(\"predicted_targets_test\")\n",
    "print(predicted_targets_test)\n",
    "\n",
    "# Feature importance score, shows what features are being used in the prediction\n",
    "# More helpful when you include your features\n",
    "# and only works when you set feature_selection to FeatureSelection.SHAP or FeatureSelection.CMDA\n",
    "if training_result.feature_importance:\n",
    "    feature_importance = pd.read_json(StringIO(training_result.feature_importance))\n",
    "    print(\"feature_importance\")\n",
    "    print(feature_importance)\n",
    "\n",
    "# Performance metrics in terms of accuracies\n",
    "performance_metrics = pd.read_json(StringIO(training_result.performance_metrics))\n",
    "print(\"performance_metrics\")\n",
    "print(performance_metrics)"
   ]
  },
  {
   "cell_type": "markdown",
   "id": "b9680e12-7f14-46e4-b11c-c5d1bce0aa02",
   "metadata": {},
   "source": [
    "### Start Predicting with the Trained Model"
   ]
  },
  {
   "cell_type": "code",
   "execution_count": 8,
   "id": "c12cc116-2363-4333-a134-119a4e8810de",
   "metadata": {},
   "outputs": [],
   "source": [
    "predict_result = client.predict(model_name, parquet_path, exploratory_data_analysis=False, probability_calibration=False)"
   ]
  },
  {
   "cell_type": "code",
   "execution_count": 9,
   "id": "e73fca37",
   "metadata": {},
   "outputs": [
    {
     "name": "stdout",
     "output_type": "stream",
     "text": [
      "labels\n",
      "     pred_target\n",
      "0              0\n",
      "1              0\n",
      "2              0\n",
      "3              0\n",
      "5              0\n",
      "..           ...\n",
      "359            0\n",
      "362            0\n",
      "363            0\n",
      "364            0\n",
      "365            0\n",
      "\n",
      "[308 rows x 1 columns]\n",
      "probabilities\n",
      "     1970-01-01 00:00:00  1970-01-01 00:00:01\n",
      "0                0.89321              0.10679\n",
      "1                0.89321              0.10679\n",
      "2                0.89321              0.10679\n",
      "3                0.89321              0.10679\n",
      "5                0.89321              0.10679\n",
      "..                   ...                  ...\n",
      "359              0.89321              0.10679\n",
      "362              0.89321              0.10679\n",
      "363              0.89321              0.10679\n",
      "364              0.89321              0.10679\n",
      "365              0.89321              0.10679\n",
      "\n",
      "[308 rows x 2 columns]\n"
     ]
    },
    {
     "name": "stderr",
     "output_type": "stream",
     "text": [
      "/tmp/ipykernel_769/1172872324.py:5: FutureWarning: The behavior of 'to_datetime' with 'unit' when parsing strings is deprecated. In a future version, strings will be parsed as datetime strings, matching the behavior without a 'unit'. To retain the old behavior, explicitly cast ints or floats to numeric type before calling to_datetime.\n",
      "  probabilities = pd.read_json(StringIO(predict_result.probabilities))\n"
     ]
    }
   ],
   "source": [
    "### Diplsay the prediction results\n",
    "labels = pd.read_json(StringIO(predict_result.labels))\n",
    "print(\"labels\")\n",
    "print(labels)\n",
    "probabilities = pd.read_json(StringIO(predict_result.probabilities))\n",
    "print(\"probabilities\")\n",
    "print(probabilities)"
   ]
  }
 ],
 "metadata": {
  "kernelspec": {
   "display_name": "Foundation-Py-Default",
   "language": "python",
   "name": "python3"
  },
  "language_info": {
   "codemirror_mode": {
    "name": "ipython",
    "version": 3
   },
   "file_extension": ".py",
   "mimetype": "text/x-python",
   "name": "python",
   "nbconvert_exporter": "python",
   "pygments_lexer": "ipython3",
   "version": "3.11.11"
  }
 },
 "nbformat": 4,
 "nbformat_minor": 5
}
