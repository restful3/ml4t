{
 "cells": [
  {
   "cell_type": "markdown",
   "id": "c4ee9c68",
   "metadata": {},
   "source": [
    "## Streaming Real Time Options Data with ThetaData"
   ]
  },
  {
   "cell_type": "code",
   "execution_count": null,
   "id": "99836870",
   "metadata": {},
   "outputs": [],
   "source": [
    "!pip install thetadata"
   ]
  },
  {
   "cell_type": "code",
   "execution_count": null,
   "id": "3d65a9f7",
   "metadata": {
    "lines_to_next_cell": 1
   },
   "outputs": [],
   "source": [
    "import datetime as dt\n",
    "from thetadata import ThetaClient, OptionRight, StreamMsgType, StreamResponseType"
   ]
  },
  {
   "cell_type": "code",
   "execution_count": null,
   "id": "99f61059",
   "metadata": {
    "lines_to_next_cell": 1
   },
   "outputs": [],
   "source": [
    "def callback(msg):\n",
    "    # Handle received messages\n",
    "    if msg.type == StreamMsgType.TRADE:\n",
    "        print(\"----------------------------------------------------\")\n",
    "        print(f\"Contract: {msg.contract.to_string()}\")\n",
    "        print(f\"Trade: {msg.trade.to_string()}\")\n",
    "        print(f\"Last quote at time of trade: {msg.quote.to_string()}\")"
   ]
  },
  {
   "cell_type": "code",
   "execution_count": null,
   "id": "d03c0b74",
   "metadata": {
    "lines_to_next_cell": 1
   },
   "outputs": [],
   "source": [
    "def stream_all_trades():\n",
    "    # Initialize the ThetaClient with your credentials\n",
    "    client = ThetaClient(username=\"YOUR_EMAIL\", passwd=\"YOUR_PASSWORD\")\n",
    "\n",
    "    # Connect to the data stream\n",
    "    client.connect_stream(callback)\n",
    "\n",
    "    # Request full trade stream for options\n",
    "    req_id = client.req_full_trade_stream_opt()\n",
    "\n",
    "    # Verify subscription\n",
    "    if client.verify(req_id) != StreamResponseType.SUBSCRIBED:\n",
    "        raise Exception(\"Unable to stream.\")"
   ]
  },
  {
   "cell_type": "markdown",
   "id": "a0fc2cb0",
   "metadata": {},
   "source": [
    "Start streaming all trades"
   ]
  },
  {
   "cell_type": "code",
   "execution_count": null,
   "id": "5723df3d",
   "metadata": {},
   "outputs": [],
   "source": [
    "stream_all_trades()"
   ]
  },
  {
   "cell_type": "markdown",
   "id": "f85fb8e4",
   "metadata": {},
   "source": [
    "Define parameters for a specific option contract"
   ]
  },
  {
   "cell_type": "code",
   "execution_count": null,
   "id": "48aa9934",
   "metadata": {
    "lines_to_next_cell": 1
   },
   "outputs": [],
   "source": [
    "ticker = \"SPY\"\n",
    "expiration_date = dt.date(2024, 12, 22)\n",
    "strike = 474"
   ]
  },
  {
   "cell_type": "code",
   "execution_count": null,
   "id": "5ebfddf4",
   "metadata": {
    "lines_to_next_cell": 1
   },
   "outputs": [],
   "source": [
    "def stream_contract():\n",
    "    # Initialize the ThetaClient with your credentials\n",
    "    client = ThetaClient(username=\"YOUR_EMAIL\", passwd=\"YOUR_PASSWORD\")\n",
    "\n",
    "    # Connect to the data stream\n",
    "    client.connect_stream(callback)\n",
    "\n",
    "    # Request trade stream for a specific option contract\n",
    "    req_id = client.req_trade_stream_opt(\n",
    "        ticker, expiration_date, strike, OptionRight.CALL\n",
    "    )\n",
    "\n",
    "    # Verify subscription\n",
    "    if client.verify(req_id) != StreamResponseType.SUBSCRIBED:\n",
    "        raise Exception(\"Unable to stream.\")"
   ]
  },
  {
   "cell_type": "markdown",
   "id": "45e31a7d",
   "metadata": {},
   "source": [
    "Start streaming trades for a specific contract"
   ]
  },
  {
   "cell_type": "code",
   "execution_count": null,
   "id": "f13de806",
   "metadata": {},
   "outputs": [],
   "source": [
    "stream_contract()"
   ]
  },
  {
   "cell_type": "markdown",
   "id": "449ca05a",
   "metadata": {},
   "source": [
    "**Jason Strimpel** is the founder of <a href='https://pyquantnews.com/'>PyQuant News</a> and co-founder of <a href='https://www.tradeblotter.io/'>Trade Blotter</a>. His career in algorithmic trading spans 20+ years. He previously traded for a Chicago-based hedge fund, was a risk manager at JPMorgan, and managed production risk technology for an energy derivatives trading firm in London. In Singapore, he served as APAC CIO for an agricultural trading firm and built the data science team for a global metals trading firm. Jason holds degrees in Finance and Economics and a Master's in Quantitative Finance from the Illinois Institute of Technology. His career spans America, Europe, and Asia. He shares his expertise through the <a href='https://pyquantnews.com/subscribe-to-the-pyquant-newsletter/'>PyQuant Newsletter</a>, social media, and has taught over 1,000+ algorithmic trading with Python in his popular course **<a href='https://gettingstartedwithpythonforquantfinance.com/'>Getting Started With Python for Quant Finance</a>**. All code is for educational purposes only. Nothing provided here is financial advise. Use at your own risk."
   ]
  },
  {
   "cell_type": "markdown",
   "id": "86b63629",
   "metadata": {},
   "source": [
    "## Streaming Real Time Options Data with ThetaData"
   ]
  },
  {
   "cell_type": "code",
   "execution_count": null,
   "id": "56719c5d",
   "metadata": {},
   "outputs": [],
   "source": [
    "import datetime as dt\n",
    "from thetadata import (\n",
    "    Quote,\n",
    "    StreamMsg,\n",
    "    ThetaClient,\n",
    "    OptionRight,\n",
    "    StreamMsgType,\n",
    "    StreamResponseType,\n",
    ")"
   ]
  },
  {
   "cell_type": "markdown",
   "id": "31f14024",
   "metadata": {},
   "source": [
    "Initialize global variables for last quotes and price"
   ]
  },
  {
   "cell_type": "code",
   "execution_count": null,
   "id": "7ff7f3fa",
   "metadata": {
    "lines_to_next_cell": 1
   },
   "outputs": [],
   "source": [
    "last_call_quote = Quote()\n",
    "last_put_quote = Quote()\n",
    "price = 0"
   ]
  },
  {
   "cell_type": "code",
   "execution_count": null,
   "id": "97a9b989",
   "metadata": {
    "lines_to_next_cell": 1
   },
   "outputs": [],
   "source": [
    "def callback_straddle(msg):\n",
    "    # Handle received messages\n",
    "    if msg.type != StreamMsgType.QUOTE:\n",
    "        return\n",
    "\n",
    "    global price\n",
    "\n",
    "    # Update the last call or put quote based on the message\n",
    "    if msg.contract.isCall:\n",
    "        last_call_quote.copy_from(msg.quote)\n",
    "    else:\n",
    "        last_put_quote.copy_from(msg.quote)\n",
    "\n",
    "    # Calculate straddle bid, ask, and mid prices\n",
    "    straddle_bid = round(last_call_quote.bid_price + last_put_quote.bid_price, 2)\n",
    "    straddle_ask = round(last_call_quote.ask_price + last_put_quote.ask_price, 2)\n",
    "    straddle_mid = round((straddle_bid + straddle_ask) / 2, 2)\n",
    "\n",
    "    # Get the timestamp from the message\n",
    "    time_stamp = thetadata.client.ms_to_time(msg.quote.ms_of_day)\n",
    "\n",
    "    # Print the straddle prices if they have changed\n",
    "    if price != straddle_mid:\n",
    "        print(\n",
    "            f\"time: {time_stamp} bid: {straddle_bid} mid: {straddle_mid} ask: {straddle_ask}\"\n",
    "        )\n",
    "        price = straddle_mid"
   ]
  },
  {
   "cell_type": "code",
   "execution_count": null,
   "id": "ef06d858",
   "metadata": {
    "lines_to_next_cell": 1
   },
   "outputs": [],
   "source": [
    "def stream_straddle():\n",
    "    # Initialize the ThetaClient with your credentials\n",
    "    client = ThetaClient(username=\"YOUR_EMAIL\", passwd=\"YOUR_PASSWORD\")\n",
    "    \n",
    "    # Connect to the data stream\n",
    "    client.connect_stream(callback_straddle)\n",
    "    \n",
    "    # Request quote streams for call and put options\n",
    "    req_id_call = client.req_quote_stream_opt(\n",
    "        \"SPY\", dt.date(2024, 3, 28), 475, OptionRight.CALL\n",
    "    )\n",
    "    req_id_put = client.req_quote_stream_opt(\n",
    "        \"SPY\", dt.date(2024, 3, 28), 475, OptionRight.PUT\n",
    "    )\n",
    "    \n",
    "    # Verify the subscriptions\n",
    "    if (\n",
    "        client.verify(req_id_call) != StreamResponseType.SUBSCRIBED\n",
    "        or client.verify(req_id_put) != StreamResponseType.SUBSCRIBED\n",
    "    ):\n",
    "        raise Exception(\"Unable to stream.\")"
   ]
  },
  {
   "cell_type": "markdown",
   "id": "b91fd61c",
   "metadata": {},
   "source": [
    "Start streaming straddle quotes"
   ]
  },
  {
   "cell_type": "code",
   "execution_count": null,
   "id": "eac908f3",
   "metadata": {},
   "outputs": [],
   "source": [
    "stream_straddle()"
   ]
  },
  {
   "cell_type": "markdown",
   "id": "07210957",
   "metadata": {},
   "source": [
    "**Jason Strimpel** is the founder of <a href='https://pyquantnews.com/'>PyQuant News</a> and co-founder of <a href='https://www.tradeblotter.io/'>Trade Blotter</a>. His career in algorithmic trading spans 20+ years. He previously traded for a Chicago-based hedge fund, was a risk manager at JPMorgan, and managed production risk technology for an energy derivatives trading firm in London. In Singapore, he served as APAC CIO for an agricultural trading firm and built the data science team for a global metals trading firm. Jason holds degrees in Finance and Economics and a Master's in Quantitative Finance from the Illinois Institute of Technology. His career spans America, Europe, and Asia. He shares his expertise through the <a href='https://pyquantnews.com/subscribe-to-the-pyquant-newsletter/'>PyQuant Newsletter</a>, social media, and has taught over 1,000+ algorithmic trading with Python in his popular course **<a href='https://gettingstartedwithpythonforquantfinance.com/'>Getting Started With Python for Quant Finance</a>**. All code is for educational purposes only. Nothing provided here is financial advise. Use at your own risk."
   ]
  },
  {
   "cell_type": "markdown",
   "id": "a6335847",
   "metadata": {},
   "source": [
    "## Streaming Real Time Options Data with ThetaData"
   ]
  },
  {
   "cell_type": "code",
   "execution_count": null,
   "id": "599050bc",
   "metadata": {},
   "outputs": [],
   "source": [
    "import datetime as dt\n",
    "from thetadata import (\n",
    "    Quote,\n",
    "    StreamMsg,\n",
    "    ThetaClient,\n",
    "    OptionRight,\n",
    "    StreamMsgType,\n",
    "    StreamResponseType,\n",
    ")"
   ]
  },
  {
   "cell_type": "markdown",
   "id": "39460b0b",
   "metadata": {},
   "source": [
    "Define the option contract parameters for the Iron Condor"
   ]
  },
  {
   "cell_type": "code",
   "execution_count": null,
   "id": "4740beb8",
   "metadata": {},
   "outputs": [],
   "source": [
    "ticker = \"SPY\"\n",
    "expiration_date = dt.date(2024, 3, 28)\n",
    "long_put_strike = 460\n",
    "short_put_strike = 465\n",
    "short_call_strike = 480\n",
    "long_call_strike = 485"
   ]
  },
  {
   "cell_type": "markdown",
   "id": "eb27a7da",
   "metadata": {},
   "source": [
    "Initialize global variables for option quotes and price"
   ]
  },
  {
   "cell_type": "code",
   "execution_count": null,
   "id": "fd4ff2e8",
   "metadata": {
    "lines_to_next_cell": 1
   },
   "outputs": [],
   "source": [
    "long_put = Quote()\n",
    "short_put = Quote()\n",
    "short_call = Quote()\n",
    "long_call = Quote()\n",
    "price = 0"
   ]
  },
  {
   "cell_type": "code",
   "execution_count": null,
   "id": "813a88d6",
   "metadata": {
    "lines_to_next_cell": 1
   },
   "outputs": [],
   "source": [
    "def callback_iron_condor(msg):\n",
    "    # Handle received messages\n",
    "    if msg.type != StreamMsgType.QUOTE:\n",
    "        return\n",
    "    \n",
    "    global price\n",
    "    \n",
    "    # Update the relevant quote based on the message\n",
    "    if not msg.contract.isCall and msg.contract.strike == long_put_strike:\n",
    "        long_put.copy_from(msg.quote)\n",
    "    elif not msg.contract.isCall and msg.contract.strike == short_put_strike:\n",
    "        short_put.copy_from(msg.quote)\n",
    "    elif msg.contract.isCall and msg.contract.strike == short_call_strike:\n",
    "        short_call.copy_from(msg.quote)\n",
    "    elif msg.contract.isCall and msg.contract.strike == long_call_strike:\n",
    "        long_call.copy_from(msg.quote)\n",
    "    \n",
    "    # Calculate Iron Condor bid, ask, and mid prices\n",
    "    condor_bid = round(\n",
    "        long_put.bid_price\n",
    "        - short_put.bid_price\n",
    "        + long_call.bid_price\n",
    "        - short_call.bid_price,\n",
    "        2,\n",
    "    )\n",
    "    condor_ask = round(\n",
    "        long_put.ask_price\n",
    "        - short_put.ask_price\n",
    "        + long_call.ask_price\n",
    "        - short_call.ask_price,\n",
    "        2,\n",
    "    )\n",
    "    condor_mid = round((condor_ask + condor_bid) / 2, 2)\n",
    "\n",
    "    # Get the timestamp from the message\n",
    "    time_stamp = thetadata.client.ms_to_time(msg.quote.ms_of_day)\n",
    "    \n",
    "    # Print the Iron Condor prices if they have changed\n",
    "    if price != condor_mid:\n",
    "        print(\n",
    "            f\"time: {time_stamp} bid: {condor_bid} mid: {condor_mid} ask: {condor_ask}\"\n",
    "        )\n",
    "        price = condor_mid"
   ]
  },
  {
   "cell_type": "code",
   "execution_count": null,
   "id": "d2ea3903",
   "metadata": {
    "lines_to_next_cell": 1
   },
   "outputs": [],
   "source": [
    "def stream_iron_condor():\n",
    "    # Initialize the ThetaClient with your credentials\n",
    "    client = ThetaClient(username=\"YOUR_EMAIL\", passwd=\"YOUR_PASSWORD\")\n",
    "    \n",
    "    # Connect to the data stream\n",
    "    client.connect_stream(callback_iron_condor)\n",
    "    \n",
    "    # Request quote streams for all four legs of the Iron Condor\n",
    "    lp_id = client.req_quote_stream_opt(\n",
    "        ticker, expiration_date, long_put_strike, OptionRight.PUT\n",
    "    )\n",
    "    sp_id = client.req_quote_stream_opt(\n",
    "        ticker, expiration_date, short_put_strike, OptionRight.PUT\n",
    "    )\n",
    "    sc_id = client.req_quote_stream_opt(\n",
    "        ticker, expiration_date, short_call_strike, OptionRight.CALL\n",
    "    )\n",
    "    lc_id = client.req_quote_stream_opt(\n",
    "        ticker, expiration_date, long_call_strike, OptionRight.CALL\n",
    "    )\n",
    "    \n",
    "    # Verify the subscriptions\n",
    "    if (\n",
    "        client.verify(lp_id) != StreamResponseType.SUBSCRIBED\n",
    "        or client.verify(sp_id) != StreamResponseType.SUBSCRIBED\n",
    "        or client.verify(sc_id) != StreamResponseType.SUBSCRIBED\n",
    "        or client.verify(lc_id) != StreamResponseType.SUBSCRIBED\n",
    "    ):\n",
    "        raise Exception(\"Unable to stream.\")"
   ]
  },
  {
   "cell_type": "markdown",
   "id": "698dcda8",
   "metadata": {},
   "source": [
    "Start streaming Iron Condor quotes"
   ]
  },
  {
   "cell_type": "code",
   "execution_count": null,
   "id": "ffd3384b",
   "metadata": {},
   "outputs": [],
   "source": [
    "stream_iron_condor()"
   ]
  },
  {
   "cell_type": "markdown",
   "id": "21c11d49",
   "metadata": {},
   "source": [
    "**Jason Strimpel** is the founder of <a href='https://pyquantnews.com/'>PyQuant News</a> and co-founder of <a href='https://www.tradeblotter.io/'>Trade Blotter</a>. His career in algorithmic trading spans 20+ years. He previously traded for a Chicago-based hedge fund, was a risk manager at JPMorgan, and managed production risk technology for an energy derivatives trading firm in London. In Singapore, he served as APAC CIO for an agricultural trading firm and built the data science team for a global metals trading firm. Jason holds degrees in Finance and Economics and a Master's in Quantitative Finance from the Illinois Institute of Technology. His career spans America, Europe, and Asia. He shares his expertise through the <a href='https://pyquantnews.com/subscribe-to-the-pyquant-newsletter/'>PyQuant Newsletter</a>, social media, and has taught over 1,000+ algorithmic trading with Python in his popular course **<a href='https://gettingstartedwithpythonforquantfinance.com/'>Getting Started With Python for Quant Finance</a>**. All code is for educational purposes only. Nothing provided here is financial advise. Use at your own risk."
   ]
  },
  {
   "cell_type": "markdown",
   "id": "ea5a74f5",
   "metadata": {},
   "source": [
    "## Using the ArcticDB DataFrame Database for Tick Storage"
   ]
  },
  {
   "cell_type": "code",
   "execution_count": null,
   "id": "5e8d1bd1",
   "metadata": {},
   "outputs": [],
   "source": [
    "!conda install -c conda-forge arcticdb -y"
   ]
  },
  {
   "cell_type": "code",
   "execution_count": null,
   "id": "0327b605",
   "metadata": {},
   "outputs": [],
   "source": [
    "from IPython.display import display, Markdown\n",
    "import time\n",
    "import pytz\n",
    "import datetime as dt\n",
    "import pandas as pd\n",
    "import arcticdb as adb"
   ]
  },
  {
   "cell_type": "code",
   "execution_count": null,
   "id": "36b9fbe6",
   "metadata": {},
   "outputs": [],
   "source": [
    "from thetadata import (\n",
    "    ThetaClient,\n",
    "    OptionRight,\n",
    "    StreamMsg,\n",
    "    StreamMsgType,\n",
    "    StreamResponseType,\n",
    ")"
   ]
  },
  {
   "cell_type": "markdown",
   "id": "4d102a59",
   "metadata": {},
   "source": [
    "Initialize ArcticDB and create a library for trades"
   ]
  },
  {
   "cell_type": "code",
   "execution_count": null,
   "id": "373eafc6",
   "metadata": {
    "lines_to_next_cell": 1
   },
   "outputs": [],
   "source": [
    "arctic = adb.Arctic(\"lmdb://arcticdb_options\")\n",
    "lib = arctic.get_library(\"trades\", create_if_missing=True)"
   ]
  },
  {
   "cell_type": "markdown",
   "id": "d4de90d3",
   "metadata": {},
   "source": [
    "Function to get the trade datetime"
   ]
  },
  {
   "cell_type": "code",
   "execution_count": null,
   "id": "584a91f9",
   "metadata": {
    "lines_to_next_cell": 1
   },
   "outputs": [],
   "source": [
    "def get_trade_datetime(today, ms_of_day):\n",
    "    return today + dt.timedelta(milliseconds=ms_of_day)"
   ]
  },
  {
   "cell_type": "markdown",
   "id": "7c297b5a",
   "metadata": {},
   "source": [
    "Function to get the number of days to expiration"
   ]
  },
  {
   "cell_type": "code",
   "execution_count": null,
   "id": "e7fd1dd5",
   "metadata": {
    "lines_to_next_cell": 1
   },
   "outputs": [],
   "source": [
    "def get_days_to_expiration(today, expiration):\n",
    "    return (expiration - today).days"
   ]
  },
  {
   "cell_type": "markdown",
   "id": "b69590d9",
   "metadata": {},
   "source": [
    "Callback function to handle received messages"
   ]
  },
  {
   "cell_type": "code",
   "execution_count": null,
   "id": "edb5d41f",
   "metadata": {
    "lines_to_next_cell": 1
   },
   "outputs": [],
   "source": [
    "def callback(msg):\n",
    "    today = dt.datetime.now(pytz.timezone(\"US/Eastern\")).replace(\n",
    "        hour=0, minute=0, second=0, microsecond=0\n",
    "    )\n",
    "\n",
    "    if msg.type == StreamMsgType.TRADE:\n",
    "        trade_datetime = get_trade_datetime(today, msg.trade.ms_of_day)\n",
    "        expiration = pd.to_datetime(msg.contract.exp).tz_localize(\"US/Eastern\")\n",
    "        days_to_expiration = get_days_to_expiration(today, expiration)\n",
    "        symbol = msg.contract.root\n",
    "        trade = {\n",
    "            \"root\": symbol,\n",
    "            \"expiration\": expiration,\n",
    "            \"days_to_expiration\": days_to_expiration,\n",
    "            \"is_call\": msg.contract.isCall,\n",
    "            \"strike\": msg.contract.strike,\n",
    "            \"size\": msg.trade.size,\n",
    "            \"trade_price\": msg.trade.price,\n",
    "            \"exchange\": str(msg.trade.exchange.value[1]),\n",
    "            \"bid_size\": msg.quote.bid_size,\n",
    "            \"bid_price\": msg.quote.bid_price,\n",
    "            \"ask_size\": msg.quote.ask_size,\n",
    "            \"ask_price\": msg.quote.ask_price,\n",
    "        }\n",
    "        trade_df = pd.DataFrame(trade, index=[trade_datetime])\n",
    "        if symbol in lib.list_symbols():\n",
    "            lib.update(symbol, trade_df, upsert=True)\n",
    "        else:\n",
    "            lib.write(symbol, trade_df)"
   ]
  },
  {
   "cell_type": "markdown",
   "id": "787716a5",
   "metadata": {},
   "source": [
    "Function to start streaming all trades"
   ]
  },
  {
   "cell_type": "code",
   "execution_count": null,
   "id": "c4a62d6c",
   "metadata": {
    "lines_to_next_cell": 1
   },
   "outputs": [],
   "source": [
    "def stream_all_trades():\n",
    "    client = ThetaClient(username=\"YOUR_USERNAME\", passwd=\"YOUR_PASSWORD\")\n",
    "\n",
    "    client.connect_stream(callback)\n",
    "\n",
    "    req_id = client.req_full_trade_stream_opt()\n",
    "\n",
    "    response = client.verify(req_id)\n",
    "\n",
    "    if client.verify(req_id) != StreamResponseType.SUBSCRIBED:\n",
    "        raise Exception(\"Unable to stream.\")\n",
    "\n",
    "    time.sleep(120)  # Stream for 2 minutes\n",
    "\n",
    "    print(\"Cancelling stream...\")\n",
    "\n",
    "    client.remove_full_trade_stream_opt()"
   ]
  },
  {
   "cell_type": "markdown",
   "id": "1526620d",
   "metadata": {},
   "source": [
    "Start streaming trades"
   ]
  },
  {
   "cell_type": "code",
   "execution_count": null,
   "id": "60c0ffc1",
   "metadata": {},
   "outputs": [],
   "source": [
    "stream_all_trades()"
   ]
  },
  {
   "cell_type": "markdown",
   "id": "57361adb",
   "metadata": {},
   "source": [
    "Defragment symbols if necessary"
   ]
  },
  {
   "cell_type": "code",
   "execution_count": null,
   "id": "b3c76b04",
   "metadata": {},
   "outputs": [],
   "source": [
    "for symbol in lib.list_symbols():\n",
    "    if lib.is_symbol_fragmented(symbol):\n",
    "        lib.defragment_symbol_data(symbol)"
   ]
  },
  {
   "cell_type": "markdown",
   "id": "ebf85f7c",
   "metadata": {},
   "source": [
    "List the symbols in the library"
   ]
  },
  {
   "cell_type": "code",
   "execution_count": null,
   "id": "a041746b",
   "metadata": {},
   "outputs": [],
   "source": [
    "lib.list_symbols()"
   ]
  },
  {
   "cell_type": "markdown",
   "id": "4faa28d9",
   "metadata": {},
   "source": [
    "Read all the data for one of the symbols (e.g., QQQ)"
   ]
  },
  {
   "cell_type": "code",
   "execution_count": null,
   "id": "02c1a045",
   "metadata": {},
   "outputs": [],
   "source": [
    "qqq = lib.read(\"QQQ\").data\n",
    "display(qqq)"
   ]
  },
  {
   "cell_type": "markdown",
   "id": "d9680cbe",
   "metadata": {},
   "source": [
    "Use the query builder to find options with tight spread"
   ]
  },
  {
   "cell_type": "code",
   "execution_count": null,
   "id": "cf9f802d",
   "metadata": {},
   "outputs": [],
   "source": [
    "q = adb.QueryBuilder()\n",
    "filter = (q.ask_price - q.bid_price) < 0.05\n",
    "q = q[filter]\n",
    "data = lib.read(\"QQQ\", query_builder=q).data"
   ]
  },
  {
   "cell_type": "code",
   "execution_count": null,
   "id": "1b6172a9",
   "metadata": {},
   "outputs": [],
   "source": [
    "display(data)"
   ]
  },
  {
   "cell_type": "markdown",
   "id": "c2e03d99",
   "metadata": {},
   "source": [
    "Use the query builder to find options with more than 1 day to expiration"
   ]
  },
  {
   "cell_type": "code",
   "execution_count": null,
   "id": "65e2a490",
   "metadata": {},
   "outputs": [],
   "source": [
    "q = adb.QueryBuilder()\n",
    "filter = q.days_to_expiration > 1\n",
    "q = q[filter].groupby(\"expiration\").agg({\"bid_size\": \"sum\", \"ask_size\": \"sum\"})\n",
    "data = lib.read(\"QQQ\", query_builder=q).data.sort_index()"
   ]
  },
  {
   "cell_type": "code",
   "execution_count": null,
   "id": "61016253",
   "metadata": {},
   "outputs": [],
   "source": [
    "display(data)"
   ]
  },
  {
   "cell_type": "markdown",
   "id": "dec917e0",
   "metadata": {},
   "source": [
    "**Jason Strimpel** is the founder of <a href='https://pyquantnews.com/'>PyQuant News</a> and co-founder of <a href='https://www.tradeblotter.io/'>Trade Blotter</a>. His career in algorithmic trading spans 20+ years. He previously traded for a Chicago-based hedge fund, was a risk manager at JPMorgan, and managed production risk technology for an energy derivatives trading firm in London. In Singapore, he served as APAC CIO for an agricultural trading firm and built the data science team for a global metals trading firm. Jason holds degrees in Finance and Economics and a Master's in Quantitative Finance from the Illinois Institute of Technology. His career spans America, Europe, and Asia. He shares his expertise through the <a href='https://pyquantnews.com/subscribe-to-the-pyquant-newsletter/'>PyQuant Newsletter</a>, social media, and has taught over 1,000+ algorithmic trading with Python in his popular course **<a href='https://gettingstartedwithpythonforquantfinance.com/'>Getting Started With Python for Quant Finance</a>**. All code is for educational purposes only. Nothing provided here is financial advise. Use at your own risk."
   ]
  }
 ],
 "metadata": {
  "jupytext": {
   "cell_metadata_filter": "-all",
   "main_language": "python",
   "notebook_metadata_filter": "-all"
  }
 },
 "nbformat": 4,
 "nbformat_minor": 5
}
