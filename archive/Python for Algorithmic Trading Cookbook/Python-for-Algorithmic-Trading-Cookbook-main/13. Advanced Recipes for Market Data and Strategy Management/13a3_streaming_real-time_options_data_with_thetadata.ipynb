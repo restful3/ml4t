{
 "cells": [
  {
   "cell_type": "markdown",
   "id": "a6335847",
   "metadata": {},
   "source": [
    "## Streaming Real Time Options Data with ThetaData"
   ]
  },
  {
   "cell_type": "code",
   "execution_count": null,
   "id": "599050bc",
   "metadata": {},
   "outputs": [],
   "source": [
    "import datetime as dt\n",
    "from thetadata import (\n",
    "    Quote,\n",
    "    StreamMsg,\n",
    "    ThetaClient,\n",
    "    OptionRight,\n",
    "    StreamMsgType,\n",
    "    StreamResponseType,\n",
    ")"
   ]
  },
  {
   "cell_type": "markdown",
   "id": "39460b0b",
   "metadata": {},
   "source": [
    "Define the option contract parameters for the Iron Condor"
   ]
  },
  {
   "cell_type": "code",
   "execution_count": null,
   "id": "4740beb8",
   "metadata": {},
   "outputs": [],
   "source": [
    "ticker = \"SPY\"\n",
    "expiration_date = dt.date(2024, 3, 28)\n",
    "long_put_strike = 460\n",
    "short_put_strike = 465\n",
    "short_call_strike = 480\n",
    "long_call_strike = 485"
   ]
  },
  {
   "cell_type": "markdown",
   "id": "eb27a7da",
   "metadata": {},
   "source": [
    "Initialize global variables for option quotes and price"
   ]
  },
  {
   "cell_type": "code",
   "execution_count": null,
   "id": "fd4ff2e8",
   "metadata": {
    "lines_to_next_cell": 1
   },
   "outputs": [],
   "source": [
    "long_put = Quote()\n",
    "short_put = Quote()\n",
    "short_call = Quote()\n",
    "long_call = Quote()\n",
    "price = 0"
   ]
  },
  {
   "cell_type": "code",
   "execution_count": null,
   "id": "813a88d6",
   "metadata": {
    "lines_to_next_cell": 1
   },
   "outputs": [],
   "source": [
    "def callback_iron_condor(msg):\n",
    "    # Handle received messages\n",
    "    if msg.type != StreamMsgType.QUOTE:\n",
    "        return\n",
    "    \n",
    "    global price\n",
    "    \n",
    "    # Update the relevant quote based on the message\n",
    "    if not msg.contract.isCall and msg.contract.strike == long_put_strike:\n",
    "        long_put.copy_from(msg.quote)\n",
    "    elif not msg.contract.isCall and msg.contract.strike == short_put_strike:\n",
    "        short_put.copy_from(msg.quote)\n",
    "    elif msg.contract.isCall and msg.contract.strike == short_call_strike:\n",
    "        short_call.copy_from(msg.quote)\n",
    "    elif msg.contract.isCall and msg.contract.strike == long_call_strike:\n",
    "        long_call.copy_from(msg.quote)\n",
    "    \n",
    "    # Calculate Iron Condor bid, ask, and mid prices\n",
    "    condor_bid = round(\n",
    "        long_put.bid_price\n",
    "        - short_put.bid_price\n",
    "        + long_call.bid_price\n",
    "        - short_call.bid_price,\n",
    "        2,\n",
    "    )\n",
    "    condor_ask = round(\n",
    "        long_put.ask_price\n",
    "        - short_put.ask_price\n",
    "        + long_call.ask_price\n",
    "        - short_call.ask_price,\n",
    "        2,\n",
    "    )\n",
    "    condor_mid = round((condor_ask + condor_bid) / 2, 2)\n",
    "\n",
    "    # Get the timestamp from the message\n",
    "    time_stamp = thetadata.client.ms_to_time(msg.quote.ms_of_day)\n",
    "    \n",
    "    # Print the Iron Condor prices if they have changed\n",
    "    if price != condor_mid:\n",
    "        print(\n",
    "            f\"time: {time_stamp} bid: {condor_bid} mid: {condor_mid} ask: {condor_ask}\"\n",
    "        )\n",
    "        price = condor_mid"
   ]
  },
  {
   "cell_type": "code",
   "execution_count": null,
   "id": "d2ea3903",
   "metadata": {
    "lines_to_next_cell": 1
   },
   "outputs": [],
   "source": [
    "def stream_iron_condor():\n",
    "    # Initialize the ThetaClient with your credentials\n",
    "    client = ThetaClient(username=\"YOUR_EMAIL\", passwd=\"YOUR_PASSWORD\")\n",
    "    \n",
    "    # Connect to the data stream\n",
    "    client.connect_stream(callback_iron_condor)\n",
    "    \n",
    "    # Request quote streams for all four legs of the Iron Condor\n",
    "    lp_id = client.req_quote_stream_opt(\n",
    "        ticker, expiration_date, long_put_strike, OptionRight.PUT\n",
    "    )\n",
    "    sp_id = client.req_quote_stream_opt(\n",
    "        ticker, expiration_date, short_put_strike, OptionRight.PUT\n",
    "    )\n",
    "    sc_id = client.req_quote_stream_opt(\n",
    "        ticker, expiration_date, short_call_strike, OptionRight.CALL\n",
    "    )\n",
    "    lc_id = client.req_quote_stream_opt(\n",
    "        ticker, expiration_date, long_call_strike, OptionRight.CALL\n",
    "    )\n",
    "    \n",
    "    # Verify the subscriptions\n",
    "    if (\n",
    "        client.verify(lp_id) != StreamResponseType.SUBSCRIBED\n",
    "        or client.verify(sp_id) != StreamResponseType.SUBSCRIBED\n",
    "        or client.verify(sc_id) != StreamResponseType.SUBSCRIBED\n",
    "        or client.verify(lc_id) != StreamResponseType.SUBSCRIBED\n",
    "    ):\n",
    "        raise Exception(\"Unable to stream.\")"
   ]
  },
  {
   "cell_type": "markdown",
   "id": "698dcda8",
   "metadata": {},
   "source": [
    "Start streaming Iron Condor quotes"
   ]
  },
  {
   "cell_type": "code",
   "execution_count": null,
   "id": "ffd3384b",
   "metadata": {},
   "outputs": [],
   "source": [
    "stream_iron_condor()"
   ]
  },
  {
   "cell_type": "markdown",
   "id": "21c11d49",
   "metadata": {},
   "source": [
    "**Jason Strimpel** is the founder of <a href='https://pyquantnews.com/'>PyQuant News</a> and co-founder of <a href='https://www.tradeblotter.io/'>Trade Blotter</a>. His career in algorithmic trading spans 20+ years. He previously traded for a Chicago-based hedge fund, was a risk manager at JPMorgan, and managed production risk technology for an energy derivatives trading firm in London. In Singapore, he served as APAC CIO for an agricultural trading firm and built the data science team for a global metals trading firm. Jason holds degrees in Finance and Economics and a Master's in Quantitative Finance from the Illinois Institute of Technology. His career spans America, Europe, and Asia. He shares his expertise through the <a href='https://pyquantnews.com/subscribe-to-the-pyquant-newsletter/'>PyQuant Newsletter</a>, social media, and has taught over 1,000+ algorithmic trading with Python in his popular course **<a href='https://gettingstartedwithpythonforquantfinance.com/'>Getting Started With Python for Quant Finance</a>**. All code is for educational purposes only. Nothing provided here is financial advise. Use at your own risk."
   ]
  }
 ],
 "metadata": {
  "jupytext": {
   "cell_metadata_filter": "-all",
   "main_language": "python",
   "notebook_metadata_filter": "-all"
  }
 },
 "nbformat": 4,
 "nbformat_minor": 5
}
