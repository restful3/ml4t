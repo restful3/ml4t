{
 "cells": [
  {
   "cell_type": "markdown",
   "id": "9438aa74",
   "metadata": {},
   "source": [
    "## Storing data on disk in CSV format"
   ]
  },
  {
   "cell_type": "code",
   "execution_count": 1,
   "id": "6da5a540",
   "metadata": {},
   "outputs": [],
   "source": [
    "import pandas as pd\n",
    "from openbb import obb"
   ]
  },
  {
   "cell_type": "code",
   "execution_count": 2,
   "id": "0be2de01",
   "metadata": {},
   "outputs": [],
   "source": [
    "obb.user.preferences.output_type = \"dataframe\""
   ]
  },
  {
   "cell_type": "markdown",
   "id": "63b87610",
   "metadata": {
    "lines_to_next_cell": 2
   },
   "source": [
    "Function to fetch historical stock data for a given symbol and date range, and add a 'symbol' column"
   ]
  },
  {
   "cell_type": "code",
   "execution_count": 3,
   "id": "798975af",
   "metadata": {
    "lines_to_next_cell": 2
   },
   "outputs": [],
   "source": [
    "def get_stock_data(symbol, start_date=None, end_date=None):\n",
    "    data = obb.equity.price.historical(\n",
    "        symbol,\n",
    "        start_date=start_date,\n",
    "        end_date=end_date,\n",
    "        provider=\"yfinance\",\n",
    "    )\n",
    "    data.reset_index(inplace=True)\n",
    "    data[\"symbol\"] = symbol\n",
    "    return data"
   ]
  },
  {
   "cell_type": "markdown",
   "id": "50da6bdb",
   "metadata": {
    "lines_to_next_cell": 2
   },
   "source": [
    "Function to save the fetched stock data to a gzipped CSV file"
   ]
  },
  {
   "cell_type": "code",
   "execution_count": 4,
   "id": "aef69e67",
   "metadata": {
    "lines_to_next_cell": 2
   },
   "outputs": [],
   "source": [
    "def save_data_range(symbol, start_date=None, end_date=None):\n",
    "    data = get_stock_data(symbol, start_date, end_date)\n",
    "    data.to_csv(f\"{symbol}.gz\", compression=\"gzip\", index=False)"
   ]
  },
  {
   "cell_type": "markdown",
   "id": "27a04bc5",
   "metadata": {
    "lines_to_next_cell": 2
   },
   "source": [
    "Function to read stock data from a gzipped CSV file"
   ]
  },
  {
   "cell_type": "code",
   "execution_count": 5,
   "id": "a977e57c",
   "metadata": {},
   "outputs": [],
   "source": [
    "def get_data(symbol):\n",
    "    return pd.read_csv(\n",
    "        f\"{symbol}.gz\",\n",
    "        compression=\"gzip\",\n",
    "        index_col=\"date\",\n",
    "        usecols=[\"date\", \"open\", \"high\", \"low\", \"close\", \"volume\", \"symbol\"],\n",
    "    )"
   ]
  },
  {
   "cell_type": "markdown",
   "id": "81884720",
   "metadata": {},
   "source": [
    "Save data for the stock symbol \"PLTR\""
   ]
  },
  {
   "cell_type": "code",
   "execution_count": 6,
   "id": "4df17ff7",
   "metadata": {},
   "outputs": [],
   "source": [
    "save_data_range(\"PLTR\")"
   ]
  },
  {
   "cell_type": "markdown",
   "id": "dc4a0d1c",
   "metadata": {},
   "source": [
    "Get the saved data for \"PLTR\""
   ]
  },
  {
   "cell_type": "code",
   "execution_count": 7,
   "id": "d283ec54",
   "metadata": {},
   "outputs": [],
   "source": [
    "pltr = get_data(\"PLTR\")"
   ]
  },
  {
   "cell_type": "markdown",
   "id": "4959baa9",
   "metadata": {},
   "source": [
    "Save the DataFrame 'df' to a CSV file"
   ]
  },
  {
   "cell_type": "code",
   "execution_count": 9,
   "id": "483a13d7",
   "metadata": {},
   "outputs": [],
   "source": [
    "pltr.to_csv(\"market_data.csv\")"
   ]
  },
  {
   "cell_type": "markdown",
   "id": "f3e53a87",
   "metadata": {},
   "source": [
    "Save the DataFrame 'df' to a tab-separated file"
   ]
  },
  {
   "cell_type": "code",
   "execution_count": 10,
   "id": "680d5918",
   "metadata": {},
   "outputs": [],
   "source": [
    "pltr.to_csv(\"market_data.tsv\", sep=\"\\t\")"
   ]
  },
  {
   "cell_type": "markdown",
   "id": "3e65b9ce",
   "metadata": {},
   "source": [
    "Save specific columns of 'df' to a CSV file"
   ]
  },
  {
   "cell_type": "code",
   "execution_count": 11,
   "id": "48e59bb6",
   "metadata": {},
   "outputs": [],
   "source": [
    "pltr.to_csv(\"market_data.csv\", columns=[\"open\", \"close\"])"
   ]
  },
  {
   "cell_type": "markdown",
   "id": "8df91bec",
   "metadata": {},
   "source": [
    "Save 'df' to a CSV file with a specific date format"
   ]
  },
  {
   "cell_type": "code",
   "execution_count": 12,
   "id": "07962aa6",
   "metadata": {},
   "outputs": [],
   "source": [
    "pltr.to_csv(\"market_data.csv\", date_format=\"%Y-%m-%d\")"
   ]
  },
  {
   "cell_type": "markdown",
   "id": "46b7b7e7",
   "metadata": {},
   "source": [
    "Read the first 10 rows of the CSV file"
   ]
  },
  {
   "cell_type": "code",
   "execution_count": 13,
   "id": "657cfaca",
   "metadata": {},
   "outputs": [],
   "source": [
    "pltr = pd.read_csv(\"market_data.csv\", nrows=10)"
   ]
  },
  {
   "cell_type": "markdown",
   "id": "b55bc115",
   "metadata": {},
   "source": [
    "Skip the first 10 rows and read the rest of the CSV file"
   ]
  },
  {
   "cell_type": "code",
   "execution_count": 14,
   "id": "71488696",
   "metadata": {},
   "outputs": [],
   "source": [
    "pltr = pd.read_csv(\"market_data.csv\", skiprows=range(1, 11))"
   ]
  },
  {
   "cell_type": "markdown",
   "id": "3590bcae",
   "metadata": {},
   "source": [
    "Read the CSV file and specify 'NULL' as the value to be treated as NaN"
   ]
  },
  {
   "cell_type": "code",
   "execution_count": 15,
   "id": "ab73ea34",
   "metadata": {},
   "outputs": [],
   "source": [
    "pltr = pd.read_csv(\"market_data.csv\", na_values=\"NULL\")"
   ]
  },
  {
   "cell_type": "markdown",
   "id": "f9e5fd59",
   "metadata": {},
   "source": [
    "**Jason Strimpel** is the founder of <a href='https://pyquantnews.com/'>PyQuant News</a> and co-founder of <a href='https://www.tradeblotter.io/'>Trade Blotter</a>. His career in algorithmic trading spans 20+ years. He previously traded for a Chicago-based hedge fund, was a risk manager at JPMorgan, and managed production risk technology for an energy derivatives trading firm in London. In Singapore, he served as APAC CIO for an agricultural trading firm and built the data science team for a global metals trading firm. Jason holds degrees in Finance and Economics and a Master's in Quantitative Finance from the Illinois Institute of Technology. His career spans America, Europe, and Asia. He shares his expertise through the <a href='https://pyquantnews.com/subscribe-to-the-pyquant-newsletter/'>PyQuant Newsletter</a>, social media, and has taught over 1,000+ algorithmic trading with Python in his popular course **<a href='https://gettingstartedwithpythonforquantfinance.com/'>Getting Started With Python for Quant Finance</a>**. All code is for educational purposes only. Nothing provided here is financial advise. Use at your own risk."
   ]
  },
  {
   "cell_type": "code",
   "execution_count": null,
   "id": "43d4b6cb-1c99-4cba-a041-59c78d54d007",
   "metadata": {},
   "outputs": [],
   "source": []
  },
  {
   "cell_type": "markdown",
   "id": "bcdaf55c",
   "metadata": {},
   "source": [
    "## Storing data on disk with SQLite"
   ]
  },
  {
   "cell_type": "code",
   "execution_count": null,
   "id": "61b6206c",
   "metadata": {},
   "outputs": [],
   "source": [
    "!pip install exchange-calendars"
   ]
  },
  {
   "cell_type": "code",
   "execution_count": 1,
   "id": "746d2538",
   "metadata": {},
   "outputs": [],
   "source": [
    "import sqlite3"
   ]
  },
  {
   "cell_type": "code",
   "execution_count": 2,
   "id": "f3bbaa88",
   "metadata": {},
   "outputs": [],
   "source": [
    "import exchange_calendars as xcals\n",
    "import pandas as pd\n",
    "from IPython.display import Markdown, display\n",
    "from openbb import obb"
   ]
  },
  {
   "cell_type": "code",
   "execution_count": 3,
   "id": "cb3f70cb",
   "metadata": {},
   "outputs": [],
   "source": [
    "obb.user.preferences.output_type = \"dataframe\""
   ]
  },
  {
   "cell_type": "markdown",
   "id": "048deab5",
   "metadata": {
    "lines_to_next_cell": 2
   },
   "source": [
    "Function to fetch historical stock data for a given symbol and date range, and add a 'symbol' column"
   ]
  },
  {
   "cell_type": "code",
   "execution_count": 4,
   "id": "81febbfd",
   "metadata": {
    "lines_to_next_cell": 2
   },
   "outputs": [],
   "source": [
    "def get_stock_data(symbol, start_date=None, end_date=None):\n",
    "    data = obb.equity.price.historical(\n",
    "        symbol,\n",
    "        start_date=start_date,\n",
    "        end_date=end_date,\n",
    "        provider=\"yfinance\",\n",
    "    )\n",
    "    data.reset_index(inplace=True)\n",
    "    data[\"symbol\"] = symbol\n",
    "    return data"
   ]
  },
  {
   "cell_type": "markdown",
   "id": "913b8d8d",
   "metadata": {
    "lines_to_next_cell": 2
   },
   "source": [
    "Function to save the fetched stock data to an SQLite database"
   ]
  },
  {
   "cell_type": "code",
   "execution_count": 5,
   "id": "695f0cd7",
   "metadata": {
    "lines_to_next_cell": 2
   },
   "outputs": [],
   "source": [
    "def save_data_range(symbol, conn, start_date=None, end_date=None):\n",
    "    data = get_stock_data(symbol, start_date, end_date)\n",
    "    data.to_sql(\"stock_data\", conn, if_exists=\"append\", index=False)"
   ]
  },
  {
   "cell_type": "markdown",
   "id": "aa18fb90",
   "metadata": {
    "lines_to_next_cell": 2
   },
   "source": [
    "Function to save the stock data for the last trading session to an SQLite database"
   ]
  },
  {
   "cell_type": "code",
   "execution_count": 6,
   "id": "5c060096",
   "metadata": {},
   "outputs": [],
   "source": [
    "def save_last_trading_session(symbol, conn):\n",
    "    today = pd.Timestamp.today()\n",
    "    data = get_stock_data(symbol, today, today)\n",
    "    data.to_sql(\"stock_data\", conn, if_exists=\"append\", index=False)"
   ]
  },
  {
   "cell_type": "markdown",
   "id": "dd6ae005",
   "metadata": {},
   "source": [
    "Establish a connection to the SQLite database"
   ]
  },
  {
   "cell_type": "code",
   "execution_count": 7,
   "id": "14f64ffc",
   "metadata": {},
   "outputs": [],
   "source": [
    "conn = sqlite3.connect(\"market_data.sqlite\")"
   ]
  },
  {
   "cell_type": "markdown",
   "id": "09989016",
   "metadata": {},
   "source": [
    "Save data for multiple stock symbols in the specified date range"
   ]
  },
  {
   "cell_type": "code",
   "execution_count": 8,
   "id": "ba511248",
   "metadata": {},
   "outputs": [],
   "source": [
    "for symbol in [\"SPY\", \"QQQ\", \"DIA\"]:\n",
    "    save_data_range(symbol, conn=conn, start_date=\"2020-06-01\", end_date=\"2023-01-01\")"
   ]
  },
  {
   "cell_type": "markdown",
   "id": "4729b3d1",
   "metadata": {},
   "source": [
    "Read and display data for the stock symbol \"SPY\" from the database"
   ]
  },
  {
   "cell_type": "code",
   "execution_count": 9,
   "id": "4a4c5b51",
   "metadata": {},
   "outputs": [
    {
     "data": {
      "text/html": [
       "<div>\n",
       "<style scoped>\n",
       "    .dataframe tbody tr th:only-of-type {\n",
       "        vertical-align: middle;\n",
       "    }\n",
       "\n",
       "    .dataframe tbody tr th {\n",
       "        vertical-align: top;\n",
       "    }\n",
       "\n",
       "    .dataframe thead th {\n",
       "        text-align: right;\n",
       "    }\n",
       "</style>\n",
       "<table border=\"1\" class=\"dataframe\">\n",
       "  <thead>\n",
       "    <tr style=\"text-align: right;\">\n",
       "      <th></th>\n",
       "      <th>date</th>\n",
       "      <th>open</th>\n",
       "      <th>high</th>\n",
       "      <th>low</th>\n",
       "      <th>close</th>\n",
       "      <th>volume</th>\n",
       "      <th>split_ratio</th>\n",
       "      <th>dividend</th>\n",
       "      <th>capital_gains</th>\n",
       "      <th>symbol</th>\n",
       "    </tr>\n",
       "  </thead>\n",
       "  <tbody>\n",
       "    <tr>\n",
       "      <th>0</th>\n",
       "      <td>2020-06-01</td>\n",
       "      <td>303.619995</td>\n",
       "      <td>306.209991</td>\n",
       "      <td>303.059998</td>\n",
       "      <td>305.549988</td>\n",
       "      <td>55758300</td>\n",
       "      <td>0.0</td>\n",
       "      <td>0.0</td>\n",
       "      <td>0.0</td>\n",
       "      <td>SPY</td>\n",
       "    </tr>\n",
       "    <tr>\n",
       "      <th>1</th>\n",
       "      <td>2020-06-02</td>\n",
       "      <td>306.549988</td>\n",
       "      <td>308.130005</td>\n",
       "      <td>305.100006</td>\n",
       "      <td>308.079987</td>\n",
       "      <td>74267200</td>\n",
       "      <td>0.0</td>\n",
       "      <td>0.0</td>\n",
       "      <td>0.0</td>\n",
       "      <td>SPY</td>\n",
       "    </tr>\n",
       "    <tr>\n",
       "      <th>2</th>\n",
       "      <td>2020-06-03</td>\n",
       "      <td>310.239990</td>\n",
       "      <td>313.220001</td>\n",
       "      <td>309.940002</td>\n",
       "      <td>312.179993</td>\n",
       "      <td>92567600</td>\n",
       "      <td>0.0</td>\n",
       "      <td>0.0</td>\n",
       "      <td>0.0</td>\n",
       "      <td>SPY</td>\n",
       "    </tr>\n",
       "    <tr>\n",
       "      <th>3</th>\n",
       "      <td>2020-06-04</td>\n",
       "      <td>311.109985</td>\n",
       "      <td>313.000000</td>\n",
       "      <td>309.079987</td>\n",
       "      <td>311.359985</td>\n",
       "      <td>75794400</td>\n",
       "      <td>0.0</td>\n",
       "      <td>0.0</td>\n",
       "      <td>0.0</td>\n",
       "      <td>SPY</td>\n",
       "    </tr>\n",
       "    <tr>\n",
       "      <th>4</th>\n",
       "      <td>2020-06-05</td>\n",
       "      <td>317.230011</td>\n",
       "      <td>321.269989</td>\n",
       "      <td>317.160004</td>\n",
       "      <td>319.339996</td>\n",
       "      <td>150524700</td>\n",
       "      <td>0.0</td>\n",
       "      <td>0.0</td>\n",
       "      <td>0.0</td>\n",
       "      <td>SPY</td>\n",
       "    </tr>\n",
       "    <tr>\n",
       "      <th>...</th>\n",
       "      <td>...</td>\n",
       "      <td>...</td>\n",
       "      <td>...</td>\n",
       "      <td>...</td>\n",
       "      <td>...</td>\n",
       "      <td>...</td>\n",
       "      <td>...</td>\n",
       "      <td>...</td>\n",
       "      <td>...</td>\n",
       "      <td>...</td>\n",
       "    </tr>\n",
       "    <tr>\n",
       "      <th>1301</th>\n",
       "      <td>2022-12-23</td>\n",
       "      <td>379.649994</td>\n",
       "      <td>383.059998</td>\n",
       "      <td>378.029999</td>\n",
       "      <td>382.910004</td>\n",
       "      <td>59857300</td>\n",
       "      <td>0.0</td>\n",
       "      <td>0.0</td>\n",
       "      <td>0.0</td>\n",
       "      <td>SPY</td>\n",
       "    </tr>\n",
       "    <tr>\n",
       "      <th>1302</th>\n",
       "      <td>2022-12-27</td>\n",
       "      <td>382.790009</td>\n",
       "      <td>383.149994</td>\n",
       "      <td>379.649994</td>\n",
       "      <td>381.399994</td>\n",
       "      <td>51638200</td>\n",
       "      <td>0.0</td>\n",
       "      <td>0.0</td>\n",
       "      <td>0.0</td>\n",
       "      <td>SPY</td>\n",
       "    </tr>\n",
       "    <tr>\n",
       "      <th>1303</th>\n",
       "      <td>2022-12-28</td>\n",
       "      <td>381.329987</td>\n",
       "      <td>383.390015</td>\n",
       "      <td>376.420013</td>\n",
       "      <td>376.660004</td>\n",
       "      <td>70911500</td>\n",
       "      <td>0.0</td>\n",
       "      <td>0.0</td>\n",
       "      <td>0.0</td>\n",
       "      <td>SPY</td>\n",
       "    </tr>\n",
       "    <tr>\n",
       "      <th>1304</th>\n",
       "      <td>2022-12-29</td>\n",
       "      <td>379.630005</td>\n",
       "      <td>384.350006</td>\n",
       "      <td>379.079987</td>\n",
       "      <td>383.440002</td>\n",
       "      <td>66970900</td>\n",
       "      <td>0.0</td>\n",
       "      <td>0.0</td>\n",
       "      <td>0.0</td>\n",
       "      <td>SPY</td>\n",
       "    </tr>\n",
       "    <tr>\n",
       "      <th>1305</th>\n",
       "      <td>2022-12-30</td>\n",
       "      <td>380.640015</td>\n",
       "      <td>382.579987</td>\n",
       "      <td>378.429993</td>\n",
       "      <td>382.429993</td>\n",
       "      <td>84022200</td>\n",
       "      <td>0.0</td>\n",
       "      <td>0.0</td>\n",
       "      <td>0.0</td>\n",
       "      <td>SPY</td>\n",
       "    </tr>\n",
       "  </tbody>\n",
       "</table>\n",
       "<p>1306 rows × 10 columns</p>\n",
       "</div>"
      ],
      "text/plain": [
       "            date        open        high         low       close     volume  \\\n",
       "0     2020-06-01  303.619995  306.209991  303.059998  305.549988   55758300   \n",
       "1     2020-06-02  306.549988  308.130005  305.100006  308.079987   74267200   \n",
       "2     2020-06-03  310.239990  313.220001  309.940002  312.179993   92567600   \n",
       "3     2020-06-04  311.109985  313.000000  309.079987  311.359985   75794400   \n",
       "4     2020-06-05  317.230011  321.269989  317.160004  319.339996  150524700   \n",
       "...          ...         ...         ...         ...         ...        ...   \n",
       "1301  2022-12-23  379.649994  383.059998  378.029999  382.910004   59857300   \n",
       "1302  2022-12-27  382.790009  383.149994  379.649994  381.399994   51638200   \n",
       "1303  2022-12-28  381.329987  383.390015  376.420013  376.660004   70911500   \n",
       "1304  2022-12-29  379.630005  384.350006  379.079987  383.440002   66970900   \n",
       "1305  2022-12-30  380.640015  382.579987  378.429993  382.429993   84022200   \n",
       "\n",
       "      split_ratio  dividend  capital_gains symbol  \n",
       "0             0.0       0.0            0.0    SPY  \n",
       "1             0.0       0.0            0.0    SPY  \n",
       "2             0.0       0.0            0.0    SPY  \n",
       "3             0.0       0.0            0.0    SPY  \n",
       "4             0.0       0.0            0.0    SPY  \n",
       "...           ...       ...            ...    ...  \n",
       "1301          0.0       0.0            0.0    SPY  \n",
       "1302          0.0       0.0            0.0    SPY  \n",
       "1303          0.0       0.0            0.0    SPY  \n",
       "1304          0.0       0.0            0.0    SPY  \n",
       "1305          0.0       0.0            0.0    SPY  \n",
       "\n",
       "[1306 rows x 10 columns]"
      ]
     },
     "metadata": {},
     "output_type": "display_data"
    }
   ],
   "source": [
    "df_1 = pd.read_sql_query(\"SELECT * from stock_data where symbol='SPY'\", conn)\n",
    "display(df_1)"
   ]
  },
  {
   "cell_type": "markdown",
   "id": "d3dbdfee",
   "metadata": {},
   "source": [
    "Read and display data for \"SPY\" where the volume is greater than 100,000,000"
   ]
  },
  {
   "cell_type": "code",
   "execution_count": 10,
   "id": "7c2fdc45",
   "metadata": {},
   "outputs": [
    {
     "data": {
      "text/html": [
       "<div>\n",
       "<style scoped>\n",
       "    .dataframe tbody tr th:only-of-type {\n",
       "        vertical-align: middle;\n",
       "    }\n",
       "\n",
       "    .dataframe tbody tr th {\n",
       "        vertical-align: top;\n",
       "    }\n",
       "\n",
       "    .dataframe thead th {\n",
       "        text-align: right;\n",
       "    }\n",
       "</style>\n",
       "<table border=\"1\" class=\"dataframe\">\n",
       "  <thead>\n",
       "    <tr style=\"text-align: right;\">\n",
       "      <th></th>\n",
       "      <th>date</th>\n",
       "      <th>open</th>\n",
       "      <th>high</th>\n",
       "      <th>low</th>\n",
       "      <th>close</th>\n",
       "      <th>volume</th>\n",
       "      <th>split_ratio</th>\n",
       "      <th>dividend</th>\n",
       "      <th>capital_gains</th>\n",
       "      <th>symbol</th>\n",
       "    </tr>\n",
       "  </thead>\n",
       "  <tbody>\n",
       "    <tr>\n",
       "      <th>0</th>\n",
       "      <td>2020-06-05</td>\n",
       "      <td>317.230011</td>\n",
       "      <td>321.269989</td>\n",
       "      <td>317.160004</td>\n",
       "      <td>319.339996</td>\n",
       "      <td>150524700</td>\n",
       "      <td>0.0</td>\n",
       "      <td>0.000</td>\n",
       "      <td>0.0</td>\n",
       "      <td>SPY</td>\n",
       "    </tr>\n",
       "    <tr>\n",
       "      <th>1</th>\n",
       "      <td>2020-06-11</td>\n",
       "      <td>311.459991</td>\n",
       "      <td>312.149994</td>\n",
       "      <td>300.010010</td>\n",
       "      <td>300.609985</td>\n",
       "      <td>209243600</td>\n",
       "      <td>0.0</td>\n",
       "      <td>0.000</td>\n",
       "      <td>0.0</td>\n",
       "      <td>SPY</td>\n",
       "    </tr>\n",
       "    <tr>\n",
       "      <th>2</th>\n",
       "      <td>2020-06-12</td>\n",
       "      <td>308.239990</td>\n",
       "      <td>309.079987</td>\n",
       "      <td>298.600006</td>\n",
       "      <td>304.209991</td>\n",
       "      <td>194678900</td>\n",
       "      <td>0.0</td>\n",
       "      <td>0.000</td>\n",
       "      <td>0.0</td>\n",
       "      <td>SPY</td>\n",
       "    </tr>\n",
       "    <tr>\n",
       "      <th>3</th>\n",
       "      <td>2020-06-15</td>\n",
       "      <td>298.019989</td>\n",
       "      <td>308.279999</td>\n",
       "      <td>296.739990</td>\n",
       "      <td>307.049988</td>\n",
       "      <td>135782700</td>\n",
       "      <td>0.0</td>\n",
       "      <td>0.000</td>\n",
       "      <td>0.0</td>\n",
       "      <td>SPY</td>\n",
       "    </tr>\n",
       "    <tr>\n",
       "      <th>4</th>\n",
       "      <td>2020-06-16</td>\n",
       "      <td>315.480011</td>\n",
       "      <td>315.640015</td>\n",
       "      <td>307.670013</td>\n",
       "      <td>312.959991</td>\n",
       "      <td>137627500</td>\n",
       "      <td>0.0</td>\n",
       "      <td>0.000</td>\n",
       "      <td>0.0</td>\n",
       "      <td>SPY</td>\n",
       "    </tr>\n",
       "    <tr>\n",
       "      <th>...</th>\n",
       "      <td>...</td>\n",
       "      <td>...</td>\n",
       "      <td>...</td>\n",
       "      <td>...</td>\n",
       "      <td>...</td>\n",
       "      <td>...</td>\n",
       "      <td>...</td>\n",
       "      <td>...</td>\n",
       "      <td>...</td>\n",
       "      <td>...</td>\n",
       "    </tr>\n",
       "    <tr>\n",
       "      <th>303</th>\n",
       "      <td>2022-12-13</td>\n",
       "      <td>410.220001</td>\n",
       "      <td>410.489990</td>\n",
       "      <td>399.070007</td>\n",
       "      <td>401.970001</td>\n",
       "      <td>123782500</td>\n",
       "      <td>0.0</td>\n",
       "      <td>0.000</td>\n",
       "      <td>0.0</td>\n",
       "      <td>SPY</td>\n",
       "    </tr>\n",
       "    <tr>\n",
       "      <th>304</th>\n",
       "      <td>2022-12-14</td>\n",
       "      <td>401.609985</td>\n",
       "      <td>405.500000</td>\n",
       "      <td>396.309998</td>\n",
       "      <td>399.399994</td>\n",
       "      <td>108111300</td>\n",
       "      <td>0.0</td>\n",
       "      <td>0.000</td>\n",
       "      <td>0.0</td>\n",
       "      <td>SPY</td>\n",
       "    </tr>\n",
       "    <tr>\n",
       "      <th>305</th>\n",
       "      <td>2022-12-15</td>\n",
       "      <td>394.299988</td>\n",
       "      <td>395.250000</td>\n",
       "      <td>387.890015</td>\n",
       "      <td>389.630005</td>\n",
       "      <td>117705900</td>\n",
       "      <td>0.0</td>\n",
       "      <td>0.000</td>\n",
       "      <td>0.0</td>\n",
       "      <td>SPY</td>\n",
       "    </tr>\n",
       "    <tr>\n",
       "      <th>306</th>\n",
       "      <td>2022-12-16</td>\n",
       "      <td>385.179993</td>\n",
       "      <td>386.579987</td>\n",
       "      <td>381.040009</td>\n",
       "      <td>383.269989</td>\n",
       "      <td>119858000</td>\n",
       "      <td>0.0</td>\n",
       "      <td>1.781</td>\n",
       "      <td>0.0</td>\n",
       "      <td>SPY</td>\n",
       "    </tr>\n",
       "    <tr>\n",
       "      <th>307</th>\n",
       "      <td>2022-12-22</td>\n",
       "      <td>383.049988</td>\n",
       "      <td>386.209991</td>\n",
       "      <td>374.769989</td>\n",
       "      <td>380.720001</td>\n",
       "      <td>100120900</td>\n",
       "      <td>0.0</td>\n",
       "      <td>0.000</td>\n",
       "      <td>0.0</td>\n",
       "      <td>SPY</td>\n",
       "    </tr>\n",
       "  </tbody>\n",
       "</table>\n",
       "<p>308 rows × 10 columns</p>\n",
       "</div>"
      ],
      "text/plain": [
       "           date        open        high         low       close     volume  \\\n",
       "0    2020-06-05  317.230011  321.269989  317.160004  319.339996  150524700   \n",
       "1    2020-06-11  311.459991  312.149994  300.010010  300.609985  209243600   \n",
       "2    2020-06-12  308.239990  309.079987  298.600006  304.209991  194678900   \n",
       "3    2020-06-15  298.019989  308.279999  296.739990  307.049988  135782700   \n",
       "4    2020-06-16  315.480011  315.640015  307.670013  312.959991  137627500   \n",
       "..          ...         ...         ...         ...         ...        ...   \n",
       "303  2022-12-13  410.220001  410.489990  399.070007  401.970001  123782500   \n",
       "304  2022-12-14  401.609985  405.500000  396.309998  399.399994  108111300   \n",
       "305  2022-12-15  394.299988  395.250000  387.890015  389.630005  117705900   \n",
       "306  2022-12-16  385.179993  386.579987  381.040009  383.269989  119858000   \n",
       "307  2022-12-22  383.049988  386.209991  374.769989  380.720001  100120900   \n",
       "\n",
       "     split_ratio  dividend  capital_gains symbol  \n",
       "0            0.0     0.000            0.0    SPY  \n",
       "1            0.0     0.000            0.0    SPY  \n",
       "2            0.0     0.000            0.0    SPY  \n",
       "3            0.0     0.000            0.0    SPY  \n",
       "4            0.0     0.000            0.0    SPY  \n",
       "..           ...       ...            ...    ...  \n",
       "303          0.0     0.000            0.0    SPY  \n",
       "304          0.0     0.000            0.0    SPY  \n",
       "305          0.0     0.000            0.0    SPY  \n",
       "306          0.0     1.781            0.0    SPY  \n",
       "307          0.0     0.000            0.0    SPY  \n",
       "\n",
       "[308 rows x 10 columns]"
      ]
     },
     "metadata": {},
     "output_type": "display_data"
    }
   ],
   "source": [
    "df_2 = pd.read_sql_query(\n",
    "    \"SELECT * from stock_data where symbol='SPY' and volume > 100000000\", conn\n",
    ")\n",
    "display(df_2)"
   ]
  },
  {
   "cell_type": "markdown",
   "id": "eea774c6",
   "metadata": {},
   "source": [
    "**Jason Strimpel** is the founder of <a href='https://pyquantnews.com/'>PyQuant News</a> and co-founder of <a href='https://www.tradeblotter.io/'>Trade Blotter</a>. His career in algorithmic trading spans 20+ years. He previously traded for a Chicago-based hedge fund, was a risk manager at JPMorgan, and managed production risk technology for an energy derivatives trading firm in London. In Singapore, he served as APAC CIO for an agricultural trading firm and built the data science team for a global metals trading firm. Jason holds degrees in Finance and Economics and a Master's in Quantitative Finance from the Illinois Institute of Technology. His career spans America, Europe, and Asia. He shares his expertise through the <a href='https://pyquantnews.com/subscribe-to-the-pyquant-newsletter/'>PyQuant Newsletter</a>, social media, and has taught over 1,000+ algorithmic trading with Python in his popular course **<a href='https://gettingstartedwithpythonforquantfinance.com/'>Getting Started With Python for Quant Finance</a>**. All code is for educational purposes only. Nothing provided here is financial advise. Use at your own risk."
   ]
  },
  {
   "cell_type": "code",
   "execution_count": null,
   "id": "ead5f1b9-34ec-44f3-a93e-e64210bd6673",
   "metadata": {},
   "outputs": [],
   "source": []
  },
  {
   "cell_type": "markdown",
   "id": "f8361e40",
   "metadata": {},
   "source": [
    "## Storing data in a networked Postgres database"
   ]
  },
  {
   "cell_type": "markdown",
   "id": "da7a4f71",
   "metadata": {},
   "source": [
    "To avoid the \"pg_config executable not found\" error when installing the psycopg2 package, ensure that the necessary PostgreSQL libraries and headers are installed on your system. For Debian/Ubuntu systems, execute sudo apt-get install libpq-dev python3-dev. For Red Hat/CentOS/Fedora, use sudo yum install postgresql-devel python3-devel. On macOS, install PostgreSQL with Homebrew using brew install postgresql. Alternatively, you can install psycopg2-binary with pip install psycopg2-binary, which includes the required dependencies without needing compilation. However, psycopg2-binary is more suitable for development and limited testing rather than production environments. If issues persist after these steps, try reinstalling SQLAlchemy with pip install --force-reinstall sqlalchemy. Following these steps will enable smooth installation and operation of psycopg2 and SQLAlchemy for connecting to a PostgreSQL database."
   ]
  },
  {
   "cell_type": "code",
   "execution_count": null,
   "id": "2c395eae",
   "metadata": {},
   "outputs": [],
   "source": [
    "!pip install sqlalchemy psycopg2"
   ]
  },
  {
   "cell_type": "code",
   "execution_count": 1,
   "id": "117eb924",
   "metadata": {},
   "outputs": [],
   "source": [
    "import exchange_calendars as xcals\n",
    "import pandas as pd\n",
    "from IPython.display import Markdown, display\n",
    "from openbb import obb\n",
    "from sqlalchemy import create_engine, text\n",
    "from sqlalchemy.exc import ProgrammingError"
   ]
  },
  {
   "cell_type": "code",
   "execution_count": 2,
   "id": "d01dd60f",
   "metadata": {},
   "outputs": [],
   "source": [
    "obb.user.preferences.output_type = \"dataframe\""
   ]
  },
  {
   "cell_type": "markdown",
   "id": "d6d20df8",
   "metadata": {},
   "source": [
    "Database connection parameters"
   ]
  },
  {
   "cell_type": "code",
   "execution_count": null,
   "id": "fdcb5964",
   "metadata": {},
   "outputs": [],
   "source": [
    "username = \"\"\n",
    "password = \"\"\n",
    "host = \"127.0.0.1\"\n",
    "port = \"5432\"\n",
    "database = \"market_data\""
   ]
  },
  {
   "cell_type": "code",
   "execution_count": null,
   "id": "c72e535c",
   "metadata": {},
   "outputs": [],
   "source": [
    "DATABASE_URL = f\"postgresql://{username}:{password}@{host}:{port}/postgres\"\n",
    "base_engine = create_engine(DATABASE_URL)"
   ]
  },
  {
   "cell_type": "markdown",
   "id": "68b1ddca",
   "metadata": {
    "lines_to_next_cell": 2
   },
   "source": [
    "Function to create a new database and return an engine for that database"
   ]
  },
  {
   "cell_type": "code",
   "execution_count": null,
   "id": "721578aa",
   "metadata": {},
   "outputs": [],
   "source": [
    "def create_database_and_get_engine(db_name, base_engine):\n",
    "    conn = base_engine.connect()\n",
    "    conn = conn.execution_options(isolation_level=\"AUTOCOMMIT\")\n",
    "\n",
    "    try:\n",
    "        conn.execute(text(f\"CREATE DATABASE {db_name};\"))\n",
    "    except ProgrammingError:\n",
    "        pass\n",
    "    finally:\n",
    "        conn.close()\n",
    "\n",
    "    conn_str = base_engine.url.set(database=db_name)\n",
    "\n",
    "    return create_engine(conn_str)"
   ]
  },
  {
   "cell_type": "markdown",
   "id": "3960ff6e",
   "metadata": {},
   "source": [
    "Create the database and get an engine for it"
   ]
  },
  {
   "cell_type": "code",
   "execution_count": null,
   "id": "ba97d273",
   "metadata": {},
   "outputs": [],
   "source": [
    "engine = create_database_and_get_engine(\"stock_data\", base_engine)"
   ]
  },
  {
   "cell_type": "markdown",
   "id": "a4fb8b7d",
   "metadata": {
    "lines_to_next_cell": 2
   },
   "source": [
    "Function to fetch historical stock data for a given symbol and date range, and add a 'symbol' column"
   ]
  },
  {
   "cell_type": "code",
   "execution_count": null,
   "id": "90c1ff04",
   "metadata": {
    "lines_to_next_cell": 2
   },
   "outputs": [],
   "source": [
    "def get_stock_data(symbol, start_date=None, end_date=None):\n",
    "    data = obb.equity.price.historical(\n",
    "        symbol,\n",
    "        start_date=start_date,\n",
    "        end_date=end_date,\n",
    "        provider=\"yfinance\",\n",
    "    )\n",
    "    data.reset_index(inplace=True)\n",
    "    data[\"symbol\"] = symbol\n",
    "    return data"
   ]
  },
  {
   "cell_type": "markdown",
   "id": "1aa9fc39",
   "metadata": {
    "lines_to_next_cell": 2
   },
   "source": [
    "Function to save the fetched stock data to a PostgreSQL database"
   ]
  },
  {
   "cell_type": "code",
   "execution_count": null,
   "id": "8d89d3bd",
   "metadata": {
    "lines_to_next_cell": 2
   },
   "outputs": [],
   "source": [
    "def save_data_range(symbol, engine, start_date=None, end_date=None):\n",
    "    data = get_stock_data(symbol, start_date, end_date)\n",
    "    data.to_sql(\"stock_data\", engine, if_exists=\"append\", index=False)"
   ]
  },
  {
   "cell_type": "markdown",
   "id": "189d32d9",
   "metadata": {
    "lines_to_next_cell": 2
   },
   "source": [
    "Function to save the stock data for the last trading session to a PostgreSQL database"
   ]
  },
  {
   "cell_type": "code",
   "execution_count": null,
   "id": "ced74766",
   "metadata": {},
   "outputs": [],
   "source": [
    "def save_last_trading_session(symbol, engine):\n",
    "    today = pd.Timestamp.today()\n",
    "    data = get_stock_data(symbol, today, today)\n",
    "    data.to_sql(\"stock_data\", engine, if_exists=\"append\", index=False)"
   ]
  },
  {
   "cell_type": "markdown",
   "id": "b0615d8d",
   "metadata": {},
   "source": [
    "Save data for multiple stock symbols in the specified date range"
   ]
  },
  {
   "cell_type": "code",
   "execution_count": null,
   "id": "9c6801bb",
   "metadata": {},
   "outputs": [],
   "source": [
    "for symbol in [\"SPY\", \"QQQ\", \"DIA\"]:\n",
    "    save_data_range(\n",
    "        symbol, engine=engine, start_date=\"2020-06-01\", end_date=\"2023-01-01\"\n",
    "    )"
   ]
  },
  {
   "cell_type": "markdown",
   "id": "62545384",
   "metadata": {},
   "source": [
    "Read and display data for the stock symbol \"SPY\" from the database"
   ]
  },
  {
   "cell_type": "code",
   "execution_count": null,
   "id": "e9f6d8a1",
   "metadata": {},
   "outputs": [],
   "source": [
    "df_1 = pd.read_sql_query(\"SELECT * from stock_data where symbol='SPY'\", engine)\n",
    "display(df_1)"
   ]
  },
  {
   "cell_type": "markdown",
   "id": "63bbc32f",
   "metadata": {},
   "source": [
    "Read and display data for \"SPY\" where the volume is greater than 100,000,000"
   ]
  },
  {
   "cell_type": "code",
   "execution_count": null,
   "id": "841121ea",
   "metadata": {},
   "outputs": [],
   "source": [
    "df_2 = pd.read_sql_query(\n",
    "    \"SELECT * from stock_data where symbol='SPY' and volume > 100000000\", engine\n",
    ")\n",
    "display(df_2)"
   ]
  },
  {
   "cell_type": "markdown",
   "id": "40a273f4",
   "metadata": {},
   "source": [
    "The best way to build your database is to first download history. You do this once to “backfill” the historic data. Then you schedule the script to run every trading day after the market close to capture that day’s data going forward.\n",
    "\n",
    "There are a lot of references to schedule a Python job on Mac and Windows so I won’t cover it in detail here.\n",
    "\n",
    "Here are two that will work:\n",
    "\n",
    "​Schedule on Mac/Linux​ : https://theautomatic.net/2020/11/18/how-to-schedule-a-python-script-on-a-mac/\n",
    "​Schedule on Windows​ : https://www.jcchouinard.com/python-automation-using-task-scheduler/"
   ]
  },
  {
   "cell_type": "markdown",
   "id": "e3470180",
   "metadata": {},
   "source": [
    "**Jason Strimpel** is the founder of <a href='https://pyquantnews.com/'>PyQuant News</a> and co-founder of <a href='https://www.tradeblotter.io/'>Trade Blotter</a>. His career in algorithmic trading spans 20+ years. He previously traded for a Chicago-based hedge fund, was a risk manager at JPMorgan, and managed production risk technology for an energy derivatives trading firm in London. In Singapore, he served as APAC CIO for an agricultural trading firm and built the data science team for a global metals trading firm. Jason holds degrees in Finance and Economics and a Master's in Quantitative Finance from the Illinois Institute of Technology. His career spans America, Europe, and Asia. He shares his expertise through the <a href='https://pyquantnews.com/subscribe-to-the-pyquant-newsletter/'>PyQuant Newsletter</a>, social media, and has taught over 1,000+ algorithmic trading with Python in his popular course **<a href='https://gettingstartedwithpythonforquantfinance.com/'>Getting Started With Python for Quant Finance</a>**. All code is for educational purposes only. Nothing provided here is financial advise. Use at your own risk."
   ]
  },
  {
   "cell_type": "markdown",
   "id": "7c7170d8",
   "metadata": {},
   "source": [
    "## Storing data in ultra-fast HDF5"
   ]
  },
  {
   "cell_type": "code",
   "execution_count": null,
   "id": "efd7eeae",
   "metadata": {},
   "outputs": [],
   "source": [
    "!conda install -c conda-forge pytables -y"
   ]
  },
  {
   "cell_type": "code",
   "execution_count": 1,
   "id": "a2b67c34",
   "metadata": {},
   "outputs": [],
   "source": [
    "import warnings"
   ]
  },
  {
   "cell_type": "code",
   "execution_count": 2,
   "id": "533516f3",
   "metadata": {},
   "outputs": [],
   "source": [
    "import pandas as pd\n",
    "from IPython.display import Markdown, display\n",
    "from openbb import obb"
   ]
  },
  {
   "cell_type": "code",
   "execution_count": 3,
   "id": "ddbd8c41",
   "metadata": {},
   "outputs": [],
   "source": [
    "warnings.filterwarnings(\"ignore\")\n",
    "obb.user.preferences.output_type = \"dataframe\""
   ]
  },
  {
   "cell_type": "code",
   "execution_count": 4,
   "id": "e63f6079",
   "metadata": {},
   "outputs": [],
   "source": [
    "STOCKS_DATA_STORE = \"stocks.h5\"\n",
    "FUTURES_DATA_STORE = \"futures.h5\""
   ]
  },
  {
   "cell_type": "code",
   "execution_count": 5,
   "id": "0565ca7f",
   "metadata": {},
   "outputs": [],
   "source": [
    "ticker = \"SPY\"\n",
    "root = \"ES\""
   ]
  },
  {
   "cell_type": "markdown",
   "id": "3a050185",
   "metadata": {},
   "source": [
    "Fetches historical price data for the equity \"SPY\" starting from 2021-01-01 using the \"yfinance\" provider and stores it in 'spy_equity'"
   ]
  },
  {
   "cell_type": "code",
   "execution_count": 6,
   "id": "3843471e",
   "metadata": {},
   "outputs": [],
   "source": [
    "spy_equity = obb.equity.price.historical(\n",
    "    ticker, start_date=\"2021-01-01\", provider=\"yfinance\"\n",
    ")"
   ]
  },
  {
   "cell_type": "markdown",
   "id": "9e4371ac",
   "metadata": {},
   "source": [
    "Fetches options chains for the equity \"SPY\" using the \"cboe\" provider and stores it in 'spy_chains'"
   ]
  },
  {
   "cell_type": "code",
   "execution_count": 7,
   "id": "4de126e5",
   "metadata": {},
   "outputs": [],
   "source": [
    "spy_chains = obb.derivatives.options.chains(ticker, provider=\"cboe\")"
   ]
  },
  {
   "cell_type": "markdown",
   "id": "c21cdc6c",
   "metadata": {},
   "source": [
    "Gets the unique expiration dates from 'spy_chains'"
   ]
  },
  {
   "cell_type": "code",
   "execution_count": 8,
   "id": "9ace1bce",
   "metadata": {},
   "outputs": [],
   "source": [
    "spy_expirations = spy_chains.expiration.astype(str).unique().tolist()"
   ]
  },
  {
   "cell_type": "markdown",
   "id": "f9f31f36",
   "metadata": {},
   "source": [
    "Fetches historical price data for a specific option of \"SPY\" starting from 2021-01-01 using the \"yfinance\" provider and stores it in 'spy_historic'"
   ]
  },
  {
   "cell_type": "code",
   "execution_count": 9,
   "id": "bb2af771",
   "metadata": {},
   "outputs": [],
   "source": [
    "spy_historic = obb.equity.price.historical(\n",
    "    ticker + spy_expirations[-10].replace(\"-\", \"\")[2:] + \"C\" + \"00400000\",\n",
    "    start_date=\"2021-01-01\",\n",
    "    provider=\"yfinance\",\n",
    ")"
   ]
  },
  {
   "cell_type": "markdown",
   "id": "060014b4",
   "metadata": {},
   "source": [
    "Save stock data to HDF5 store"
   ]
  },
  {
   "cell_type": "code",
   "execution_count": 10,
   "id": "fb92fb23",
   "metadata": {},
   "outputs": [],
   "source": [
    "with pd.HDFStore(STOCKS_DATA_STORE) as store:\n",
    "    store.put(\"equities/spy/stock_prices\", spy_equity)\n",
    "    store.put(\"equities/spy/options_prices\", spy_historic)\n",
    "    store.put(\"equities/spy/chains\", spy_chains)"
   ]
  },
  {
   "cell_type": "markdown",
   "id": "9553bd5f",
   "metadata": {},
   "source": [
    "Save futures data to HDF5 store"
   ]
  },
  {
   "cell_type": "code",
   "execution_count": 11,
   "id": "f38077bd",
   "metadata": {},
   "outputs": [],
   "source": [
    "with pd.HDFStore(FUTURES_DATA_STORE) as store:\n",
    "    for i in range(24, 31):\n",
    "        expiry = f\"20{i}-12\"\n",
    "        df = obb.derivatives.futures.historical(\n",
    "            symbol=[root],\n",
    "            expiry=expiry,\n",
    "            start_date=\"2021-01-01\",\n",
    "        )\n",
    "        df.rename(columns={\"close\": expiry}, inplace=True)\n",
    "        prices = df[expiry]\n",
    "\n",
    "        store.put(f\"futures/{root}/{expiry}\", prices)"
   ]
  },
  {
   "cell_type": "markdown",
   "id": "41e73220",
   "metadata": {},
   "source": [
    "Load stock data from HDF5 store"
   ]
  },
  {
   "cell_type": "code",
   "execution_count": 12,
   "id": "a26e2598",
   "metadata": {},
   "outputs": [],
   "source": [
    "with pd.HDFStore(STOCKS_DATA_STORE) as store:\n",
    "    spy_prices = store[\"equities/spy/stock_prices\"]\n",
    "    spy_options = store[\"equities/spy/options_prices\"]\n",
    "    spy_chains = store[\"equities/spy/chains\"]"
   ]
  },
  {
   "cell_type": "markdown",
   "id": "2c39bb5b",
   "metadata": {},
   "source": [
    "Load futures data from HDF5 store"
   ]
  },
  {
   "cell_type": "code",
   "execution_count": 13,
   "id": "eac7c0f4",
   "metadata": {},
   "outputs": [],
   "source": [
    "with pd.HDFStore(FUTURES_DATA_STORE) as store:\n",
    "    es_prices = store[f\"futures/{root}/2024-12\"]"
   ]
  },
  {
   "cell_type": "code",
   "execution_count": 14,
   "id": "8fa39c64",
   "metadata": {},
   "outputs": [
    {
     "data": {
      "text/html": [
       "<div>\n",
       "<style scoped>\n",
       "    .dataframe tbody tr th:only-of-type {\n",
       "        vertical-align: middle;\n",
       "    }\n",
       "\n",
       "    .dataframe tbody tr th {\n",
       "        vertical-align: top;\n",
       "    }\n",
       "\n",
       "    .dataframe thead th {\n",
       "        text-align: right;\n",
       "    }\n",
       "</style>\n",
       "<table border=\"1\" class=\"dataframe\">\n",
       "  <thead>\n",
       "    <tr style=\"text-align: right;\">\n",
       "      <th></th>\n",
       "      <th>open</th>\n",
       "      <th>high</th>\n",
       "      <th>low</th>\n",
       "      <th>close</th>\n",
       "      <th>volume</th>\n",
       "      <th>split_ratio</th>\n",
       "      <th>dividend</th>\n",
       "      <th>capital_gains</th>\n",
       "    </tr>\n",
       "    <tr>\n",
       "      <th>date</th>\n",
       "      <th></th>\n",
       "      <th></th>\n",
       "      <th></th>\n",
       "      <th></th>\n",
       "      <th></th>\n",
       "      <th></th>\n",
       "      <th></th>\n",
       "      <th></th>\n",
       "    </tr>\n",
       "  </thead>\n",
       "  <tbody>\n",
       "    <tr>\n",
       "      <th>2021-01-04</th>\n",
       "      <td>375.309998</td>\n",
       "      <td>375.450012</td>\n",
       "      <td>364.820007</td>\n",
       "      <td>368.790009</td>\n",
       "      <td>110210800</td>\n",
       "      <td>0.0</td>\n",
       "      <td>0.0</td>\n",
       "      <td>0.0</td>\n",
       "    </tr>\n",
       "    <tr>\n",
       "      <th>2021-01-05</th>\n",
       "      <td>368.100006</td>\n",
       "      <td>372.500000</td>\n",
       "      <td>368.049988</td>\n",
       "      <td>371.329987</td>\n",
       "      <td>66426200</td>\n",
       "      <td>0.0</td>\n",
       "      <td>0.0</td>\n",
       "      <td>0.0</td>\n",
       "    </tr>\n",
       "    <tr>\n",
       "      <th>2021-01-06</th>\n",
       "      <td>369.709991</td>\n",
       "      <td>376.980011</td>\n",
       "      <td>369.119995</td>\n",
       "      <td>373.549988</td>\n",
       "      <td>107997700</td>\n",
       "      <td>0.0</td>\n",
       "      <td>0.0</td>\n",
       "      <td>0.0</td>\n",
       "    </tr>\n",
       "    <tr>\n",
       "      <th>2021-01-07</th>\n",
       "      <td>376.100006</td>\n",
       "      <td>379.899994</td>\n",
       "      <td>375.910004</td>\n",
       "      <td>379.100006</td>\n",
       "      <td>68766800</td>\n",
       "      <td>0.0</td>\n",
       "      <td>0.0</td>\n",
       "      <td>0.0</td>\n",
       "    </tr>\n",
       "    <tr>\n",
       "      <th>2021-01-08</th>\n",
       "      <td>380.589996</td>\n",
       "      <td>381.489990</td>\n",
       "      <td>377.100006</td>\n",
       "      <td>381.260010</td>\n",
       "      <td>71677200</td>\n",
       "      <td>0.0</td>\n",
       "      <td>0.0</td>\n",
       "      <td>0.0</td>\n",
       "    </tr>\n",
       "    <tr>\n",
       "      <th>...</th>\n",
       "      <td>...</td>\n",
       "      <td>...</td>\n",
       "      <td>...</td>\n",
       "      <td>...</td>\n",
       "      <td>...</td>\n",
       "      <td>...</td>\n",
       "      <td>...</td>\n",
       "      <td>...</td>\n",
       "    </tr>\n",
       "    <tr>\n",
       "      <th>2024-06-12</th>\n",
       "      <td>541.630005</td>\n",
       "      <td>544.119995</td>\n",
       "      <td>540.299988</td>\n",
       "      <td>541.359985</td>\n",
       "      <td>63251300</td>\n",
       "      <td>0.0</td>\n",
       "      <td>0.0</td>\n",
       "      <td>0.0</td>\n",
       "    </tr>\n",
       "    <tr>\n",
       "      <th>2024-06-13</th>\n",
       "      <td>543.150024</td>\n",
       "      <td>543.330017</td>\n",
       "      <td>539.590027</td>\n",
       "      <td>542.450012</td>\n",
       "      <td>44760900</td>\n",
       "      <td>0.0</td>\n",
       "      <td>0.0</td>\n",
       "      <td>0.0</td>\n",
       "    </tr>\n",
       "    <tr>\n",
       "      <th>2024-06-14</th>\n",
       "      <td>540.880005</td>\n",
       "      <td>542.809998</td>\n",
       "      <td>539.849976</td>\n",
       "      <td>542.780029</td>\n",
       "      <td>40089900</td>\n",
       "      <td>0.0</td>\n",
       "      <td>0.0</td>\n",
       "      <td>0.0</td>\n",
       "    </tr>\n",
       "    <tr>\n",
       "      <th>2024-06-17</th>\n",
       "      <td>542.080017</td>\n",
       "      <td>548.530029</td>\n",
       "      <td>541.609985</td>\n",
       "      <td>547.099976</td>\n",
       "      <td>55839500</td>\n",
       "      <td>0.0</td>\n",
       "      <td>0.0</td>\n",
       "      <td>0.0</td>\n",
       "    </tr>\n",
       "    <tr>\n",
       "      <th>2024-06-18</th>\n",
       "      <td>547.159973</td>\n",
       "      <td>548.619995</td>\n",
       "      <td>546.729980</td>\n",
       "      <td>548.489990</td>\n",
       "      <td>41342200</td>\n",
       "      <td>0.0</td>\n",
       "      <td>0.0</td>\n",
       "      <td>0.0</td>\n",
       "    </tr>\n",
       "  </tbody>\n",
       "</table>\n",
       "<p>870 rows × 8 columns</p>\n",
       "</div>"
      ],
      "text/plain": [
       "                  open        high         low       close     volume  \\\n",
       "date                                                                    \n",
       "2021-01-04  375.309998  375.450012  364.820007  368.790009  110210800   \n",
       "2021-01-05  368.100006  372.500000  368.049988  371.329987   66426200   \n",
       "2021-01-06  369.709991  376.980011  369.119995  373.549988  107997700   \n",
       "2021-01-07  376.100006  379.899994  375.910004  379.100006   68766800   \n",
       "2021-01-08  380.589996  381.489990  377.100006  381.260010   71677200   \n",
       "...                ...         ...         ...         ...        ...   \n",
       "2024-06-12  541.630005  544.119995  540.299988  541.359985   63251300   \n",
       "2024-06-13  543.150024  543.330017  539.590027  542.450012   44760900   \n",
       "2024-06-14  540.880005  542.809998  539.849976  542.780029   40089900   \n",
       "2024-06-17  542.080017  548.530029  541.609985  547.099976   55839500   \n",
       "2024-06-18  547.159973  548.619995  546.729980  548.489990   41342200   \n",
       "\n",
       "            split_ratio  dividend  capital_gains  \n",
       "date                                              \n",
       "2021-01-04          0.0       0.0            0.0  \n",
       "2021-01-05          0.0       0.0            0.0  \n",
       "2021-01-06          0.0       0.0            0.0  \n",
       "2021-01-07          0.0       0.0            0.0  \n",
       "2021-01-08          0.0       0.0            0.0  \n",
       "...                 ...       ...            ...  \n",
       "2024-06-12          0.0       0.0            0.0  \n",
       "2024-06-13          0.0       0.0            0.0  \n",
       "2024-06-14          0.0       0.0            0.0  \n",
       "2024-06-17          0.0       0.0            0.0  \n",
       "2024-06-18          0.0       0.0            0.0  \n",
       "\n",
       "[870 rows x 8 columns]"
      ]
     },
     "metadata": {},
     "output_type": "display_data"
    },
    {
     "data": {
      "text/html": [
       "<div>\n",
       "<style scoped>\n",
       "    .dataframe tbody tr th:only-of-type {\n",
       "        vertical-align: middle;\n",
       "    }\n",
       "\n",
       "    .dataframe tbody tr th {\n",
       "        vertical-align: top;\n",
       "    }\n",
       "\n",
       "    .dataframe thead th {\n",
       "        text-align: right;\n",
       "    }\n",
       "</style>\n",
       "<table border=\"1\" class=\"dataframe\">\n",
       "  <thead>\n",
       "    <tr style=\"text-align: right;\">\n",
       "      <th></th>\n",
       "      <th>open</th>\n",
       "      <th>high</th>\n",
       "      <th>low</th>\n",
       "      <th>close</th>\n",
       "      <th>volume</th>\n",
       "      <th>split_ratio</th>\n",
       "      <th>dividend</th>\n",
       "    </tr>\n",
       "    <tr>\n",
       "      <th>date</th>\n",
       "      <th></th>\n",
       "      <th></th>\n",
       "      <th></th>\n",
       "      <th></th>\n",
       "      <th></th>\n",
       "      <th></th>\n",
       "      <th></th>\n",
       "    </tr>\n",
       "  </thead>\n",
       "  <tbody>\n",
       "    <tr>\n",
       "      <th>2022-09-13</th>\n",
       "      <td>64.449997</td>\n",
       "      <td>64.449997</td>\n",
       "      <td>64.449997</td>\n",
       "      <td>64.449997</td>\n",
       "      <td>23</td>\n",
       "      <td>0.0</td>\n",
       "      <td>0.0</td>\n",
       "    </tr>\n",
       "    <tr>\n",
       "      <th>2022-09-15</th>\n",
       "      <td>61.419998</td>\n",
       "      <td>61.419998</td>\n",
       "      <td>61.000000</td>\n",
       "      <td>61.000000</td>\n",
       "      <td>5</td>\n",
       "      <td>0.0</td>\n",
       "      <td>0.0</td>\n",
       "    </tr>\n",
       "    <tr>\n",
       "      <th>2022-09-16</th>\n",
       "      <td>60.830002</td>\n",
       "      <td>60.830002</td>\n",
       "      <td>58.000000</td>\n",
       "      <td>58.000000</td>\n",
       "      <td>2</td>\n",
       "      <td>0.0</td>\n",
       "      <td>0.0</td>\n",
       "    </tr>\n",
       "    <tr>\n",
       "      <th>2022-09-19</th>\n",
       "      <td>57.669998</td>\n",
       "      <td>60.000000</td>\n",
       "      <td>57.570000</td>\n",
       "      <td>60.000000</td>\n",
       "      <td>411</td>\n",
       "      <td>0.0</td>\n",
       "      <td>0.0</td>\n",
       "    </tr>\n",
       "    <tr>\n",
       "      <th>2022-09-20</th>\n",
       "      <td>60.000000</td>\n",
       "      <td>60.000000</td>\n",
       "      <td>56.000000</td>\n",
       "      <td>56.099998</td>\n",
       "      <td>124</td>\n",
       "      <td>0.0</td>\n",
       "      <td>0.0</td>\n",
       "    </tr>\n",
       "    <tr>\n",
       "      <th>...</th>\n",
       "      <td>...</td>\n",
       "      <td>...</td>\n",
       "      <td>...</td>\n",
       "      <td>...</td>\n",
       "      <td>...</td>\n",
       "      <td>...</td>\n",
       "      <td>...</td>\n",
       "    </tr>\n",
       "    <tr>\n",
       "      <th>2024-06-07</th>\n",
       "      <td>147.220001</td>\n",
       "      <td>147.220001</td>\n",
       "      <td>147.220001</td>\n",
       "      <td>147.220001</td>\n",
       "      <td>1</td>\n",
       "      <td>0.0</td>\n",
       "      <td>0.0</td>\n",
       "    </tr>\n",
       "    <tr>\n",
       "      <th>2024-06-12</th>\n",
       "      <td>154.710007</td>\n",
       "      <td>154.710007</td>\n",
       "      <td>154.009995</td>\n",
       "      <td>154.009995</td>\n",
       "      <td>131</td>\n",
       "      <td>0.0</td>\n",
       "      <td>0.0</td>\n",
       "    </tr>\n",
       "    <tr>\n",
       "      <th>2024-06-13</th>\n",
       "      <td>154.000000</td>\n",
       "      <td>154.000000</td>\n",
       "      <td>151.520004</td>\n",
       "      <td>153.130005</td>\n",
       "      <td>16</td>\n",
       "      <td>0.0</td>\n",
       "      <td>0.0</td>\n",
       "    </tr>\n",
       "    <tr>\n",
       "      <th>2024-06-17</th>\n",
       "      <td>153.850006</td>\n",
       "      <td>153.850006</td>\n",
       "      <td>153.850006</td>\n",
       "      <td>153.850006</td>\n",
       "      <td>2</td>\n",
       "      <td>0.0</td>\n",
       "      <td>0.0</td>\n",
       "    </tr>\n",
       "    <tr>\n",
       "      <th>2024-06-18</th>\n",
       "      <td>158.720001</td>\n",
       "      <td>158.720001</td>\n",
       "      <td>158.720001</td>\n",
       "      <td>158.720001</td>\n",
       "      <td>1</td>\n",
       "      <td>0.0</td>\n",
       "      <td>0.0</td>\n",
       "    </tr>\n",
       "  </tbody>\n",
       "</table>\n",
       "<p>345 rows × 7 columns</p>\n",
       "</div>"
      ],
      "text/plain": [
       "                  open        high         low       close  volume  \\\n",
       "date                                                                 \n",
       "2022-09-13   64.449997   64.449997   64.449997   64.449997      23   \n",
       "2022-09-15   61.419998   61.419998   61.000000   61.000000       5   \n",
       "2022-09-16   60.830002   60.830002   58.000000   58.000000       2   \n",
       "2022-09-19   57.669998   60.000000   57.570000   60.000000     411   \n",
       "2022-09-20   60.000000   60.000000   56.000000   56.099998     124   \n",
       "...                ...         ...         ...         ...     ...   \n",
       "2024-06-07  147.220001  147.220001  147.220001  147.220001       1   \n",
       "2024-06-12  154.710007  154.710007  154.009995  154.009995     131   \n",
       "2024-06-13  154.000000  154.000000  151.520004  153.130005      16   \n",
       "2024-06-17  153.850006  153.850006  153.850006  153.850006       2   \n",
       "2024-06-18  158.720001  158.720001  158.720001  158.720001       1   \n",
       "\n",
       "            split_ratio  dividend  \n",
       "date                               \n",
       "2022-09-13          0.0       0.0  \n",
       "2022-09-15          0.0       0.0  \n",
       "2022-09-16          0.0       0.0  \n",
       "2022-09-19          0.0       0.0  \n",
       "2022-09-20          0.0       0.0  \n",
       "...                 ...       ...  \n",
       "2024-06-07          0.0       0.0  \n",
       "2024-06-12          0.0       0.0  \n",
       "2024-06-13          0.0       0.0  \n",
       "2024-06-17          0.0       0.0  \n",
       "2024-06-18          0.0       0.0  \n",
       "\n",
       "[345 rows x 7 columns]"
      ]
     },
     "metadata": {},
     "output_type": "display_data"
    },
    {
     "data": {
      "text/plain": [
       "date\n",
       "2000-09-18    1467.5\n",
       "2000-09-19    1478.5\n",
       "2000-09-20    1469.5\n",
       "2000-09-21    1469.5\n",
       "2000-09-22    1468.5\n",
       "               ...  \n",
       "2024-06-13    5438.5\n",
       "2024-06-14    5437.5\n",
       "2024-06-17    5478.5\n",
       "2024-06-18    5491.0\n",
       "2024-06-19    5493.0\n",
       "Name: 2024-12, Length: 6000, dtype: float64"
      ]
     },
     "metadata": {},
     "output_type": "display_data"
    }
   ],
   "source": [
    "display(spy_prices)\n",
    "display(spy_options)\n",
    "display(es_prices)"
   ]
  },
  {
   "cell_type": "markdown",
   "id": "e1e98b11",
   "metadata": {},
   "source": [
    "**Jason Strimpel** is the founder of <a href='https://pyquantnews.com/'>PyQuant News</a> and co-founder of <a href='https://www.tradeblotter.io/'>Trade Blotter</a>. His career in algorithmic trading spans 20+ years. He previously traded for a Chicago-based hedge fund, was a risk manager at JPMorgan, and managed production risk technology for an energy derivatives trading firm in London. In Singapore, he served as APAC CIO for an agricultural trading firm and built the data science team for a global metals trading firm. Jason holds degrees in Finance and Economics and a Master's in Quantitative Finance from the Illinois Institute of Technology. His career spans America, Europe, and Asia. He shares his expertise through the <a href='https://pyquantnews.com/subscribe-to-the-pyquant-newsletter/'>PyQuant Newsletter</a>, social media, and has taught over 1,000+ algorithmic trading with Python in his popular course **<a href='https://gettingstartedwithpythonforquantfinance.com/'>Getting Started With Python for Quant Finance</a>**. All code is for educational purposes only. Nothing provided here is financial advise. Use at your own risk."
   ]
  }
 ],
 "metadata": {
  "jupytext": {
   "cell_metadata_filter": "-all",
   "main_language": "python",
   "notebook_metadata_filter": "-all"
  },
  "kernelspec": {
   "display_name": "Python 3 (ipykernel)",
   "language": "python",
   "name": "python3"
  },
  "language_info": {
   "codemirror_mode": {
    "name": "ipython",
    "version": 3
   },
   "file_extension": ".py",
   "mimetype": "text/x-python",
   "name": "python",
   "nbconvert_exporter": "python",
   "pygments_lexer": "ipython3",
   "version": "3.10.13"
  }
 },
 "nbformat": 4,
 "nbformat_minor": 5
}
