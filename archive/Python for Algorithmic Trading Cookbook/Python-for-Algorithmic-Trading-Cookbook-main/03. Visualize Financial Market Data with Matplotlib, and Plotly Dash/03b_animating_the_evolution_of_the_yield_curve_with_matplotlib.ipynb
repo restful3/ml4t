{
 "cells": [
  {
   "cell_type": "markdown",
   "id": "e4731e5e",
   "metadata": {},
   "source": [
    "## Animating the Evolution of the Yield Curve with Matplotlib"
   ]
  },
  {
   "cell_type": "code",
   "execution_count": 1,
   "id": "fdebe3cb",
   "metadata": {},
   "outputs": [],
   "source": [
    "import matplotlib.pyplot as plt\n",
    "import numpy as np\n",
    "from IPython.display import display\n",
    "from matplotlib import animation\n",
    "from mpl_toolkits.mplot3d import Axes3D\n",
    "from openbb import obb"
   ]
  },
  {
   "cell_type": "code",
   "execution_count": 2,
   "id": "03f31e84",
   "metadata": {},
   "outputs": [],
   "source": [
    "obb.user.preferences.output_type = \"dataframe\""
   ]
  },
  {
   "cell_type": "markdown",
   "id": "9d713ccb",
   "metadata": {},
   "source": [
    "Define the maturities for the treasury rates"
   ]
  },
  {
   "cell_type": "code",
   "execution_count": 3,
   "id": "45a8d9ae",
   "metadata": {},
   "outputs": [],
   "source": [
    "maturities = [\"3m\", \"6m\", \"1y\", \"2y\", \"3y\", \"5y\", \"7y\", \"10y\", \"30y\"]"
   ]
  },
  {
   "cell_type": "markdown",
   "id": "be07e8ab",
   "metadata": {},
   "source": [
    "Fetch treasury rates data from the Federal Reserve, drop NaN values and unnecessary columns, and rename columns"
   ]
  },
  {
   "cell_type": "code",
   "execution_count": 4,
   "id": "e07d619f",
   "metadata": {},
   "outputs": [],
   "source": [
    "data = (\n",
    "    obb.fixedincome.government.treasury_rates(\n",
    "        start_date=\"1985-01-01\",\n",
    "        provider=\"federal_reserve\",\n",
    "    )\n",
    "    .dropna(how=\"all\")\n",
    "    .drop(columns=[\"month_1\", \"year_20\"])\n",
    ")\n",
    "data.columns = maturities"
   ]
  },
  {
   "cell_type": "markdown",
   "id": "35ae91da",
   "metadata": {},
   "source": [
    "Add a column to indicate if the yield curve is inverted (30y < 3m)"
   ]
  },
  {
   "cell_type": "code",
   "execution_count": 5,
   "id": "66d9e861",
   "metadata": {},
   "outputs": [],
   "source": [
    "data[\"inverted\"] = data[\"30y\"] < data[\"3m\"]"
   ]
  },
  {
   "cell_type": "markdown",
   "id": "6640b6fd",
   "metadata": {},
   "source": [
    "Initialize figure"
   ]
  },
  {
   "cell_type": "code",
   "execution_count": 6,
   "id": "994f67df",
   "metadata": {},
   "outputs": [
    {
     "data": {
      "image/png": "[encoded data removed]",
      "text/plain": [
       "<Figure size 640x480 with 1 Axes>"
      ]
     },
     "metadata": {},
     "output_type": "display_data"
    }
   ],
   "source": [
    "fig = plt.figure()\n",
    "ax = fig.add_subplot(1, 1, 1)\n",
    "(line,) = ax.plot([], [])"
   ]
  },
  {
   "cell_type": "markdown",
   "id": "ba278cdd",
   "metadata": {},
   "source": [
    "Set the range of ticks"
   ]
  },
  {
   "cell_type": "code",
   "execution_count": 7,
   "id": "73291aad",
   "metadata": {},
   "outputs": [
    {
     "data": {
      "text/plain": [
       "(0.0, 20.0)"
      ]
     },
     "execution_count": 7,
     "metadata": {},
     "output_type": "execute_result"
    }
   ],
   "source": [
    "ax.set_xlim(0, 8)  # Adjusted the range to accommodate all columns\n",
    "ax.set_ylim(0, 20)"
   ]
  },
  {
   "cell_type": "markdown",
   "id": "2287bd06",
   "metadata": {},
   "source": [
    "Set the tick locations"
   ]
  },
  {
   "cell_type": "code",
   "execution_count": 8,
   "id": "96bd2940",
   "metadata": {},
   "outputs": [
    {
     "data": {
      "text/plain": [
       "[<matplotlib.axis.YTick at 0x31fa2bbe0>,\n",
       " <matplotlib.axis.YTick at 0x321f80040>,\n",
       " <matplotlib.axis.YTick at 0x321f424d0>,\n",
       " <matplotlib.axis.YTick at 0x321f41e10>,\n",
       " <matplotlib.axis.YTick at 0x321f43700>,\n",
       " <matplotlib.axis.YTick at 0x321f2c220>,\n",
       " <matplotlib.axis.YTick at 0x321f2ccd0>,\n",
       " <matplotlib.axis.YTick at 0x31fa2b520>,\n",
       " <matplotlib.axis.YTick at 0x321f2fee0>]"
      ]
     },
     "execution_count": 8,
     "metadata": {},
     "output_type": "execute_result"
    }
   ],
   "source": [
    "ax.set_xticks(range(9))\n",
    "ax.set_yticks([2, 4, 6, 8, 10, 12, 14, 16, 18])"
   ]
  },
  {
   "cell_type": "markdown",
   "id": "8bb8406c",
   "metadata": {},
   "source": [
    "Set the axis labels"
   ]
  },
  {
   "cell_type": "code",
   "execution_count": 9,
   "id": "6199e398",
   "metadata": {},
   "outputs": [
    {
     "data": {
      "text/plain": [
       "[Text(0, 2, '2'),\n",
       " Text(0, 4, '4'),\n",
       " Text(0, 6, '6'),\n",
       " Text(0, 8, '8'),\n",
       " Text(0, 10, '10'),\n",
       " Text(0, 12, '12'),\n",
       " Text(0, 14, '14'),\n",
       " Text(0, 16, '16'),\n",
       " Text(0, 18, '18')]"
      ]
     },
     "execution_count": 9,
     "metadata": {},
     "output_type": "execute_result"
    }
   ],
   "source": [
    "ax.set_xticklabels(maturities)\n",
    "ax.set_yticklabels([2, 4, 6, 8, 10, 12, 14, 16, 18])"
   ]
  },
  {
   "cell_type": "markdown",
   "id": "209da1e1",
   "metadata": {},
   "source": [
    "Force the y-axis labels to the left"
   ]
  },
  {
   "cell_type": "code",
   "execution_count": 10,
   "id": "1e9d3065",
   "metadata": {},
   "outputs": [],
   "source": [
    "ax.yaxis.set_label_position(\"left\")\n",
    "ax.yaxis.tick_left()"
   ]
  },
  {
   "cell_type": "markdown",
   "id": "ddc5b0b7",
   "metadata": {},
   "source": [
    "Add the axis labels"
   ]
  },
  {
   "cell_type": "code",
   "execution_count": 11,
   "id": "86dfa280",
   "metadata": {},
   "outputs": [
    {
     "data": {
      "text/plain": [
       "Text(0.5, 1.0, 'U.S. Treasury Bond Yield Curve')"
      ]
     },
     "execution_count": 11,
     "metadata": {},
     "output_type": "execute_result"
    },
    {
     "data": {
      "image/png": "[encoded data removed]",
      "text/plain": [
       "<Figure size 640x480 with 1 Axes>"
      ]
     },
     "metadata": {},
     "output_type": "display_data"
    }
   ],
   "source": [
    "plt.ylabel(\"Yield (%)\")\n",
    "plt.xlabel(\"Time to maturity\")\n",
    "plt.title(\"U.S. Treasury Bond Yield Curve\")"
   ]
  },
  {
   "cell_type": "markdown",
   "id": "a2efb4de",
   "metadata": {
    "lines_to_next_cell": 2
   },
   "source": [
    "Initialization function for the animation"
   ]
  },
  {
   "cell_type": "code",
   "execution_count": 12,
   "id": "a4a23543",
   "metadata": {
    "lines_to_next_cell": 2
   },
   "outputs": [],
   "source": [
    "def init_func():\n",
    "    line.set_data([], [])\n",
    "    return (line,)"
   ]
  },
  {
   "cell_type": "markdown",
   "id": "24e87c6d",
   "metadata": {
    "lines_to_next_cell": 2
   },
   "source": [
    "Animation function to update the plot for each frame"
   ]
  },
  {
   "cell_type": "code",
   "execution_count": 13,
   "id": "18a5ad3c",
   "metadata": {},
   "outputs": [],
   "source": [
    "def animate(i):\n",
    "    x = range(0, len(maturities))\n",
    "    y = data[maturities].iloc[i]\n",
    "    dt_ = data.index[i].strftime(\"%Y-%m-%d\")\n",
    "\n",
    "    if data.inverted.iloc[i]:\n",
    "        line.set_color(\"r\")\n",
    "    else:\n",
    "        line.set_color(\"y\")\n",
    "\n",
    "    line.set_data(x, y)\n",
    "\n",
    "    plt.title(f\"U.S. Treasury Bond Yield Curve ({dt_})\")\n",
    "    return (line,)"
   ]
  },
  {
   "cell_type": "markdown",
   "id": "30f8cc19",
   "metadata": {},
   "source": [
    "Create the animation"
   ]
  },
  {
   "cell_type": "code",
   "execution_count": 14,
   "id": "a2784bd1",
   "metadata": {},
   "outputs": [],
   "source": [
    "ani = animation.FuncAnimation(\n",
    "    fig, animate, init_func=init_func, frames=len(data.index), interval=250, blit=True\n",
    ")"
   ]
  },
  {
   "cell_type": "markdown",
   "id": "828a51e4",
   "metadata": {},
   "source": [
    "Display the plot"
   ]
  },
  {
   "cell_type": "code",
   "execution_count": 15,
   "id": "5c605ec3",
   "metadata": {},
   "outputs": [],
   "source": [
    "plt.show()"
   ]
  },
  {
   "cell_type": "markdown",
   "id": "154f16f1",
   "metadata": {},
   "source": [
    "**Jason Strimpel** is the founder of <a href='https://pyquantnews.com/'>PyQuant News</a> and co-founder of <a href='https://www.tradeblotter.io/'>Trade Blotter</a>. His career in algorithmic trading spans 20+ years. He previously traded for a Chicago-based hedge fund, was a risk manager at JPMorgan, and managed production risk technology for an energy derivatives trading firm in London. In Singapore, he served as APAC CIO for an agricultural trading firm and built the data science team for a global metals trading firm. Jason holds degrees in Finance and Economics and a Master's in Quantitative Finance from the Illinois Institute of Technology. His career spans America, Europe, and Asia. He shares his expertise through the <a href='https://pyquantnews.com/subscribe-to-the-pyquant-newsletter/'>PyQuant Newsletter</a>, social media, and has taught over 1,000+ algorithmic trading with Python in his popular course **<a href='https://gettingstartedwithpythonforquantfinance.com/'>Getting Started With Python for Quant Finance</a>**. All code is for educational purposes only. Nothing provided here is financial advise. Use at your own risk."
   ]
  },
  {
   "cell_type": "code",
   "execution_count": null,
   "id": "a2c371c9-cbe0-4987-b17b-81e5c008d531",
   "metadata": {},
   "outputs": [],
   "source": []
  }
 ],
 "metadata": {
  "jupytext": {
   "cell_metadata_filter": "-all",
   "main_language": "python",
   "notebook_metadata_filter": "-all"
  },
  "kernelspec": {
   "display_name": "Python 3 (ipykernel)",
   "language": "python",
   "name": "python3"
  },
  "language_info": {
   "codemirror_mode": {
    "name": "ipython",
    "version": 3
   },
   "file_extension": ".py",
   "mimetype": "text/x-python",
   "name": "python",
   "nbconvert_exporter": "python",
   "pygments_lexer": "ipython3",
   "version": "3.10.13"
  }
 },
 "nbformat": 4,
 "nbformat_minor": 5
}
