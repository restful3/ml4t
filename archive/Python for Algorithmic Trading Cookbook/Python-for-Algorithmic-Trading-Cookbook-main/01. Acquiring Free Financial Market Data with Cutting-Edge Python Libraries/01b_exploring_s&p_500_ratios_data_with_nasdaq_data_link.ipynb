{
 "cells": [
  {
   "cell_type": "markdown",
   "id": "7a5799d9",
   "metadata": {},
   "source": [
    "## Exploring S&P 500 ratios data with Nasdaq Data Link"
   ]
  },
  {
   "cell_type": "markdown",
   "id": "acce7bd9-bf0f-48b1-b56a-5ab6d478941a",
   "metadata": {},
   "source": [
    "<h2 style=\"color:red;\">As of August 2024 (after the publication of <em>Python for Algorithmic Trading Cookbook</em>), Nasdaq as discontinued access to the <code>MULTPL</code> database. According to Nasdaq, there is no replacement for financial multiples data. Since the code in this notebook uses the <code>MULTPL</code> database, it will not work. I'm as disappointed as you are since there was no forewarning from Nasdaq.</h2>"
   ]
  },
  {
   "cell_type": "code",
   "execution_count": null,
   "id": "6757562c",
   "metadata": {},
   "outputs": [],
   "source": [
    "import nasdaqdatalink\n",
    "from IPython.display import display"
   ]
  },
  {
   "cell_type": "code",
   "execution_count": null,
   "id": "74dd8f48",
   "metadata": {},
   "outputs": [],
   "source": [
    "nasdaqdatalink.ApiConfig.api_key = \"YOUR_API_KEY\""
   ]
  },
  {
   "cell_type": "markdown",
   "id": "bdc71c54",
   "metadata": {},
   "source": [
    "Fetches S&P 500 dividend yield data and stores it in 'data'"
   ]
  },
  {
   "cell_type": "code",
   "execution_count": null,
   "id": "228dff56",
   "metadata": {},
   "outputs": [],
   "source": [
    "data = nasdaqdatalink.get(\"MULTPL/SP500_DIV_YIELD_MONTH\")"
   ]
  },
  {
   "cell_type": "code",
   "execution_count": null,
   "id": "4ac1b75a",
   "metadata": {},
   "outputs": [],
   "source": [
    "display(data)"
   ]
  },
  {
   "cell_type": "markdown",
   "id": "9ded2afb",
   "metadata": {},
   "source": [
    "Plots the S&P 500 dividend yield data with the specified title"
   ]
  },
  {
   "cell_type": "code",
   "execution_count": null,
   "id": "b1bf2a17",
   "metadata": {},
   "outputs": [],
   "source": [
    "data.plot(title=\"S&P 500 dividend yield (12 month dividend per share)/price\")"
   ]
  },
  {
   "cell_type": "markdown",
   "id": "2727cd8e",
   "metadata": {},
   "source": [
    "**Jason Strimpel** is the founder of <a href='https://pyquantnews.com/'>PyQuant News</a> and co-founder of <a href='https://www.tradeblotter.io/'>Trade Blotter</a>. His career in algorithmic trading spans 20+ years. He previously traded for a Chicago-based hedge fund, was a risk manager at JPMorgan, and managed production risk technology for an energy derivatives trading firm in London. In Singapore, he served as APAC CIO for an agricultural trading firm and built the data science team for a global metals trading firm. Jason holds degrees in Finance and Economics and a Master's in Quantitative Finance from the Illinois Institute of Technology. His career spans America, Europe, and Asia. He shares his expertise through the <a href='https://pyquantnews.com/subscribe-to-the-pyquant-newsletter/'>PyQuant Newsletter</a>, social media, and has taught over 1,000+ algorithmic trading with Python in his popular course **<a href='https://gettingstartedwithpythonforquantfinance.com/'>Getting Started With Python for Quant Finance</a>**. All code is for educational purposes only. Nothing provided here is financial advise. Use at your own risk."
   ]
  }
 ],
 "metadata": {
  "jupytext": {
   "cell_metadata_filter": "-all",
   "main_language": "python",
   "notebook_metadata_filter": "-all"
  },
  "kernelspec": {
   "display_name": "Python 3 (ipykernel)",
   "language": "python",
   "name": "python3"
  },
  "language_info": {
   "codemirror_mode": {
    "name": "ipython",
    "version": 3
   },
   "file_extension": ".py",
   "mimetype": "text/x-python",
   "name": "python",
   "nbconvert_exporter": "python",
   "pygments_lexer": "ipython3",
   "version": "3.10.13"
  }
 },
 "nbformat": 4,
 "nbformat_minor": 5
}
