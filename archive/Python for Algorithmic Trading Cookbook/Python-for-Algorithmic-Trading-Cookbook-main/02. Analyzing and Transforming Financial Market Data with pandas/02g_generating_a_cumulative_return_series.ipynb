{
 "cells": [
  {
   "cell_type": "markdown",
   "id": "ee1b9111",
   "metadata": {},
   "source": [
    "## Generating a cumulative return series"
   ]
  },
  {
   "cell_type": "code",
   "execution_count": 1,
   "id": "e30c433d",
   "metadata": {},
   "outputs": [],
   "source": [
    "import numpy as np\n",
    "import pandas as pd\n",
    "from IPython.display import display\n",
    "from openbb import obb"
   ]
  },
  {
   "cell_type": "code",
   "execution_count": 2,
   "id": "7e26609a",
   "metadata": {},
   "outputs": [],
   "source": [
    "obb.user.preferences.output_type = \"dataframe\""
   ]
  },
  {
   "cell_type": "markdown",
   "id": "6d5eb883",
   "metadata": {},
   "source": [
    "Fetches historical price data for the equity \"AAPL\" starting from 2021-01-01 using the \"yfinance\" provider and stores it in 'df'"
   ]
  },
  {
   "cell_type": "code",
   "execution_count": 3,
   "id": "d9c44512",
   "metadata": {},
   "outputs": [],
   "source": [
    "df = obb.equity.price.historical(\"AAPL\", start_date=\"2021-01-01\", provider=\"yfinance\")"
   ]
  },
  {
   "cell_type": "code",
   "execution_count": 4,
   "id": "4a30abb1",
   "metadata": {},
   "outputs": [
    {
     "data": {
      "text/html": [
       "<div>\n",
       "<style scoped>\n",
       "    .dataframe tbody tr th:only-of-type {\n",
       "        vertical-align: middle;\n",
       "    }\n",
       "\n",
       "    .dataframe tbody tr th {\n",
       "        vertical-align: top;\n",
       "    }\n",
       "\n",
       "    .dataframe thead th {\n",
       "        text-align: right;\n",
       "    }\n",
       "</style>\n",
       "<table border=\"1\" class=\"dataframe\">\n",
       "  <thead>\n",
       "    <tr style=\"text-align: right;\">\n",
       "      <th></th>\n",
       "      <th>open</th>\n",
       "      <th>high</th>\n",
       "      <th>low</th>\n",
       "      <th>close</th>\n",
       "      <th>volume</th>\n",
       "      <th>split_ratio</th>\n",
       "      <th>dividend</th>\n",
       "    </tr>\n",
       "    <tr>\n",
       "      <th>date</th>\n",
       "      <th></th>\n",
       "      <th></th>\n",
       "      <th></th>\n",
       "      <th></th>\n",
       "      <th></th>\n",
       "      <th></th>\n",
       "      <th></th>\n",
       "    </tr>\n",
       "  </thead>\n",
       "  <tbody>\n",
       "    <tr>\n",
       "      <th>2021-01-04</th>\n",
       "      <td>133.520004</td>\n",
       "      <td>133.610001</td>\n",
       "      <td>126.760002</td>\n",
       "      <td>129.410004</td>\n",
       "      <td>143301900</td>\n",
       "      <td>0.0</td>\n",
       "      <td>0.0</td>\n",
       "    </tr>\n",
       "    <tr>\n",
       "      <th>2021-01-05</th>\n",
       "      <td>128.889999</td>\n",
       "      <td>131.740005</td>\n",
       "      <td>128.429993</td>\n",
       "      <td>131.009995</td>\n",
       "      <td>97664900</td>\n",
       "      <td>0.0</td>\n",
       "      <td>0.0</td>\n",
       "    </tr>\n",
       "    <tr>\n",
       "      <th>2021-01-06</th>\n",
       "      <td>127.720001</td>\n",
       "      <td>131.050003</td>\n",
       "      <td>126.379997</td>\n",
       "      <td>126.599998</td>\n",
       "      <td>155088000</td>\n",
       "      <td>0.0</td>\n",
       "      <td>0.0</td>\n",
       "    </tr>\n",
       "    <tr>\n",
       "      <th>2021-01-07</th>\n",
       "      <td>128.360001</td>\n",
       "      <td>131.630005</td>\n",
       "      <td>127.860001</td>\n",
       "      <td>130.919998</td>\n",
       "      <td>109578200</td>\n",
       "      <td>0.0</td>\n",
       "      <td>0.0</td>\n",
       "    </tr>\n",
       "    <tr>\n",
       "      <th>2021-01-08</th>\n",
       "      <td>132.429993</td>\n",
       "      <td>132.630005</td>\n",
       "      <td>130.229996</td>\n",
       "      <td>132.050003</td>\n",
       "      <td>105158200</td>\n",
       "      <td>0.0</td>\n",
       "      <td>0.0</td>\n",
       "    </tr>\n",
       "    <tr>\n",
       "      <th>...</th>\n",
       "      <td>...</td>\n",
       "      <td>...</td>\n",
       "      <td>...</td>\n",
       "      <td>...</td>\n",
       "      <td>...</td>\n",
       "      <td>...</td>\n",
       "      <td>...</td>\n",
       "    </tr>\n",
       "    <tr>\n",
       "      <th>2024-06-10</th>\n",
       "      <td>196.899994</td>\n",
       "      <td>197.300003</td>\n",
       "      <td>192.149994</td>\n",
       "      <td>193.119995</td>\n",
       "      <td>97262100</td>\n",
       "      <td>0.0</td>\n",
       "      <td>0.0</td>\n",
       "    </tr>\n",
       "    <tr>\n",
       "      <th>2024-06-11</th>\n",
       "      <td>193.649994</td>\n",
       "      <td>207.160004</td>\n",
       "      <td>193.630005</td>\n",
       "      <td>207.149994</td>\n",
       "      <td>172373300</td>\n",
       "      <td>0.0</td>\n",
       "      <td>0.0</td>\n",
       "    </tr>\n",
       "    <tr>\n",
       "      <th>2024-06-12</th>\n",
       "      <td>207.369995</td>\n",
       "      <td>220.199997</td>\n",
       "      <td>206.899994</td>\n",
       "      <td>213.070007</td>\n",
       "      <td>198134300</td>\n",
       "      <td>0.0</td>\n",
       "      <td>0.0</td>\n",
       "    </tr>\n",
       "    <tr>\n",
       "      <th>2024-06-13</th>\n",
       "      <td>214.740005</td>\n",
       "      <td>216.750000</td>\n",
       "      <td>211.600006</td>\n",
       "      <td>214.240005</td>\n",
       "      <td>97862700</td>\n",
       "      <td>0.0</td>\n",
       "      <td>0.0</td>\n",
       "    </tr>\n",
       "    <tr>\n",
       "      <th>2024-06-14</th>\n",
       "      <td>213.850006</td>\n",
       "      <td>215.169998</td>\n",
       "      <td>211.300003</td>\n",
       "      <td>212.490005</td>\n",
       "      <td>69175600</td>\n",
       "      <td>0.0</td>\n",
       "      <td>0.0</td>\n",
       "    </tr>\n",
       "  </tbody>\n",
       "</table>\n",
       "<p>868 rows × 7 columns</p>\n",
       "</div>"
      ],
      "text/plain": [
       "                  open        high         low       close     volume  \\\n",
       "date                                                                    \n",
       "2021-01-04  133.520004  133.610001  126.760002  129.410004  143301900   \n",
       "2021-01-05  128.889999  131.740005  128.429993  131.009995   97664900   \n",
       "2021-01-06  127.720001  131.050003  126.379997  126.599998  155088000   \n",
       "2021-01-07  128.360001  131.630005  127.860001  130.919998  109578200   \n",
       "2021-01-08  132.429993  132.630005  130.229996  132.050003  105158200   \n",
       "...                ...         ...         ...         ...        ...   \n",
       "2024-06-10  196.899994  197.300003  192.149994  193.119995   97262100   \n",
       "2024-06-11  193.649994  207.160004  193.630005  207.149994  172373300   \n",
       "2024-06-12  207.369995  220.199997  206.899994  213.070007  198134300   \n",
       "2024-06-13  214.740005  216.750000  211.600006  214.240005   97862700   \n",
       "2024-06-14  213.850006  215.169998  211.300003  212.490005   69175600   \n",
       "\n",
       "            split_ratio  dividend  \n",
       "date                               \n",
       "2021-01-04          0.0       0.0  \n",
       "2021-01-05          0.0       0.0  \n",
       "2021-01-06          0.0       0.0  \n",
       "2021-01-07          0.0       0.0  \n",
       "2021-01-08          0.0       0.0  \n",
       "...                 ...       ...  \n",
       "2024-06-10          0.0       0.0  \n",
       "2024-06-11          0.0       0.0  \n",
       "2024-06-12          0.0       0.0  \n",
       "2024-06-13          0.0       0.0  \n",
       "2024-06-14          0.0       0.0  \n",
       "\n",
       "[868 rows x 7 columns]"
      ]
     },
     "metadata": {},
     "output_type": "display_data"
    }
   ],
   "source": [
    "display(df)"
   ]
  },
  {
   "cell_type": "markdown",
   "id": "091b4afe",
   "metadata": {},
   "source": [
    "Selects the 'close' column from 'df' and stores it in 'close'"
   ]
  },
  {
   "cell_type": "code",
   "execution_count": 5,
   "id": "9f0c5ec7",
   "metadata": {},
   "outputs": [],
   "source": [
    "close = df[\"close\"]"
   ]
  },
  {
   "cell_type": "code",
   "execution_count": 6,
   "id": "b67c83c5",
   "metadata": {},
   "outputs": [
    {
     "data": {
      "text/plain": [
       "date\n",
       "2021-01-04    129.410004\n",
       "2021-01-05    131.009995\n",
       "2021-01-06    126.599998\n",
       "2021-01-07    130.919998\n",
       "2021-01-08    132.050003\n",
       "                 ...    \n",
       "2024-06-10    193.119995\n",
       "2024-06-11    207.149994\n",
       "2024-06-12    213.070007\n",
       "2024-06-13    214.240005\n",
       "2024-06-14    212.490005\n",
       "Name: close, Length: 868, dtype: float64"
      ]
     },
     "metadata": {},
     "output_type": "display_data"
    }
   ],
   "source": [
    "display(close)"
   ]
  },
  {
   "cell_type": "markdown",
   "id": "e27daf6a",
   "metadata": {},
   "source": [
    "Calculates the percentage change of the 'close' prices and stores it in 'returns'"
   ]
  },
  {
   "cell_type": "code",
   "execution_count": 7,
   "id": "37e51bf2",
   "metadata": {},
   "outputs": [],
   "source": [
    "returns = close.pct_change()"
   ]
  },
  {
   "cell_type": "code",
   "execution_count": 8,
   "id": "88e4aa7d",
   "metadata": {},
   "outputs": [
    {
     "data": {
      "text/plain": [
       "date\n",
       "2021-01-04         NaN\n",
       "2021-01-05    0.012364\n",
       "2021-01-06   -0.033662\n",
       "2021-01-07    0.034123\n",
       "2021-01-08    0.008631\n",
       "                ...   \n",
       "2024-06-10   -0.019148\n",
       "2024-06-11    0.072649\n",
       "2024-06-12    0.028578\n",
       "2024-06-13    0.005491\n",
       "2024-06-14   -0.008168\n",
       "Name: close, Length: 868, dtype: float64"
      ]
     },
     "metadata": {},
     "output_type": "display_data"
    }
   ],
   "source": [
    "display(returns)"
   ]
  },
  {
   "cell_type": "markdown",
   "id": "1265935b",
   "metadata": {},
   "source": [
    "Replaces NaN values in 'returns' with 0"
   ]
  },
  {
   "cell_type": "code",
   "execution_count": 9,
   "id": "00edc11b",
   "metadata": {},
   "outputs": [],
   "source": [
    "returns[np.isnan(returns)] = 0"
   ]
  },
  {
   "cell_type": "code",
   "execution_count": 10,
   "id": "37a9b950",
   "metadata": {},
   "outputs": [
    {
     "data": {
      "text/plain": [
       "date\n",
       "2021-01-04    0.000000\n",
       "2021-01-05    0.012364\n",
       "2021-01-06   -0.033662\n",
       "2021-01-07    0.034123\n",
       "2021-01-08    0.008631\n",
       "                ...   \n",
       "2024-06-10   -0.019148\n",
       "2024-06-11    0.072649\n",
       "2024-06-12    0.028578\n",
       "2024-06-13    0.005491\n",
       "2024-06-14   -0.008168\n",
       "Name: close, Length: 868, dtype: float64"
      ]
     },
     "metadata": {},
     "output_type": "display_data"
    }
   ],
   "source": [
    "display(returns)"
   ]
  },
  {
   "cell_type": "markdown",
   "id": "1fb0d57f",
   "metadata": {},
   "source": [
    "Adds 1 to the 'returns' to prepare for cumulative product calculation"
   ]
  },
  {
   "cell_type": "code",
   "execution_count": 11,
   "id": "4437cfbb",
   "metadata": {},
   "outputs": [],
   "source": [
    "returns += 1"
   ]
  },
  {
   "cell_type": "code",
   "execution_count": 12,
   "id": "10199260",
   "metadata": {},
   "outputs": [
    {
     "data": {
      "text/plain": [
       "date\n",
       "2021-01-04    1.000000\n",
       "2021-01-05    1.012364\n",
       "2021-01-06    0.966338\n",
       "2021-01-07    1.034123\n",
       "2021-01-08    1.008631\n",
       "                ...   \n",
       "2024-06-10    0.980852\n",
       "2024-06-11    1.072649\n",
       "2024-06-12    1.028578\n",
       "2024-06-13    1.005491\n",
       "2024-06-14    0.991832\n",
       "Name: close, Length: 868, dtype: float64"
      ]
     },
     "metadata": {},
     "output_type": "display_data"
    }
   ],
   "source": [
    "display(returns)"
   ]
  },
  {
   "cell_type": "markdown",
   "id": "9e5127c0",
   "metadata": {},
   "source": [
    "Calculates the cumulative returns and subtracts 1 to get the final cumulative returns"
   ]
  },
  {
   "cell_type": "code",
   "execution_count": 13,
   "id": "2598e5ee",
   "metadata": {},
   "outputs": [],
   "source": [
    "cumulative_returns = returns.cumprod() - 1"
   ]
  },
  {
   "cell_type": "code",
   "execution_count": 14,
   "id": "21b76e63",
   "metadata": {},
   "outputs": [
    {
     "data": {
      "text/plain": [
       "date\n",
       "2021-01-04    0.000000\n",
       "2021-01-05    0.012364\n",
       "2021-01-06   -0.021714\n",
       "2021-01-07    0.011668\n",
       "2021-01-08    0.020400\n",
       "                ...   \n",
       "2024-06-10    0.492311\n",
       "2024-06-11    0.600726\n",
       "2024-06-12    0.646472\n",
       "2024-06-13    0.655513\n",
       "2024-06-14    0.641991\n",
       "Name: close, Length: 868, dtype: float64"
      ]
     },
     "metadata": {},
     "output_type": "display_data"
    }
   ],
   "source": [
    "display(cumulative_returns)"
   ]
  },
  {
   "cell_type": "markdown",
   "id": "b79370dc",
   "metadata": {},
   "source": [
    "Plots the cumulative returns"
   ]
  },
  {
   "cell_type": "code",
   "execution_count": 15,
   "id": "8c31b7b9",
   "metadata": {},
   "outputs": [
    {
     "data": {
      "text/plain": [
       "<Axes: xlabel='date'>"
      ]
     },
     "execution_count": 15,
     "metadata": {},
     "output_type": "execute_result"
    },
    {
     "data": {
      "image/png": "[encoded data removed]",
      "text/plain": [
       "<Figure size 640x480 with 1 Axes>"
      ]
     },
     "metadata": {},
     "output_type": "display_data"
    }
   ],
   "source": [
    "cumulative_returns.plot()"
   ]
  },
  {
   "cell_type": "markdown",
   "id": "71c74cd1",
   "metadata": {},
   "source": [
    "Calculates the log returns of 'close' prices"
   ]
  },
  {
   "cell_type": "code",
   "execution_count": 16,
   "id": "d7ddf571",
   "metadata": {},
   "outputs": [],
   "source": [
    "log_returns = np.log(close / close.shift())"
   ]
  },
  {
   "cell_type": "code",
   "execution_count": 17,
   "id": "190af9ef",
   "metadata": {},
   "outputs": [
    {
     "data": {
      "text/plain": [
       "date\n",
       "2021-01-04         NaN\n",
       "2021-01-05    0.012288\n",
       "2021-01-06   -0.034241\n",
       "2021-01-07    0.033554\n",
       "2021-01-08    0.008594\n",
       "                ...   \n",
       "2024-06-10   -0.019333\n",
       "2024-06-11    0.070131\n",
       "2024-06-12    0.028178\n",
       "2024-06-13    0.005476\n",
       "2024-06-14   -0.008202\n",
       "Name: close, Length: 868, dtype: float64"
      ]
     },
     "metadata": {},
     "output_type": "display_data"
    }
   ],
   "source": [
    "display(log_returns)"
   ]
  },
  {
   "cell_type": "markdown",
   "id": "bdf741c0",
   "metadata": {},
   "source": [
    "Calculates the cumulative sum of the log returns to get the cumulative log returns"
   ]
  },
  {
   "cell_type": "code",
   "execution_count": 18,
   "id": "9016e050",
   "metadata": {},
   "outputs": [],
   "source": [
    "cumulative_log_returns = log_returns.cumsum()"
   ]
  },
  {
   "cell_type": "code",
   "execution_count": 19,
   "id": "1931871f",
   "metadata": {},
   "outputs": [
    {
     "data": {
      "text/plain": [
       "date\n",
       "2021-01-04         NaN\n",
       "2021-01-05    0.012288\n",
       "2021-01-06   -0.021953\n",
       "2021-01-07    0.011601\n",
       "2021-01-08    0.020195\n",
       "                ...   \n",
       "2024-06-10    0.400326\n",
       "2024-06-11    0.470457\n",
       "2024-06-12    0.498635\n",
       "2024-06-13    0.504111\n",
       "2024-06-14    0.495909\n",
       "Name: close, Length: 868, dtype: float64"
      ]
     },
     "metadata": {},
     "output_type": "display_data"
    }
   ],
   "source": [
    "display(cumulative_log_returns)"
   ]
  },
  {
   "cell_type": "markdown",
   "id": "75f09f4b",
   "metadata": {},
   "source": [
    "Plots the cumulative log returns"
   ]
  },
  {
   "cell_type": "code",
   "execution_count": 20,
   "id": "8a81f919",
   "metadata": {},
   "outputs": [
    {
     "data": {
      "text/plain": [
       "<Axes: xlabel='date'>"
      ]
     },
     "execution_count": 20,
     "metadata": {},
     "output_type": "execute_result"
    },
    {
     "data": {
      "image/png": "[encoded data removed]",
      "text/plain": [
       "<Figure size 640x480 with 1 Axes>"
      ]
     },
     "metadata": {},
     "output_type": "display_data"
    }
   ],
   "source": [
    "cumulative_log_returns.plot()"
   ]
  },
  {
   "cell_type": "markdown",
   "id": "12fc490f",
   "metadata": {},
   "source": [
    "**Jason Strimpel** is the founder of <a href='https://pyquantnews.com/'>PyQuant News</a> and co-founder of <a href='https://www.tradeblotter.io/'>Trade Blotter</a>. His career in algorithmic trading spans 20+ years. He previously traded for a Chicago-based hedge fund, was a risk manager at JPMorgan, and managed production risk technology for an energy derivatives trading firm in London. In Singapore, he served as APAC CIO for an agricultural trading firm and built the data science team for a global metals trading firm. Jason holds degrees in Finance and Economics and a Master's in Quantitative Finance from the Illinois Institute of Technology. His career spans America, Europe, and Asia. He shares his expertise through the <a href='https://pyquantnews.com/subscribe-to-the-pyquant-newsletter/'>PyQuant Newsletter</a>, social media, and has taught over 1,000+ algorithmic trading with Python in his popular course **<a href='https://gettingstartedwithpythonforquantfinance.com/'>Getting Started With Python for Quant Finance</a>**. All code is for educational purposes only. Nothing provided here is financial advise. Use at your own risk."
   ]
  },
  {
   "cell_type": "code",
   "execution_count": null,
   "id": "2ffaf047-b29b-4266-9898-e0dc9500027c",
   "metadata": {},
   "outputs": [],
   "source": []
  }
 ],
 "metadata": {
  "jupytext": {
   "cell_metadata_filter": "-all",
   "main_language": "python",
   "notebook_metadata_filter": "-all"
  },
  "kernelspec": {
   "display_name": "Python 3 (ipykernel)",
   "language": "python",
   "name": "python3"
  },
  "language_info": {
   "codemirror_mode": {
    "name": "ipython",
    "version": 3
   },
   "file_extension": ".py",
   "mimetype": "text/x-python",
   "name": "python",
   "nbconvert_exporter": "python",
   "pygments_lexer": "ipython3",
   "version": "3.10.13"
  }
 },
 "nbformat": 4,
 "nbformat_minor": 5
}
