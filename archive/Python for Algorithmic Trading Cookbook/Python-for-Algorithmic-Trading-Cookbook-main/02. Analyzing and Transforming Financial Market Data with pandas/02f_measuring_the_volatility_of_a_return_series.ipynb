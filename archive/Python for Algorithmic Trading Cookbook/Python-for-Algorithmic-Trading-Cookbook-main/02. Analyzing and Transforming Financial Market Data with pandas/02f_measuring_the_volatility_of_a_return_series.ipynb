{
 "cells": [
  {
   "cell_type": "markdown",
   "id": "ddbaae40",
   "metadata": {},
   "source": [
    "## Measuring the volatility of a return series"
   ]
  },
  {
   "cell_type": "code",
   "execution_count": 1,
   "id": "087bde0a",
   "metadata": {},
   "outputs": [],
   "source": [
    "import numpy as np\n",
    "import pandas as pd\n",
    "from IPython.display import display\n",
    "from openbb import obb"
   ]
  },
  {
   "cell_type": "code",
   "execution_count": 2,
   "id": "deeeb8c3",
   "metadata": {},
   "outputs": [],
   "source": [
    "obb.user.preferences.output_type = \"dataframe\""
   ]
  },
  {
   "cell_type": "markdown",
   "id": "d0699b2a",
   "metadata": {},
   "source": [
    "Fetches historical price data for the equity \"AAPL\" starting from 2020-01-01 using the \"yfinance\" provider and stores it in 'df'"
   ]
  },
  {
   "cell_type": "code",
   "execution_count": 3,
   "id": "e55a678b",
   "metadata": {},
   "outputs": [],
   "source": [
    "df = obb.equity.price.historical(\"AAPL\", start_date=\"2020-01-01\", provider=\"yfinance\")"
   ]
  },
  {
   "cell_type": "code",
   "execution_count": 4,
   "id": "b1d13551",
   "metadata": {},
   "outputs": [
    {
     "data": {
      "text/html": [
       "<div>\n",
       "<style scoped>\n",
       "    .dataframe tbody tr th:only-of-type {\n",
       "        vertical-align: middle;\n",
       "    }\n",
       "\n",
       "    .dataframe tbody tr th {\n",
       "        vertical-align: top;\n",
       "    }\n",
       "\n",
       "    .dataframe thead th {\n",
       "        text-align: right;\n",
       "    }\n",
       "</style>\n",
       "<table border=\"1\" class=\"dataframe\">\n",
       "  <thead>\n",
       "    <tr style=\"text-align: right;\">\n",
       "      <th></th>\n",
       "      <th>open</th>\n",
       "      <th>high</th>\n",
       "      <th>low</th>\n",
       "      <th>close</th>\n",
       "      <th>volume</th>\n",
       "      <th>split_ratio</th>\n",
       "      <th>dividend</th>\n",
       "    </tr>\n",
       "    <tr>\n",
       "      <th>date</th>\n",
       "      <th></th>\n",
       "      <th></th>\n",
       "      <th></th>\n",
       "      <th></th>\n",
       "      <th></th>\n",
       "      <th></th>\n",
       "      <th></th>\n",
       "    </tr>\n",
       "  </thead>\n",
       "  <tbody>\n",
       "    <tr>\n",
       "      <th>2020-01-02</th>\n",
       "      <td>74.059998</td>\n",
       "      <td>75.150002</td>\n",
       "      <td>73.797501</td>\n",
       "      <td>75.087502</td>\n",
       "      <td>135480400</td>\n",
       "      <td>0.0</td>\n",
       "      <td>0.0</td>\n",
       "    </tr>\n",
       "    <tr>\n",
       "      <th>2020-01-03</th>\n",
       "      <td>74.287498</td>\n",
       "      <td>75.144997</td>\n",
       "      <td>74.125000</td>\n",
       "      <td>74.357498</td>\n",
       "      <td>146322800</td>\n",
       "      <td>0.0</td>\n",
       "      <td>0.0</td>\n",
       "    </tr>\n",
       "    <tr>\n",
       "      <th>2020-01-06</th>\n",
       "      <td>73.447502</td>\n",
       "      <td>74.989998</td>\n",
       "      <td>73.187500</td>\n",
       "      <td>74.949997</td>\n",
       "      <td>118387200</td>\n",
       "      <td>0.0</td>\n",
       "      <td>0.0</td>\n",
       "    </tr>\n",
       "    <tr>\n",
       "      <th>2020-01-07</th>\n",
       "      <td>74.959999</td>\n",
       "      <td>75.224998</td>\n",
       "      <td>74.370003</td>\n",
       "      <td>74.597504</td>\n",
       "      <td>108872000</td>\n",
       "      <td>0.0</td>\n",
       "      <td>0.0</td>\n",
       "    </tr>\n",
       "    <tr>\n",
       "      <th>2020-01-08</th>\n",
       "      <td>74.290001</td>\n",
       "      <td>76.110001</td>\n",
       "      <td>74.290001</td>\n",
       "      <td>75.797501</td>\n",
       "      <td>132079200</td>\n",
       "      <td>0.0</td>\n",
       "      <td>0.0</td>\n",
       "    </tr>\n",
       "    <tr>\n",
       "      <th>...</th>\n",
       "      <td>...</td>\n",
       "      <td>...</td>\n",
       "      <td>...</td>\n",
       "      <td>...</td>\n",
       "      <td>...</td>\n",
       "      <td>...</td>\n",
       "      <td>...</td>\n",
       "    </tr>\n",
       "    <tr>\n",
       "      <th>2024-06-10</th>\n",
       "      <td>196.899994</td>\n",
       "      <td>197.300003</td>\n",
       "      <td>192.149994</td>\n",
       "      <td>193.119995</td>\n",
       "      <td>97262100</td>\n",
       "      <td>0.0</td>\n",
       "      <td>0.0</td>\n",
       "    </tr>\n",
       "    <tr>\n",
       "      <th>2024-06-11</th>\n",
       "      <td>193.649994</td>\n",
       "      <td>207.160004</td>\n",
       "      <td>193.630005</td>\n",
       "      <td>207.149994</td>\n",
       "      <td>172373300</td>\n",
       "      <td>0.0</td>\n",
       "      <td>0.0</td>\n",
       "    </tr>\n",
       "    <tr>\n",
       "      <th>2024-06-12</th>\n",
       "      <td>207.369995</td>\n",
       "      <td>220.199997</td>\n",
       "      <td>206.899994</td>\n",
       "      <td>213.070007</td>\n",
       "      <td>198134300</td>\n",
       "      <td>0.0</td>\n",
       "      <td>0.0</td>\n",
       "    </tr>\n",
       "    <tr>\n",
       "      <th>2024-06-13</th>\n",
       "      <td>214.740005</td>\n",
       "      <td>216.750000</td>\n",
       "      <td>211.600006</td>\n",
       "      <td>214.240005</td>\n",
       "      <td>97862700</td>\n",
       "      <td>0.0</td>\n",
       "      <td>0.0</td>\n",
       "    </tr>\n",
       "    <tr>\n",
       "      <th>2024-06-14</th>\n",
       "      <td>213.850006</td>\n",
       "      <td>215.169998</td>\n",
       "      <td>211.300003</td>\n",
       "      <td>212.490005</td>\n",
       "      <td>69175600</td>\n",
       "      <td>0.0</td>\n",
       "      <td>0.0</td>\n",
       "    </tr>\n",
       "  </tbody>\n",
       "</table>\n",
       "<p>1121 rows × 7 columns</p>\n",
       "</div>"
      ],
      "text/plain": [
       "                  open        high         low       close     volume  \\\n",
       "date                                                                    \n",
       "2020-01-02   74.059998   75.150002   73.797501   75.087502  135480400   \n",
       "2020-01-03   74.287498   75.144997   74.125000   74.357498  146322800   \n",
       "2020-01-06   73.447502   74.989998   73.187500   74.949997  118387200   \n",
       "2020-01-07   74.959999   75.224998   74.370003   74.597504  108872000   \n",
       "2020-01-08   74.290001   76.110001   74.290001   75.797501  132079200   \n",
       "...                ...         ...         ...         ...        ...   \n",
       "2024-06-10  196.899994  197.300003  192.149994  193.119995   97262100   \n",
       "2024-06-11  193.649994  207.160004  193.630005  207.149994  172373300   \n",
       "2024-06-12  207.369995  220.199997  206.899994  213.070007  198134300   \n",
       "2024-06-13  214.740005  216.750000  211.600006  214.240005   97862700   \n",
       "2024-06-14  213.850006  215.169998  211.300003  212.490005   69175600   \n",
       "\n",
       "            split_ratio  dividend  \n",
       "date                               \n",
       "2020-01-02          0.0       0.0  \n",
       "2020-01-03          0.0       0.0  \n",
       "2020-01-06          0.0       0.0  \n",
       "2020-01-07          0.0       0.0  \n",
       "2020-01-08          0.0       0.0  \n",
       "...                 ...       ...  \n",
       "2024-06-10          0.0       0.0  \n",
       "2024-06-11          0.0       0.0  \n",
       "2024-06-12          0.0       0.0  \n",
       "2024-06-13          0.0       0.0  \n",
       "2024-06-14          0.0       0.0  \n",
       "\n",
       "[1121 rows x 7 columns]"
      ]
     },
     "metadata": {},
     "output_type": "display_data"
    }
   ],
   "source": [
    "display(df)"
   ]
  },
  {
   "cell_type": "markdown",
   "id": "d380cb7a",
   "metadata": {},
   "source": [
    "Selects the 'close' column from 'df' and stores it in 'close'"
   ]
  },
  {
   "cell_type": "code",
   "execution_count": 5,
   "id": "d12f8916",
   "metadata": {},
   "outputs": [],
   "source": [
    "close = df[\"close\"]"
   ]
  },
  {
   "cell_type": "code",
   "execution_count": 6,
   "id": "4c3c3d8f",
   "metadata": {},
   "outputs": [
    {
     "data": {
      "text/plain": [
       "date\n",
       "2020-01-02     75.087502\n",
       "2020-01-03     74.357498\n",
       "2020-01-06     74.949997\n",
       "2020-01-07     74.597504\n",
       "2020-01-08     75.797501\n",
       "                 ...    \n",
       "2024-06-10    193.119995\n",
       "2024-06-11    207.149994\n",
       "2024-06-12    213.070007\n",
       "2024-06-13    214.240005\n",
       "2024-06-14    212.490005\n",
       "Name: close, Length: 1121, dtype: float64"
      ]
     },
     "metadata": {},
     "output_type": "display_data"
    }
   ],
   "source": [
    "display(close)"
   ]
  },
  {
   "cell_type": "markdown",
   "id": "a542d323",
   "metadata": {},
   "source": [
    "Calculates the percentage change of the 'close' prices and stores it in 'returns'"
   ]
  },
  {
   "cell_type": "code",
   "execution_count": 7,
   "id": "a7403959",
   "metadata": {},
   "outputs": [],
   "source": [
    "returns = close.pct_change()"
   ]
  },
  {
   "cell_type": "code",
   "execution_count": 8,
   "id": "0dd71d28",
   "metadata": {},
   "outputs": [
    {
     "data": {
      "text/plain": [
       "date\n",
       "2020-01-02         NaN\n",
       "2020-01-03   -0.009722\n",
       "2020-01-06    0.007968\n",
       "2020-01-07   -0.004703\n",
       "2020-01-08    0.016086\n",
       "                ...   \n",
       "2024-06-10   -0.019148\n",
       "2024-06-11    0.072649\n",
       "2024-06-12    0.028578\n",
       "2024-06-13    0.005491\n",
       "2024-06-14   -0.008168\n",
       "Name: close, Length: 1121, dtype: float64"
      ]
     },
     "metadata": {},
     "output_type": "display_data"
    }
   ],
   "source": [
    "display(returns)"
   ]
  },
  {
   "cell_type": "markdown",
   "id": "d083d9b8",
   "metadata": {},
   "source": [
    "Calculates the standard deviation of the percentage returns, excluding NaN values"
   ]
  },
  {
   "cell_type": "code",
   "execution_count": 9,
   "id": "148a8291",
   "metadata": {},
   "outputs": [],
   "source": [
    "std_dev = returns.dropna().std()"
   ]
  },
  {
   "cell_type": "code",
   "execution_count": 10,
   "id": "8c255ecb",
   "metadata": {},
   "outputs": [
    {
     "data": {
      "text/plain": [
       "0.020645474500698594"
      ]
     },
     "metadata": {},
     "output_type": "display_data"
    }
   ],
   "source": [
    "display(std_dev)"
   ]
  },
  {
   "cell_type": "markdown",
   "id": "732940d6",
   "metadata": {},
   "source": [
    "Annualizes the standard deviation by multiplying with the square root of 252 (trading days in a year)"
   ]
  },
  {
   "cell_type": "code",
   "execution_count": 11,
   "id": "22395c7c",
   "metadata": {},
   "outputs": [
    {
     "data": {
      "text/plain": [
       "0.32773674736664327"
      ]
     },
     "execution_count": 11,
     "metadata": {},
     "output_type": "execute_result"
    }
   ],
   "source": [
    "std_dev * np.sqrt(252)"
   ]
  },
  {
   "cell_type": "markdown",
   "id": "ca2d5858",
   "metadata": {},
   "source": [
    "Converts the index of 'close' to datetime format"
   ]
  },
  {
   "cell_type": "code",
   "execution_count": 12,
   "id": "8dde3dbd",
   "metadata": {},
   "outputs": [],
   "source": [
    "close.index = pd.to_datetime(close.index)"
   ]
  },
  {
   "cell_type": "markdown",
   "id": "8b4f8f45",
   "metadata": {},
   "source": [
    "Calculates the monthly percentage change, drops NaN values, calculates the standard deviation, and annualizes it"
   ]
  },
  {
   "cell_type": "code",
   "execution_count": 13,
   "id": "ae3c11c7",
   "metadata": {},
   "outputs": [
    {
     "data": {
      "text/plain": [
       "0.30826609119838494"
      ]
     },
     "execution_count": 13,
     "metadata": {},
     "output_type": "execute_result"
    }
   ],
   "source": [
    "(close.pct_change(freq=\"ME\").dropna().std() * np.sqrt(12))"
   ]
  },
  {
   "cell_type": "markdown",
   "id": "7fbc5596",
   "metadata": {},
   "source": [
    "Calculates the quarterly percentage change, drops NaN values, calculates the standard deviation, and annualizes it"
   ]
  },
  {
   "cell_type": "code",
   "execution_count": 14,
   "id": "f460ccfe",
   "metadata": {},
   "outputs": [
    {
     "data": {
      "text/plain": [
       "0.38461527636615106"
      ]
     },
     "execution_count": 14,
     "metadata": {},
     "output_type": "execute_result"
    }
   ],
   "source": [
    "(close.pct_change(freq=\"QE\").dropna().std() * np.sqrt(4))"
   ]
  },
  {
   "cell_type": "markdown",
   "id": "a7e158e0",
   "metadata": {},
   "source": [
    "Calculates the rolling 22-day standard deviation of the daily percentage changes, annualizes it, and plots the result"
   ]
  },
  {
   "cell_type": "code",
   "execution_count": 15,
   "id": "ce7e7e81",
   "metadata": {},
   "outputs": [
    {
     "data": {
      "text/plain": [
       "<Axes: xlabel='date'>"
      ]
     },
     "execution_count": 15,
     "metadata": {},
     "output_type": "execute_result"
    },
    {
     "data": {
      "image/png": "[encoded data removed]",
      "text/plain": [
       "<Figure size 640x480 with 1 Axes>"
      ]
     },
     "metadata": {},
     "output_type": "display_data"
    }
   ],
   "source": [
    "(close.pct_change().rolling(window=22).std() * np.sqrt(252)).plot()"
   ]
  },
  {
   "cell_type": "markdown",
   "id": "18af874a",
   "metadata": {},
   "source": [
    "**Jason Strimpel** is the founder of <a href='https://pyquantnews.com/'>PyQuant News</a> and co-founder of <a href='https://www.tradeblotter.io/'>Trade Blotter</a>. His career in algorithmic trading spans 20+ years. He previously traded for a Chicago-based hedge fund, was a risk manager at JPMorgan, and managed production risk technology for an energy derivatives trading firm in London. In Singapore, he served as APAC CIO for an agricultural trading firm and built the data science team for a global metals trading firm. Jason holds degrees in Finance and Economics and a Master's in Quantitative Finance from the Illinois Institute of Technology. His career spans America, Europe, and Asia. He shares his expertise through the <a href='https://pyquantnews.com/subscribe-to-the-pyquant-newsletter/'>PyQuant Newsletter</a>, social media, and has taught over 1,000+ algorithmic trading with Python in his popular course **<a href='https://gettingstartedwithpythonforquantfinance.com/'>Getting Started With Python for Quant Finance</a>**. All code is for educational purposes only. Nothing provided here is financial advise. Use at your own risk."
   ]
  },
  {
   "cell_type": "code",
   "execution_count": null,
   "id": "1797f265-ae8b-44f6-bfdc-82963ce8345e",
   "metadata": {},
   "outputs": [],
   "source": []
  }
 ],
 "metadata": {
  "jupytext": {
   "cell_metadata_filter": "-all",
   "main_language": "python",
   "notebook_metadata_filter": "-all"
  },
  "kernelspec": {
   "display_name": "Python 3 (ipykernel)",
   "language": "python",
   "name": "python3"
  },
  "language_info": {
   "codemirror_mode": {
    "name": "ipython",
    "version": 3
   },
   "file_extension": ".py",
   "mimetype": "text/x-python",
   "name": "python",
   "nbconvert_exporter": "python",
   "pygments_lexer": "ipython3",
   "version": "3.10.13"
  }
 },
 "nbformat": 4,
 "nbformat_minor": 5
}
