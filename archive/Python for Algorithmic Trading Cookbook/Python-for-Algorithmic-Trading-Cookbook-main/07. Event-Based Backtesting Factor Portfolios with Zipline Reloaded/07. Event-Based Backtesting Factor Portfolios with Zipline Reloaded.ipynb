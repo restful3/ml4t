{
 "cells": [
  {
   "cell_type": "markdown",
   "id": "979d141e",
   "metadata": {},
   "source": [
    "## Backtesting a Momentum Factor Strategy with Zipline Reloaded"
   ]
  },
  {
   "cell_type": "code",
   "execution_count": null,
   "id": "ce97b7c0",
   "metadata": {},
   "outputs": [],
   "source": [
    "!pip install logbook"
   ]
  },
  {
   "cell_type": "code",
   "execution_count": 1,
   "id": "4669abfb",
   "metadata": {},
   "outputs": [],
   "source": [
    "import warnings"
   ]
  },
  {
   "cell_type": "code",
   "execution_count": 2,
   "id": "a5d74e34",
   "metadata": {},
   "outputs": [],
   "source": [
    "import numpy as np\n",
    "import pandas as pd\n",
    "import pandas_datareader as web\n",
    "from IPython.display import Markdown, display\n",
    "from zipline import run_algorithm\n",
    "from zipline.api import (\n",
    "    attach_pipeline,\n",
    "    calendars,\n",
    "    date_rules,\n",
    "    get_open_orders,\n",
    "    order_target_percent,\n",
    "    pipeline_output,\n",
    "    record,\n",
    "    schedule_function,\n",
    "    set_commission,\n",
    "    set_slippage,\n",
    "    time_rules,\n",
    ")\n",
    "from zipline.pipeline import Pipeline\n",
    "from zipline.pipeline.data import USEquityPricing\n",
    "from zipline.pipeline.factors import AverageDollarVolume, CustomFactor, Returns"
   ]
  },
  {
   "cell_type": "code",
   "execution_count": 3,
   "id": "763852d9",
   "metadata": {},
   "outputs": [],
   "source": [
    "warnings.filterwarnings(\"ignore\")"
   ]
  },
  {
   "cell_type": "code",
   "execution_count": 4,
   "id": "6ddf778c",
   "metadata": {},
   "outputs": [],
   "source": [
    "N_LONGS = N_SHORTS = 50"
   ]
  },
  {
   "cell_type": "markdown",
   "id": "e6e133cb",
   "metadata": {
    "lines_to_next_cell": 2
   },
   "source": [
    "Define a custom momentum factor"
   ]
  },
  {
   "cell_type": "code",
   "execution_count": 5,
   "id": "47b395ea",
   "metadata": {
    "lines_to_next_cell": 2
   },
   "outputs": [],
   "source": [
    "class MomentumFactor(CustomFactor):\n",
    "    inputs = [USEquityPricing.close, Returns(window_length=126)]\n",
    "    window_length = 252\n",
    "\n",
    "    def compute(self, today, assets, out, prices, returns):\n",
    "        out[:] = (\n",
    "            (prices[-21] - prices[-252]) / prices[-252]\n",
    "            - (prices[-1] - prices[-21]) / prices[-21]\n",
    "        ) / np.nanstd(returns, axis=0)"
   ]
  },
  {
   "cell_type": "markdown",
   "id": "ccb0a076",
   "metadata": {
    "lines_to_next_cell": 2
   },
   "source": [
    "Define the pipeline for factors and securities selection"
   ]
  },
  {
   "cell_type": "code",
   "execution_count": 6,
   "id": "472e123e",
   "metadata": {
    "lines_to_next_cell": 2
   },
   "outputs": [],
   "source": [
    "def make_pipeline():\n",
    "    momentum = MomentumFactor()\n",
    "    dollar_volume = AverageDollarVolume(window_length=30)\n",
    "    return Pipeline(\n",
    "        columns={\n",
    "            \"factor\": momentum,\n",
    "            \"longs\": momentum.top(N_LONGS),\n",
    "            \"shorts\": momentum.bottom(N_SHORTS),\n",
    "            \"ranking\": momentum.rank(),\n",
    "        },\n",
    "        screen=dollar_volume.top(100),\n",
    "    )"
   ]
  },
  {
   "cell_type": "markdown",
   "id": "376be1dc",
   "metadata": {
    "lines_to_next_cell": 2
   },
   "source": [
    "Define the function to be called before the trading starts"
   ]
  },
  {
   "cell_type": "code",
   "execution_count": 7,
   "id": "5051ffc2",
   "metadata": {
    "lines_to_next_cell": 2
   },
   "outputs": [],
   "source": [
    "def before_trading_start(context, data):\n",
    "    context.factor_data = pipeline_output(\"factor_pipeline\")"
   ]
  },
  {
   "cell_type": "markdown",
   "id": "270ddb0e",
   "metadata": {
    "lines_to_next_cell": 2
   },
   "source": [
    "Define the initialize function to set up the algorithm"
   ]
  },
  {
   "cell_type": "code",
   "execution_count": 8,
   "id": "74957b99",
   "metadata": {
    "lines_to_next_cell": 2
   },
   "outputs": [],
   "source": [
    "def initialize(context):\n",
    "    attach_pipeline(make_pipeline(), \"factor_pipeline\")\n",
    "    schedule_function(\n",
    "        rebalance,\n",
    "        date_rules.week_start(),\n",
    "        time_rules.market_open(),\n",
    "        calendar=calendars.US_EQUITIES,\n",
    "    )"
   ]
  },
  {
   "cell_type": "markdown",
   "id": "4188ab22",
   "metadata": {
    "lines_to_next_cell": 2
   },
   "source": [
    "Define the rebalance function to execute trades"
   ]
  },
  {
   "cell_type": "code",
   "execution_count": 9,
   "id": "16bc903f",
   "metadata": {
    "lines_to_next_cell": 2
   },
   "outputs": [],
   "source": [
    "def rebalance(context, data):\n",
    "    factor_data = context.factor_data\n",
    "    record(factor_data=factor_data.ranking)\n",
    "\n",
    "    assets = factor_data.index\n",
    "    record(prices=data.current(assets, \"price\"))\n",
    "\n",
    "    longs = assets[factor_data.longs]\n",
    "    shorts = assets[factor_data.shorts]\n",
    "    divest = set(context.portfolio.positions.keys()) - set(longs.union(shorts))\n",
    "\n",
    "    exec_trades(data, assets=divest, target_percent=0)\n",
    "    exec_trades(data, assets=longs, target_percent=1 / N_LONGS)\n",
    "    exec_trades(data, assets=shorts, target_percent=-1 / N_SHORTS)"
   ]
  },
  {
   "cell_type": "markdown",
   "id": "09dd1512",
   "metadata": {
    "lines_to_next_cell": 2
   },
   "source": [
    "Define the function to execute trades"
   ]
  },
  {
   "cell_type": "code",
   "execution_count": 10,
   "id": "c4539b48",
   "metadata": {
    "lines_to_next_cell": 2
   },
   "outputs": [],
   "source": [
    "def exec_trades(data, assets, target_percent):\n",
    "    for asset in assets:\n",
    "        if data.can_trade(asset) and not get_open_orders(asset):\n",
    "            order_target_percent(asset, target_percent)"
   ]
  },
  {
   "cell_type": "markdown",
   "id": "fb9dbbc6",
   "metadata": {
    "lines_to_next_cell": 2
   },
   "source": [
    "Define the analyze function to plot performance"
   ]
  },
  {
   "cell_type": "code",
   "execution_count": 11,
   "id": "42e9b5a8",
   "metadata": {},
   "outputs": [],
   "source": [
    "def analyze(context, perf):\n",
    "    perf.portfolio_value.plot()"
   ]
  },
  {
   "cell_type": "markdown",
   "id": "001de195",
   "metadata": {},
   "source": [
    "Define the start and end dates for the backtest"
   ]
  },
  {
   "cell_type": "code",
   "execution_count": 12,
   "id": "5b630eae",
   "metadata": {},
   "outputs": [],
   "source": [
    "start = pd.Timestamp(\"2016\")\n",
    "end = pd.Timestamp(\"2018\")"
   ]
  },
  {
   "cell_type": "markdown",
   "id": "720a98a0",
   "metadata": {},
   "source": [
    "Fetch the benchmark returns (S&P 500)"
   ]
  },
  {
   "cell_type": "code",
   "execution_count": 13,
   "id": "b8a02765",
   "metadata": {},
   "outputs": [],
   "source": [
    "sp500 = web.DataReader(\"SP500\", \"fred\", start, end).SP500\n",
    "benchmark_returns = sp500.pct_change()"
   ]
  },
  {
   "cell_type": "markdown",
   "id": "52e4b971",
   "metadata": {},
   "source": [
    "Run the algorithm"
   ]
  },
  {
   "cell_type": "code",
   "execution_count": 14,
   "id": "cd037d31",
   "metadata": {},
   "outputs": [],
   "source": [
    "perf = run_algorithm(\n",
    "    start=start,\n",
    "    end=end,\n",
    "    initialize=initialize,\n",
    "    before_trading_start=before_trading_start,\n",
    "    capital_base=100_000,\n",
    "    benchmark_returns=benchmark_returns,\n",
    "    bundle=\"quandl\",\n",
    ")"
   ]
  },
  {
   "cell_type": "markdown",
   "id": "828d4954",
   "metadata": {},
   "source": [
    "Display performance info"
   ]
  },
  {
   "cell_type": "code",
   "execution_count": 15,
   "id": "303ad0a0",
   "metadata": {},
   "outputs": [
    {
     "name": "stdout",
     "output_type": "stream",
     "text": [
      "<class 'pandas.core.frame.DataFrame'>\n",
      "DatetimeIndex: 503 entries, 2016-01-04 21:00:00+00:00 to 2017-12-29 21:00:00+00:00\n",
      "Data columns (total 39 columns):\n",
      " #   Column                   Non-Null Count  Dtype              \n",
      "---  ------                   --------------  -----              \n",
      " 0   period_open              503 non-null    datetime64[ns, UTC]\n",
      " 1   period_close             503 non-null    datetime64[ns, UTC]\n",
      " 2   longs_count              503 non-null    int64              \n",
      " 3   ending_value             503 non-null    float64            \n",
      " 4   long_exposure            503 non-null    float64            \n",
      " 5   pnl                      503 non-null    float64            \n",
      " 6   capital_used             503 non-null    float64            \n",
      " 7   short_exposure           503 non-null    float64            \n",
      " 8   orders                   503 non-null    object             \n",
      " 9   net_leverage             503 non-null    float64            \n",
      " 10  gross_leverage           503 non-null    float64            \n",
      " 11  ending_cash              503 non-null    float64            \n",
      " 12  short_value              503 non-null    float64            \n",
      " 13  positions                503 non-null    object             \n",
      " 14  returns                  503 non-null    float64            \n",
      " 15  transactions             503 non-null    object             \n",
      " 16  portfolio_value          503 non-null    float64            \n",
      " 17  long_value               503 non-null    float64            \n",
      " 18  starting_exposure        503 non-null    float64            \n",
      " 19  ending_exposure          503 non-null    float64            \n",
      " 20  starting_value           503 non-null    float64            \n",
      " 21  shorts_count             503 non-null    int64              \n",
      " 22  starting_cash            503 non-null    float64            \n",
      " 23  factor_data              503 non-null    object             \n",
      " 24  prices                   503 non-null    object             \n",
      " 25  trading_days             503 non-null    int64              \n",
      " 26  algo_volatility          502 non-null    float64            \n",
      " 27  sharpe                   502 non-null    float64            \n",
      " 28  period_label             503 non-null    object             \n",
      " 29  treasury_period_return   503 non-null    float64            \n",
      " 30  max_drawdown             503 non-null    float64            \n",
      " 31  alpha                    502 non-null    float64            \n",
      " 32  beta                     502 non-null    float64            \n",
      " 33  excess_return            503 non-null    float64            \n",
      " 34  sortino                  502 non-null    float64            \n",
      " 35  algorithm_period_return  503 non-null    float64            \n",
      " 36  benchmark_period_return  503 non-null    float64            \n",
      " 37  benchmark_volatility     502 non-null    float64            \n",
      " 38  max_leverage             503 non-null    float64            \n",
      "dtypes: datetime64[ns, UTC](2), float64(28), int64(3), object(6)\n",
      "memory usage: 157.2+ KB\n"
     ]
    },
    {
     "data": {
      "text/plain": [
       "None"
      ]
     },
     "metadata": {},
     "output_type": "display_data"
    }
   ],
   "source": [
    "display(perf.info())"
   ]
  },
  {
   "cell_type": "markdown",
   "id": "dfd7fb87",
   "metadata": {},
   "source": [
    "Plot cumulative returns"
   ]
  },
  {
   "cell_type": "code",
   "execution_count": 16,
   "id": "0431cf9e",
   "metadata": {},
   "outputs": [
    {
     "data": {
      "text/plain": [
       "<Axes: title={'center': 'Cumulative returns'}>"
      ]
     },
     "execution_count": 16,
     "metadata": {},
     "output_type": "execute_result"
    },
    {
     "data": {
      "image/png": "[encoded data removed]",
      "text/plain": [
       "<Figure size 640x480 with 1 Axes>"
      ]
     },
     "metadata": {},
     "output_type": "display_data"
    }
   ],
   "source": [
    "perf.portfolio_value.plot(title=\"Cumulative returns\")"
   ]
  },
  {
   "cell_type": "markdown",
   "id": "65145a66",
   "metadata": {},
   "source": [
    "Plot histogram of returns"
   ]
  },
  {
   "cell_type": "code",
   "execution_count": 17,
   "id": "549139b6",
   "metadata": {},
   "outputs": [
    {
     "data": {
      "text/plain": [
       "<Axes: >"
      ]
     },
     "execution_count": 17,
     "metadata": {},
     "output_type": "execute_result"
    },
    {
     "data": {
      "image/png": "[encoded data removed]",
      "text/plain": [
       "<Figure size 640x480 with 1 Axes>"
      ]
     },
     "metadata": {},
     "output_type": "display_data"
    }
   ],
   "source": [
    "perf.returns.hist(bins=50)"
   ]
  },
  {
   "cell_type": "markdown",
   "id": "c8f737ad",
   "metadata": {},
   "source": [
    "Plot Sharpe ratio"
   ]
  },
  {
   "cell_type": "code",
   "execution_count": 18,
   "id": "3578bf6b",
   "metadata": {},
   "outputs": [
    {
     "data": {
      "text/plain": [
       "<Axes: >"
      ]
     },
     "execution_count": 18,
     "metadata": {},
     "output_type": "execute_result"
    },
    {
     "data": {
      "image/png": "[encoded data removed]",
      "text/plain": [
       "<Figure size 640x480 with 1 Axes>"
      ]
     },
     "metadata": {},
     "output_type": "display_data"
    }
   ],
   "source": [
    "perf.sharpe.iloc[252:].plot()"
   ]
  },
  {
   "cell_type": "markdown",
   "id": "6825d260",
   "metadata": {},
   "source": [
    "**Jason Strimpel** is the founder of <a href='https://pyquantnews.com/'>PyQuant News</a> and co-founder of <a href='https://www.tradeblotter.io/'>Trade Blotter</a>. His career in algorithmic trading spans 20+ years. He previously traded for a Chicago-based hedge fund, was a risk manager at JPMorgan, and managed production risk technology for an energy derivatives trading firm in London. In Singapore, he served as APAC CIO for an agricultural trading firm and built the data science team for a global metals trading firm. Jason holds degrees in Finance and Economics and a Master's in Quantitative Finance from the Illinois Institute of Technology. His career spans America, Europe, and Asia. He shares his expertise through the <a href='https://pyquantnews.com/subscribe-to-the-pyquant-newsletter/'>PyQuant Newsletter</a>, social media, and has taught over 1,000+ algorithmic trading with Python in his popular course **<a href='https://gettingstartedwithpythonforquantfinance.com/'>Getting Started With Python for Quant Finance</a>**. All code is for educational purposes only. Nothing provided here is financial advise. Use at your own risk."
   ]
  },
  {
   "cell_type": "code",
   "execution_count": null,
   "id": "05cc5daa-a884-4766-97d9-9b9357ed9ec7",
   "metadata": {},
   "outputs": [],
   "source": []
  },
  {
   "cell_type": "markdown",
   "id": "32e5d6f2",
   "metadata": {},
   "source": [
    "## Exploring a Mean Reversion Strategy with Zipline Reloaded"
   ]
  },
  {
   "cell_type": "code",
   "execution_count": 1,
   "id": "3328e238",
   "metadata": {},
   "outputs": [],
   "source": [
    "import warnings"
   ]
  },
  {
   "cell_type": "code",
   "execution_count": 2,
   "id": "e7c3236c",
   "metadata": {},
   "outputs": [],
   "source": [
    "import numpy as np\n",
    "import pandas as pd\n",
    "import pandas_datareader as web\n",
    "from IPython.display import Markdown, display\n",
    "from zipline import run_algorithm\n",
    "from zipline.api import (\n",
    "    attach_pipeline,\n",
    "    calendars,\n",
    "    date_rules,\n",
    "    get_datetime,\n",
    "    get_open_orders,\n",
    "    order_target_percent,\n",
    "    pipeline_output,\n",
    "    record,\n",
    "    schedule_function,\n",
    "    set_commission,\n",
    "    set_slippage,\n",
    "    time_rules,\n",
    ")\n",
    "from zipline.finance import commission, slippage\n",
    "from zipline.pipeline import Pipeline\n",
    "from zipline.pipeline.data import USEquityPricing\n",
    "from zipline.pipeline.factors import AverageDollarVolume, CustomFactor, Returns"
   ]
  },
  {
   "cell_type": "code",
   "execution_count": 3,
   "id": "b8aeb006",
   "metadata": {},
   "outputs": [],
   "source": [
    "warnings.filterwarnings(\"ignore\")"
   ]
  },
  {
   "cell_type": "code",
   "execution_count": 4,
   "id": "89e81e71",
   "metadata": {},
   "outputs": [],
   "source": [
    "N_LONGS = N_SHORTS = 50\n",
    "MONTH = 21\n",
    "YEAR = 12 * MONTH"
   ]
  },
  {
   "cell_type": "markdown",
   "id": "3c14adb6",
   "metadata": {
    "lines_to_next_cell": 2
   },
   "source": [
    "Define a custom mean reversion factor"
   ]
  },
  {
   "cell_type": "code",
   "execution_count": 5,
   "id": "4fb04783",
   "metadata": {
    "lines_to_next_cell": 2
   },
   "outputs": [],
   "source": [
    "class MeanReversion(CustomFactor):\n",
    "    inputs = [Returns(window_length=MONTH)]\n",
    "    window_length = YEAR\n",
    "\n",
    "    def compute(self, today, assets, out, monthly_returns):\n",
    "        df = pd.DataFrame(monthly_returns)\n",
    "        out[:] = df.iloc[-1].sub(df.mean()).div(df.std())"
   ]
  },
  {
   "cell_type": "markdown",
   "id": "97604149",
   "metadata": {
    "lines_to_next_cell": 2
   },
   "source": [
    "Define the pipeline for factors and securities selection"
   ]
  },
  {
   "cell_type": "code",
   "execution_count": 6,
   "id": "04699d2d",
   "metadata": {
    "lines_to_next_cell": 2
   },
   "outputs": [],
   "source": [
    "def make_pipeline():\n",
    "    mean_reversion = MeanReversion()\n",
    "    dollar_volume = AverageDollarVolume(window_length=30)\n",
    "    return Pipeline(\n",
    "        columns={\n",
    "            \"longs\": mean_reversion.bottom(N_LONGS),\n",
    "            \"shorts\": mean_reversion.top(N_SHORTS),\n",
    "            \"ranking\": mean_reversion.rank(ascending=False),\n",
    "        },\n",
    "        screen=dollar_volume.top(100),\n",
    "    )"
   ]
  },
  {
   "cell_type": "markdown",
   "id": "f24e4342",
   "metadata": {
    "lines_to_next_cell": 2
   },
   "source": [
    "Define the function to be called before the trading starts"
   ]
  },
  {
   "cell_type": "code",
   "execution_count": 7,
   "id": "01e7ff94",
   "metadata": {
    "lines_to_next_cell": 2
   },
   "outputs": [],
   "source": [
    "def before_trading_start(context, data):\n",
    "    context.factor_data = pipeline_output(\"factor_pipeline\")"
   ]
  },
  {
   "cell_type": "markdown",
   "id": "60ac1731",
   "metadata": {
    "lines_to_next_cell": 2
   },
   "source": [
    "Define the initialize function to set up the algorithm"
   ]
  },
  {
   "cell_type": "code",
   "execution_count": 8,
   "id": "d672ad15",
   "metadata": {
    "lines_to_next_cell": 2
   },
   "outputs": [],
   "source": [
    "def initialize(context):\n",
    "    attach_pipeline(make_pipeline(), \"factor_pipeline\")\n",
    "    schedule_function(\n",
    "        rebalance,\n",
    "        date_rules.week_start(),\n",
    "        time_rules.market_open(),\n",
    "        calendar=calendars.US_EQUITIES,\n",
    "    )\n",
    "\n",
    "    set_commission(us_equities=commission.PerShare(cost=0.00075, min_trade_cost=0.01))\n",
    "\n",
    "    set_slippage(\n",
    "        us_equities=slippage.VolumeShareSlippage(volume_limit=0.0025, price_impact=0.01)\n",
    "    )"
   ]
  },
  {
   "cell_type": "markdown",
   "id": "76d0a97d",
   "metadata": {
    "lines_to_next_cell": 2
   },
   "source": [
    "Define the rebalance function to execute trades"
   ]
  },
  {
   "cell_type": "code",
   "execution_count": 9,
   "id": "5d23a489",
   "metadata": {
    "lines_to_next_cell": 2
   },
   "outputs": [],
   "source": [
    "def rebalance(context, data):\n",
    "    factor_data = context.factor_data\n",
    "    record(factor_data=factor_data.ranking)\n",
    "\n",
    "    assets = factor_data.index\n",
    "    record(prices=data.current(assets, \"price\"))\n",
    "\n",
    "    longs = assets[factor_data.longs]\n",
    "    shorts = assets[factor_data.shorts]\n",
    "    divest = set(context.portfolio.positions.keys()) - set(longs.union(shorts))\n",
    "    print(\n",
    "        f\"{get_datetime().date()} | Longs {len(longs)} | Shorts | {len(shorts)} | {context.portfolio.portfolio_value}\"\n",
    "    )\n",
    "\n",
    "    exec_trades(data, assets=divest, target_percent=0)\n",
    "    exec_trades(data, assets=longs, target_percent=1 / N_LONGS)\n",
    "    exec_trades(data, assets=shorts, target_percent=-1 / N_SHORTS)"
   ]
  },
  {
   "cell_type": "markdown",
   "id": "9e89f64e",
   "metadata": {
    "lines_to_next_cell": 2
   },
   "source": [
    "Define the function to execute trades"
   ]
  },
  {
   "cell_type": "code",
   "execution_count": 10,
   "id": "ff944166",
   "metadata": {
    "lines_to_next_cell": 2
   },
   "outputs": [],
   "source": [
    "def exec_trades(data, assets, target_percent):\n",
    "    for asset in assets:\n",
    "        if data.can_trade(asset) and not get_open_orders(asset):\n",
    "            order_target_percent(asset, target_percent)"
   ]
  },
  {
   "cell_type": "markdown",
   "id": "7a675f9d",
   "metadata": {
    "lines_to_next_cell": 2
   },
   "source": [
    "Define the analyze function to plot performance"
   ]
  },
  {
   "cell_type": "code",
   "execution_count": 11,
   "id": "a042f12a",
   "metadata": {},
   "outputs": [],
   "source": [
    "def analyze(context, perf):\n",
    "    perf.portfolio_value.plot()"
   ]
  },
  {
   "cell_type": "markdown",
   "id": "7bf49fe8",
   "metadata": {},
   "source": [
    "Define the start and end dates for the backtest"
   ]
  },
  {
   "cell_type": "code",
   "execution_count": 12,
   "id": "5e9d82c1",
   "metadata": {},
   "outputs": [],
   "source": [
    "start = pd.Timestamp(\"2016\")\n",
    "end = pd.Timestamp(\"2018\")"
   ]
  },
  {
   "cell_type": "markdown",
   "id": "4d152f46",
   "metadata": {},
   "source": [
    "Fetch the benchmark returns (S&P 500)"
   ]
  },
  {
   "cell_type": "code",
   "execution_count": 13,
   "id": "fe9b7dc5",
   "metadata": {},
   "outputs": [],
   "source": [
    "sp500 = web.DataReader(\"SP500\", \"fred\", start, end).SP500\n",
    "benchmark_returns = sp500.pct_change()"
   ]
  },
  {
   "cell_type": "markdown",
   "id": "65fb0e68",
   "metadata": {},
   "source": [
    "Run the algorithm"
   ]
  },
  {
   "cell_type": "code",
   "execution_count": 14,
   "id": "2c33526d",
   "metadata": {},
   "outputs": [
    {
     "name": "stdout",
     "output_type": "stream",
     "text": [
      "2016-01-04 | Longs 0 | Shorts | 1 | 100000.0\n",
      "2016-01-11 | Longs 0 | Shorts | 1 | 99993.16349999886\n",
      "2016-01-19 | Longs 2 | Shorts | 1 | 100021.36374999832\n",
      "2016-01-25 | Longs 2 | Shorts | 2 | 100047.47224999769\n",
      "2016-02-01 | Longs 3 | Shorts | 3 | 99889.9749999967\n",
      "2016-02-08 | Longs 2 | Shorts | 2 | 99616.54649999554\n",
      "2016-02-16 | Longs 2 | Shorts | 0 | 99849.90549999391\n",
      "2016-02-22 | Longs 1 | Shorts | 0 | 100195.42449999285\n",
      "2016-02-29 | Longs 1 | Shorts | 0 | 100155.76424999181\n",
      "2016-03-07 | Longs 2 | Shorts | 1 | 100114.18424999181\n",
      "2016-03-14 | Longs 0 | Shorts | 0 | 100304.28374999072\n",
      "2016-03-21 | Longs 1 | Shorts | 2 | 99210.60974998782\n",
      "2016-03-28 | Longs 1 | Shorts | 0 | 99355.18649998584\n",
      "2016-04-04 | Longs 1 | Shorts | 0 | 99108.98424998432\n",
      "2016-04-11 | Longs 2 | Shorts | 1 | 99483.63424998433\n",
      "2016-04-18 | Longs 2 | Shorts | 0 | 99556.3877499843\n",
      "2016-04-25 | Longs 2 | Shorts | 0 | 99573.0884999835\n",
      "2016-05-02 | Longs 4 | Shorts | 0 | 99557.5844999825\n",
      "2016-05-09 | Longs 3 | Shorts | 1 | 99399.40899998133\n",
      "2016-05-16 | Longs 3 | Shorts | 2 | 99355.67949998101\n",
      "2016-05-23 | Longs 3 | Shorts | 2 | 99271.2524999799\n",
      "2016-05-31 | Longs 1 | Shorts | 2 | 99356.98699997793\n",
      "2016-06-06 | Longs 4 | Shorts | 3 | 99366.66949997128\n",
      "2016-06-13 | Longs 3 | Shorts | 1 | 99543.62649996586\n",
      "2016-06-20 | Longs 2 | Shorts | 1 | 99459.02499996335\n",
      "2016-06-27 | Longs 4 | Shorts | 1 | 98925.75674996113\n",
      "2016-07-05 | Longs 0 | Shorts | 3 | 99260.76674996056\n",
      "2016-07-11 | Longs 3 | Shorts | 2 | 99335.8389999511\n",
      "2016-07-18 | Longs 1 | Shorts | 1 | 99421.94524994826\n",
      "2016-07-25 | Longs 0 | Shorts | 2 | 99641.29024993867\n",
      "2016-08-01 | Longs 0 | Shorts | 2 | 99574.93024993711\n",
      "2016-08-08 | Longs 1 | Shorts | 2 | 99451.26299993655\n",
      "2016-08-15 | Longs 1 | Shorts | 0 | 99399.90774993491\n",
      "2016-08-22 | Longs 2 | Shorts | 0 | 99388.73049993235\n",
      "2016-08-29 | Longs 3 | Shorts | 0 | 99375.95774993206\n",
      "2016-09-06 | Longs 4 | Shorts | 1 | 99240.71024993109\n",
      "2016-09-12 | Longs 6 | Shorts | 0 | 99284.24874992917\n",
      "2016-09-19 | Longs 3 | Shorts | 0 | 99310.75224992516\n",
      "2016-09-26 | Longs 2 | Shorts | 1 | 99342.7364999232\n",
      "2016-10-03 | Longs 2 | Shorts | 0 | 99432.89149991871\n",
      "2016-10-10 | Longs 1 | Shorts | 0 | 99534.435249917\n",
      "2016-10-17 | Longs 2 | Shorts | 1 | 99567.15024991655\n",
      "2016-10-24 | Longs 1 | Shorts | 4 | 99701.46224991114\n",
      "2016-10-31 | Longs 2 | Shorts | 4 | 99758.98474989916\n",
      "2016-11-07 | Longs 1 | Shorts | 2 | 99690.08774989613\n",
      "2016-11-14 | Longs 2 | Shorts | 0 | 99684.02199989371\n",
      "2016-11-21 | Longs 3 | Shorts | 0 | 99687.2547498928\n",
      "2016-11-28 | Longs 6 | Shorts | 0 | 99699.0027498928\n",
      "2016-12-05 | Longs 5 | Shorts | 1 | 99579.59924989115\n",
      "2016-12-12 | Longs 6 | Shorts | 0 | 99907.10849989054\n",
      "2016-12-19 | Longs 1 | Shorts | 0 | 100016.05374988737\n",
      "2016-12-27 | Longs 0 | Shorts | 0 | 99994.40949988627\n",
      "2017-01-03 | Longs 2 | Shorts | 1 | 99995.46924988582\n",
      "2017-01-09 | Longs 0 | Shorts | 2 | 99969.06774988303\n",
      "2017-01-17 | Longs 1 | Shorts | 2 | 99992.54574988167\n",
      "2017-01-23 | Longs 2 | Shorts | 1 | 100009.24349988031\n",
      "2017-01-30 | Longs 1 | Shorts | 3 | 100019.00799987803\n",
      "2017-02-06 | Longs 2 | Shorts | 4 | 100004.74024987646\n",
      "2017-02-13 | Longs 1 | Shorts | 4 | 100064.67049987541\n",
      "2017-02-21 | Longs 1 | Shorts | 0 | 100071.47524986957\n",
      "2017-02-27 | Longs 2 | Shorts | 6 | 100130.77874986651\n",
      "2017-03-06 | Longs 1 | Shorts | 4 | 100086.32224986328\n",
      "2017-03-13 | Longs 1 | Shorts | 4 | 99994.76399985905\n",
      "2017-03-20 | Longs 0 | Shorts | 2 | 100120.12849985655\n",
      "2017-03-27 | Longs 1 | Shorts | 1 | 100126.64024985455\n",
      "2017-04-03 | Longs 3 | Shorts | 0 | 100107.37074985116\n",
      "2017-04-10 | Longs 6 | Shorts | 2 | 100145.07774984317\n",
      "2017-04-17 | Longs 6 | Shorts | 2 | 100180.71524983783\n",
      "2017-04-24 | Longs 2 | Shorts | 3 | 100464.08749983532\n",
      "2017-05-01 | Longs 1 | Shorts | 4 | 100561.82099982862\n",
      "2017-05-08 | Longs 1 | Shorts | 5 | 100368.84449982464\n",
      "2017-05-15 | Longs 1 | Shorts | 2 | 100186.15274981526\n",
      "2017-05-22 | Longs 0 | Shorts | 3 | 100150.98049981466\n",
      "2017-05-30 | Longs 1 | Shorts | 2 | 100135.34049981223\n",
      "2017-06-05 | Longs 3 | Shorts | 2 | 100122.40974981069\n",
      "2017-06-12 | Longs 4 | Shorts | 0 | 100296.96449980921\n",
      "2017-06-19 | Longs 3 | Shorts | 2 | 100208.68149980347\n",
      "2017-06-26 | Longs 5 | Shorts | 4 | 100103.75849980078\n",
      "2017-07-03 | Longs 9 | Shorts | 5 | 100345.95199979268\n",
      "2017-07-10 | Longs 8 | Shorts | 5 | 100121.36274979003\n",
      "2017-07-17 | Longs 4 | Shorts | 5 | 100483.58899978599\n",
      "2017-07-24 | Longs 5 | Shorts | 2 | 100115.06224977087\n",
      "2017-07-31 | Longs 2 | Shorts | 6 | 100449.19574976567\n",
      "2017-08-07 | Longs 1 | Shorts | 6 | 100488.33099976288\n",
      "2017-08-14 | Longs 1 | Shorts | 4 | 100579.2624997609\n",
      "2017-08-21 | Longs 1 | Shorts | 1 | 100653.2324997606\n",
      "2017-08-28 | Longs 3 | Shorts | 1 | 100627.89124975448\n",
      "2017-09-05 | Longs 1 | Shorts | 1 | 100743.42449975121\n",
      "2017-09-11 | Longs 2 | Shorts | 3 | 100798.43974974885\n",
      "2017-09-18 | Longs 4 | Shorts | 1 | 101008.80124974706\n",
      "2017-09-25 | Longs 5 | Shorts | 1 | 101256.9089997437\n",
      "2017-10-02 | Longs 4 | Shorts | 0 | 101395.06399974026\n",
      "2017-10-09 | Longs 3 | Shorts | 3 | 101545.01899973433\n",
      "2017-10-16 | Longs 3 | Shorts | 3 | 101508.26249972888\n",
      "2017-10-23 | Longs 4 | Shorts | 2 | 101593.4162497248\n",
      "2017-10-30 | Longs 9 | Shorts | 7 | 101234.84999972026\n",
      "2017-11-06 | Longs 6 | Shorts | 6 | 101138.68499971826\n",
      "2017-11-13 | Longs 4 | Shorts | 4 | 100804.24474971641\n",
      "2017-11-20 | Longs 4 | Shorts | 2 | 100692.08324971468\n",
      "2017-11-27 | Longs 3 | Shorts | 2 | 100687.88624971322\n",
      "2017-12-04 | Longs 3 | Shorts | 1 | 100996.10474970903\n",
      "2017-12-11 | Longs 1 | Shorts | 2 | 101074.34449970587\n",
      "2017-12-18 | Longs 4 | Shorts | 1 | 101052.60499970303\n",
      "2017-12-26 | Longs 4 | Shorts | 4 | 100838.68299969957\n"
     ]
    },
    {
     "data": {
      "image/png": "[encoded data removed]",
      "text/plain": [
       "<Figure size 640x480 with 1 Axes>"
      ]
     },
     "metadata": {},
     "output_type": "display_data"
    }
   ],
   "source": [
    "perf = run_algorithm(\n",
    "    start=start,\n",
    "    end=end,\n",
    "    initialize=initialize,\n",
    "    analyze=analyze,\n",
    "    benchmark_returns=benchmark_returns,\n",
    "    before_trading_start=before_trading_start,\n",
    "    capital_base=100_000,\n",
    "    bundle=\"quandl\",\n",
    ")\n",
    "perf.to_pickle(\"mean_reversion.pickle\")"
   ]
  },
  {
   "cell_type": "markdown",
   "id": "a62ff7e7",
   "metadata": {},
   "source": [
    "Display the pipeline graph"
   ]
  },
  {
   "cell_type": "code",
   "execution_count": 15,
   "id": "995330a2",
   "metadata": {},
   "outputs": [
    {
     "data": {
      "image/svg+xml": [
       "<svg xmlns=\"http://www.w3.org/2000/svg\" xmlns:xlink=\"http://www.w3.org/1999/xlink\" width=\"473pt\" height=\"581pt\" viewBox=\"0.00 0.00 473.00 581.00\">\n",
       "<g id=\"graph0\" class=\"graph\" transform=\"scale(1 1) rotate(0) translate(4 577)\">\n",
       "<title>G</title>\n",
       "<polygon fill=\"white\" stroke=\"none\" points=\"-4,4 -4,-577 469,-577 469,4 -4,4\"/>\n",
       "<g id=\"clust1\" class=\"cluster\">\n",
       "<title>cluster_Output</title>\n",
       "<polygon fill=\"#ffec8b\" stroke=\"#ffec8b\" points=\"21,-8 21,-183 457,-183 457,-8 21,-8\"/>\n",
       "<text text-anchor=\"middle\" x=\"239\" y=\"-15.2\" font-family=\"Times,serif\" font-size=\"14.00\">Output</text>\n",
       "</g>\n",
       "<g id=\"clust2\" class=\"cluster\">\n",
       "<title>cluster_Input</title>\n",
       "<polygon fill=\"#ffec8b\" stroke=\"#ffec8b\" points=\"8,-467 8,-565 335,-565 335,-467 8,-467\"/>\n",
       "<text text-anchor=\"middle\" x=\"171.5\" y=\"-547.7\" font-family=\"Times,serif\" font-size=\"14.00\">Input</text>\n",
       "</g>\n",
       "<!-- 5799846496 -->\n",
       "<g id=\"node1\" class=\"node\">\n",
       "<title>5799846496</title>\n",
       "<polygon fill=\"#ccebc5\" stroke=\"black\" points=\"449.38,-166.75 318.62,-166.75 318.62,-125.75 449.38,-125.75 449.38,-166.75\"/>\n",
       "<text text-anchor=\"start\" x=\"326.62\" y=\"-149.45\" font-family=\"Times,serif\" font-size=\"14.00\">Expression:</text>\n",
       "<text text-anchor=\"start\" x=\"326.62\" y=\"-132.95\" font-family=\"Times,serif\" font-size=\"14.00\">  x_0 &lt;= (5.00E+01)</text>\n",
       "</g>\n",
       "<!-- 5799845248 -->\n",
       "<g id=\"node2\" class=\"node\">\n",
       "<title>5799845248</title>\n",
       "<polygon fill=\"#ccebc5\" stroke=\"black\" points=\"304.38,-81.5 173.62,-81.5 173.62,-40.5 304.38,-40.5 304.38,-81.5\"/>\n",
       "<text text-anchor=\"start\" x=\"181.62\" y=\"-64.2\" font-family=\"Times,serif\" font-size=\"14.00\">Expression:</text>\n",
       "<text text-anchor=\"start\" x=\"181.62\" y=\"-47.7\" font-family=\"Times,serif\" font-size=\"14.00\">  x_0 &lt;= (5.00E+01)</text>\n",
       "</g>\n",
       "<!-- 5799845344 -->\n",
       "<g id=\"node3\" class=\"node\">\n",
       "<title>5799845344</title>\n",
       "<polygon fill=\"#b3cde3\" stroke=\"black\" points=\"300.25,-175 177.75,-175 177.75,-117.5 300.25,-117.5 300.25,-175\"/>\n",
       "<text text-anchor=\"start\" x=\"185.75\" y=\"-157.7\" font-family=\"Times,serif\" font-size=\"14.00\">Rank:</text>\n",
       "<text text-anchor=\"start\" x=\"185.75\" y=\"-141.2\" font-family=\"Times,serif\" font-size=\"14.00\">  method: 'ordinal'</text>\n",
       "<text text-anchor=\"start\" x=\"185.75\" y=\"-124.7\" font-family=\"Times,serif\" font-size=\"14.00\">  mask: AssetExists</text>\n",
       "</g>\n",
       "<!-- 5799845344&#45;&gt;5799845248 -->\n",
       "<g id=\"edge7\" class=\"edge\">\n",
       "<title>5799845344-&gt;5799845248</title>\n",
       "<path fill=\"none\" stroke=\"black\" d=\"M239,-117.39C239,-117.39 239,-92.75 239,-92.75\"/>\n",
       "<polygon fill=\"black\" stroke=\"black\" points=\"242.5,-92.75 239,-82.75 235.5,-92.75 242.5,-92.75\"/>\n",
       "</g>\n",
       "<!-- 5798303712 -->\n",
       "<g id=\"node4\" class=\"node\">\n",
       "<title>5798303712</title>\n",
       "<polygon fill=\"#ccebc5\" stroke=\"black\" points=\"159.38,-166.75 28.62,-166.75 28.62,-125.75 159.38,-125.75 159.38,-166.75\"/>\n",
       "<text text-anchor=\"start\" x=\"36.62\" y=\"-149.45\" font-family=\"Times,serif\" font-size=\"14.00\">Expression:</text>\n",
       "<text text-anchor=\"start\" x=\"36.62\" y=\"-132.95\" font-family=\"Times,serif\" font-size=\"14.00\">  x_0 &lt;= (1.00E+02)</text>\n",
       "</g>\n",
       "<!-- 5367220160 -->\n",
       "<g id=\"node5\" class=\"node\">\n",
       "<title>5367220160</title>\n",
       "<polygon fill=\"#fbb4ae\" stroke=\"black\" points=\"162.25,-532.5 15.75,-532.5 15.75,-475 162.25,-475 162.25,-532.5\"/>\n",
       "<text text-anchor=\"start\" x=\"23.75\" y=\"-515.2\" font-family=\"Times,serif\" font-size=\"14.00\">BoundColumn:</text>\n",
       "<text text-anchor=\"start\" x=\"23.75\" y=\"-498.7\" font-family=\"Times,serif\" font-size=\"14.00\">  Dataset: EquityPricing</text>\n",
       "<text text-anchor=\"start\" x=\"23.75\" y=\"-482.2\" font-family=\"Times,serif\" font-size=\"14.00\">  Column: volume</text>\n",
       "</g>\n",
       "<!-- 5799849520 -->\n",
       "<g id=\"node8\" class=\"node\">\n",
       "<title>5799849520</title>\n",
       "<polygon fill=\"#b3cde3\" stroke=\"black\" points=\"165.38,-439 22.62,-439 22.62,-398 165.38,-398 165.38,-439\"/>\n",
       "<text text-anchor=\"start\" x=\"30.62\" y=\"-421.7\" font-family=\"Times,serif\" font-size=\"14.00\">AverageDollarVolume:</text>\n",
       "<text text-anchor=\"start\" x=\"30.62\" y=\"-405.2\" font-family=\"Times,serif\" font-size=\"14.00\">  window_length: 30</text>\n",
       "</g>\n",
       "<!-- 5367220160&#45;&gt;5799849520 -->\n",
       "<g id=\"edge10\" class=\"edge\">\n",
       "<title>5367220160-&gt;5799849520</title>\n",
       "<path fill=\"none\" stroke=\"black\" d=\"M92.44,-474.89C92.44,-474.89 92.44,-450.25 92.44,-450.25\"/>\n",
       "<polygon fill=\"black\" stroke=\"black\" points=\"95.94,-450.25 92.44,-440.25 88.94,-450.25 95.94,-450.25\"/>\n",
       "</g>\n",
       "<!-- 5365877440 -->\n",
       "<g id=\"node6\" class=\"node\">\n",
       "<title>5365877440</title>\n",
       "<polygon fill=\"#fbb4ae\" stroke=\"black\" points=\"327.25,-532.5 180.75,-532.5 180.75,-475 327.25,-475 327.25,-532.5\"/>\n",
       "<text text-anchor=\"start\" x=\"188.75\" y=\"-515.2\" font-family=\"Times,serif\" font-size=\"14.00\">BoundColumn:</text>\n",
       "<text text-anchor=\"start\" x=\"188.75\" y=\"-498.7\" font-family=\"Times,serif\" font-size=\"14.00\">  Dataset: EquityPricing</text>\n",
       "<text text-anchor=\"start\" x=\"188.75\" y=\"-482.2\" font-family=\"Times,serif\" font-size=\"14.00\">  Column: close</text>\n",
       "</g>\n",
       "<!-- 5778453072 -->\n",
       "<g id=\"node7\" class=\"node\">\n",
       "<title>5778453072</title>\n",
       "<polygon fill=\"#b3cde3\" stroke=\"black\" points=\"318.25,-439 189.75,-439 189.75,-398 318.25,-398 318.25,-439\"/>\n",
       "<text text-anchor=\"start\" x=\"197.75\" y=\"-421.7\" font-family=\"Times,serif\" font-size=\"14.00\">Returns:</text>\n",
       "<text text-anchor=\"start\" x=\"197.75\" y=\"-405.2\" font-family=\"Times,serif\" font-size=\"14.00\">  window_length: 21</text>\n",
       "</g>\n",
       "<!-- 5365877440&#45;&gt;5778453072 -->\n",
       "<g id=\"edge5\" class=\"edge\">\n",
       "<title>5365877440-&gt;5778453072</title>\n",
       "<path fill=\"none\" stroke=\"black\" d=\"M254,-474.89C254,-474.89 254,-450.25 254,-450.25\"/>\n",
       "<polygon fill=\"black\" stroke=\"black\" points=\"257.5,-450.25 254,-440.25 250.5,-450.25 257.5,-450.25\"/>\n",
       "</g>\n",
       "<!-- 5365877440&#45;&gt;5799849520 -->\n",
       "<g id=\"edge6\" class=\"edge\">\n",
       "<title>5365877440-&gt;5799849520</title>\n",
       "<path fill=\"none\" stroke=\"black\" d=\"M180.55,-503C173.84,-503 169.5,-503 169.5,-503 169.5,-503 169.5,-418 169.5,-418 169.5,-418 169.14,-418 169.14,-418\"/>\n",
       "<polygon fill=\"black\" stroke=\"black\" points=\"176.86,-414.5 166.86,-418 176.86,-421.5 176.86,-414.5\"/>\n",
       "</g>\n",
       "<!-- 5799845392 -->\n",
       "<g id=\"node9\" class=\"node\">\n",
       "<title>5799845392</title>\n",
       "<polygon fill=\"#b3cde3\" stroke=\"black\" points=\"321.62,-353.75 186.38,-353.75 186.38,-312.75 321.62,-312.75 321.62,-353.75\"/>\n",
       "<text text-anchor=\"start\" x=\"194.38\" y=\"-336.45\" font-family=\"Times,serif\" font-size=\"14.00\">MeanReversion:</text>\n",
       "<text text-anchor=\"start\" x=\"194.38\" y=\"-319.95\" font-family=\"Times,serif\" font-size=\"14.00\">  window_length: 252</text>\n",
       "</g>\n",
       "<!-- 5778453072&#45;&gt;5799845392 -->\n",
       "<g id=\"edge4\" class=\"edge\">\n",
       "<title>5778453072-&gt;5799845392</title>\n",
       "<path fill=\"none\" stroke=\"black\" d=\"M254,-397.86C254,-397.86 254,-364.99 254,-364.99\"/>\n",
       "<polygon fill=\"black\" stroke=\"black\" points=\"257.5,-364.99 254,-354.99 250.5,-364.99 257.5,-364.99\"/>\n",
       "</g>\n",
       "<!-- 5798311872 -->\n",
       "<g id=\"node10\" class=\"node\">\n",
       "<title>5798311872</title>\n",
       "<polygon fill=\"#b3cde3\" stroke=\"black\" points=\"155.25,-362 32.75,-362 32.75,-304.5 155.25,-304.5 155.25,-362\"/>\n",
       "<text text-anchor=\"start\" x=\"40.75\" y=\"-344.7\" font-family=\"Times,serif\" font-size=\"14.00\">Rank:</text>\n",
       "<text text-anchor=\"start\" x=\"40.75\" y=\"-328.2\" font-family=\"Times,serif\" font-size=\"14.00\">  method: 'ordinal'</text>\n",
       "<text text-anchor=\"start\" x=\"40.75\" y=\"-311.7\" font-family=\"Times,serif\" font-size=\"14.00\">  mask: AssetExists</text>\n",
       "</g>\n",
       "<!-- 5799849520&#45;&gt;5798311872 -->\n",
       "<g id=\"edge9\" class=\"edge\">\n",
       "<title>5799849520-&gt;5798311872</title>\n",
       "<path fill=\"none\" stroke=\"black\" d=\"M94,-397.86C94,-397.86 94,-373.39 94,-373.39\"/>\n",
       "<polygon fill=\"black\" stroke=\"black\" points=\"97.5,-373.39 94,-363.39 90.5,-373.39 97.5,-373.39\"/>\n",
       "</g>\n",
       "<!-- 5799845392&#45;&gt;5799845344 -->\n",
       "<g id=\"edge3\" class=\"edge\">\n",
       "<title>5799845392-&gt;5799845344</title>\n",
       "<path fill=\"none\" stroke=\"black\" d=\"M243.31,-312.52C243.31,-312.52 243.31,-186.33 243.31,-186.33\"/>\n",
       "<polygon fill=\"black\" stroke=\"black\" points=\"246.81,-186.33 243.31,-176.33 239.81,-186.33 246.81,-186.33\"/>\n",
       "</g>\n",
       "<!-- 5799847024 -->\n",
       "<g id=\"node11\" class=\"node\">\n",
       "<title>5799847024</title>\n",
       "<polygon fill=\"#b3cde3\" stroke=\"black\" points=\"424.25,-268.5 301.75,-268.5 301.75,-211 424.25,-211 424.25,-268.5\"/>\n",
       "<text text-anchor=\"start\" x=\"309.75\" y=\"-251.2\" font-family=\"Times,serif\" font-size=\"14.00\">Rank:</text>\n",
       "<text text-anchor=\"start\" x=\"309.75\" y=\"-234.7\" font-family=\"Times,serif\" font-size=\"14.00\">  method: 'ordinal'</text>\n",
       "<text text-anchor=\"start\" x=\"309.75\" y=\"-218.2\" font-family=\"Times,serif\" font-size=\"14.00\">  mask: AssetExists</text>\n",
       "</g>\n",
       "<!-- 5799845392&#45;&gt;5799847024 -->\n",
       "<g id=\"edge2\" class=\"edge\">\n",
       "<title>5799845392-&gt;5799847024</title>\n",
       "<path fill=\"none\" stroke=\"black\" d=\"M311.69,-312.5C311.69,-312.5 311.69,-279.95 311.69,-279.95\"/>\n",
       "<polygon fill=\"black\" stroke=\"black\" points=\"315.19,-279.95 311.69,-269.95 308.19,-279.95 315.19,-279.95\"/>\n",
       "</g>\n",
       "<!-- 5798311872&#45;&gt;5798303712 -->\n",
       "<g id=\"edge8\" class=\"edge\">\n",
       "<title>5798311872-&gt;5798303712</title>\n",
       "<path fill=\"none\" stroke=\"black\" d=\"M94,-304.03C94,-304.03 94,-178.16 94,-178.16\"/>\n",
       "<polygon fill=\"black\" stroke=\"black\" points=\"97.5,-178.16 94,-168.16 90.5,-178.16 97.5,-178.16\"/>\n",
       "</g>\n",
       "<!-- 5799847024&#45;&gt;5799846496 -->\n",
       "<g id=\"edge1\" class=\"edge\">\n",
       "<title>5799847024-&gt;5799846496</title>\n",
       "<path fill=\"none\" stroke=\"black\" d=\"M371.44,-210.68C371.44,-210.68 371.44,-177.99 371.44,-177.99\"/>\n",
       "<polygon fill=\"black\" stroke=\"black\" points=\"374.94,-177.99 371.44,-167.99 367.94,-177.99 374.94,-177.99\"/>\n",
       "</g>\n",
       "</g>\n",
       "</svg>"
      ],
      "text/plain": [
       "<IPython.core.display.SVG object>"
      ]
     },
     "execution_count": 15,
     "metadata": {},
     "output_type": "execute_result"
    }
   ],
   "source": [
    "p = make_pipeline()\n",
    "p.show_graph()"
   ]
  },
  {
   "cell_type": "markdown",
   "id": "a387994a",
   "metadata": {},
   "source": [
    "Plot beta and alpha of the portfolio"
   ]
  },
  {
   "cell_type": "code",
   "execution_count": 16,
   "id": "b2cb442e",
   "metadata": {},
   "outputs": [
    {
     "data": {
      "text/plain": [
       "<Axes: >"
      ]
     },
     "execution_count": 16,
     "metadata": {},
     "output_type": "execute_result"
    },
    {
     "data": {
      "image/png": "[encoded data removed]",
      "text/plain": [
       "<Figure size 640x480 with 1 Axes>"
      ]
     },
     "metadata": {},
     "output_type": "display_data"
    }
   ],
   "source": [
    "perf.beta.plot()\n",
    "perf.alpha.plot()"
   ]
  },
  {
   "cell_type": "markdown",
   "id": "59db3b53",
   "metadata": {},
   "source": [
    "**Jason Strimpel** is the founder of <a href='https://pyquantnews.com/'>PyQuant News</a> and co-founder of <a href='https://www.tradeblotter.io/'>Trade Blotter</a>. His career in algorithmic trading spans 20+ years. He previously traded for a Chicago-based hedge fund, was a risk manager at JPMorgan, and managed production risk technology for an energy derivatives trading firm in London. In Singapore, he served as APAC CIO for an agricultural trading firm and built the data science team for a global metals trading firm. Jason holds degrees in Finance and Economics and a Master's in Quantitative Finance from the Illinois Institute of Technology. His career spans America, Europe, and Asia. He shares his expertise through the <a href='https://pyquantnews.com/subscribe-to-the-pyquant-newsletter/'>PyQuant Newsletter</a>, social media, and has taught over 1,000+ algorithmic trading with Python in his popular course **<a href='https://gettingstartedwithpythonforquantfinance.com/'>Getting Started With Python for Quant Finance</a>**. All code is for educational purposes only. Nothing provided here is financial advise. Use at your own risk."
   ]
  },
  {
   "cell_type": "code",
   "execution_count": null,
   "id": "de28c228-a01d-46af-9dde-018992b79cb1",
   "metadata": {},
   "outputs": [],
   "source": []
  }
 ],
 "metadata": {
  "jupytext": {
   "cell_metadata_filter": "-all",
   "main_language": "python",
   "notebook_metadata_filter": "-all"
  },
  "kernelspec": {
   "display_name": "Python 3 (ipykernel)",
   "language": "python",
   "name": "python3"
  },
  "language_info": {
   "codemirror_mode": {
    "name": "ipython",
    "version": 3
   },
   "file_extension": ".py",
   "mimetype": "text/x-python",
   "name": "python",
   "nbconvert_exporter": "python",
   "pygments_lexer": "ipython3",
   "version": "3.10.13"
  }
 },
 "nbformat": 4,
 "nbformat_minor": 5
}
