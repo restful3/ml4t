{
 "cells": [
  {
   "cell_type": "markdown",
   "id": "979d141e",
   "metadata": {},
   "source": [
    "## Backtesting a Momentum Factor Strategy with Zipline Reloaded"
   ]
  },
  {
   "cell_type": "code",
   "execution_count": null,
   "id": "ce97b7c0",
   "metadata": {},
   "outputs": [],
   "source": [
    "!pip install logbook"
   ]
  },
  {
   "cell_type": "code",
   "execution_count": 1,
   "id": "4669abfb",
   "metadata": {},
   "outputs": [],
   "source": [
    "import warnings"
   ]
  },
  {
   "cell_type": "code",
   "execution_count": 2,
   "id": "a5d74e34",
   "metadata": {},
   "outputs": [],
   "source": [
    "import numpy as np\n",
    "import pandas as pd\n",
    "import pandas_datareader as web\n",
    "from IPython.display import Markdown, display\n",
    "from zipline import run_algorithm\n",
    "from zipline.api import (\n",
    "    attach_pipeline,\n",
    "    calendars,\n",
    "    date_rules,\n",
    "    get_open_orders,\n",
    "    order_target_percent,\n",
    "    pipeline_output,\n",
    "    record,\n",
    "    schedule_function,\n",
    "    set_commission,\n",
    "    set_slippage,\n",
    "    time_rules,\n",
    ")\n",
    "from zipline.pipeline import Pipeline\n",
    "from zipline.pipeline.data import USEquityPricing\n",
    "from zipline.pipeline.factors import AverageDollarVolume, CustomFactor, Returns"
   ]
  },
  {
   "cell_type": "code",
   "execution_count": 3,
   "id": "763852d9",
   "metadata": {},
   "outputs": [],
   "source": [
    "warnings.filterwarnings(\"ignore\")"
   ]
  },
  {
   "cell_type": "code",
   "execution_count": 4,
   "id": "6ddf778c",
   "metadata": {},
   "outputs": [],
   "source": [
    "N_LONGS = N_SHORTS = 50"
   ]
  },
  {
   "cell_type": "markdown",
   "id": "e6e133cb",
   "metadata": {
    "lines_to_next_cell": 2
   },
   "source": [
    "Define a custom momentum factor"
   ]
  },
  {
   "cell_type": "code",
   "execution_count": 5,
   "id": "47b395ea",
   "metadata": {
    "lines_to_next_cell": 2
   },
   "outputs": [],
   "source": [
    "class MomentumFactor(CustomFactor):\n",
    "    inputs = [USEquityPricing.close, Returns(window_length=126)]\n",
    "    window_length = 252\n",
    "\n",
    "    def compute(self, today, assets, out, prices, returns):\n",
    "        out[:] = (\n",
    "            (prices[-21] - prices[-252]) / prices[-252]\n",
    "            - (prices[-1] - prices[-21]) / prices[-21]\n",
    "        ) / np.nanstd(returns, axis=0)"
   ]
  },
  {
   "cell_type": "markdown",
   "id": "ccb0a076",
   "metadata": {
    "lines_to_next_cell": 2
   },
   "source": [
    "Define the pipeline for factors and securities selection"
   ]
  },
  {
   "cell_type": "code",
   "execution_count": 6,
   "id": "472e123e",
   "metadata": {
    "lines_to_next_cell": 2
   },
   "outputs": [],
   "source": [
    "def make_pipeline():\n",
    "    momentum = MomentumFactor()\n",
    "    dollar_volume = AverageDollarVolume(window_length=30)\n",
    "    return Pipeline(\n",
    "        columns={\n",
    "            \"factor\": momentum,\n",
    "            \"longs\": momentum.top(N_LONGS),\n",
    "            \"shorts\": momentum.bottom(N_SHORTS),\n",
    "            \"ranking\": momentum.rank(),\n",
    "        },\n",
    "        screen=dollar_volume.top(100),\n",
    "    )"
   ]
  },
  {
   "cell_type": "markdown",
   "id": "376be1dc",
   "metadata": {
    "lines_to_next_cell": 2
   },
   "source": [
    "Define the function to be called before the trading starts"
   ]
  },
  {
   "cell_type": "code",
   "execution_count": 7,
   "id": "5051ffc2",
   "metadata": {
    "lines_to_next_cell": 2
   },
   "outputs": [],
   "source": [
    "def before_trading_start(context, data):\n",
    "    context.factor_data = pipeline_output(\"factor_pipeline\")"
   ]
  },
  {
   "cell_type": "markdown",
   "id": "270ddb0e",
   "metadata": {
    "lines_to_next_cell": 2
   },
   "source": [
    "Define the initialize function to set up the algorithm"
   ]
  },
  {
   "cell_type": "code",
   "execution_count": 8,
   "id": "74957b99",
   "metadata": {
    "lines_to_next_cell": 2
   },
   "outputs": [],
   "source": [
    "def initialize(context):\n",
    "    attach_pipeline(make_pipeline(), \"factor_pipeline\")\n",
    "    schedule_function(\n",
    "        rebalance,\n",
    "        date_rules.week_start(),\n",
    "        time_rules.market_open(),\n",
    "        calendar=calendars.US_EQUITIES,\n",
    "    )"
   ]
  },
  {
   "cell_type": "markdown",
   "id": "4188ab22",
   "metadata": {
    "lines_to_next_cell": 2
   },
   "source": [
    "Define the rebalance function to execute trades"
   ]
  },
  {
   "cell_type": "code",
   "execution_count": 9,
   "id": "16bc903f",
   "metadata": {
    "lines_to_next_cell": 2
   },
   "outputs": [],
   "source": [
    "def rebalance(context, data):\n",
    "    factor_data = context.factor_data\n",
    "    record(factor_data=factor_data.ranking)\n",
    "\n",
    "    assets = factor_data.index\n",
    "    record(prices=data.current(assets, \"price\"))\n",
    "\n",
    "    longs = assets[factor_data.longs]\n",
    "    shorts = assets[factor_data.shorts]\n",
    "    divest = set(context.portfolio.positions.keys()) - set(longs.union(shorts))\n",
    "\n",
    "    exec_trades(data, assets=divest, target_percent=0)\n",
    "    exec_trades(data, assets=longs, target_percent=1 / N_LONGS)\n",
    "    exec_trades(data, assets=shorts, target_percent=-1 / N_SHORTS)"
   ]
  },
  {
   "cell_type": "markdown",
   "id": "09dd1512",
   "metadata": {
    "lines_to_next_cell": 2
   },
   "source": [
    "Define the function to execute trades"
   ]
  },
  {
   "cell_type": "code",
   "execution_count": 10,
   "id": "c4539b48",
   "metadata": {
    "lines_to_next_cell": 2
   },
   "outputs": [],
   "source": [
    "def exec_trades(data, assets, target_percent):\n",
    "    for asset in assets:\n",
    "        if data.can_trade(asset) and not get_open_orders(asset):\n",
    "            order_target_percent(asset, target_percent)"
   ]
  },
  {
   "cell_type": "markdown",
   "id": "fb9dbbc6",
   "metadata": {
    "lines_to_next_cell": 2
   },
   "source": [
    "Define the analyze function to plot performance"
   ]
  },
  {
   "cell_type": "code",
   "execution_count": 11,
   "id": "42e9b5a8",
   "metadata": {},
   "outputs": [],
   "source": [
    "def analyze(context, perf):\n",
    "    perf.portfolio_value.plot()"
   ]
  },
  {
   "cell_type": "markdown",
   "id": "001de195",
   "metadata": {},
   "source": [
    "Define the start and end dates for the backtest"
   ]
  },
  {
   "cell_type": "code",
   "execution_count": 12,
   "id": "5b630eae",
   "metadata": {},
   "outputs": [],
   "source": [
    "start = pd.Timestamp(\"2016\")\n",
    "end = pd.Timestamp(\"2018\")"
   ]
  },
  {
   "cell_type": "markdown",
   "id": "720a98a0",
   "metadata": {},
   "source": [
    "Fetch the benchmark returns (S&P 500)"
   ]
  },
  {
   "cell_type": "code",
   "execution_count": 13,
   "id": "b8a02765",
   "metadata": {},
   "outputs": [],
   "source": [
    "sp500 = web.DataReader(\"SP500\", \"fred\", start, end).SP500\n",
    "benchmark_returns = sp500.pct_change()"
   ]
  },
  {
   "cell_type": "markdown",
   "id": "52e4b971",
   "metadata": {},
   "source": [
    "Run the algorithm"
   ]
  },
  {
   "cell_type": "code",
   "execution_count": 14,
   "id": "cd037d31",
   "metadata": {},
   "outputs": [],
   "source": [
    "perf = run_algorithm(\n",
    "    start=start,\n",
    "    end=end,\n",
    "    initialize=initialize,\n",
    "    before_trading_start=before_trading_start,\n",
    "    capital_base=100_000,\n",
    "    benchmark_returns=benchmark_returns,\n",
    "    bundle=\"quandl\",\n",
    ")"
   ]
  },
  {
   "cell_type": "markdown",
   "id": "828d4954",
   "metadata": {},
   "source": [
    "Display performance info"
   ]
  },
  {
   "cell_type": "code",
   "execution_count": 15,
   "id": "303ad0a0",
   "metadata": {},
   "outputs": [
    {
     "name": "stdout",
     "output_type": "stream",
     "text": [
      "<class 'pandas.core.frame.DataFrame'>\n",
      "DatetimeIndex: 503 entries, 2016-01-04 21:00:00+00:00 to 2017-12-29 21:00:00+00:00\n",
      "Data columns (total 39 columns):\n",
      " #   Column                   Non-Null Count  Dtype              \n",
      "---  ------                   --------------  -----              \n",
      " 0   period_open              503 non-null    datetime64[ns, UTC]\n",
      " 1   period_close             503 non-null    datetime64[ns, UTC]\n",
      " 2   longs_count              503 non-null    int64              \n",
      " 3   ending_value             503 non-null    float64            \n",
      " 4   long_exposure            503 non-null    float64            \n",
      " 5   pnl                      503 non-null    float64            \n",
      " 6   capital_used             503 non-null    float64            \n",
      " 7   short_exposure           503 non-null    float64            \n",
      " 8   orders                   503 non-null    object             \n",
      " 9   net_leverage             503 non-null    float64            \n",
      " 10  gross_leverage           503 non-null    float64            \n",
      " 11  ending_cash              503 non-null    float64            \n",
      " 12  short_value              503 non-null    float64            \n",
      " 13  positions                503 non-null    object             \n",
      " 14  returns                  503 non-null    float64            \n",
      " 15  transactions             503 non-null    object             \n",
      " 16  portfolio_value          503 non-null    float64            \n",
      " 17  long_value               503 non-null    float64            \n",
      " 18  starting_exposure        503 non-null    float64            \n",
      " 19  ending_exposure          503 non-null    float64            \n",
      " 20  starting_value           503 non-null    float64            \n",
      " 21  shorts_count             503 non-null    int64              \n",
      " 22  starting_cash            503 non-null    float64            \n",
      " 23  factor_data              503 non-null    object             \n",
      " 24  prices                   503 non-null    object             \n",
      " 25  trading_days             503 non-null    int64              \n",
      " 26  algo_volatility          502 non-null    float64            \n",
      " 27  sharpe                   502 non-null    float64            \n",
      " 28  period_label             503 non-null    object             \n",
      " 29  treasury_period_return   503 non-null    float64            \n",
      " 30  max_drawdown             503 non-null    float64            \n",
      " 31  alpha                    502 non-null    float64            \n",
      " 32  beta                     502 non-null    float64            \n",
      " 33  excess_return            503 non-null    float64            \n",
      " 34  sortino                  502 non-null    float64            \n",
      " 35  algorithm_period_return  503 non-null    float64            \n",
      " 36  benchmark_period_return  503 non-null    float64            \n",
      " 37  benchmark_volatility     502 non-null    float64            \n",
      " 38  max_leverage             503 non-null    float64            \n",
      "dtypes: datetime64[ns, UTC](2), float64(28), int64(3), object(6)\n",
      "memory usage: 157.2+ KB\n"
     ]
    },
    {
     "data": {
      "text/plain": [
       "None"
      ]
     },
     "metadata": {},
     "output_type": "display_data"
    }
   ],
   "source": [
    "display(perf.info())"
   ]
  },
  {
   "cell_type": "markdown",
   "id": "dfd7fb87",
   "metadata": {},
   "source": [
    "Plot cumulative returns"
   ]
  },
  {
   "cell_type": "code",
   "execution_count": 16,
   "id": "0431cf9e",
   "metadata": {},
   "outputs": [
    {
     "data": {
      "text/plain": [
       "<Axes: title={'center': 'Cumulative returns'}>"
      ]
     },
     "execution_count": 16,
     "metadata": {},
     "output_type": "execute_result"
    },
    {
     "data": {
      "image/png": "[encoded data removed]",
      "text/plain": [
       "<Figure size 640x480 with 1 Axes>"
      ]
     },
     "metadata": {},
     "output_type": "display_data"
    }
   ],
   "source": [
    "perf.portfolio_value.plot(title=\"Cumulative returns\")"
   ]
  },
  {
   "cell_type": "markdown",
   "id": "65145a66",
   "metadata": {},
   "source": [
    "Plot histogram of returns"
   ]
  },
  {
   "cell_type": "code",
   "execution_count": 17,
   "id": "549139b6",
   "metadata": {},
   "outputs": [
    {
     "data": {
      "text/plain": [
       "<Axes: >"
      ]
     },
     "execution_count": 17,
     "metadata": {},
     "output_type": "execute_result"
    },
    {
     "data": {
      "image/png": "[encoded data removed]",
      "text/plain": [
       "<Figure size 640x480 with 1 Axes>"
      ]
     },
     "metadata": {},
     "output_type": "display_data"
    }
   ],
   "source": [
    "perf.returns.hist(bins=50)"
   ]
  },
  {
   "cell_type": "markdown",
   "id": "c8f737ad",
   "metadata": {},
   "source": [
    "Plot Sharpe ratio"
   ]
  },
  {
   "cell_type": "code",
   "execution_count": 18,
   "id": "3578bf6b",
   "metadata": {},
   "outputs": [
    {
     "data": {
      "text/plain": [
       "<Axes: >"
      ]
     },
     "execution_count": 18,
     "metadata": {},
     "output_type": "execute_result"
    },
    {
     "data": {
      "image/png": "[encoded data removed]",
      "text/plain": [
       "<Figure size 640x480 with 1 Axes>"
      ]
     },
     "metadata": {},
     "output_type": "display_data"
    }
   ],
   "source": [
    "perf.sharpe.iloc[252:].plot()"
   ]
  },
  {
   "cell_type": "markdown",
   "id": "6825d260",
   "metadata": {},
   "source": [
    "**Jason Strimpel** is the founder of <a href='https://pyquantnews.com/'>PyQuant News</a> and co-founder of <a href='https://www.tradeblotter.io/'>Trade Blotter</a>. His career in algorithmic trading spans 20+ years. He previously traded for a Chicago-based hedge fund, was a risk manager at JPMorgan, and managed production risk technology for an energy derivatives trading firm in London. In Singapore, he served as APAC CIO for an agricultural trading firm and built the data science team for a global metals trading firm. Jason holds degrees in Finance and Economics and a Master's in Quantitative Finance from the Illinois Institute of Technology. His career spans America, Europe, and Asia. He shares his expertise through the <a href='https://pyquantnews.com/subscribe-to-the-pyquant-newsletter/'>PyQuant Newsletter</a>, social media, and has taught over 1,000+ algorithmic trading with Python in his popular course **<a href='https://gettingstartedwithpythonforquantfinance.com/'>Getting Started With Python for Quant Finance</a>**. All code is for educational purposes only. Nothing provided here is financial advise. Use at your own risk."
   ]
  },
  {
   "cell_type": "code",
   "execution_count": null,
   "id": "05cc5daa-a884-4766-97d9-9b9357ed9ec7",
   "metadata": {},
   "outputs": [],
   "source": []
  }
 ],
 "metadata": {
  "jupytext": {
   "cell_metadata_filter": "-all",
   "main_language": "python",
   "notebook_metadata_filter": "-all"
  },
  "kernelspec": {
   "display_name": "Python 3 (ipykernel)",
   "language": "python",
   "name": "python3"
  },
  "language_info": {
   "codemirror_mode": {
    "name": "ipython",
    "version": 3
   },
   "file_extension": ".py",
   "mimetype": "text/x-python",
   "name": "python",
   "nbconvert_exporter": "python",
   "pygments_lexer": "ipython3",
   "version": "3.10.13"
  }
 },
 "nbformat": 4,
 "nbformat_minor": 5
}
