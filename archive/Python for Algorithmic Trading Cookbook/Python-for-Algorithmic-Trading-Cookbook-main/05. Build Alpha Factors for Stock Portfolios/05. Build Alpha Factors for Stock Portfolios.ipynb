{
 "cells": [
  {
   "cell_type": "markdown",
   "id": "4c3e498a",
   "metadata": {},
   "source": [
    "## Identifying Latent Return Drivers Using Principal Component Analysis"
   ]
  },
  {
   "cell_type": "code",
   "execution_count": null,
   "id": "687e885a",
   "metadata": {},
   "outputs": [],
   "source": [
    "!pip install sklearn"
   ]
  },
  {
   "cell_type": "code",
   "execution_count": 1,
   "id": "cb273d19",
   "metadata": {},
   "outputs": [],
   "source": [
    "import matplotlib.pyplot as plt\n",
    "import numpy as np\n",
    "import pandas as pd\n",
    "from IPython.display import Markdown, display\n",
    "from openbb import obb\n",
    "from sklearn.decomposition import PCA"
   ]
  },
  {
   "cell_type": "code",
   "execution_count": 2,
   "id": "c577dda9",
   "metadata": {},
   "outputs": [],
   "source": [
    "obb.user.preferences.output_type = \"dataframe\""
   ]
  },
  {
   "cell_type": "markdown",
   "id": "54bbceb4",
   "metadata": {},
   "source": [
    "Define the symbols for gold and healthcare stocks"
   ]
  },
  {
   "cell_type": "code",
   "execution_count": 3,
   "id": "33c6d292",
   "metadata": {},
   "outputs": [],
   "source": [
    "symbols = [\"NEM\", \"RGLD\", \"SSRM\", \"CDE\", \"LLY\", \"UNH\", \"JNJ\", \"MRK\"]"
   ]
  },
  {
   "cell_type": "markdown",
   "id": "72d4df11",
   "metadata": {},
   "source": [
    "Fetch historical price data for the defined symbols from 2020-01-01 to 2022-12-31 using the \"yfinance\" provider"
   ]
  },
  {
   "cell_type": "code",
   "execution_count": 4,
   "id": "b5aba41f",
   "metadata": {},
   "outputs": [],
   "source": [
    "data = obb.equity.price.historical(\n",
    "    symbols,\n",
    "    start_date=\"2020-01-01\",\n",
    "    end_date=\"2022-12-31\",\n",
    "    provider=\"yfinance\",\n",
    ").pivot(columns=\"symbol\", values=\"close\")"
   ]
  },
  {
   "cell_type": "markdown",
   "id": "ed954f3a",
   "metadata": {},
   "source": [
    "Calculate the daily percentage returns and drop any missing values"
   ]
  },
  {
   "cell_type": "code",
   "execution_count": 5,
   "id": "39dc28aa",
   "metadata": {},
   "outputs": [],
   "source": [
    "returns = data.pct_change().dropna()"
   ]
  },
  {
   "cell_type": "markdown",
   "id": "79e36b1d",
   "metadata": {},
   "source": [
    "Initialize PCA with 3 components and fit it to the returns data"
   ]
  },
  {
   "cell_type": "code",
   "execution_count": 6,
   "id": "5773e5e1",
   "metadata": {},
   "outputs": [
    {
     "data": {
      "text/html": [
       "<style>#sk-container-id-1 {\n",
       "  /* Definition of color scheme common for light and dark mode */\n",
       "  --sklearn-color-text: black;\n",
       "  --sklearn-color-line: gray;\n",
       "  /* Definition of color scheme for unfitted estimators */\n",
       "  --sklearn-color-unfitted-level-0: #fff5e6;\n",
       "  --sklearn-color-unfitted-level-1: #f6e4d2;\n",
       "  --sklearn-color-unfitted-level-2: #ffe0b3;\n",
       "  --sklearn-color-unfitted-level-3: chocolate;\n",
       "  /* Definition of color scheme for fitted estimators */\n",
       "  --sklearn-color-fitted-level-0: #f0f8ff;\n",
       "  --sklearn-color-fitted-level-1: #d4ebff;\n",
       "  --sklearn-color-fitted-level-2: #b3dbfd;\n",
       "  --sklearn-color-fitted-level-3: cornflowerblue;\n",
       "\n",
       "  /* Specific color for light theme */\n",
       "  --sklearn-color-text-on-default-background: var(--sg-text-color, var(--theme-code-foreground, var(--jp-content-font-color1, black)));\n",
       "  --sklearn-color-background: var(--sg-background-color, var(--theme-background, var(--jp-layout-color0, white)));\n",
       "  --sklearn-color-border-box: var(--sg-text-color, var(--theme-code-foreground, var(--jp-content-font-color1, black)));\n",
       "  --sklearn-color-icon: #696969;\n",
       "\n",
       "  @media (prefers-color-scheme: dark) {\n",
       "    /* Redefinition of color scheme for dark theme */\n",
       "    --sklearn-color-text-on-default-background: var(--sg-text-color, var(--theme-code-foreground, var(--jp-content-font-color1, white)));\n",
       "    --sklearn-color-background: var(--sg-background-color, var(--theme-background, var(--jp-layout-color0, #111)));\n",
       "    --sklearn-color-border-box: var(--sg-text-color, var(--theme-code-foreground, var(--jp-content-font-color1, white)));\n",
       "    --sklearn-color-icon: #878787;\n",
       "  }\n",
       "}\n",
       "\n",
       "#sk-container-id-1 {\n",
       "  color: var(--sklearn-color-text);\n",
       "}\n",
       "\n",
       "#sk-container-id-1 pre {\n",
       "  padding: 0;\n",
       "}\n",
       "\n",
       "#sk-container-id-1 input.sk-hidden--visually {\n",
       "  border: 0;\n",
       "  clip: rect(1px 1px 1px 1px);\n",
       "  clip: rect(1px, 1px, 1px, 1px);\n",
       "  height: 1px;\n",
       "  margin: -1px;\n",
       "  overflow: hidden;\n",
       "  padding: 0;\n",
       "  position: absolute;\n",
       "  width: 1px;\n",
       "}\n",
       "\n",
       "#sk-container-id-1 div.sk-dashed-wrapped {\n",
       "  border: 1px dashed var(--sklearn-color-line);\n",
       "  margin: 0 0.4em 0.5em 0.4em;\n",
       "  box-sizing: border-box;\n",
       "  padding-bottom: 0.4em;\n",
       "  background-color: var(--sklearn-color-background);\n",
       "}\n",
       "\n",
       "#sk-container-id-1 div.sk-container {\n",
       "  /* jupyter's `normalize.less` sets `[hidden] { display: none; }`\n",
       "     but bootstrap.min.css set `[hidden] { display: none !important; }`\n",
       "     so we also need the `!important` here to be able to override the\n",
       "     default hidden behavior on the sphinx rendered scikit-learn.org.\n",
       "     See: https://github.com/scikit-learn/scikit-learn/issues/21755 */\n",
       "  display: inline-block !important;\n",
       "  position: relative;\n",
       "}\n",
       "\n",
       "#sk-container-id-1 div.sk-text-repr-fallback {\n",
       "  display: none;\n",
       "}\n",
       "\n",
       "div.sk-parallel-item,\n",
       "div.sk-serial,\n",
       "div.sk-item {\n",
       "  /* draw centered vertical line to link estimators */\n",
       "  background-image: linear-gradient(var(--sklearn-color-text-on-default-background), var(--sklearn-color-text-on-default-background));\n",
       "  background-size: 2px 100%;\n",
       "  background-repeat: no-repeat;\n",
       "  background-position: center center;\n",
       "}\n",
       "\n",
       "/* Parallel-specific style estimator block */\n",
       "\n",
       "#sk-container-id-1 div.sk-parallel-item::after {\n",
       "  content: \"\";\n",
       "  width: 100%;\n",
       "  border-bottom: 2px solid var(--sklearn-color-text-on-default-background);\n",
       "  flex-grow: 1;\n",
       "}\n",
       "\n",
       "#sk-container-id-1 div.sk-parallel {\n",
       "  display: flex;\n",
       "  align-items: stretch;\n",
       "  justify-content: center;\n",
       "  background-color: var(--sklearn-color-background);\n",
       "  position: relative;\n",
       "}\n",
       "\n",
       "#sk-container-id-1 div.sk-parallel-item {\n",
       "  display: flex;\n",
       "  flex-direction: column;\n",
       "}\n",
       "\n",
       "#sk-container-id-1 div.sk-parallel-item:first-child::after {\n",
       "  align-self: flex-end;\n",
       "  width: 50%;\n",
       "}\n",
       "\n",
       "#sk-container-id-1 div.sk-parallel-item:last-child::after {\n",
       "  align-self: flex-start;\n",
       "  width: 50%;\n",
       "}\n",
       "\n",
       "#sk-container-id-1 div.sk-parallel-item:only-child::after {\n",
       "  width: 0;\n",
       "}\n",
       "\n",
       "/* Serial-specific style estimator block */\n",
       "\n",
       "#sk-container-id-1 div.sk-serial {\n",
       "  display: flex;\n",
       "  flex-direction: column;\n",
       "  align-items: center;\n",
       "  background-color: var(--sklearn-color-background);\n",
       "  padding-right: 1em;\n",
       "  padding-left: 1em;\n",
       "}\n",
       "\n",
       "\n",
       "/* Toggleable style: style used for estimator/Pipeline/ColumnTransformer box that is\n",
       "clickable and can be expanded/collapsed.\n",
       "- Pipeline and ColumnTransformer use this feature and define the default style\n",
       "- Estimators will overwrite some part of the style using the `sk-estimator` class\n",
       "*/\n",
       "\n",
       "/* Pipeline and ColumnTransformer style (default) */\n",
       "\n",
       "#sk-container-id-1 div.sk-toggleable {\n",
       "  /* Default theme specific background. It is overwritten whether we have a\n",
       "  specific estimator or a Pipeline/ColumnTransformer */\n",
       "  background-color: var(--sklearn-color-background);\n",
       "}\n",
       "\n",
       "/* Toggleable label */\n",
       "#sk-container-id-1 label.sk-toggleable__label {\n",
       "  cursor: pointer;\n",
       "  display: block;\n",
       "  width: 100%;\n",
       "  margin-bottom: 0;\n",
       "  padding: 0.5em;\n",
       "  box-sizing: border-box;\n",
       "  text-align: center;\n",
       "}\n",
       "\n",
       "#sk-container-id-1 label.sk-toggleable__label-arrow:before {\n",
       "  /* Arrow on the left of the label */\n",
       "  content: \"▸\";\n",
       "  float: left;\n",
       "  margin-right: 0.25em;\n",
       "  color: var(--sklearn-color-icon);\n",
       "}\n",
       "\n",
       "#sk-container-id-1 label.sk-toggleable__label-arrow:hover:before {\n",
       "  color: var(--sklearn-color-text);\n",
       "}\n",
       "\n",
       "/* Toggleable content - dropdown */\n",
       "\n",
       "#sk-container-id-1 div.sk-toggleable__content {\n",
       "  max-height: 0;\n",
       "  max-width: 0;\n",
       "  overflow: hidden;\n",
       "  text-align: left;\n",
       "  /* unfitted */\n",
       "  background-color: var(--sklearn-color-unfitted-level-0);\n",
       "}\n",
       "\n",
       "#sk-container-id-1 div.sk-toggleable__content.fitted {\n",
       "  /* fitted */\n",
       "  background-color: var(--sklearn-color-fitted-level-0);\n",
       "}\n",
       "\n",
       "#sk-container-id-1 div.sk-toggleable__content pre {\n",
       "  margin: 0.2em;\n",
       "  border-radius: 0.25em;\n",
       "  color: var(--sklearn-color-text);\n",
       "  /* unfitted */\n",
       "  background-color: var(--sklearn-color-unfitted-level-0);\n",
       "}\n",
       "\n",
       "#sk-container-id-1 div.sk-toggleable__content.fitted pre {\n",
       "  /* unfitted */\n",
       "  background-color: var(--sklearn-color-fitted-level-0);\n",
       "}\n",
       "\n",
       "#sk-container-id-1 input.sk-toggleable__control:checked~div.sk-toggleable__content {\n",
       "  /* Expand drop-down */\n",
       "  max-height: 200px;\n",
       "  max-width: 100%;\n",
       "  overflow: auto;\n",
       "}\n",
       "\n",
       "#sk-container-id-1 input.sk-toggleable__control:checked~label.sk-toggleable__label-arrow:before {\n",
       "  content: \"▾\";\n",
       "}\n",
       "\n",
       "/* Pipeline/ColumnTransformer-specific style */\n",
       "\n",
       "#sk-container-id-1 div.sk-label input.sk-toggleable__control:checked~label.sk-toggleable__label {\n",
       "  color: var(--sklearn-color-text);\n",
       "  background-color: var(--sklearn-color-unfitted-level-2);\n",
       "}\n",
       "\n",
       "#sk-container-id-1 div.sk-label.fitted input.sk-toggleable__control:checked~label.sk-toggleable__label {\n",
       "  background-color: var(--sklearn-color-fitted-level-2);\n",
       "}\n",
       "\n",
       "/* Estimator-specific style */\n",
       "\n",
       "/* Colorize estimator box */\n",
       "#sk-container-id-1 div.sk-estimator input.sk-toggleable__control:checked~label.sk-toggleable__label {\n",
       "  /* unfitted */\n",
       "  background-color: var(--sklearn-color-unfitted-level-2);\n",
       "}\n",
       "\n",
       "#sk-container-id-1 div.sk-estimator.fitted input.sk-toggleable__control:checked~label.sk-toggleable__label {\n",
       "  /* fitted */\n",
       "  background-color: var(--sklearn-color-fitted-level-2);\n",
       "}\n",
       "\n",
       "#sk-container-id-1 div.sk-label label.sk-toggleable__label,\n",
       "#sk-container-id-1 div.sk-label label {\n",
       "  /* The background is the default theme color */\n",
       "  color: var(--sklearn-color-text-on-default-background);\n",
       "}\n",
       "\n",
       "/* On hover, darken the color of the background */\n",
       "#sk-container-id-1 div.sk-label:hover label.sk-toggleable__label {\n",
       "  color: var(--sklearn-color-text);\n",
       "  background-color: var(--sklearn-color-unfitted-level-2);\n",
       "}\n",
       "\n",
       "/* Label box, darken color on hover, fitted */\n",
       "#sk-container-id-1 div.sk-label.fitted:hover label.sk-toggleable__label.fitted {\n",
       "  color: var(--sklearn-color-text);\n",
       "  background-color: var(--sklearn-color-fitted-level-2);\n",
       "}\n",
       "\n",
       "/* Estimator label */\n",
       "\n",
       "#sk-container-id-1 div.sk-label label {\n",
       "  font-family: monospace;\n",
       "  font-weight: bold;\n",
       "  display: inline-block;\n",
       "  line-height: 1.2em;\n",
       "}\n",
       "\n",
       "#sk-container-id-1 div.sk-label-container {\n",
       "  text-align: center;\n",
       "}\n",
       "\n",
       "/* Estimator-specific */\n",
       "#sk-container-id-1 div.sk-estimator {\n",
       "  font-family: monospace;\n",
       "  border: 1px dotted var(--sklearn-color-border-box);\n",
       "  border-radius: 0.25em;\n",
       "  box-sizing: border-box;\n",
       "  margin-bottom: 0.5em;\n",
       "  /* unfitted */\n",
       "  background-color: var(--sklearn-color-unfitted-level-0);\n",
       "}\n",
       "\n",
       "#sk-container-id-1 div.sk-estimator.fitted {\n",
       "  /* fitted */\n",
       "  background-color: var(--sklearn-color-fitted-level-0);\n",
       "}\n",
       "\n",
       "/* on hover */\n",
       "#sk-container-id-1 div.sk-estimator:hover {\n",
       "  /* unfitted */\n",
       "  background-color: var(--sklearn-color-unfitted-level-2);\n",
       "}\n",
       "\n",
       "#sk-container-id-1 div.sk-estimator.fitted:hover {\n",
       "  /* fitted */\n",
       "  background-color: var(--sklearn-color-fitted-level-2);\n",
       "}\n",
       "\n",
       "/* Specification for estimator info (e.g. \"i\" and \"?\") */\n",
       "\n",
       "/* Common style for \"i\" and \"?\" */\n",
       "\n",
       ".sk-estimator-doc-link,\n",
       "a:link.sk-estimator-doc-link,\n",
       "a:visited.sk-estimator-doc-link {\n",
       "  float: right;\n",
       "  font-size: smaller;\n",
       "  line-height: 1em;\n",
       "  font-family: monospace;\n",
       "  background-color: var(--sklearn-color-background);\n",
       "  border-radius: 1em;\n",
       "  height: 1em;\n",
       "  width: 1em;\n",
       "  text-decoration: none !important;\n",
       "  margin-left: 1ex;\n",
       "  /* unfitted */\n",
       "  border: var(--sklearn-color-unfitted-level-1) 1pt solid;\n",
       "  color: var(--sklearn-color-unfitted-level-1);\n",
       "}\n",
       "\n",
       ".sk-estimator-doc-link.fitted,\n",
       "a:link.sk-estimator-doc-link.fitted,\n",
       "a:visited.sk-estimator-doc-link.fitted {\n",
       "  /* fitted */\n",
       "  border: var(--sklearn-color-fitted-level-1) 1pt solid;\n",
       "  color: var(--sklearn-color-fitted-level-1);\n",
       "}\n",
       "\n",
       "/* On hover */\n",
       "div.sk-estimator:hover .sk-estimator-doc-link:hover,\n",
       ".sk-estimator-doc-link:hover,\n",
       "div.sk-label-container:hover .sk-estimator-doc-link:hover,\n",
       ".sk-estimator-doc-link:hover {\n",
       "  /* unfitted */\n",
       "  background-color: var(--sklearn-color-unfitted-level-3);\n",
       "  color: var(--sklearn-color-background);\n",
       "  text-decoration: none;\n",
       "}\n",
       "\n",
       "div.sk-estimator.fitted:hover .sk-estimator-doc-link.fitted:hover,\n",
       ".sk-estimator-doc-link.fitted:hover,\n",
       "div.sk-label-container:hover .sk-estimator-doc-link.fitted:hover,\n",
       ".sk-estimator-doc-link.fitted:hover {\n",
       "  /* fitted */\n",
       "  background-color: var(--sklearn-color-fitted-level-3);\n",
       "  color: var(--sklearn-color-background);\n",
       "  text-decoration: none;\n",
       "}\n",
       "\n",
       "/* Span, style for the box shown on hovering the info icon */\n",
       ".sk-estimator-doc-link span {\n",
       "  display: none;\n",
       "  z-index: 9999;\n",
       "  position: relative;\n",
       "  font-weight: normal;\n",
       "  right: .2ex;\n",
       "  padding: .5ex;\n",
       "  margin: .5ex;\n",
       "  width: min-content;\n",
       "  min-width: 20ex;\n",
       "  max-width: 50ex;\n",
       "  color: var(--sklearn-color-text);\n",
       "  box-shadow: 2pt 2pt 4pt #999;\n",
       "  /* unfitted */\n",
       "  background: var(--sklearn-color-unfitted-level-0);\n",
       "  border: .5pt solid var(--sklearn-color-unfitted-level-3);\n",
       "}\n",
       "\n",
       ".sk-estimator-doc-link.fitted span {\n",
       "  /* fitted */\n",
       "  background: var(--sklearn-color-fitted-level-0);\n",
       "  border: var(--sklearn-color-fitted-level-3);\n",
       "}\n",
       "\n",
       ".sk-estimator-doc-link:hover span {\n",
       "  display: block;\n",
       "}\n",
       "\n",
       "/* \"?\"-specific style due to the `<a>` HTML tag */\n",
       "\n",
       "#sk-container-id-1 a.estimator_doc_link {\n",
       "  float: right;\n",
       "  font-size: 1rem;\n",
       "  line-height: 1em;\n",
       "  font-family: monospace;\n",
       "  background-color: var(--sklearn-color-background);\n",
       "  border-radius: 1rem;\n",
       "  height: 1rem;\n",
       "  width: 1rem;\n",
       "  text-decoration: none;\n",
       "  /* unfitted */\n",
       "  color: var(--sklearn-color-unfitted-level-1);\n",
       "  border: var(--sklearn-color-unfitted-level-1) 1pt solid;\n",
       "}\n",
       "\n",
       "#sk-container-id-1 a.estimator_doc_link.fitted {\n",
       "  /* fitted */\n",
       "  border: var(--sklearn-color-fitted-level-1) 1pt solid;\n",
       "  color: var(--sklearn-color-fitted-level-1);\n",
       "}\n",
       "\n",
       "/* On hover */\n",
       "#sk-container-id-1 a.estimator_doc_link:hover {\n",
       "  /* unfitted */\n",
       "  background-color: var(--sklearn-color-unfitted-level-3);\n",
       "  color: var(--sklearn-color-background);\n",
       "  text-decoration: none;\n",
       "}\n",
       "\n",
       "#sk-container-id-1 a.estimator_doc_link.fitted:hover {\n",
       "  /* fitted */\n",
       "  background-color: var(--sklearn-color-fitted-level-3);\n",
       "}\n",
       "</style><div id=\"sk-container-id-1\" class=\"sk-top-container\"><div class=\"sk-text-repr-fallback\"><pre>PCA(n_components=3)</pre><b>In a Jupyter environment, please rerun this cell to show the HTML representation or trust the notebook. <br />On GitHub, the HTML representation is unable to render, please try loading this page with nbviewer.org.</b></div><div class=\"sk-container\" hidden><div class=\"sk-item\"><div class=\"sk-estimator fitted sk-toggleable\"><input class=\"sk-toggleable__control sk-hidden--visually\" id=\"sk-estimator-id-1\" type=\"checkbox\" checked><label for=\"sk-estimator-id-1\" class=\"sk-toggleable__label fitted sk-toggleable__label-arrow fitted\">&nbsp;&nbsp;PCA<a class=\"sk-estimator-doc-link fitted\" rel=\"noreferrer\" target=\"_blank\" href=\"https://scikit-learn.org/1.5/modules/generated/sklearn.decomposition.PCA.html\">?<span>Documentation for PCA</span></a><span class=\"sk-estimator-doc-link fitted\">i<span>Fitted</span></span></label><div class=\"sk-toggleable__content fitted\"><pre>PCA(n_components=3)</pre></div> </div></div></div></div>"
      ],
      "text/plain": [
       "PCA(n_components=3)"
      ]
     },
     "execution_count": 6,
     "metadata": {},
     "output_type": "execute_result"
    }
   ],
   "source": [
    "pca = PCA(n_components=3)\n",
    "pca.fit(returns)"
   ]
  },
  {
   "cell_type": "markdown",
   "id": "df36f73a",
   "metadata": {},
   "source": [
    "Get the explained variance ratio and the principal components"
   ]
  },
  {
   "cell_type": "code",
   "execution_count": 7,
   "id": "798f177a",
   "metadata": {},
   "outputs": [],
   "source": [
    "pct = pca.explained_variance_ratio_\n",
    "pca_components = pca.components_"
   ]
  },
  {
   "cell_type": "code",
   "execution_count": 8,
   "id": "7efd8e50",
   "metadata": {},
   "outputs": [
    {
     "data": {
      "text/plain": [
       "array([[ 0.78402106,  0.06139341,  0.06157203,  0.06678106,  0.29181296,\n",
       "         0.30862968,  0.42713718,  0.10216529],\n",
       "       [ 0.03070356,  0.34058264,  0.60677508,  0.39052223, -0.09200527,\n",
       "        -0.12445024, -0.22896855,  0.53478754],\n",
       "       [ 0.6180319 , -0.10864359, -0.13197692, -0.07204876, -0.39555206,\n",
       "        -0.41760383, -0.48391774, -0.13635775]])"
      ]
     },
     "metadata": {},
     "output_type": "display_data"
    }
   ],
   "source": [
    "display(pca_components)"
   ]
  },
  {
   "cell_type": "markdown",
   "id": "f00bc8d9",
   "metadata": {},
   "source": [
    "Plot the contribution and cumulative contribution of the principal components"
   ]
  },
  {
   "cell_type": "code",
   "execution_count": 21,
   "id": "0fb2af3e",
   "metadata": {},
   "outputs": [],
   "source": [
    "cum_pct = np.cumsum(pct)\n",
    "x = np.arange(1, len(pct) + 1, 1)"
   ]
  },
  {
   "cell_type": "code",
   "execution_count": 22,
   "id": "bff8cb2f",
   "metadata": {},
   "outputs": [
    {
     "data": {
      "image/png": "[encoded data removed]",
      "text/plain": [
       "<Figure size 640x480 with 2 Axes>"
      ]
     },
     "metadata": {},
     "output_type": "display_data"
    }
   ],
   "source": [
    "plt.subplot(1, 2, 1)\n",
    "plt.bar(x, pct * 100, align=\"center\")\n",
    "plt.title(\"Contribution (%)\")\n",
    "plt.xticks(x)\n",
    "plt.xlim([0, 4])\n",
    "plt.ylim([0, 100])\n",
    "\n",
    "plt.subplot(1, 2, 2)\n",
    "plt.plot(x, cum_pct * 100, \"ro-\")\n",
    "plt.title(\"Cumulative contribution (%)\")\n",
    "plt.xticks(x)\n",
    "plt.xlim([0, 4])\n",
    "plt.ylim([0, 100])\n",
    "\n",
    "plt.show()"
   ]
  },
  {
   "cell_type": "markdown",
   "id": "1554eb63",
   "metadata": {},
   "source": [
    "Construct \"statistical risk factors\" from the principal components"
   ]
  },
  {
   "cell_type": "code",
   "execution_count": 23,
   "id": "fd7cc722",
   "metadata": {},
   "outputs": [],
   "source": [
    "X = np.asarray(returns)\n",
    "factor_returns = X.dot(pca_components.T)\n",
    "factor_returns = pd.DataFrame(\n",
    "    columns=[\"f1\", \"f2\", \"f3\"], index=returns.index, data=factor_returns\n",
    ")"
   ]
  },
  {
   "cell_type": "code",
   "execution_count": 24,
   "id": "0950df5f",
   "metadata": {},
   "outputs": [
    {
     "data": {
      "text/html": [
       "<div>\n",
       "<style scoped>\n",
       "    .dataframe tbody tr th:only-of-type {\n",
       "        vertical-align: middle;\n",
       "    }\n",
       "\n",
       "    .dataframe tbody tr th {\n",
       "        vertical-align: top;\n",
       "    }\n",
       "\n",
       "    .dataframe thead th {\n",
       "        text-align: right;\n",
       "    }\n",
       "</style>\n",
       "<table border=\"1\" class=\"dataframe\">\n",
       "  <thead>\n",
       "    <tr style=\"text-align: right;\">\n",
       "      <th></th>\n",
       "      <th>f1</th>\n",
       "      <th>f2</th>\n",
       "      <th>f3</th>\n",
       "    </tr>\n",
       "    <tr>\n",
       "      <th>date</th>\n",
       "      <th></th>\n",
       "      <th></th>\n",
       "      <th></th>\n",
       "    </tr>\n",
       "  </thead>\n",
       "  <tbody>\n",
       "    <tr>\n",
       "      <th>2020-01-03</th>\n",
       "      <td>-0.028854</td>\n",
       "      <td>-0.007880</td>\n",
       "      <td>0.013453</td>\n",
       "    </tr>\n",
       "    <tr>\n",
       "      <th>2020-01-06</th>\n",
       "      <td>-0.081176</td>\n",
       "      <td>0.006441</td>\n",
       "      <td>-0.058876</td>\n",
       "    </tr>\n",
       "    <tr>\n",
       "      <th>2020-01-07</th>\n",
       "      <td>0.003671</td>\n",
       "      <td>-0.015563</td>\n",
       "      <td>-0.013919</td>\n",
       "    </tr>\n",
       "    <tr>\n",
       "      <th>2020-01-08</th>\n",
       "      <td>-0.105889</td>\n",
       "      <td>0.028154</td>\n",
       "      <td>-0.005643</td>\n",
       "    </tr>\n",
       "    <tr>\n",
       "      <th>2020-01-09</th>\n",
       "      <td>0.001916</td>\n",
       "      <td>0.018522</td>\n",
       "      <td>0.023465</td>\n",
       "    </tr>\n",
       "    <tr>\n",
       "      <th>...</th>\n",
       "      <td>...</td>\n",
       "      <td>...</td>\n",
       "      <td>...</td>\n",
       "    </tr>\n",
       "    <tr>\n",
       "      <th>2022-12-23</th>\n",
       "      <td>0.001576</td>\n",
       "      <td>0.007398</td>\n",
       "      <td>-0.020952</td>\n",
       "    </tr>\n",
       "    <tr>\n",
       "      <th>2022-12-27</th>\n",
       "      <td>0.079420</td>\n",
       "      <td>-0.010218</td>\n",
       "      <td>0.022537</td>\n",
       "    </tr>\n",
       "    <tr>\n",
       "      <th>2022-12-28</th>\n",
       "      <td>-0.081093</td>\n",
       "      <td>0.004814</td>\n",
       "      <td>0.005850</td>\n",
       "    </tr>\n",
       "    <tr>\n",
       "      <th>2022-12-29</th>\n",
       "      <td>0.010073</td>\n",
       "      <td>0.004415</td>\n",
       "      <td>0.000597</td>\n",
       "    </tr>\n",
       "    <tr>\n",
       "      <th>2022-12-30</th>\n",
       "      <td>-0.032789</td>\n",
       "      <td>-0.003646</td>\n",
       "      <td>-0.022775</td>\n",
       "    </tr>\n",
       "  </tbody>\n",
       "</table>\n",
       "<p>755 rows × 3 columns</p>\n",
       "</div>"
      ],
      "text/plain": [
       "                  f1        f2        f3\n",
       "date                                    \n",
       "2020-01-03 -0.028854 -0.007880  0.013453\n",
       "2020-01-06 -0.081176  0.006441 -0.058876\n",
       "2020-01-07  0.003671 -0.015563 -0.013919\n",
       "2020-01-08 -0.105889  0.028154 -0.005643\n",
       "2020-01-09  0.001916  0.018522  0.023465\n",
       "...              ...       ...       ...\n",
       "2022-12-23  0.001576  0.007398 -0.020952\n",
       "2022-12-27  0.079420 -0.010218  0.022537\n",
       "2022-12-28 -0.081093  0.004814  0.005850\n",
       "2022-12-29  0.010073  0.004415  0.000597\n",
       "2022-12-30 -0.032789 -0.003646 -0.022775\n",
       "\n",
       "[755 rows x 3 columns]"
      ]
     },
     "metadata": {},
     "output_type": "display_data"
    }
   ],
   "source": [
    "display(factor_returns)"
   ]
  },
  {
   "cell_type": "markdown",
   "id": "3bdf5c39",
   "metadata": {},
   "source": [
    "Calculate the factor exposures"
   ]
  },
  {
   "cell_type": "code",
   "execution_count": 25,
   "id": "adb749b9",
   "metadata": {},
   "outputs": [],
   "source": [
    "factor_exposures = pd.DataFrame(\n",
    "    index=[\"f1\", \"f2\", \"f3\"], columns=returns.columns, data=pca_components\n",
    ").T"
   ]
  },
  {
   "cell_type": "code",
   "execution_count": 26,
   "id": "8324a77a",
   "metadata": {},
   "outputs": [
    {
     "data": {
      "text/html": [
       "<div>\n",
       "<style scoped>\n",
       "    .dataframe tbody tr th:only-of-type {\n",
       "        vertical-align: middle;\n",
       "    }\n",
       "\n",
       "    .dataframe tbody tr th {\n",
       "        vertical-align: top;\n",
       "    }\n",
       "\n",
       "    .dataframe thead th {\n",
       "        text-align: right;\n",
       "    }\n",
       "</style>\n",
       "<table border=\"1\" class=\"dataframe\">\n",
       "  <thead>\n",
       "    <tr style=\"text-align: right;\">\n",
       "      <th></th>\n",
       "      <th>f1</th>\n",
       "      <th>f2</th>\n",
       "      <th>f3</th>\n",
       "    </tr>\n",
       "    <tr>\n",
       "      <th>symbol</th>\n",
       "      <th></th>\n",
       "      <th></th>\n",
       "      <th></th>\n",
       "    </tr>\n",
       "  </thead>\n",
       "  <tbody>\n",
       "    <tr>\n",
       "      <th>CDE</th>\n",
       "      <td>0.784021</td>\n",
       "      <td>0.030704</td>\n",
       "      <td>0.618032</td>\n",
       "    </tr>\n",
       "    <tr>\n",
       "      <th>JNJ</th>\n",
       "      <td>0.061393</td>\n",
       "      <td>0.340583</td>\n",
       "      <td>-0.108644</td>\n",
       "    </tr>\n",
       "    <tr>\n",
       "      <th>LLY</th>\n",
       "      <td>0.061572</td>\n",
       "      <td>0.606775</td>\n",
       "      <td>-0.131977</td>\n",
       "    </tr>\n",
       "    <tr>\n",
       "      <th>MRK</th>\n",
       "      <td>0.066781</td>\n",
       "      <td>0.390522</td>\n",
       "      <td>-0.072049</td>\n",
       "    </tr>\n",
       "    <tr>\n",
       "      <th>NEM</th>\n",
       "      <td>0.291813</td>\n",
       "      <td>-0.092005</td>\n",
       "      <td>-0.395552</td>\n",
       "    </tr>\n",
       "    <tr>\n",
       "      <th>RGLD</th>\n",
       "      <td>0.308630</td>\n",
       "      <td>-0.124450</td>\n",
       "      <td>-0.417604</td>\n",
       "    </tr>\n",
       "    <tr>\n",
       "      <th>SSRM</th>\n",
       "      <td>0.427137</td>\n",
       "      <td>-0.228969</td>\n",
       "      <td>-0.483918</td>\n",
       "    </tr>\n",
       "    <tr>\n",
       "      <th>UNH</th>\n",
       "      <td>0.102165</td>\n",
       "      <td>0.534788</td>\n",
       "      <td>-0.136358</td>\n",
       "    </tr>\n",
       "  </tbody>\n",
       "</table>\n",
       "</div>"
      ],
      "text/plain": [
       "              f1        f2        f3\n",
       "symbol                              \n",
       "CDE     0.784021  0.030704  0.618032\n",
       "JNJ     0.061393  0.340583 -0.108644\n",
       "LLY     0.061572  0.606775 -0.131977\n",
       "MRK     0.066781  0.390522 -0.072049\n",
       "NEM     0.291813 -0.092005 -0.395552\n",
       "RGLD    0.308630 -0.124450 -0.417604\n",
       "SSRM    0.427137 -0.228969 -0.483918\n",
       "UNH     0.102165  0.534788 -0.136358"
      ]
     },
     "metadata": {},
     "output_type": "display_data"
    }
   ],
   "source": [
    "display(factor_exposures)"
   ]
  },
  {
   "cell_type": "markdown",
   "id": "bdde981a",
   "metadata": {},
   "source": [
    "Plot the factor exposure of the first principal component"
   ]
  },
  {
   "cell_type": "code",
   "execution_count": 27,
   "id": "b1df0b09",
   "metadata": {},
   "outputs": [
    {
     "data": {
      "text/plain": [
       "<Axes: xlabel='symbol'>"
      ]
     },
     "execution_count": 27,
     "metadata": {},
     "output_type": "execute_result"
    },
    {
     "data": {
      "image/png": "[encoded data removed]",
      "text/plain": [
       "<Figure size 640x480 with 1 Axes>"
      ]
     },
     "metadata": {},
     "output_type": "display_data"
    }
   ],
   "source": [
    "factor_exposures.f1.sort_values().plot.bar()"
   ]
  },
  {
   "cell_type": "markdown",
   "id": "80dde682",
   "metadata": {},
   "source": [
    "Scatter plot of the factor exposures of the first two principal components"
   ]
  },
  {
   "cell_type": "code",
   "execution_count": 31,
   "id": "0527417a",
   "metadata": {},
   "outputs": [
    {
     "data": {
      "image/png": "[encoded data removed]",
      "text/plain": [
       "<Figure size 640x480 with 1 Axes>"
      ]
     },
     "metadata": {},
     "output_type": "display_data"
    }
   ],
   "source": [
    "labels = factor_exposures.index\n",
    "data = factor_exposures.values\n",
    "plt.scatter(data[:, 0], data[:, 1])\n",
    "plt.xlabel(\"Factor exposure of PC1\")\n",
    "plt.ylabel(\"Factor exposure of PC2\")\n",
    "\n",
    "for label, x, y in zip(labels, data[:, 0], data[:, 1]):\n",
    "    plt.annotate(\n",
    "        label,\n",
    "        xy=(x, y),\n",
    "        xytext=(-20, 20),\n",
    "        textcoords=\"offset points\",\n",
    "        arrowprops=dict(arrowstyle=\"->\", connectionstyle=\"arc3,rad=0\"),\n",
    "    )\n",
    "\n",
    "plt.show()"
   ]
  },
  {
   "cell_type": "markdown",
   "id": "c19f5e18",
   "metadata": {},
   "source": [
    "**Jason Strimpel** is the founder of <a href='https://pyquantnews.com/'>PyQuant News</a> and co-founder of <a href='https://www.tradeblotter.io/'>Trade Blotter</a>. His career in algorithmic trading spans 20+ years. He previously traded for a Chicago-based hedge fund, was a risk manager at JPMorgan, and managed production risk technology for an energy derivatives trading firm in London. In Singapore, he served as APAC CIO for an agricultural trading firm and built the data science team for a global metals trading firm. Jason holds degrees in Finance and Economics and a Master's in Quantitative Finance from the Illinois Institute of Technology. His career spans America, Europe, and Asia. He shares his expertise through the <a href='https://pyquantnews.com/subscribe-to-the-pyquant-newsletter/'>PyQuant Newsletter</a>, social media, and has taught over 1,000+ algorithmic trading with Python in his popular course **<a href='https://gettingstartedwithpythonforquantfinance.com/'>Getting Started With Python for Quant Finance</a>**. All code is for educational purposes only. Nothing provided here is financial advise. Use at your own risk."
   ]
  },
  {
   "cell_type": "code",
   "execution_count": null,
   "id": "eea9a96e-294e-4a2f-ba9e-cfe429f00f5a",
   "metadata": {},
   "outputs": [],
   "source": []
  },
  {
   "cell_type": "markdown",
   "id": "915d13af",
   "metadata": {},
   "source": [
    "## Finding and Hedging Portfolio Beta Using Linear Regression"
   ]
  },
  {
   "cell_type": "code",
   "execution_count": null,
   "id": "6b68701b",
   "metadata": {},
   "outputs": [],
   "source": [
    "!pip install statsmodels"
   ]
  },
  {
   "cell_type": "code",
   "execution_count": 1,
   "id": "87f6a032",
   "metadata": {},
   "outputs": [],
   "source": [
    "import matplotlib.pyplot as plt\n",
    "import numpy as np\n",
    "import pandas as pd\n",
    "import statsmodels.api as sm\n",
    "from IPython.display import Markdown, display\n",
    "from openbb import obb\n",
    "from statsmodels import regression"
   ]
  },
  {
   "cell_type": "code",
   "execution_count": 2,
   "id": "0cbacf37",
   "metadata": {},
   "outputs": [],
   "source": [
    "obb.user.preferences.output_type = \"dataframe\""
   ]
  },
  {
   "cell_type": "markdown",
   "id": "f8ae5043",
   "metadata": {},
   "source": [
    "Define the stock symbols including the benchmark \"SPY\""
   ]
  },
  {
   "cell_type": "code",
   "execution_count": 3,
   "id": "0ad36b85",
   "metadata": {},
   "outputs": [],
   "source": [
    "symbols = [\n",
    "    \"NEM\",\n",
    "    \"RGLD\",\n",
    "    \"SSRM\",\n",
    "    \"CDE\",\n",
    "    \"LLY\",\n",
    "    \"UNH\",\n",
    "    \"JNJ\",\n",
    "    \"MRK\",\n",
    "    \"SPY\",\n",
    "]"
   ]
  },
  {
   "cell_type": "markdown",
   "id": "b6eb4574",
   "metadata": {},
   "source": [
    "Fetch historical price data for the defined symbols from 2020-01-01 to 2022-12-31 using the \"yfinance\" provider"
   ]
  },
  {
   "cell_type": "code",
   "execution_count": 4,
   "id": "f42846d3",
   "metadata": {},
   "outputs": [],
   "source": [
    "data = obb.equity.price.historical(\n",
    "    symbols,\n",
    "    start_date=\"2020-01-01\",\n",
    "    end_date=\"2022-12-31\",\n",
    "    provider=\"yfinance\",\n",
    ").pivot(columns=\"symbol\", values=\"close\")"
   ]
  },
  {
   "cell_type": "markdown",
   "id": "6eada077",
   "metadata": {},
   "source": [
    "Calculate the daily percentage returns for the benchmark \"SPY\" and drop any missing values"
   ]
  },
  {
   "cell_type": "code",
   "execution_count": 5,
   "id": "3d11bbaf",
   "metadata": {},
   "outputs": [],
   "source": [
    "benchmark_returns = data.pop(\"SPY\").pct_change().dropna()"
   ]
  },
  {
   "cell_type": "markdown",
   "id": "ec5d9063",
   "metadata": {},
   "source": [
    "Calculate the daily percentage returns for the portfolio and drop any missing values"
   ]
  },
  {
   "cell_type": "code",
   "execution_count": 6,
   "id": "545dca50",
   "metadata": {},
   "outputs": [],
   "source": [
    "portfolio_returns = data.pct_change().dropna().sum(axis=1)\n",
    "portfolio_returns.name = \"portfolio\""
   ]
  },
  {
   "cell_type": "markdown",
   "id": "97db70eb",
   "metadata": {},
   "source": [
    "Plot the portfolio and benchmark daily returns"
   ]
  },
  {
   "cell_type": "code",
   "execution_count": 7,
   "id": "e35eb93e",
   "metadata": {},
   "outputs": [
    {
     "data": {
      "image/png": "[encoded data removed]",
      "text/plain": [
       "<Figure size 640x480 with 1 Axes>"
      ]
     },
     "metadata": {},
     "output_type": "display_data"
    }
   ],
   "source": [
    "portfolio_returns.plot()\n",
    "benchmark_returns.plot()\n",
    "plt.ylabel(\"Daily Return\")\n",
    "plt.legend()\n",
    "plt.show()"
   ]
  },
  {
   "cell_type": "markdown",
   "id": "0f290aad",
   "metadata": {
    "lines_to_next_cell": 2
   },
   "source": [
    "Define a function for linear regression to calculate alpha and beta"
   ]
  },
  {
   "cell_type": "code",
   "execution_count": 8,
   "id": "3f3968ab",
   "metadata": {},
   "outputs": [],
   "source": [
    "def linreg(x, y):\n",
    "    # Add a column of 1s to fit alpha\n",
    "\n",
    "    x = sm.add_constant(x)\n",
    "    model = regression.linear_model.OLS(y, x).fit()\n",
    "    # Remove the constant now that we're done\n",
    "\n",
    "    x = x[:, 1]\n",
    "    return model.params[0], model.params[1]"
   ]
  },
  {
   "cell_type": "markdown",
   "id": "344a3b78",
   "metadata": {},
   "source": [
    "Perform linear regression on the portfolio and benchmark returns to calculate alpha and beta"
   ]
  },
  {
   "cell_type": "code",
   "execution_count": 9,
   "id": "863d6363",
   "metadata": {},
   "outputs": [],
   "source": [
    "X = benchmark_returns.values\n",
    "Y = portfolio_returns.values"
   ]
  },
  {
   "cell_type": "code",
   "execution_count": 10,
   "id": "329b00ca",
   "metadata": {},
   "outputs": [],
   "source": [
    "alpha, beta = linreg(X, Y)"
   ]
  },
  {
   "cell_type": "code",
   "execution_count": 11,
   "id": "004bcfa2",
   "metadata": {},
   "outputs": [
    {
     "data": {
      "text/plain": [
       "'Alpha: 0.002638518577761206'"
      ]
     },
     "metadata": {},
     "output_type": "display_data"
    },
    {
     "data": {
      "text/plain": [
       "'Beta: 5.55121306008357'"
      ]
     },
     "metadata": {},
     "output_type": "display_data"
    }
   ],
   "source": [
    "display(f\"Alpha: {alpha}\")\n",
    "display(f\"Beta: {beta}\")"
   ]
  },
  {
   "cell_type": "markdown",
   "id": "6c9d8cce",
   "metadata": {},
   "source": [
    "Plot the regression line"
   ]
  },
  {
   "cell_type": "code",
   "execution_count": 12,
   "id": "a96c2a6c",
   "metadata": {},
   "outputs": [],
   "source": [
    "X2 = np.linspace(X.min(), X.max(), 100)\n",
    "Y_hat = X2 * beta + alpha"
   ]
  },
  {
   "cell_type": "markdown",
   "id": "9a6c7c71",
   "metadata": {},
   "source": [
    "Plot the raw data"
   ]
  },
  {
   "cell_type": "code",
   "execution_count": 13,
   "id": "9b48d4ac",
   "metadata": {},
   "outputs": [
    {
     "data": {
      "text/plain": [
       "Text(0, 0.5, 'Portfolio daily return')"
      ]
     },
     "execution_count": 13,
     "metadata": {},
     "output_type": "execute_result"
    },
    {
     "data": {
      "image/png": "[encoded data removed]",
      "text/plain": [
       "<Figure size 640x480 with 1 Axes>"
      ]
     },
     "metadata": {},
     "output_type": "display_data"
    }
   ],
   "source": [
    "plt.scatter(X, Y, alpha=0.3)\n",
    "plt.xlabel(\"SPY daily return\")\n",
    "plt.ylabel(\"Portfolio daily return\")"
   ]
  },
  {
   "cell_type": "markdown",
   "id": "33055e26",
   "metadata": {},
   "source": [
    "Add the regression line"
   ]
  },
  {
   "cell_type": "code",
   "execution_count": 14,
   "id": "275ae7a2",
   "metadata": {},
   "outputs": [
    {
     "data": {
      "image/png": "[encoded data removed]",
      "text/plain": [
       "<Figure size 640x480 with 1 Axes>"
      ]
     },
     "metadata": {},
     "output_type": "display_data"
    }
   ],
   "source": [
    "plt.plot(X2, Y_hat, \"r\", alpha=0.9)\n",
    "plt.show()"
   ]
  },
  {
   "cell_type": "markdown",
   "id": "23d052b8",
   "metadata": {},
   "source": [
    "Construct a portfolio with beta hedging"
   ]
  },
  {
   "cell_type": "code",
   "execution_count": 15,
   "id": "8059feca",
   "metadata": {},
   "outputs": [],
   "source": [
    "hedged_portfolio_returns = -1 * beta * benchmark_returns + portfolio_returns"
   ]
  },
  {
   "cell_type": "markdown",
   "id": "9363fc36",
   "metadata": {},
   "source": [
    "Perform linear regression on the hedged portfolio returns and benchmark returns to calculate alpha and beta"
   ]
  },
  {
   "cell_type": "code",
   "execution_count": 16,
   "id": "5574f4da",
   "metadata": {},
   "outputs": [],
   "source": [
    "P = hedged_portfolio_returns.values\n",
    "alpha, beta = linreg(X, P)"
   ]
  },
  {
   "cell_type": "code",
   "execution_count": 17,
   "id": "497a95a1",
   "metadata": {},
   "outputs": [
    {
     "data": {
      "text/plain": [
       "'Alpha: 0.0026385185777612072'"
      ]
     },
     "metadata": {},
     "output_type": "display_data"
    },
    {
     "data": {
      "text/plain": [
       "'Beta: -5.3398614836742606e-15'"
      ]
     },
     "metadata": {},
     "output_type": "display_data"
    }
   ],
   "source": [
    "display(f\"Alpha: {alpha}\")\n",
    "display(f\"Beta: {beta}\")"
   ]
  },
  {
   "cell_type": "markdown",
   "id": "3a81552a",
   "metadata": {
    "lines_to_next_cell": 2
   },
   "source": [
    "Define a function to calculate the information ratio"
   ]
  },
  {
   "cell_type": "code",
   "execution_count": 18,
   "id": "1079c198",
   "metadata": {},
   "outputs": [],
   "source": [
    "def information_ratio(portfolio_returns, benchmark_returns):\n",
    "    \"\"\"\n",
    "    Determines the information ratio of a strategy.\n",
    "\n",
    "    Parameters\n",
    "    ----------\n",
    "    portfolio_returns : pd.Series or np.ndarray\n",
    "        Daily returns of the strategy, noncumulative.\n",
    "    benchmark_returns : int, float\n",
    "        Daily returns of the benchmark or factor, noncumulative.\n",
    "    Returns\n",
    "    -------\n",
    "    information_ratio : float\n",
    "    Note\n",
    "    -----\n",
    "    See https://pyquantnews.com/how-to-measure-skill-portfolio-manager/ for more details.\n",
    "    \"\"\"\n",
    "\n",
    "    active_return = portfolio_returns - benchmark_returns\n",
    "    tracking_error = active_return.std()\n",
    "    return active_return.mean() / tracking_error"
   ]
  },
  {
   "cell_type": "markdown",
   "id": "a12584e8",
   "metadata": {},
   "source": [
    "Calculate the information ratio for the hedged and unhedged portfolios"
   ]
  },
  {
   "cell_type": "code",
   "execution_count": 19,
   "id": "9ac1cedc",
   "metadata": {},
   "outputs": [],
   "source": [
    "hedged_ir = information_ratio(hedged_portfolio_returns, benchmark_returns)"
   ]
  },
  {
   "cell_type": "code",
   "execution_count": 20,
   "id": "fc39e40f",
   "metadata": {},
   "outputs": [],
   "source": [
    "unhedged_ir = information_ratio(portfolio_returns, benchmark_returns)"
   ]
  },
  {
   "cell_type": "code",
   "execution_count": 21,
   "id": "d8814e73",
   "metadata": {},
   "outputs": [
    {
     "data": {
      "text/plain": [
       "'Hedged information ratio: 0.019857076696277627'"
      ]
     },
     "metadata": {},
     "output_type": "display_data"
    },
    {
     "data": {
      "text/plain": [
       "'Unhedged information ratio: 0.030991554126598382'"
      ]
     },
     "metadata": {},
     "output_type": "display_data"
    }
   ],
   "source": [
    "display(f\"Hedged information ratio: {hedged_ir}\")\n",
    "display(f\"Unhedged information ratio: {unhedged_ir}\")"
   ]
  },
  {
   "cell_type": "markdown",
   "id": "3bd2158d",
   "metadata": {},
   "source": [
    "**Jason Strimpel** is the founder of <a href='https://pyquantnews.com/'>PyQuant News</a> and co-founder of <a href='https://www.tradeblotter.io/'>Trade Blotter</a>. His career in algorithmic trading spans 20+ years. He previously traded for a Chicago-based hedge fund, was a risk manager at JPMorgan, and managed production risk technology for an energy derivatives trading firm in London. In Singapore, he served as APAC CIO for an agricultural trading firm and built the data science team for a global metals trading firm. Jason holds degrees in Finance and Economics and a Master's in Quantitative Finance from the Illinois Institute of Technology. His career spans America, Europe, and Asia. He shares his expertise through the <a href='https://pyquantnews.com/subscribe-to-the-pyquant-newsletter/'>PyQuant Newsletter</a>, social media, and has taught over 1,000+ algorithmic trading with Python in his popular course **<a href='https://gettingstartedwithpythonforquantfinance.com/'>Getting Started With Python for Quant Finance</a>**. All code is for educational purposes only. Nothing provided here is financial advise. Use at your own risk."
   ]
  },
  {
   "cell_type": "code",
   "execution_count": null,
   "id": "0f3e1508-6ab5-4592-bcac-bebf4742ffa5",
   "metadata": {},
   "outputs": [],
   "source": []
  },
  {
   "cell_type": "markdown",
   "id": "fb3015f0",
   "metadata": {},
   "source": [
    "## Analyzing Portfolio Sensitivities to the Fama-French Factors"
   ]
  },
  {
   "cell_type": "code",
   "execution_count": null,
   "id": "adf02f2a",
   "metadata": {},
   "outputs": [],
   "source": [
    "!pip install pandas_datareader"
   ]
  },
  {
   "cell_type": "code",
   "execution_count": 1,
   "id": "dceb538c",
   "metadata": {},
   "outputs": [],
   "source": [
    "import warnings"
   ]
  },
  {
   "cell_type": "code",
   "execution_count": 2,
   "id": "c8244873",
   "metadata": {},
   "outputs": [],
   "source": [
    "import numpy as np\n",
    "import pandas as pd\n",
    "import pandas_datareader as pdr\n",
    "import statsmodels.api as sm\n",
    "from IPython.display import Markdown, display\n",
    "from openbb import obb\n",
    "from statsmodels import regression\n",
    "from statsmodels.regression.rolling import RollingOLS"
   ]
  },
  {
   "cell_type": "code",
   "execution_count": 3,
   "id": "eca3e74b",
   "metadata": {},
   "outputs": [],
   "source": [
    "warnings.filterwarnings(\"ignore\")\n",
    "obb.user.preferences.output_type = \"dataframe\""
   ]
  },
  {
   "cell_type": "markdown",
   "id": "77c2a960",
   "metadata": {},
   "source": [
    "Define the stock symbols including the benchmark \"SPY\""
   ]
  },
  {
   "cell_type": "code",
   "execution_count": 4,
   "id": "1dece335",
   "metadata": {},
   "outputs": [],
   "source": [
    "symbols = [\"NEM\", \"RGLD\", \"SSRM\", \"CDE\", \"LLY\", \"UNH\", \"JNJ\", \"MRK\", \"SPY\"]"
   ]
  },
  {
   "cell_type": "markdown",
   "id": "e2a7f2ba",
   "metadata": {},
   "source": [
    "Fetch historical price data for the defined symbols from 2015-01-01 to 2022-12-31 using the \"yfinance\" provider"
   ]
  },
  {
   "cell_type": "code",
   "execution_count": 5,
   "id": "1050e6b6",
   "metadata": {},
   "outputs": [],
   "source": [
    "data = obb.equity.price.historical(\n",
    "    symbols,\n",
    "    start_date=\"2015-01-01\",\n",
    "    end_date=\"2022-12-31\",\n",
    "    provider=\"yfinance\",\n",
    ").pivot(columns=\"symbol\", values=\"close\")"
   ]
  },
  {
   "cell_type": "markdown",
   "id": "de812d93",
   "metadata": {},
   "source": [
    "Calculate the monthly percentage returns and convert the index to a monthly period"
   ]
  },
  {
   "cell_type": "code",
   "execution_count": 6,
   "id": "99c44acc",
   "metadata": {},
   "outputs": [],
   "source": [
    "monthly_returns = data.asfreq(\"ME\").pct_change(fill_method=None).to_period(\"M\")"
   ]
  },
  {
   "cell_type": "markdown",
   "id": "f81bcd76",
   "metadata": {},
   "source": [
    "Separate the benchmark returns from the portfolio returns"
   ]
  },
  {
   "cell_type": "code",
   "execution_count": 7,
   "id": "4ffccfd5",
   "metadata": {},
   "outputs": [],
   "source": [
    "bench = monthly_returns.pop(\"SPY\")\n",
    "R = monthly_returns.mean(axis=1)\n",
    "active = (R - bench).dropna()"
   ]
  },
  {
   "cell_type": "markdown",
   "id": "f605a54c",
   "metadata": {},
   "source": [
    "Fetch the Fama-French factors data"
   ]
  },
  {
   "cell_type": "code",
   "execution_count": 8,
   "id": "b1fb7da7",
   "metadata": {},
   "outputs": [],
   "source": [
    "factors = (\n",
    "    pdr.get_data_famafrench(\n",
    "        \"F-F_Research_Data_Factors\",\n",
    "        start=\"2015-01-01\",\n",
    "        end=\"2022-12-31\",\n",
    "    )[0][1:]\n",
    "    / 100\n",
    ")\n",
    "SMB = factors.loc[active.index, \"SMB\"]\n",
    "HML = factors.loc[active.index, \"HML\"]"
   ]
  },
  {
   "cell_type": "code",
   "execution_count": 9,
   "id": "8e1d05d4",
   "metadata": {},
   "outputs": [
    {
     "name": "stdout",
     "output_type": "stream",
     "text": [
      "Help on function get_data_famafrench in module pandas_datareader.data:\n",
      "\n",
      "get_data_famafrench(*args, **kwargs)\n",
      "\n"
     ]
    }
   ],
   "source": [
    "help(pdr.get_data_famafrench)"
   ]
  },
  {
   "cell_type": "markdown",
   "id": "308ef64a",
   "metadata": {},
   "source": [
    "Create a DataFrame with the active returns and Fama-French factors"
   ]
  },
  {
   "cell_type": "code",
   "execution_count": 10,
   "id": "1dec3ba7",
   "metadata": {},
   "outputs": [],
   "source": [
    "df = pd.DataFrame(\n",
    "    {\n",
    "        \"R\": active,\n",
    "        \"SMB\": SMB,\n",
    "        \"HML\": HML,\n",
    "    },\n",
    "    index=active.index,\n",
    ").dropna()"
   ]
  },
  {
   "cell_type": "markdown",
   "id": "e1919be6",
   "metadata": {},
   "source": [
    "Perform linear regression to estimate the sensitivities of active returns to the factors"
   ]
  },
  {
   "cell_type": "code",
   "execution_count": 11,
   "id": "892d7ae7",
   "metadata": {},
   "outputs": [],
   "source": [
    "b1, b2 = regression.linear_model.OLS(df.R, df[[\"SMB\", \"HML\"]]).fit().params"
   ]
  },
  {
   "cell_type": "code",
   "execution_count": 12,
   "id": "5bee5d94",
   "metadata": {},
   "outputs": [
    {
     "data": {
      "text/plain": [
       "'Sensitivities of active returns to factors:\\nSMB: 0.08777022702057138\\nHML: -0.026467598838652594'"
      ]
     },
     "metadata": {},
     "output_type": "display_data"
    }
   ],
   "source": [
    "display(f\"Sensitivities of active returns to factors:\\nSMB: {b1}\\nHML: {b2}\")"
   ]
  },
  {
   "cell_type": "markdown",
   "id": "2637022e",
   "metadata": {},
   "source": [
    "Perform rolling regression to estimate the time-varying sensitivities"
   ]
  },
  {
   "cell_type": "code",
   "execution_count": 13,
   "id": "46f677d8",
   "metadata": {},
   "outputs": [
    {
     "data": {
      "image/png": "[encoded data removed]",
      "text/plain": [
       "<Figure size 550x660 with 2 Axes>"
      ]
     },
     "metadata": {},
     "output_type": "display_data"
    }
   ],
   "source": [
    "exog = sm.add_constant(df[[\"SMB\", \"HML\"]])\n",
    "rols = RollingOLS(active, exog, window=12)\n",
    "rres = rols.fit()\n",
    "fig = rres.plot_recursive_coefficient(variables=[\"SMB\", \"HML\"], figsize=(5.5, 6.6))"
   ]
  },
  {
   "cell_type": "markdown",
   "id": "17619987",
   "metadata": {},
   "source": [
    "Estimate the marginal contributions to active risk (MCAR)"
   ]
  },
  {
   "cell_type": "code",
   "execution_count": 14,
   "id": "a3184e61",
   "metadata": {},
   "outputs": [],
   "source": [
    "F1 = df.SMB\n",
    "F2 = df.HML\n",
    "cov = np.cov(F1, F2)\n",
    "ar_squared = (active.std()) ** 2\n",
    "mcar1 = (b1 * (b2 * cov[0, 1] + b1 * cov[0, 0])) / ar_squared\n",
    "mcar2 = (b2 * (b1 * cov[0, 1] + b2 * cov[1, 1])) / ar_squared"
   ]
  },
  {
   "cell_type": "code",
   "execution_count": 15,
   "id": "09d3ba36",
   "metadata": {},
   "outputs": [
    {
     "data": {
      "text/plain": [
       "'SMB risk contribution: 0.0013761656143921365'"
      ]
     },
     "metadata": {},
     "output_type": "display_data"
    },
    {
     "data": {
      "text/plain": [
       "'HML risk contribution: 0.00030080111715510637'"
      ]
     },
     "metadata": {},
     "output_type": "display_data"
    },
    {
     "data": {
      "text/plain": [
       "'Unexplained risk contribution: 0.9983230332684527'"
      ]
     },
     "metadata": {},
     "output_type": "display_data"
    }
   ],
   "source": [
    "display(f\"SMB risk contribution: {mcar1}\")\n",
    "display(f\"HML risk contribution: {mcar2}\")\n",
    "display(f\"Unexplained risk contribution: {1 - (mcar1 + mcar2)}\")"
   ]
  },
  {
   "cell_type": "markdown",
   "id": "b0db48cb",
   "metadata": {},
   "source": [
    "Calculate the rolling covariances and active risk squared"
   ]
  },
  {
   "cell_type": "code",
   "execution_count": 16,
   "id": "bcd74815",
   "metadata": {},
   "outputs": [],
   "source": [
    "covariances = (df[[\"SMB\", \"HML\"]].rolling(window=12).cov()).dropna()"
   ]
  },
  {
   "cell_type": "code",
   "execution_count": 17,
   "id": "085f739c",
   "metadata": {},
   "outputs": [],
   "source": [
    "active_risk_squared = (active.rolling(window=12).std() ** 2).dropna()"
   ]
  },
  {
   "cell_type": "markdown",
   "id": "8c33fc3b",
   "metadata": {},
   "source": [
    "Calculate the rolling betas"
   ]
  },
  {
   "cell_type": "code",
   "execution_count": 18,
   "id": "5a4776bc",
   "metadata": {},
   "outputs": [],
   "source": [
    "betas = pd.concat([rres.params.SMB, rres.params.HML], axis=1).dropna()"
   ]
  },
  {
   "cell_type": "markdown",
   "id": "d725d267",
   "metadata": {},
   "source": [
    "Create a DataFrame to store the MCAR estimates"
   ]
  },
  {
   "cell_type": "code",
   "execution_count": 19,
   "id": "ae225377",
   "metadata": {},
   "outputs": [],
   "source": [
    "MCAR = pd.DataFrame(index=betas.index, columns=betas.columns)"
   ]
  },
  {
   "cell_type": "markdown",
   "id": "838e34ef",
   "metadata": {},
   "source": [
    "Calculate the MCAR for each factor at each time point"
   ]
  },
  {
   "cell_type": "code",
   "execution_count": 20,
   "id": "528ff4bc",
   "metadata": {},
   "outputs": [],
   "source": [
    "for factor in betas.columns:\n",
    "    for t in betas.index:\n",
    "        # Compute the sum of the betas and covariances\n",
    "        s = np.sum(betas.loc[t] * covariances.loc[t][factor])\n",
    "        # Get the beta\n",
    "        b = betas.loc[t][factor]\n",
    "        # Get active risk squared\n",
    "        AR = active_risk_squared.loc[t]\n",
    "        # Put them all together to estimate FMCAR on that date\n",
    "        MCAR[factor][t] = b * s / AR"
   ]
  },
  {
   "cell_type": "markdown",
   "id": "7548de81",
   "metadata": {},
   "source": [
    "Plot the MCAR estimates for each factor"
   ]
  },
  {
   "cell_type": "code",
   "execution_count": 21,
   "id": "ce15f485",
   "metadata": {},
   "outputs": [
    {
     "data": {
      "text/plain": [
       "<Axes: xlabel='date'>"
      ]
     },
     "execution_count": 21,
     "metadata": {},
     "output_type": "execute_result"
    },
    {
     "data": {
      "image/png": "[encoded data removed]",
      "text/plain": [
       "<Figure size 640x480 with 1 Axes>"
      ]
     },
     "metadata": {},
     "output_type": "display_data"
    }
   ],
   "source": [
    "MCAR.SMB.plot()\n",
    "MCAR.HML.plot()"
   ]
  },
  {
   "cell_type": "markdown",
   "id": "f4e7303d",
   "metadata": {},
   "source": [
    "Plot the unexplained risk contribution"
   ]
  },
  {
   "cell_type": "code",
   "execution_count": 22,
   "id": "8c68b430",
   "metadata": {},
   "outputs": [
    {
     "data": {
      "text/plain": [
       "<Axes: xlabel='date'>"
      ]
     },
     "execution_count": 22,
     "metadata": {},
     "output_type": "execute_result"
    },
    {
     "data": {
      "image/png": "[encoded data removed]",
      "text/plain": [
       "<Figure size 640x480 with 1 Axes>"
      ]
     },
     "metadata": {},
     "output_type": "display_data"
    }
   ],
   "source": [
    "(1 - (MCAR.SMB + MCAR.HML)).plot()"
   ]
  },
  {
   "cell_type": "markdown",
   "id": "e6bec809",
   "metadata": {},
   "source": [
    "**Jason Strimpel** is the founder of <a href='https://pyquantnews.com/'>PyQuant News</a> and co-founder of <a href='https://www.tradeblotter.io/'>Trade Blotter</a>. His career in algorithmic trading spans 20+ years. He previously traded for a Chicago-based hedge fund, was a risk manager at JPMorgan, and managed production risk technology for an energy derivatives trading firm in London. In Singapore, he served as APAC CIO for an agricultural trading firm and built the data science team for a global metals trading firm. Jason holds degrees in Finance and Economics and a Master's in Quantitative Finance from the Illinois Institute of Technology. His career spans America, Europe, and Asia. He shares his expertise through the <a href='https://pyquantnews.com/subscribe-to-the-pyquant-newsletter/'>PyQuant Newsletter</a>, social media, and has taught over 1,000+ algorithmic trading with Python in his popular course **<a href='https://gettingstartedwithpythonforquantfinance.com/'>Getting Started With Python for Quant Finance</a>**. All code is for educational purposes only. Nothing provided here is financial advise. Use at your own risk."
   ]
  },
  {
   "cell_type": "code",
   "execution_count": null,
   "id": "cb2aba47-53d1-4a2f-b855-2ba1ac0bfe10",
   "metadata": {},
   "outputs": [],
   "source": []
  },
  {
   "cell_type": "markdown",
   "id": "991a6567",
   "metadata": {},
   "source": [
    "## Assessing Market Inefficiency Based on Volatility"
   ]
  },
  {
   "cell_type": "code",
   "execution_count": 1,
   "id": "9aa1d0e4",
   "metadata": {},
   "outputs": [],
   "source": [
    "import matplotlib.pyplot as plt\n",
    "import numpy as np\n",
    "import pandas as pd\n",
    "import seaborn as sns\n",
    "from IPython.display import Markdown, display\n",
    "from openbb import obb\n",
    "from scipy.stats import spearmanr"
   ]
  },
  {
   "cell_type": "code",
   "execution_count": 2,
   "id": "4eafb8ee",
   "metadata": {},
   "outputs": [],
   "source": [
    "obb.user.preferences.output_type = \"dataframe\""
   ]
  },
  {
   "cell_type": "markdown",
   "id": "458d4906",
   "metadata": {},
   "source": [
    "Define the stock symbols"
   ]
  },
  {
   "cell_type": "code",
   "execution_count": 3,
   "id": "ce11f992",
   "metadata": {},
   "outputs": [],
   "source": [
    "symbols = [\"NEM\", \"RGLD\", \"SSRM\", \"CDE\", \"LLY\", \"UNH\", \"JNJ\", \"MRK\"]"
   ]
  },
  {
   "cell_type": "markdown",
   "id": "69a16746",
   "metadata": {},
   "source": [
    "Fetch historical price data for the defined symbols from 2015-01-01 to 2022-12-31 using the \"yfinance\" provider"
   ]
  },
  {
   "cell_type": "code",
   "execution_count": 4,
   "id": "edbe61c5",
   "metadata": {},
   "outputs": [],
   "source": [
    "data = obb.equity.price.historical(\n",
    "    symbols, start_date=\"2015-01-01\", end_date=\"2022-12-31\", provider=\"yfinance\"\n",
    ")"
   ]
  },
  {
   "cell_type": "markdown",
   "id": "41c5b10a",
   "metadata": {},
   "source": [
    "Select relevant columns from the data"
   ]
  },
  {
   "cell_type": "code",
   "execution_count": 5,
   "id": "6ef2323b",
   "metadata": {},
   "outputs": [],
   "source": [
    "prices = data[[\"high\", \"low\", \"close\", \"volume\", \"symbol\"]]"
   ]
  },
  {
   "cell_type": "markdown",
   "id": "080ad9ec",
   "metadata": {},
   "source": [
    "Filter out symbols with less than 2 years of data"
   ]
  },
  {
   "cell_type": "code",
   "execution_count": 6,
   "id": "708df9f0",
   "metadata": {},
   "outputs": [],
   "source": [
    "nobs = prices.groupby(\"symbol\").size()\n",
    "mask = nobs[nobs > 2 * 12 * 21].index\n",
    "prices = prices[prices.symbol.isin(mask)]"
   ]
  },
  {
   "cell_type": "markdown",
   "id": "7c03a1d6",
   "metadata": {},
   "source": [
    "Reorder levels and sort index"
   ]
  },
  {
   "cell_type": "code",
   "execution_count": 7,
   "id": "40964487",
   "metadata": {},
   "outputs": [],
   "source": [
    "prices = (\n",
    "    prices.set_index(\"symbol\", append=True)\n",
    "    .reorder_levels([\"symbol\", \"date\"])\n",
    "    .sort_index(level=0)\n",
    ").drop_duplicates()"
   ]
  },
  {
   "cell_type": "markdown",
   "id": "af5c973b",
   "metadata": {
    "lines_to_next_cell": 2
   },
   "source": [
    "Define a function to calculate Parkinson volatility"
   ]
  },
  {
   "cell_type": "code",
   "execution_count": 8,
   "id": "e2d017eb",
   "metadata": {},
   "outputs": [],
   "source": [
    "def parkinson(data, window=14, trading_days=252):\n",
    "    rs = (1.0 / (4.0 * np.log(2.0))) * ((data.high / data.low).apply(np.log)) ** 2.0\n",
    "\n",
    "    def f(v):\n",
    "        return (trading_days * v.mean()) ** 0.5\n",
    "\n",
    "    result = rs.rolling(window=window, center=False).apply(func=f)\n",
    "\n",
    "    return result.sub(result.mean()).div(result.std())"
   ]
  },
  {
   "cell_type": "markdown",
   "id": "93c2032a",
   "metadata": {},
   "source": [
    "Calculate volatility using the Parkinson method and add it to the 'prices' DataFrame"
   ]
  },
  {
   "cell_type": "code",
   "execution_count": 9,
   "id": "a1864235",
   "metadata": {},
   "outputs": [],
   "source": [
    "prices[\"vol\"] = prices.groupby(\"symbol\", group_keys=False).apply(parkinson)\n",
    "prices.dropna(inplace=True)"
   ]
  },
  {
   "cell_type": "markdown",
   "id": "17117150",
   "metadata": {},
   "source": [
    "Calculate lagged returns and targets for different time periods"
   ]
  },
  {
   "cell_type": "code",
   "execution_count": 10,
   "id": "a2d1f247",
   "metadata": {},
   "outputs": [],
   "source": [
    "lags = [1, 5, 10, 21, 42, 63]\n",
    "for lag in lags:\n",
    "    prices[f\"return_{lag}d\"] = prices.groupby(level=\"symbol\").close.pct_change(lag)"
   ]
  },
  {
   "cell_type": "code",
   "execution_count": 11,
   "id": "df0045ad",
   "metadata": {},
   "outputs": [],
   "source": [
    "for t in [1, 5, 10, 21, 42, 63]:\n",
    "    prices[f\"target_{t}d\"] = prices.groupby(level=\"symbol\")[f\"return_{t}d\"].shift(-t)"
   ]
  },
  {
   "cell_type": "code",
   "execution_count": 12,
   "id": "5146a867",
   "metadata": {},
   "outputs": [
    {
     "data": {
      "text/html": [
       "<div>\n",
       "<style scoped>\n",
       "    .dataframe tbody tr th:only-of-type {\n",
       "        vertical-align: middle;\n",
       "    }\n",
       "\n",
       "    .dataframe tbody tr th {\n",
       "        vertical-align: top;\n",
       "    }\n",
       "\n",
       "    .dataframe thead th {\n",
       "        text-align: right;\n",
       "    }\n",
       "</style>\n",
       "<table border=\"1\" class=\"dataframe\">\n",
       "  <thead>\n",
       "    <tr style=\"text-align: right;\">\n",
       "      <th></th>\n",
       "      <th></th>\n",
       "      <th>high</th>\n",
       "      <th>low</th>\n",
       "      <th>close</th>\n",
       "      <th>volume</th>\n",
       "      <th>vol</th>\n",
       "      <th>return_1d</th>\n",
       "      <th>return_5d</th>\n",
       "      <th>return_10d</th>\n",
       "      <th>return_21d</th>\n",
       "      <th>return_42d</th>\n",
       "      <th>return_63d</th>\n",
       "      <th>target_1d</th>\n",
       "      <th>target_5d</th>\n",
       "      <th>target_10d</th>\n",
       "      <th>target_21d</th>\n",
       "      <th>target_42d</th>\n",
       "      <th>target_63d</th>\n",
       "    </tr>\n",
       "    <tr>\n",
       "      <th>symbol</th>\n",
       "      <th>date</th>\n",
       "      <th></th>\n",
       "      <th></th>\n",
       "      <th></th>\n",
       "      <th></th>\n",
       "      <th></th>\n",
       "      <th></th>\n",
       "      <th></th>\n",
       "      <th></th>\n",
       "      <th></th>\n",
       "      <th></th>\n",
       "      <th></th>\n",
       "      <th></th>\n",
       "      <th></th>\n",
       "      <th></th>\n",
       "      <th></th>\n",
       "      <th></th>\n",
       "      <th></th>\n",
       "    </tr>\n",
       "  </thead>\n",
       "  <tbody>\n",
       "    <tr>\n",
       "      <th rowspan=\"5\" valign=\"top\">CDE</th>\n",
       "      <th>2015-01-22</th>\n",
       "      <td>6.430000</td>\n",
       "      <td>6.150000</td>\n",
       "      <td>6.310000</td>\n",
       "      <td>3404900</td>\n",
       "      <td>0.502345</td>\n",
       "      <td>NaN</td>\n",
       "      <td>NaN</td>\n",
       "      <td>NaN</td>\n",
       "      <td>NaN</td>\n",
       "      <td>NaN</td>\n",
       "      <td>NaN</td>\n",
       "      <td>-0.050713</td>\n",
       "      <td>-0.058637</td>\n",
       "      <td>0.145800</td>\n",
       "      <td>-0.083994</td>\n",
       "      <td>-0.133122</td>\n",
       "      <td>-0.118859</td>\n",
       "    </tr>\n",
       "    <tr>\n",
       "      <th>2015-01-23</th>\n",
       "      <td>6.250000</td>\n",
       "      <td>5.930000</td>\n",
       "      <td>5.990000</td>\n",
       "      <td>2234000</td>\n",
       "      <td>0.466274</td>\n",
       "      <td>-0.050713</td>\n",
       "      <td>NaN</td>\n",
       "      <td>NaN</td>\n",
       "      <td>NaN</td>\n",
       "      <td>NaN</td>\n",
       "      <td>NaN</td>\n",
       "      <td>0.020033</td>\n",
       "      <td>0.051753</td>\n",
       "      <td>0.170284</td>\n",
       "      <td>-0.083472</td>\n",
       "      <td>-0.118531</td>\n",
       "      <td>-0.136895</td>\n",
       "    </tr>\n",
       "    <tr>\n",
       "      <th>2015-01-26</th>\n",
       "      <td>6.130000</td>\n",
       "      <td>5.690000</td>\n",
       "      <td>6.110000</td>\n",
       "      <td>2149800</td>\n",
       "      <td>0.512970</td>\n",
       "      <td>0.020033</td>\n",
       "      <td>NaN</td>\n",
       "      <td>NaN</td>\n",
       "      <td>NaN</td>\n",
       "      <td>NaN</td>\n",
       "      <td>NaN</td>\n",
       "      <td>0.034370</td>\n",
       "      <td>0.045826</td>\n",
       "      <td>0.189853</td>\n",
       "      <td>-0.094926</td>\n",
       "      <td>-0.147300</td>\n",
       "      <td>-0.067103</td>\n",
       "    </tr>\n",
       "    <tr>\n",
       "      <th>2015-01-27</th>\n",
       "      <td>6.420000</td>\n",
       "      <td>6.120000</td>\n",
       "      <td>6.320000</td>\n",
       "      <td>3697700</td>\n",
       "      <td>0.508157</td>\n",
       "      <td>0.034370</td>\n",
       "      <td>NaN</td>\n",
       "      <td>NaN</td>\n",
       "      <td>NaN</td>\n",
       "      <td>NaN</td>\n",
       "      <td>NaN</td>\n",
       "      <td>-0.052215</td>\n",
       "      <td>0.036392</td>\n",
       "      <td>0.136076</td>\n",
       "      <td>-0.115506</td>\n",
       "      <td>-0.202532</td>\n",
       "      <td>-0.106013</td>\n",
       "    </tr>\n",
       "    <tr>\n",
       "      <th>2015-01-28</th>\n",
       "      <td>6.360000</td>\n",
       "      <td>5.890000</td>\n",
       "      <td>5.990000</td>\n",
       "      <td>2668300</td>\n",
       "      <td>0.488355</td>\n",
       "      <td>-0.052215</td>\n",
       "      <td>NaN</td>\n",
       "      <td>NaN</td>\n",
       "      <td>NaN</td>\n",
       "      <td>NaN</td>\n",
       "      <td>NaN</td>\n",
       "      <td>-0.008347</td>\n",
       "      <td>0.188648</td>\n",
       "      <td>0.158598</td>\n",
       "      <td>-0.025042</td>\n",
       "      <td>-0.191987</td>\n",
       "      <td>-0.086811</td>\n",
       "    </tr>\n",
       "    <tr>\n",
       "      <th>...</th>\n",
       "      <th>...</th>\n",
       "      <td>...</td>\n",
       "      <td>...</td>\n",
       "      <td>...</td>\n",
       "      <td>...</td>\n",
       "      <td>...</td>\n",
       "      <td>...</td>\n",
       "      <td>...</td>\n",
       "      <td>...</td>\n",
       "      <td>...</td>\n",
       "      <td>...</td>\n",
       "      <td>...</td>\n",
       "      <td>...</td>\n",
       "      <td>...</td>\n",
       "      <td>...</td>\n",
       "      <td>...</td>\n",
       "      <td>...</td>\n",
       "      <td>...</td>\n",
       "    </tr>\n",
       "    <tr>\n",
       "      <th rowspan=\"5\" valign=\"top\">UNH</th>\n",
       "      <th>2022-12-23</th>\n",
       "      <td>531.309998</td>\n",
       "      <td>522.900024</td>\n",
       "      <td>531.309998</td>\n",
       "      <td>1292300</td>\n",
       "      <td>-0.477275</td>\n",
       "      <td>0.008006</td>\n",
       "      <td>0.014531</td>\n",
       "      <td>-0.014633</td>\n",
       "      <td>0.003020</td>\n",
       "      <td>-0.016493</td>\n",
       "      <td>0.045145</td>\n",
       "      <td>0.001280</td>\n",
       "      <td>NaN</td>\n",
       "      <td>NaN</td>\n",
       "      <td>NaN</td>\n",
       "      <td>NaN</td>\n",
       "      <td>NaN</td>\n",
       "    </tr>\n",
       "    <tr>\n",
       "      <th>2022-12-27</th>\n",
       "      <td>535.840027</td>\n",
       "      <td>529.849976</td>\n",
       "      <td>531.989990</td>\n",
       "      <td>1596700</td>\n",
       "      <td>-0.480026</td>\n",
       "      <td>0.001280</td>\n",
       "      <td>0.016024</td>\n",
       "      <td>-0.025409</td>\n",
       "      <td>-0.010472</td>\n",
       "      <td>-0.020583</td>\n",
       "      <td>0.046462</td>\n",
       "      <td>-0.006654</td>\n",
       "      <td>NaN</td>\n",
       "      <td>NaN</td>\n",
       "      <td>NaN</td>\n",
       "      <td>NaN</td>\n",
       "      <td>NaN</td>\n",
       "    </tr>\n",
       "    <tr>\n",
       "      <th>2022-12-28</th>\n",
       "      <td>538.150024</td>\n",
       "      <td>527.729980</td>\n",
       "      <td>528.450012</td>\n",
       "      <td>1694200</td>\n",
       "      <td>-0.429139</td>\n",
       "      <td>-0.006654</td>\n",
       "      <td>0.015840</td>\n",
       "      <td>-0.018152</td>\n",
       "      <td>-0.007177</td>\n",
       "      <td>-0.024640</td>\n",
       "      <td>0.028233</td>\n",
       "      <td>0.002706</td>\n",
       "      <td>NaN</td>\n",
       "      <td>NaN</td>\n",
       "      <td>NaN</td>\n",
       "      <td>NaN</td>\n",
       "      <td>NaN</td>\n",
       "    </tr>\n",
       "    <tr>\n",
       "      <th>2022-12-29</th>\n",
       "      <td>533.679993</td>\n",
       "      <td>528.859985</td>\n",
       "      <td>529.880005</td>\n",
       "      <td>1379700</td>\n",
       "      <td>-0.450629</td>\n",
       "      <td>0.002706</td>\n",
       "      <td>0.004436</td>\n",
       "      <td>-0.015752</td>\n",
       "      <td>0.003561</td>\n",
       "      <td>-0.038749</td>\n",
       "      <td>0.041369</td>\n",
       "      <td>0.000566</td>\n",
       "      <td>NaN</td>\n",
       "      <td>NaN</td>\n",
       "      <td>NaN</td>\n",
       "      <td>NaN</td>\n",
       "      <td>NaN</td>\n",
       "    </tr>\n",
       "    <tr>\n",
       "      <th>2022-12-30</th>\n",
       "      <td>530.500000</td>\n",
       "      <td>524.840027</td>\n",
       "      <td>530.179993</td>\n",
       "      <td>1849600</td>\n",
       "      <td>-0.491592</td>\n",
       "      <td>0.000566</td>\n",
       "      <td>0.005862</td>\n",
       "      <td>0.004738</td>\n",
       "      <td>-0.032094</td>\n",
       "      <td>-0.044979</td>\n",
       "      <td>0.049778</td>\n",
       "      <td>NaN</td>\n",
       "      <td>NaN</td>\n",
       "      <td>NaN</td>\n",
       "      <td>NaN</td>\n",
       "      <td>NaN</td>\n",
       "      <td>NaN</td>\n",
       "    </tr>\n",
       "  </tbody>\n",
       "</table>\n",
       "<p>16008 rows × 17 columns</p>\n",
       "</div>"
      ],
      "text/plain": [
       "                         high         low       close   volume       vol  \\\n",
       "symbol date                                                                \n",
       "CDE    2015-01-22    6.430000    6.150000    6.310000  3404900  0.502345   \n",
       "       2015-01-23    6.250000    5.930000    5.990000  2234000  0.466274   \n",
       "       2015-01-26    6.130000    5.690000    6.110000  2149800  0.512970   \n",
       "       2015-01-27    6.420000    6.120000    6.320000  3697700  0.508157   \n",
       "       2015-01-28    6.360000    5.890000    5.990000  2668300  0.488355   \n",
       "...                       ...         ...         ...      ...       ...   \n",
       "UNH    2022-12-23  531.309998  522.900024  531.309998  1292300 -0.477275   \n",
       "       2022-12-27  535.840027  529.849976  531.989990  1596700 -0.480026   \n",
       "       2022-12-28  538.150024  527.729980  528.450012  1694200 -0.429139   \n",
       "       2022-12-29  533.679993  528.859985  529.880005  1379700 -0.450629   \n",
       "       2022-12-30  530.500000  524.840027  530.179993  1849600 -0.491592   \n",
       "\n",
       "                   return_1d  return_5d  return_10d  return_21d  return_42d  \\\n",
       "symbol date                                                                   \n",
       "CDE    2015-01-22        NaN        NaN         NaN         NaN         NaN   \n",
       "       2015-01-23  -0.050713        NaN         NaN         NaN         NaN   \n",
       "       2015-01-26   0.020033        NaN         NaN         NaN         NaN   \n",
       "       2015-01-27   0.034370        NaN         NaN         NaN         NaN   \n",
       "       2015-01-28  -0.052215        NaN         NaN         NaN         NaN   \n",
       "...                      ...        ...         ...         ...         ...   \n",
       "UNH    2022-12-23   0.008006   0.014531   -0.014633    0.003020   -0.016493   \n",
       "       2022-12-27   0.001280   0.016024   -0.025409   -0.010472   -0.020583   \n",
       "       2022-12-28  -0.006654   0.015840   -0.018152   -0.007177   -0.024640   \n",
       "       2022-12-29   0.002706   0.004436   -0.015752    0.003561   -0.038749   \n",
       "       2022-12-30   0.000566   0.005862    0.004738   -0.032094   -0.044979   \n",
       "\n",
       "                   return_63d  target_1d  target_5d  target_10d  target_21d  \\\n",
       "symbol date                                                                   \n",
       "CDE    2015-01-22         NaN  -0.050713  -0.058637    0.145800   -0.083994   \n",
       "       2015-01-23         NaN   0.020033   0.051753    0.170284   -0.083472   \n",
       "       2015-01-26         NaN   0.034370   0.045826    0.189853   -0.094926   \n",
       "       2015-01-27         NaN  -0.052215   0.036392    0.136076   -0.115506   \n",
       "       2015-01-28         NaN  -0.008347   0.188648    0.158598   -0.025042   \n",
       "...                       ...        ...        ...         ...         ...   \n",
       "UNH    2022-12-23    0.045145   0.001280        NaN         NaN         NaN   \n",
       "       2022-12-27    0.046462  -0.006654        NaN         NaN         NaN   \n",
       "       2022-12-28    0.028233   0.002706        NaN         NaN         NaN   \n",
       "       2022-12-29    0.041369   0.000566        NaN         NaN         NaN   \n",
       "       2022-12-30    0.049778        NaN        NaN         NaN         NaN   \n",
       "\n",
       "                   target_42d  target_63d  \n",
       "symbol date                                \n",
       "CDE    2015-01-22   -0.133122   -0.118859  \n",
       "       2015-01-23   -0.118531   -0.136895  \n",
       "       2015-01-26   -0.147300   -0.067103  \n",
       "       2015-01-27   -0.202532   -0.106013  \n",
       "       2015-01-28   -0.191987   -0.086811  \n",
       "...                       ...         ...  \n",
       "UNH    2022-12-23         NaN         NaN  \n",
       "       2022-12-27         NaN         NaN  \n",
       "       2022-12-28         NaN         NaN  \n",
       "       2022-12-29         NaN         NaN  \n",
       "       2022-12-30         NaN         NaN  \n",
       "\n",
       "[16008 rows x 17 columns]"
      ]
     },
     "metadata": {},
     "output_type": "display_data"
    }
   ],
   "source": [
    "display(prices)"
   ]
  },
  {
   "cell_type": "markdown",
   "id": "1383f2c5",
   "metadata": {},
   "source": [
    "Plot a joint plot of volatility vs. 1-day target return"
   ]
  },
  {
   "cell_type": "code",
   "execution_count": 13,
   "id": "ebbe610a",
   "metadata": {},
   "outputs": [
    {
     "data": {
      "image/png": "[encoded data removed]",
      "text/plain": [
       "<Figure size 600x600 with 3 Axes>"
      ]
     },
     "metadata": {},
     "output_type": "display_data"
    }
   ],
   "source": [
    "target = \"target_1d\"\n",
    "metric = \"vol\"\n",
    "j = sns.jointplot(x=metric, y=target, data=prices)\n",
    "plt.tight_layout()"
   ]
  },
  {
   "cell_type": "markdown",
   "id": "b723a5ba",
   "metadata": {},
   "source": [
    "Calculate and display the Spearman rank correlation and p-value"
   ]
  },
  {
   "cell_type": "code",
   "execution_count": 14,
   "id": "452add15",
   "metadata": {},
   "outputs": [
    {
     "data": {
      "text/plain": [
       "'2.29% (0.38%)'"
      ]
     },
     "metadata": {},
     "output_type": "display_data"
    }
   ],
   "source": [
    "df = prices[[metric, target]].dropna()\n",
    "r, p = spearmanr(df[metric], df[target])\n",
    "display(f\"{r:,.2%} ({p:.2%})\")"
   ]
  },
  {
   "cell_type": "markdown",
   "id": "c1fc618c",
   "metadata": {},
   "source": [
    "Display the first 10 rows of 'prices' DataFrame for the symbol \"NEM\""
   ]
  },
  {
   "cell_type": "code",
   "execution_count": 15,
   "id": "27b47012",
   "metadata": {},
   "outputs": [
    {
     "data": {
      "text/html": [
       "<div>\n",
       "<style scoped>\n",
       "    .dataframe tbody tr th:only-of-type {\n",
       "        vertical-align: middle;\n",
       "    }\n",
       "\n",
       "    .dataframe tbody tr th {\n",
       "        vertical-align: top;\n",
       "    }\n",
       "\n",
       "    .dataframe thead th {\n",
       "        text-align: right;\n",
       "    }\n",
       "</style>\n",
       "<table border=\"1\" class=\"dataframe\">\n",
       "  <thead>\n",
       "    <tr style=\"text-align: right;\">\n",
       "      <th></th>\n",
       "      <th>high</th>\n",
       "      <th>low</th>\n",
       "      <th>close</th>\n",
       "      <th>volume</th>\n",
       "      <th>vol</th>\n",
       "      <th>return_1d</th>\n",
       "      <th>return_5d</th>\n",
       "      <th>return_10d</th>\n",
       "      <th>return_21d</th>\n",
       "      <th>return_42d</th>\n",
       "      <th>return_63d</th>\n",
       "      <th>target_1d</th>\n",
       "      <th>target_5d</th>\n",
       "      <th>target_10d</th>\n",
       "      <th>target_21d</th>\n",
       "      <th>target_42d</th>\n",
       "      <th>target_63d</th>\n",
       "    </tr>\n",
       "    <tr>\n",
       "      <th>date</th>\n",
       "      <th></th>\n",
       "      <th></th>\n",
       "      <th></th>\n",
       "      <th></th>\n",
       "      <th></th>\n",
       "      <th></th>\n",
       "      <th></th>\n",
       "      <th></th>\n",
       "      <th></th>\n",
       "      <th></th>\n",
       "      <th></th>\n",
       "      <th></th>\n",
       "      <th></th>\n",
       "      <th></th>\n",
       "      <th></th>\n",
       "      <th></th>\n",
       "      <th></th>\n",
       "    </tr>\n",
       "  </thead>\n",
       "  <tbody>\n",
       "    <tr>\n",
       "      <th>2015-01-22</th>\n",
       "      <td>24.690001</td>\n",
       "      <td>23.980000</td>\n",
       "      <td>24.290001</td>\n",
       "      <td>13132700</td>\n",
       "      <td>1.021514</td>\n",
       "      <td>NaN</td>\n",
       "      <td>NaN</td>\n",
       "      <td>NaN</td>\n",
       "      <td>NaN</td>\n",
       "      <td>NaN</td>\n",
       "      <td>NaN</td>\n",
       "      <td>-0.005764</td>\n",
       "      <td>-0.004940</td>\n",
       "      <td>0.021820</td>\n",
       "      <td>0.068752</td>\n",
       "      <td>-0.058872</td>\n",
       "      <td>-0.034582</td>\n",
       "    </tr>\n",
       "    <tr>\n",
       "      <th>2015-01-23</th>\n",
       "      <td>24.430000</td>\n",
       "      <td>23.670000</td>\n",
       "      <td>24.150000</td>\n",
       "      <td>12056800</td>\n",
       "      <td>0.976773</td>\n",
       "      <td>-0.005764</td>\n",
       "      <td>NaN</td>\n",
       "      <td>NaN</td>\n",
       "      <td>NaN</td>\n",
       "      <td>NaN</td>\n",
       "      <td>NaN</td>\n",
       "      <td>0.014079</td>\n",
       "      <td>0.041408</td>\n",
       "      <td>-0.004141</td>\n",
       "      <td>0.068737</td>\n",
       "      <td>-0.069151</td>\n",
       "      <td>0.034369</td>\n",
       "    </tr>\n",
       "    <tr>\n",
       "      <th>2015-01-26</th>\n",
       "      <td>24.629999</td>\n",
       "      <td>23.350000</td>\n",
       "      <td>24.490000</td>\n",
       "      <td>11189200</td>\n",
       "      <td>1.059908</td>\n",
       "      <td>0.014079</td>\n",
       "      <td>NaN</td>\n",
       "      <td>NaN</td>\n",
       "      <td>NaN</td>\n",
       "      <td>NaN</td>\n",
       "      <td>NaN</td>\n",
       "      <td>0.026541</td>\n",
       "      <td>0.025316</td>\n",
       "      <td>0.004900</td>\n",
       "      <td>0.063699</td>\n",
       "      <td>-0.095141</td>\n",
       "      <td>0.044916</td>\n",
       "    </tr>\n",
       "    <tr>\n",
       "      <th>2015-01-27</th>\n",
       "      <td>25.250000</td>\n",
       "      <td>24.530001</td>\n",
       "      <td>25.139999</td>\n",
       "      <td>10774500</td>\n",
       "      <td>0.948081</td>\n",
       "      <td>0.026541</td>\n",
       "      <td>NaN</td>\n",
       "      <td>NaN</td>\n",
       "      <td>NaN</td>\n",
       "      <td>NaN</td>\n",
       "      <td>NaN</td>\n",
       "      <td>-0.035004</td>\n",
       "      <td>-0.020684</td>\n",
       "      <td>-0.029037</td>\n",
       "      <td>0.046539</td>\n",
       "      <td>-0.115752</td>\n",
       "      <td>0.048131</td>\n",
       "    </tr>\n",
       "    <tr>\n",
       "      <th>2015-01-28</th>\n",
       "      <td>25.049999</td>\n",
       "      <td>24.030001</td>\n",
       "      <td>24.260000</td>\n",
       "      <td>11251300</td>\n",
       "      <td>0.962112</td>\n",
       "      <td>-0.035004</td>\n",
       "      <td>NaN</td>\n",
       "      <td>NaN</td>\n",
       "      <td>NaN</td>\n",
       "      <td>NaN</td>\n",
       "      <td>NaN</td>\n",
       "      <td>-0.003710</td>\n",
       "      <td>0.023083</td>\n",
       "      <td>-0.004946</td>\n",
       "      <td>0.085326</td>\n",
       "      <td>-0.092333</td>\n",
       "      <td>0.091509</td>\n",
       "    </tr>\n",
       "    <tr>\n",
       "      <th>2015-01-29</th>\n",
       "      <td>24.340000</td>\n",
       "      <td>23.420000</td>\n",
       "      <td>24.170000</td>\n",
       "      <td>8850000</td>\n",
       "      <td>1.016856</td>\n",
       "      <td>-0.003710</td>\n",
       "      <td>-0.004940</td>\n",
       "      <td>NaN</td>\n",
       "      <td>NaN</td>\n",
       "      <td>NaN</td>\n",
       "      <td>NaN</td>\n",
       "      <td>0.040546</td>\n",
       "      <td>0.026893</td>\n",
       "      <td>0.014067</td>\n",
       "      <td>0.071163</td>\n",
       "      <td>-0.101779</td>\n",
       "      <td>0.095987</td>\n",
       "    </tr>\n",
       "    <tr>\n",
       "      <th>2015-01-30</th>\n",
       "      <td>25.219999</td>\n",
       "      <td>23.920000</td>\n",
       "      <td>25.150000</td>\n",
       "      <td>11594400</td>\n",
       "      <td>1.139381</td>\n",
       "      <td>0.040546</td>\n",
       "      <td>0.041408</td>\n",
       "      <td>NaN</td>\n",
       "      <td>NaN</td>\n",
       "      <td>NaN</td>\n",
       "      <td>NaN</td>\n",
       "      <td>-0.001590</td>\n",
       "      <td>-0.043738</td>\n",
       "      <td>-0.014712</td>\n",
       "      <td>0.018688</td>\n",
       "      <td>-0.096620</td>\n",
       "      <td>0.053280</td>\n",
       "    </tr>\n",
       "    <tr>\n",
       "      <th>2015-02-02</th>\n",
       "      <td>25.200001</td>\n",
       "      <td>24.559999</td>\n",
       "      <td>25.110001</td>\n",
       "      <td>7497000</td>\n",
       "      <td>1.109351</td>\n",
       "      <td>-0.001590</td>\n",
       "      <td>0.025316</td>\n",
       "      <td>NaN</td>\n",
       "      <td>NaN</td>\n",
       "      <td>NaN</td>\n",
       "      <td>NaN</td>\n",
       "      <td>-0.019514</td>\n",
       "      <td>-0.019912</td>\n",
       "      <td>-0.036639</td>\n",
       "      <td>0.003186</td>\n",
       "      <td>-0.110315</td>\n",
       "      <td>0.037435</td>\n",
       "    </tr>\n",
       "    <tr>\n",
       "      <th>2015-02-03</th>\n",
       "      <td>25.070000</td>\n",
       "      <td>24.139999</td>\n",
       "      <td>24.620001</td>\n",
       "      <td>9038100</td>\n",
       "      <td>0.957277</td>\n",
       "      <td>-0.019514</td>\n",
       "      <td>-0.020684</td>\n",
       "      <td>NaN</td>\n",
       "      <td>NaN</td>\n",
       "      <td>NaN</td>\n",
       "      <td>NaN</td>\n",
       "      <td>0.008123</td>\n",
       "      <td>-0.008530</td>\n",
       "      <td>0.004874</td>\n",
       "      <td>0.027620</td>\n",
       "      <td>-0.082859</td>\n",
       "      <td>0.054021</td>\n",
       "    </tr>\n",
       "    <tr>\n",
       "      <th>2015-02-04</th>\n",
       "      <td>25.030001</td>\n",
       "      <td>24.500000</td>\n",
       "      <td>24.820000</td>\n",
       "      <td>7071100</td>\n",
       "      <td>0.708258</td>\n",
       "      <td>0.008123</td>\n",
       "      <td>0.023083</td>\n",
       "      <td>NaN</td>\n",
       "      <td>NaN</td>\n",
       "      <td>NaN</td>\n",
       "      <td>NaN</td>\n",
       "      <td>0.000000</td>\n",
       "      <td>-0.027397</td>\n",
       "      <td>-0.014504</td>\n",
       "      <td>-0.061241</td>\n",
       "      <td>-0.106769</td>\n",
       "      <td>0.033441</td>\n",
       "    </tr>\n",
       "  </tbody>\n",
       "</table>\n",
       "</div>"
      ],
      "text/plain": [
       "                 high        low      close    volume       vol  return_1d  \\\n",
       "date                                                                         \n",
       "2015-01-22  24.690001  23.980000  24.290001  13132700  1.021514        NaN   \n",
       "2015-01-23  24.430000  23.670000  24.150000  12056800  0.976773  -0.005764   \n",
       "2015-01-26  24.629999  23.350000  24.490000  11189200  1.059908   0.014079   \n",
       "2015-01-27  25.250000  24.530001  25.139999  10774500  0.948081   0.026541   \n",
       "2015-01-28  25.049999  24.030001  24.260000  11251300  0.962112  -0.035004   \n",
       "2015-01-29  24.340000  23.420000  24.170000   8850000  1.016856  -0.003710   \n",
       "2015-01-30  25.219999  23.920000  25.150000  11594400  1.139381   0.040546   \n",
       "2015-02-02  25.200001  24.559999  25.110001   7497000  1.109351  -0.001590   \n",
       "2015-02-03  25.070000  24.139999  24.620001   9038100  0.957277  -0.019514   \n",
       "2015-02-04  25.030001  24.500000  24.820000   7071100  0.708258   0.008123   \n",
       "\n",
       "            return_5d  return_10d  return_21d  return_42d  return_63d  \\\n",
       "date                                                                    \n",
       "2015-01-22        NaN         NaN         NaN         NaN         NaN   \n",
       "2015-01-23        NaN         NaN         NaN         NaN         NaN   \n",
       "2015-01-26        NaN         NaN         NaN         NaN         NaN   \n",
       "2015-01-27        NaN         NaN         NaN         NaN         NaN   \n",
       "2015-01-28        NaN         NaN         NaN         NaN         NaN   \n",
       "2015-01-29  -0.004940         NaN         NaN         NaN         NaN   \n",
       "2015-01-30   0.041408         NaN         NaN         NaN         NaN   \n",
       "2015-02-02   0.025316         NaN         NaN         NaN         NaN   \n",
       "2015-02-03  -0.020684         NaN         NaN         NaN         NaN   \n",
       "2015-02-04   0.023083         NaN         NaN         NaN         NaN   \n",
       "\n",
       "            target_1d  target_5d  target_10d  target_21d  target_42d  \\\n",
       "date                                                                   \n",
       "2015-01-22  -0.005764  -0.004940    0.021820    0.068752   -0.058872   \n",
       "2015-01-23   0.014079   0.041408   -0.004141    0.068737   -0.069151   \n",
       "2015-01-26   0.026541   0.025316    0.004900    0.063699   -0.095141   \n",
       "2015-01-27  -0.035004  -0.020684   -0.029037    0.046539   -0.115752   \n",
       "2015-01-28  -0.003710   0.023083   -0.004946    0.085326   -0.092333   \n",
       "2015-01-29   0.040546   0.026893    0.014067    0.071163   -0.101779   \n",
       "2015-01-30  -0.001590  -0.043738   -0.014712    0.018688   -0.096620   \n",
       "2015-02-02  -0.019514  -0.019912   -0.036639    0.003186   -0.110315   \n",
       "2015-02-03   0.008123  -0.008530    0.004874    0.027620   -0.082859   \n",
       "2015-02-04   0.000000  -0.027397   -0.014504   -0.061241   -0.106769   \n",
       "\n",
       "            target_63d  \n",
       "date                    \n",
       "2015-01-22   -0.034582  \n",
       "2015-01-23    0.034369  \n",
       "2015-01-26    0.044916  \n",
       "2015-01-27    0.048131  \n",
       "2015-01-28    0.091509  \n",
       "2015-01-29    0.095987  \n",
       "2015-01-30    0.053280  \n",
       "2015-02-02    0.037435  \n",
       "2015-02-03    0.054021  \n",
       "2015-02-04    0.033441  "
      ]
     },
     "metadata": {},
     "output_type": "display_data"
    }
   ],
   "source": [
    "d = prices.loc[\"NEM\"].head(10)\n",
    "display(d)"
   ]
  },
  {
   "cell_type": "markdown",
   "id": "a3811141",
   "metadata": {},
   "source": [
    "Display the metric and target columns"
   ]
  },
  {
   "cell_type": "code",
   "execution_count": 16,
   "id": "321b23c3",
   "metadata": {},
   "outputs": [
    {
     "data": {
      "text/plain": [
       "symbol  date      \n",
       "CDE     2015-01-22    0.502345\n",
       "        2015-01-23    0.466274\n",
       "        2015-01-26    0.512970\n",
       "        2015-01-27    0.508157\n",
       "        2015-01-28    0.488355\n",
       "                        ...   \n",
       "UNH     2022-12-22   -0.464863\n",
       "        2022-12-23   -0.477275\n",
       "        2022-12-27   -0.480026\n",
       "        2022-12-28   -0.429139\n",
       "        2022-12-29   -0.450629\n",
       "Name: vol, Length: 16000, dtype: float64"
      ]
     },
     "metadata": {},
     "output_type": "display_data"
    },
    {
     "data": {
      "text/plain": [
       "symbol  date      \n",
       "CDE     2015-01-22   -0.050713\n",
       "        2015-01-23    0.020033\n",
       "        2015-01-26    0.034370\n",
       "        2015-01-27   -0.052215\n",
       "        2015-01-28   -0.008347\n",
       "                        ...   \n",
       "UNH     2022-12-22    0.008006\n",
       "        2022-12-23    0.001280\n",
       "        2022-12-27   -0.006654\n",
       "        2022-12-28    0.002706\n",
       "        2022-12-29    0.000566\n",
       "Name: target_1d, Length: 16000, dtype: float64"
      ]
     },
     "metadata": {},
     "output_type": "display_data"
    }
   ],
   "source": [
    "display(df[metric])\n",
    "display(df[target])"
   ]
  },
  {
   "cell_type": "markdown",
   "id": "10e9d729",
   "metadata": {},
   "source": [
    "Display the correlation and p-value"
   ]
  },
  {
   "cell_type": "code",
   "execution_count": 17,
   "id": "cf7b8f28",
   "metadata": {},
   "outputs": [
    {
     "data": {
      "text/plain": [
       "0.022894821944437795"
      ]
     },
     "metadata": {},
     "output_type": "display_data"
    },
    {
     "data": {
      "text/plain": [
       "0.003777781841261211"
      ]
     },
     "metadata": {},
     "output_type": "display_data"
    }
   ],
   "source": [
    "display(r, p)"
   ]
  },
  {
   "cell_type": "markdown",
   "id": "75fad08f",
   "metadata": {},
   "source": [
    "**Jason Strimpel** is the founder of <a href='https://pyquantnews.com/'>PyQuant News</a> and co-founder of <a href='https://www.tradeblotter.io/'>Trade Blotter</a>. His career in algorithmic trading spans 20+ years. He previously traded for a Chicago-based hedge fund, was a risk manager at JPMorgan, and managed production risk technology for an energy derivatives trading firm in London. In Singapore, he served as APAC CIO for an agricultural trading firm and built the data science team for a global metals trading firm. Jason holds degrees in Finance and Economics and a Master's in Quantitative Finance from the Illinois Institute of Technology. His career spans America, Europe, and Asia. He shares his expertise through the <a href='https://pyquantnews.com/subscribe-to-the-pyquant-newsletter/'>PyQuant Newsletter</a>, social media, and has taught over 1,000+ algorithmic trading with Python in his popular course **<a href='https://gettingstartedwithpythonforquantfinance.com/'>Getting Started With Python for Quant Finance</a>**. All code is for educational purposes only. Nothing provided here is financial advise. Use at your own risk."
   ]
  },
  {
   "cell_type": "code",
   "execution_count": null,
   "id": "19e7d489-2f8e-4f2a-a8a1-c23259019adf",
   "metadata": {},
   "outputs": [],
   "source": []
  },
  {
   "cell_type": "markdown",
   "id": "1004e8c5",
   "metadata": {},
   "source": [
    "## Preparing a Factor Ranking Model Using Zipline Pipelines"
   ]
  },
  {
   "cell_type": "code",
   "execution_count": 1,
   "id": "0f9240f8",
   "metadata": {},
   "outputs": [],
   "source": [
    "import os\n",
    "import warnings"
   ]
  },
  {
   "cell_type": "code",
   "execution_count": 6,
   "id": "b7692a0e",
   "metadata": {},
   "outputs": [],
   "source": [
    "import numpy as np\n",
    "import pandas as pd\n",
    "from IPython.display import Markdown, display\n",
    "from zipline.data import bundles\n",
    "from zipline.data.bundles.core import load\n",
    "from zipline.pipeline import Pipeline\n",
    "from zipline.pipeline.data import USEquityPricing\n",
    "from zipline.pipeline.engine import SimplePipelineEngine\n",
    "from zipline.pipeline.factors import (\n",
    "    VWAP,\n",
    "    AnnualizedVolatility,\n",
    "    AverageDollarVolume,\n",
    "    BollingerBands,\n",
    "    CustomFactor,\n",
    "    DailyReturns,\n",
    "    ExponentialWeightedMovingAverage,\n",
    "    MaxDrawdown,\n",
    "    PercentChange,\n",
    "    Returns,\n",
    "    SimpleMovingAverage,\n",
    "    WeightedAverageValue,\n",
    ")\n",
    "from zipline.pipeline.loaders import USEquityPricingLoader"
   ]
  },
  {
   "cell_type": "code",
   "execution_count": 7,
   "id": "cd6b77d0",
   "metadata": {},
   "outputs": [],
   "source": [
    "warnings.filterwarnings(\"ignore\")"
   ]
  },
  {
   "cell_type": "markdown",
   "id": "010eb64b",
   "metadata": {},
   "source": [
    "### Option 1: Use the built-in bundle with free data\n",
    "\n",
    "This option uses the built-in data bundle provided by Zipline. It then acquires free US equities data that extend through 2018."
   ]
  },
  {
   "cell_type": "code",
   "execution_count": null,
   "id": "a981f03d",
   "metadata": {},
   "outputs": [],
   "source": [
    "os.environ[\"QUANDL_API_KEY\"] = \"YOUR_API_KEY\"\n",
    "bundle = \"quandl\"\n",
    "bundles.ingest(bundle)"
   ]
  },
  {
   "cell_type": "markdown",
   "id": "b77845f5",
   "metadata": {},
   "source": [
    "### Option 2: Use the custom bundle with premium data\n",
    "\n",
    "This option uses the custom bundle with premium data. Follow the steps here: https://pyquantnews.com/ingest-premium-market-data-with-zipline-reloaded/ before using."
   ]
  },
  {
   "cell_type": "code",
   "execution_count": null,
   "id": "1634cf05",
   "metadata": {},
   "outputs": [],
   "source": [
    "os.environ[\"DATALINK_API_KEY\"] = \"YOUR_API_KEY\"\n",
    "bundle = \"quotemedia\"\n",
    "load_extensions(True, [], False, os.environ)\n",
    "bundles.ingest(bundle)"
   ]
  },
  {
   "cell_type": "markdown",
   "id": "c1535763-cc66-47b3-9f0b-c2e32859ca82",
   "metadata": {},
   "source": [
    "Ingest the bundle data from your selected bundle."
   ]
  },
  {
   "cell_type": "code",
   "execution_count": 9,
   "id": "f15952fe-6ca1-4a1b-b624-56f83e535f8b",
   "metadata": {},
   "outputs": [],
   "source": [
    "bundle_data = load(bundle, os.environ, None)"
   ]
  },
  {
   "cell_type": "markdown",
   "id": "a5229994",
   "metadata": {},
   "source": [
    "Create a USEquityPricingLoader"
   ]
  },
  {
   "cell_type": "code",
   "execution_count": 10,
   "id": "80e9a003",
   "metadata": {},
   "outputs": [],
   "source": [
    "pipeline_loader = USEquityPricingLoader(\n",
    "    bundle_data.equity_daily_bar_reader, bundle_data.adjustment_reader, fx_reader=None\n",
    ")"
   ]
  },
  {
   "cell_type": "markdown",
   "id": "9b6ad050",
   "metadata": {},
   "source": [
    "Initialize a SimplePipelineEngine"
   ]
  },
  {
   "cell_type": "code",
   "execution_count": 11,
   "id": "7b9758e6",
   "metadata": {},
   "outputs": [],
   "source": [
    "engine = SimplePipelineEngine(\n",
    "    get_loader=lambda col: pipeline_loader, asset_finder=bundle_data.asset_finder\n",
    ")"
   ]
  },
  {
   "cell_type": "markdown",
   "id": "065e4f3e",
   "metadata": {
    "lines_to_next_cell": 2
   },
   "source": [
    "Define a custom momentum factor"
   ]
  },
  {
   "cell_type": "code",
   "execution_count": 12,
   "id": "e67c31b0",
   "metadata": {
    "lines_to_next_cell": 2
   },
   "outputs": [],
   "source": [
    "class MomentumFactor(CustomFactor):\n",
    "    \"\"\"Momentum factor\"\"\"\n",
    "\n",
    "    inputs = [USEquityPricing.close, Returns(window_length=126)]\n",
    "    window_length = 252\n",
    "\n",
    "    def compute(self, today, assets, out, prices, returns):\n",
    "        out[:] = (\n",
    "            (prices[-21] - prices[-252]) / prices[-252]\n",
    "            - (prices[-1] - prices[-21]) / prices[-21]\n",
    "        ) / np.nanstd(returns, axis=0)"
   ]
  },
  {
   "cell_type": "markdown",
   "id": "6f1bf5b2",
   "metadata": {
    "lines_to_next_cell": 2
   },
   "source": [
    "Define a function to create a pipeline"
   ]
  },
  {
   "cell_type": "code",
   "execution_count": 13,
   "id": "8d58e82f",
   "metadata": {},
   "outputs": [],
   "source": [
    "def make_pipeline():\n",
    "    momentum = MomentumFactor()\n",
    "    dollar_volume = AverageDollarVolume(window_length=30)\n",
    "\n",
    "    return Pipeline(\n",
    "        columns={\n",
    "            \"factor\": momentum,\n",
    "            \"longs\": momentum.top(50),\n",
    "            \"shorts\": momentum.bottom(50),\n",
    "            \"rank\": momentum.rank(),\n",
    "        },\n",
    "        screen=dollar_volume.top(100),\n",
    "    )"
   ]
  },
  {
   "cell_type": "markdown",
   "id": "ee254dcc",
   "metadata": {},
   "source": [
    "Run the pipeline"
   ]
  },
  {
   "cell_type": "code",
   "execution_count": 14,
   "id": "e6bc5acc",
   "metadata": {},
   "outputs": [],
   "source": [
    "results = engine.run_pipeline(\n",
    "    make_pipeline(), pd.to_datetime(\"2012-01-04\"), pd.to_datetime(\"2012-03-01\")\n",
    ")"
   ]
  },
  {
   "cell_type": "markdown",
   "id": "90a2fdc3",
   "metadata": {},
   "source": [
    "Clean and display the results"
   ]
  },
  {
   "cell_type": "code",
   "execution_count": 15,
   "id": "36fa26b8",
   "metadata": {},
   "outputs": [],
   "source": [
    "results.dropna(subset=\"factor\", inplace=True)\n",
    "results.index.names = [\"date\", \"symbol\"]\n",
    "results.sort_values(by=[\"date\", \"factor\"], inplace=True)"
   ]
  },
  {
   "cell_type": "code",
   "execution_count": 16,
   "id": "f0263cb9",
   "metadata": {},
   "outputs": [
    {
     "data": {
      "text/html": [
       "<div>\n",
       "<style scoped>\n",
       "    .dataframe tbody tr th:only-of-type {\n",
       "        vertical-align: middle;\n",
       "    }\n",
       "\n",
       "    .dataframe tbody tr th {\n",
       "        vertical-align: top;\n",
       "    }\n",
       "\n",
       "    .dataframe thead th {\n",
       "        text-align: right;\n",
       "    }\n",
       "</style>\n",
       "<table border=\"1\" class=\"dataframe\">\n",
       "  <thead>\n",
       "    <tr style=\"text-align: right;\">\n",
       "      <th></th>\n",
       "      <th></th>\n",
       "      <th>factor</th>\n",
       "      <th>longs</th>\n",
       "      <th>shorts</th>\n",
       "      <th>rank</th>\n",
       "    </tr>\n",
       "    <tr>\n",
       "      <th>date</th>\n",
       "      <th>symbol</th>\n",
       "      <th></th>\n",
       "      <th></th>\n",
       "      <th></th>\n",
       "      <th></th>\n",
       "    </tr>\n",
       "  </thead>\n",
       "  <tbody>\n",
       "    <tr>\n",
       "      <th rowspan=\"5\" valign=\"top\">2012-01-04</th>\n",
       "      <th>Equity(300 [BAC])</th>\n",
       "      <td>-2.522045</td>\n",
       "      <td>False</td>\n",
       "      <td>False</td>\n",
       "      <td>165.0</td>\n",
       "    </tr>\n",
       "    <tr>\n",
       "      <th>Equity(1264 [GS])</th>\n",
       "      <td>-2.215784</td>\n",
       "      <td>False</td>\n",
       "      <td>False</td>\n",
       "      <td>220.0</td>\n",
       "    </tr>\n",
       "    <tr>\n",
       "      <th>Equity(1888 [MS])</th>\n",
       "      <td>-2.204802</td>\n",
       "      <td>False</td>\n",
       "      <td>False</td>\n",
       "      <td>225.0</td>\n",
       "    </tr>\n",
       "    <tr>\n",
       "      <th>Equity(1894 [MSFT])</th>\n",
       "      <td>-1.949654</td>\n",
       "      <td>False</td>\n",
       "      <td>False</td>\n",
       "      <td>295.0</td>\n",
       "    </tr>\n",
       "    <tr>\n",
       "      <th>Equity(457 [C])</th>\n",
       "      <td>-1.830819</td>\n",
       "      <td>False</td>\n",
       "      <td>False</td>\n",
       "      <td>345.0</td>\n",
       "    </tr>\n",
       "    <tr>\n",
       "      <th>...</th>\n",
       "      <th>...</th>\n",
       "      <td>...</td>\n",
       "      <td>...</td>\n",
       "      <td>...</td>\n",
       "      <td>...</td>\n",
       "    </tr>\n",
       "    <tr>\n",
       "      <th rowspan=\"5\" valign=\"top\">2012-03-01</th>\n",
       "      <th>Equity(3105 [WMT])</th>\n",
       "      <td>3.409414</td>\n",
       "      <td>False</td>\n",
       "      <td>False</td>\n",
       "      <td>2607.0</td>\n",
       "    </tr>\n",
       "    <tr>\n",
       "      <th>Equity(1690 [LLY])</th>\n",
       "      <td>3.809608</td>\n",
       "      <td>False</td>\n",
       "      <td>False</td>\n",
       "      <td>2642.0</td>\n",
       "    </tr>\n",
       "    <tr>\n",
       "      <th>Equity(399 [BMY])</th>\n",
       "      <td>4.689588</td>\n",
       "      <td>True</td>\n",
       "      <td>False</td>\n",
       "      <td>2685.0</td>\n",
       "    </tr>\n",
       "    <tr>\n",
       "      <th>Equity(1770 [MCD])</th>\n",
       "      <td>4.816880</td>\n",
       "      <td>True</td>\n",
       "      <td>False</td>\n",
       "      <td>2691.0</td>\n",
       "    </tr>\n",
       "    <tr>\n",
       "      <th>Equity(1789 [MDLZ])</th>\n",
       "      <td>5.680276</td>\n",
       "      <td>True</td>\n",
       "      <td>False</td>\n",
       "      <td>2706.0</td>\n",
       "    </tr>\n",
       "  </tbody>\n",
       "</table>\n",
       "<p>4000 rows × 4 columns</p>\n",
       "</div>"
      ],
      "text/plain": [
       "                                  factor  longs  shorts    rank\n",
       "date       symbol                                              \n",
       "2012-01-04 Equity(300 [BAC])   -2.522045  False   False   165.0\n",
       "           Equity(1264 [GS])   -2.215784  False   False   220.0\n",
       "           Equity(1888 [MS])   -2.204802  False   False   225.0\n",
       "           Equity(1894 [MSFT]) -1.949654  False   False   295.0\n",
       "           Equity(457 [C])     -1.830819  False   False   345.0\n",
       "...                                  ...    ...     ...     ...\n",
       "2012-03-01 Equity(3105 [WMT])   3.409414  False   False  2607.0\n",
       "           Equity(1690 [LLY])   3.809608  False   False  2642.0\n",
       "           Equity(399 [BMY])    4.689588   True   False  2685.0\n",
       "           Equity(1770 [MCD])   4.816880   True   False  2691.0\n",
       "           Equity(1789 [MDLZ])  5.680276   True   False  2706.0\n",
       "\n",
       "[4000 rows x 4 columns]"
      ]
     },
     "metadata": {},
     "output_type": "display_data"
    }
   ],
   "source": [
    "display(results)"
   ]
  },
  {
   "cell_type": "markdown",
   "id": "8edd7c30",
   "metadata": {},
   "source": [
    "**Jason Strimpel** is the founder of <a href='https://pyquantnews.com/'>PyQuant News</a> and co-founder of <a href='https://www.tradeblotter.io/'>Trade Blotter</a>. His career in algorithmic trading spans 20+ years. He previously traded for a Chicago-based hedge fund, was a risk manager at JPMorgan, and managed production risk technology for an energy derivatives trading firm in London. In Singapore, he served as APAC CIO for an agricultural trading firm and built the data science team for a global metals trading firm. Jason holds degrees in Finance and Economics and a Master's in Quantitative Finance from the Illinois Institute of Technology. His career spans America, Europe, and Asia. He shares his expertise through the <a href='https://pyquantnews.com/subscribe-to-the-pyquant-newsletter/'>PyQuant Newsletter</a>, social media, and has taught over 1,000+ algorithmic trading with Python in his popular course **<a href='https://gettingstartedwithpythonforquantfinance.com/'>Getting Started With Python for Quant Finance</a>**. All code is for educational purposes only. Nothing provided here is financial advise. Use at your own risk."
   ]
  },
  {
   "cell_type": "code",
   "execution_count": null,
   "id": "8334f85c-3286-4e6c-b77b-bc107fde21f5",
   "metadata": {},
   "outputs": [],
   "source": []
  }
 ],
 "metadata": {
  "jupytext": {
   "cell_metadata_filter": "-all",
   "main_language": "python",
   "notebook_metadata_filter": "-all"
  },
  "kernelspec": {
   "display_name": "Python 3 (ipykernel)",
   "language": "python",
   "name": "python3"
  },
  "language_info": {
   "codemirror_mode": {
    "name": "ipython",
    "version": 3
   },
   "file_extension": ".py",
   "mimetype": "text/x-python",
   "name": "python",
   "nbconvert_exporter": "python",
   "pygments_lexer": "ipython3",
   "version": "3.10.13"
  }
 },
 "nbformat": 4,
 "nbformat_minor": 5
}
